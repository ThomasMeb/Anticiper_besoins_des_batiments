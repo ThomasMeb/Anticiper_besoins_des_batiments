{
 "cells": [
  {
   "cell_type": "code",
   "execution_count": 37,
   "id": "f4f25002",
   "metadata": {},
   "outputs": [],
   "source": [
    "import pandas as pd\n",
    "pd.options.display.max_columns=200\n",
    "import matplotlib.pyplot as plt\n",
    "import numpy as np\n",
    "from sklearn.preprocessing import StandardScaler\n",
    "import warnings \n",
    "warnings.filterwarnings('ignore')\n",
    "from sklearn.dummy import DummyRegressor\n",
    "from sklearn.model_selection import train_test_split, GridSearchCV\n",
    "from sklearn.metrics import mean_squared_error, mean_squared_log_error, mean_absolute_error, make_scorer\n",
    "from sklearn.linear_model import Ridge, LinearRegression, Lasso\n",
    "from sklearn.compose import TransformedTargetRegressor\n",
    "from sklearn.svm import SVR\n",
    "from sklearn.ensemble import RandomForestRegressor, GradientBoostingRegressor, AdaBoostRegressor"
   ]
  },
  {
   "cell_type": "code",
   "execution_count": 38,
   "id": "4ea029de",
   "metadata": {},
   "outputs": [],
   "source": [
    "data = pd.read_csv('data.csv')"
   ]
  },
  {
   "cell_type": "code",
   "execution_count": 39,
   "id": "da0b82c9",
   "metadata": {},
   "outputs": [],
   "source": [
    "data.set_index('OSEBuildingID', inplace = True)"
   ]
  },
  {
   "cell_type": "code",
   "execution_count": 40,
   "id": "3c5f8a60",
   "metadata": {},
   "outputs": [
    {
     "data": {
      "text/html": [
       "<div>\n",
       "<style scoped>\n",
       "    .dataframe tbody tr th:only-of-type {\n",
       "        vertical-align: middle;\n",
       "    }\n",
       "\n",
       "    .dataframe tbody tr th {\n",
       "        vertical-align: top;\n",
       "    }\n",
       "\n",
       "    .dataframe thead th {\n",
       "        text-align: right;\n",
       "    }\n",
       "</style>\n",
       "<table border=\"1\" class=\"dataframe\">\n",
       "  <thead>\n",
       "    <tr style=\"text-align: right;\">\n",
       "      <th></th>\n",
       "      <th>NumberofBuildings</th>\n",
       "      <th>NumberofFloors</th>\n",
       "      <th>PropertyGFATotal</th>\n",
       "      <th>LargestPropertyUseTypeGFA</th>\n",
       "      <th>ENERGYSTARScore</th>\n",
       "      <th>EnergyStarNaN</th>\n",
       "      <th>SiteEUI(kBtu/sf)</th>\n",
       "      <th>SiteEUIWN(kBtu/sf)</th>\n",
       "      <th>SourceEUI(kBtu/sf)</th>\n",
       "      <th>SourceEUIWN(kBtu/sf)</th>\n",
       "      <th>SiteEnergyUse(kBtu)</th>\n",
       "      <th>SiteEnergyUseWN(kBtu)</th>\n",
       "      <th>TotalGHGEmissions</th>\n",
       "      <th>GHGEmissionsIntensity</th>\n",
       "      <th>Age</th>\n",
       "      <th>PropertyGFAParking(%)</th>\n",
       "      <th>PropertyGFABuilding(s)(%)</th>\n",
       "      <th>SteamUse(%)</th>\n",
       "      <th>Electricity(%)</th>\n",
       "      <th>NaturalGas(%)</th>\n",
       "      <th>PrimaryPropertyType_Distribution Center</th>\n",
       "      <th>PrimaryPropertyType_Hotel</th>\n",
       "      <th>PrimaryPropertyType_K-12 School</th>\n",
       "      <th>PrimaryPropertyType_Large Office</th>\n",
       "      <th>PrimaryPropertyType_Medical Office</th>\n",
       "      <th>PrimaryPropertyType_Mixed Use Property</th>\n",
       "      <th>PrimaryPropertyType_Other</th>\n",
       "      <th>PrimaryPropertyType_Retail Store</th>\n",
       "      <th>PrimaryPropertyType_Self-Storage Facility</th>\n",
       "      <th>PrimaryPropertyType_Small- and Mid-Sized Office</th>\n",
       "      <th>PrimaryPropertyType_Supermarket / Grocery Store</th>\n",
       "      <th>PrimaryPropertyType_University</th>\n",
       "      <th>PrimaryPropertyType_Warehouse</th>\n",
       "      <th>PrimaryPropertyType_Worship Facility</th>\n",
       "      <th>CouncilDistrictCode_1</th>\n",
       "      <th>CouncilDistrictCode_2</th>\n",
       "      <th>CouncilDistrictCode_3</th>\n",
       "      <th>CouncilDistrictCode_4</th>\n",
       "      <th>CouncilDistrictCode_5</th>\n",
       "      <th>CouncilDistrictCode_6</th>\n",
       "      <th>CouncilDistrictCode_7</th>\n",
       "    </tr>\n",
       "    <tr>\n",
       "      <th>OSEBuildingID</th>\n",
       "      <th></th>\n",
       "      <th></th>\n",
       "      <th></th>\n",
       "      <th></th>\n",
       "      <th></th>\n",
       "      <th></th>\n",
       "      <th></th>\n",
       "      <th></th>\n",
       "      <th></th>\n",
       "      <th></th>\n",
       "      <th></th>\n",
       "      <th></th>\n",
       "      <th></th>\n",
       "      <th></th>\n",
       "      <th></th>\n",
       "      <th></th>\n",
       "      <th></th>\n",
       "      <th></th>\n",
       "      <th></th>\n",
       "      <th></th>\n",
       "      <th></th>\n",
       "      <th></th>\n",
       "      <th></th>\n",
       "      <th></th>\n",
       "      <th></th>\n",
       "      <th></th>\n",
       "      <th></th>\n",
       "      <th></th>\n",
       "      <th></th>\n",
       "      <th></th>\n",
       "      <th></th>\n",
       "      <th></th>\n",
       "      <th></th>\n",
       "      <th></th>\n",
       "      <th></th>\n",
       "      <th></th>\n",
       "      <th></th>\n",
       "      <th></th>\n",
       "      <th></th>\n",
       "      <th></th>\n",
       "      <th></th>\n",
       "    </tr>\n",
       "  </thead>\n",
       "  <tbody>\n",
       "    <tr>\n",
       "      <th>1</th>\n",
       "      <td>1.0</td>\n",
       "      <td>12.0</td>\n",
       "      <td>88434.0</td>\n",
       "      <td>88434.0</td>\n",
       "      <td>60.0</td>\n",
       "      <td>0.0</td>\n",
       "      <td>81.699997</td>\n",
       "      <td>84.300003</td>\n",
       "      <td>182.500000</td>\n",
       "      <td>189.000000</td>\n",
       "      <td>7.226362e+06</td>\n",
       "      <td>7.456910e+06</td>\n",
       "      <td>249.98</td>\n",
       "      <td>2.83</td>\n",
       "      <td>89.0</td>\n",
       "      <td>0.000000</td>\n",
       "      <td>100.000000</td>\n",
       "      <td>27.730162</td>\n",
       "      <td>54.605993</td>\n",
       "      <td>17.663838</td>\n",
       "      <td>0.0</td>\n",
       "      <td>1.0</td>\n",
       "      <td>0.0</td>\n",
       "      <td>0.0</td>\n",
       "      <td>0.0</td>\n",
       "      <td>0.0</td>\n",
       "      <td>0.0</td>\n",
       "      <td>0.0</td>\n",
       "      <td>0.0</td>\n",
       "      <td>0.0</td>\n",
       "      <td>0.0</td>\n",
       "      <td>0.0</td>\n",
       "      <td>0.0</td>\n",
       "      <td>0.0</td>\n",
       "      <td>0.0</td>\n",
       "      <td>0.0</td>\n",
       "      <td>0.0</td>\n",
       "      <td>0.0</td>\n",
       "      <td>0.0</td>\n",
       "      <td>0.0</td>\n",
       "      <td>1.0</td>\n",
       "    </tr>\n",
       "    <tr>\n",
       "      <th>2</th>\n",
       "      <td>1.0</td>\n",
       "      <td>11.0</td>\n",
       "      <td>103566.0</td>\n",
       "      <td>83880.0</td>\n",
       "      <td>61.0</td>\n",
       "      <td>0.0</td>\n",
       "      <td>94.800003</td>\n",
       "      <td>97.900002</td>\n",
       "      <td>176.100006</td>\n",
       "      <td>179.399994</td>\n",
       "      <td>8.387933e+06</td>\n",
       "      <td>8.664479e+06</td>\n",
       "      <td>295.86</td>\n",
       "      <td>2.86</td>\n",
       "      <td>20.0</td>\n",
       "      <td>14.545314</td>\n",
       "      <td>85.454686</td>\n",
       "      <td>0.000000</td>\n",
       "      <td>38.660907</td>\n",
       "      <td>61.339093</td>\n",
       "      <td>0.0</td>\n",
       "      <td>1.0</td>\n",
       "      <td>0.0</td>\n",
       "      <td>0.0</td>\n",
       "      <td>0.0</td>\n",
       "      <td>0.0</td>\n",
       "      <td>0.0</td>\n",
       "      <td>0.0</td>\n",
       "      <td>0.0</td>\n",
       "      <td>0.0</td>\n",
       "      <td>0.0</td>\n",
       "      <td>0.0</td>\n",
       "      <td>0.0</td>\n",
       "      <td>0.0</td>\n",
       "      <td>0.0</td>\n",
       "      <td>0.0</td>\n",
       "      <td>0.0</td>\n",
       "      <td>0.0</td>\n",
       "      <td>0.0</td>\n",
       "      <td>0.0</td>\n",
       "      <td>1.0</td>\n",
       "    </tr>\n",
       "    <tr>\n",
       "      <th>3</th>\n",
       "      <td>1.0</td>\n",
       "      <td>41.0</td>\n",
       "      <td>956110.0</td>\n",
       "      <td>756493.0</td>\n",
       "      <td>43.0</td>\n",
       "      <td>0.0</td>\n",
       "      <td>96.000000</td>\n",
       "      <td>97.699997</td>\n",
       "      <td>241.899994</td>\n",
       "      <td>244.100006</td>\n",
       "      <td>7.258702e+07</td>\n",
       "      <td>7.393711e+07</td>\n",
       "      <td>2089.28</td>\n",
       "      <td>2.19</td>\n",
       "      <td>47.0</td>\n",
       "      <td>20.574829</td>\n",
       "      <td>79.425171</td>\n",
       "      <td>29.711308</td>\n",
       "      <td>68.230741</td>\n",
       "      <td>2.057944</td>\n",
       "      <td>0.0</td>\n",
       "      <td>1.0</td>\n",
       "      <td>0.0</td>\n",
       "      <td>0.0</td>\n",
       "      <td>0.0</td>\n",
       "      <td>0.0</td>\n",
       "      <td>0.0</td>\n",
       "      <td>0.0</td>\n",
       "      <td>0.0</td>\n",
       "      <td>0.0</td>\n",
       "      <td>0.0</td>\n",
       "      <td>0.0</td>\n",
       "      <td>0.0</td>\n",
       "      <td>0.0</td>\n",
       "      <td>0.0</td>\n",
       "      <td>0.0</td>\n",
       "      <td>0.0</td>\n",
       "      <td>0.0</td>\n",
       "      <td>0.0</td>\n",
       "      <td>0.0</td>\n",
       "      <td>1.0</td>\n",
       "    </tr>\n",
       "    <tr>\n",
       "      <th>5</th>\n",
       "      <td>1.0</td>\n",
       "      <td>10.0</td>\n",
       "      <td>61320.0</td>\n",
       "      <td>61320.0</td>\n",
       "      <td>56.0</td>\n",
       "      <td>0.0</td>\n",
       "      <td>110.800003</td>\n",
       "      <td>113.300003</td>\n",
       "      <td>216.199997</td>\n",
       "      <td>224.000000</td>\n",
       "      <td>6.794584e+06</td>\n",
       "      <td>6.946800e+06</td>\n",
       "      <td>286.43</td>\n",
       "      <td>4.67</td>\n",
       "      <td>90.0</td>\n",
       "      <td>0.000000</td>\n",
       "      <td>100.000000</td>\n",
       "      <td>32.591344</td>\n",
       "      <td>40.751928</td>\n",
       "      <td>26.656717</td>\n",
       "      <td>0.0</td>\n",
       "      <td>1.0</td>\n",
       "      <td>0.0</td>\n",
       "      <td>0.0</td>\n",
       "      <td>0.0</td>\n",
       "      <td>0.0</td>\n",
       "      <td>0.0</td>\n",
       "      <td>0.0</td>\n",
       "      <td>0.0</td>\n",
       "      <td>0.0</td>\n",
       "      <td>0.0</td>\n",
       "      <td>0.0</td>\n",
       "      <td>0.0</td>\n",
       "      <td>0.0</td>\n",
       "      <td>0.0</td>\n",
       "      <td>0.0</td>\n",
       "      <td>0.0</td>\n",
       "      <td>0.0</td>\n",
       "      <td>0.0</td>\n",
       "      <td>0.0</td>\n",
       "      <td>1.0</td>\n",
       "    </tr>\n",
       "    <tr>\n",
       "      <th>8</th>\n",
       "      <td>1.0</td>\n",
       "      <td>18.0</td>\n",
       "      <td>175580.0</td>\n",
       "      <td>123445.0</td>\n",
       "      <td>75.0</td>\n",
       "      <td>0.0</td>\n",
       "      <td>114.800003</td>\n",
       "      <td>118.699997</td>\n",
       "      <td>211.399994</td>\n",
       "      <td>215.600006</td>\n",
       "      <td>1.417261e+07</td>\n",
       "      <td>1.465650e+07</td>\n",
       "      <td>505.01</td>\n",
       "      <td>2.88</td>\n",
       "      <td>36.0</td>\n",
       "      <td>35.311539</td>\n",
       "      <td>64.688461</td>\n",
       "      <td>0.000000</td>\n",
       "      <td>37.880168</td>\n",
       "      <td>62.119825</td>\n",
       "      <td>0.0</td>\n",
       "      <td>1.0</td>\n",
       "      <td>0.0</td>\n",
       "      <td>0.0</td>\n",
       "      <td>0.0</td>\n",
       "      <td>0.0</td>\n",
       "      <td>0.0</td>\n",
       "      <td>0.0</td>\n",
       "      <td>0.0</td>\n",
       "      <td>0.0</td>\n",
       "      <td>0.0</td>\n",
       "      <td>0.0</td>\n",
       "      <td>0.0</td>\n",
       "      <td>0.0</td>\n",
       "      <td>0.0</td>\n",
       "      <td>0.0</td>\n",
       "      <td>0.0</td>\n",
       "      <td>0.0</td>\n",
       "      <td>0.0</td>\n",
       "      <td>0.0</td>\n",
       "      <td>1.0</td>\n",
       "    </tr>\n",
       "    <tr>\n",
       "      <th>...</th>\n",
       "      <td>...</td>\n",
       "      <td>...</td>\n",
       "      <td>...</td>\n",
       "      <td>...</td>\n",
       "      <td>...</td>\n",
       "      <td>...</td>\n",
       "      <td>...</td>\n",
       "      <td>...</td>\n",
       "      <td>...</td>\n",
       "      <td>...</td>\n",
       "      <td>...</td>\n",
       "      <td>...</td>\n",
       "      <td>...</td>\n",
       "      <td>...</td>\n",
       "      <td>...</td>\n",
       "      <td>...</td>\n",
       "      <td>...</td>\n",
       "      <td>...</td>\n",
       "      <td>...</td>\n",
       "      <td>...</td>\n",
       "      <td>...</td>\n",
       "      <td>...</td>\n",
       "      <td>...</td>\n",
       "      <td>...</td>\n",
       "      <td>...</td>\n",
       "      <td>...</td>\n",
       "      <td>...</td>\n",
       "      <td>...</td>\n",
       "      <td>...</td>\n",
       "      <td>...</td>\n",
       "      <td>...</td>\n",
       "      <td>...</td>\n",
       "      <td>...</td>\n",
       "      <td>...</td>\n",
       "      <td>...</td>\n",
       "      <td>...</td>\n",
       "      <td>...</td>\n",
       "      <td>...</td>\n",
       "      <td>...</td>\n",
       "      <td>...</td>\n",
       "      <td>...</td>\n",
       "    </tr>\n",
       "    <tr>\n",
       "      <th>50222</th>\n",
       "      <td>1.0</td>\n",
       "      <td>1.0</td>\n",
       "      <td>12294.0</td>\n",
       "      <td>12294.0</td>\n",
       "      <td>46.0</td>\n",
       "      <td>0.0</td>\n",
       "      <td>69.099998</td>\n",
       "      <td>76.699997</td>\n",
       "      <td>161.699997</td>\n",
       "      <td>176.100006</td>\n",
       "      <td>8.497457e+05</td>\n",
       "      <td>9.430032e+05</td>\n",
       "      <td>20.94</td>\n",
       "      <td>1.70</td>\n",
       "      <td>26.0</td>\n",
       "      <td>0.000000</td>\n",
       "      <td>100.000000</td>\n",
       "      <td>0.000000</td>\n",
       "      <td>61.697384</td>\n",
       "      <td>38.302639</td>\n",
       "      <td>0.0</td>\n",
       "      <td>0.0</td>\n",
       "      <td>0.0</td>\n",
       "      <td>0.0</td>\n",
       "      <td>0.0</td>\n",
       "      <td>0.0</td>\n",
       "      <td>1.0</td>\n",
       "      <td>0.0</td>\n",
       "      <td>0.0</td>\n",
       "      <td>0.0</td>\n",
       "      <td>0.0</td>\n",
       "      <td>0.0</td>\n",
       "      <td>0.0</td>\n",
       "      <td>0.0</td>\n",
       "      <td>0.0</td>\n",
       "      <td>1.0</td>\n",
       "      <td>0.0</td>\n",
       "      <td>0.0</td>\n",
       "      <td>0.0</td>\n",
       "      <td>0.0</td>\n",
       "      <td>0.0</td>\n",
       "    </tr>\n",
       "    <tr>\n",
       "      <th>50223</th>\n",
       "      <td>1.0</td>\n",
       "      <td>1.0</td>\n",
       "      <td>16000.0</td>\n",
       "      <td>16000.0</td>\n",
       "      <td>0.0</td>\n",
       "      <td>1.0</td>\n",
       "      <td>59.400002</td>\n",
       "      <td>65.900002</td>\n",
       "      <td>114.199997</td>\n",
       "      <td>118.900002</td>\n",
       "      <td>9.502762e+05</td>\n",
       "      <td>1.053706e+06</td>\n",
       "      <td>32.17</td>\n",
       "      <td>2.01</td>\n",
       "      <td>12.0</td>\n",
       "      <td>0.000000</td>\n",
       "      <td>100.000000</td>\n",
       "      <td>0.000000</td>\n",
       "      <td>41.729558</td>\n",
       "      <td>58.270426</td>\n",
       "      <td>0.0</td>\n",
       "      <td>0.0</td>\n",
       "      <td>0.0</td>\n",
       "      <td>0.0</td>\n",
       "      <td>0.0</td>\n",
       "      <td>0.0</td>\n",
       "      <td>1.0</td>\n",
       "      <td>0.0</td>\n",
       "      <td>0.0</td>\n",
       "      <td>0.0</td>\n",
       "      <td>0.0</td>\n",
       "      <td>0.0</td>\n",
       "      <td>0.0</td>\n",
       "      <td>0.0</td>\n",
       "      <td>0.0</td>\n",
       "      <td>1.0</td>\n",
       "      <td>0.0</td>\n",
       "      <td>0.0</td>\n",
       "      <td>0.0</td>\n",
       "      <td>0.0</td>\n",
       "      <td>0.0</td>\n",
       "    </tr>\n",
       "    <tr>\n",
       "      <th>50224</th>\n",
       "      <td>1.0</td>\n",
       "      <td>1.0</td>\n",
       "      <td>13157.0</td>\n",
       "      <td>7583.0</td>\n",
       "      <td>0.0</td>\n",
       "      <td>1.0</td>\n",
       "      <td>438.200012</td>\n",
       "      <td>460.100006</td>\n",
       "      <td>744.799988</td>\n",
       "      <td>767.799988</td>\n",
       "      <td>5.765898e+06</td>\n",
       "      <td>6.053764e+06</td>\n",
       "      <td>223.54</td>\n",
       "      <td>16.99</td>\n",
       "      <td>42.0</td>\n",
       "      <td>0.000000</td>\n",
       "      <td>100.000000</td>\n",
       "      <td>0.000000</td>\n",
       "      <td>31.082041</td>\n",
       "      <td>68.917956</td>\n",
       "      <td>0.0</td>\n",
       "      <td>0.0</td>\n",
       "      <td>0.0</td>\n",
       "      <td>0.0</td>\n",
       "      <td>0.0</td>\n",
       "      <td>0.0</td>\n",
       "      <td>1.0</td>\n",
       "      <td>0.0</td>\n",
       "      <td>0.0</td>\n",
       "      <td>0.0</td>\n",
       "      <td>0.0</td>\n",
       "      <td>0.0</td>\n",
       "      <td>0.0</td>\n",
       "      <td>0.0</td>\n",
       "      <td>0.0</td>\n",
       "      <td>0.0</td>\n",
       "      <td>0.0</td>\n",
       "      <td>0.0</td>\n",
       "      <td>0.0</td>\n",
       "      <td>0.0</td>\n",
       "      <td>1.0</td>\n",
       "    </tr>\n",
       "    <tr>\n",
       "      <th>50225</th>\n",
       "      <td>1.0</td>\n",
       "      <td>1.0</td>\n",
       "      <td>14101.0</td>\n",
       "      <td>6601.0</td>\n",
       "      <td>0.0</td>\n",
       "      <td>1.0</td>\n",
       "      <td>51.000000</td>\n",
       "      <td>55.500000</td>\n",
       "      <td>105.300003</td>\n",
       "      <td>110.800003</td>\n",
       "      <td>7.194712e+05</td>\n",
       "      <td>7.828413e+05</td>\n",
       "      <td>22.11</td>\n",
       "      <td>1.57</td>\n",
       "      <td>27.0</td>\n",
       "      <td>0.000000</td>\n",
       "      <td>100.000000</td>\n",
       "      <td>0.000000</td>\n",
       "      <td>48.489805</td>\n",
       "      <td>51.510194</td>\n",
       "      <td>0.0</td>\n",
       "      <td>0.0</td>\n",
       "      <td>0.0</td>\n",
       "      <td>0.0</td>\n",
       "      <td>0.0</td>\n",
       "      <td>1.0</td>\n",
       "      <td>0.0</td>\n",
       "      <td>0.0</td>\n",
       "      <td>0.0</td>\n",
       "      <td>0.0</td>\n",
       "      <td>0.0</td>\n",
       "      <td>0.0</td>\n",
       "      <td>0.0</td>\n",
       "      <td>0.0</td>\n",
       "      <td>1.0</td>\n",
       "      <td>0.0</td>\n",
       "      <td>0.0</td>\n",
       "      <td>0.0</td>\n",
       "      <td>0.0</td>\n",
       "      <td>0.0</td>\n",
       "      <td>0.0</td>\n",
       "    </tr>\n",
       "    <tr>\n",
       "      <th>50226</th>\n",
       "      <td>1.0</td>\n",
       "      <td>1.0</td>\n",
       "      <td>18258.0</td>\n",
       "      <td>8271.0</td>\n",
       "      <td>0.0</td>\n",
       "      <td>1.0</td>\n",
       "      <td>63.099998</td>\n",
       "      <td>70.900002</td>\n",
       "      <td>115.800003</td>\n",
       "      <td>123.900002</td>\n",
       "      <td>1.152896e+06</td>\n",
       "      <td>1.293722e+06</td>\n",
       "      <td>41.27</td>\n",
       "      <td>2.26</td>\n",
       "      <td>78.0</td>\n",
       "      <td>0.000000</td>\n",
       "      <td>100.000000</td>\n",
       "      <td>0.000000</td>\n",
       "      <td>37.518922</td>\n",
       "      <td>62.481077</td>\n",
       "      <td>0.0</td>\n",
       "      <td>0.0</td>\n",
       "      <td>0.0</td>\n",
       "      <td>0.0</td>\n",
       "      <td>0.0</td>\n",
       "      <td>1.0</td>\n",
       "      <td>0.0</td>\n",
       "      <td>0.0</td>\n",
       "      <td>0.0</td>\n",
       "      <td>0.0</td>\n",
       "      <td>0.0</td>\n",
       "      <td>0.0</td>\n",
       "      <td>0.0</td>\n",
       "      <td>0.0</td>\n",
       "      <td>0.0</td>\n",
       "      <td>1.0</td>\n",
       "      <td>0.0</td>\n",
       "      <td>0.0</td>\n",
       "      <td>0.0</td>\n",
       "      <td>0.0</td>\n",
       "      <td>0.0</td>\n",
       "    </tr>\n",
       "  </tbody>\n",
       "</table>\n",
       "<p>1648 rows × 41 columns</p>\n",
       "</div>"
      ],
      "text/plain": [
       "               NumberofBuildings  NumberofFloors  PropertyGFATotal  \\\n",
       "OSEBuildingID                                                        \n",
       "1                            1.0            12.0           88434.0   \n",
       "2                            1.0            11.0          103566.0   \n",
       "3                            1.0            41.0          956110.0   \n",
       "5                            1.0            10.0           61320.0   \n",
       "8                            1.0            18.0          175580.0   \n",
       "...                          ...             ...               ...   \n",
       "50222                        1.0             1.0           12294.0   \n",
       "50223                        1.0             1.0           16000.0   \n",
       "50224                        1.0             1.0           13157.0   \n",
       "50225                        1.0             1.0           14101.0   \n",
       "50226                        1.0             1.0           18258.0   \n",
       "\n",
       "               LargestPropertyUseTypeGFA  ENERGYSTARScore  EnergyStarNaN  \\\n",
       "OSEBuildingID                                                              \n",
       "1                                88434.0             60.0            0.0   \n",
       "2                                83880.0             61.0            0.0   \n",
       "3                               756493.0             43.0            0.0   \n",
       "5                                61320.0             56.0            0.0   \n",
       "8                               123445.0             75.0            0.0   \n",
       "...                                  ...              ...            ...   \n",
       "50222                            12294.0             46.0            0.0   \n",
       "50223                            16000.0              0.0            1.0   \n",
       "50224                             7583.0              0.0            1.0   \n",
       "50225                             6601.0              0.0            1.0   \n",
       "50226                             8271.0              0.0            1.0   \n",
       "\n",
       "               SiteEUI(kBtu/sf)  SiteEUIWN(kBtu/sf)  SourceEUI(kBtu/sf)  \\\n",
       "OSEBuildingID                                                             \n",
       "1                     81.699997           84.300003          182.500000   \n",
       "2                     94.800003           97.900002          176.100006   \n",
       "3                     96.000000           97.699997          241.899994   \n",
       "5                    110.800003          113.300003          216.199997   \n",
       "8                    114.800003          118.699997          211.399994   \n",
       "...                         ...                 ...                 ...   \n",
       "50222                 69.099998           76.699997          161.699997   \n",
       "50223                 59.400002           65.900002          114.199997   \n",
       "50224                438.200012          460.100006          744.799988   \n",
       "50225                 51.000000           55.500000          105.300003   \n",
       "50226                 63.099998           70.900002          115.800003   \n",
       "\n",
       "               SourceEUIWN(kBtu/sf)  SiteEnergyUse(kBtu)  \\\n",
       "OSEBuildingID                                              \n",
       "1                        189.000000         7.226362e+06   \n",
       "2                        179.399994         8.387933e+06   \n",
       "3                        244.100006         7.258702e+07   \n",
       "5                        224.000000         6.794584e+06   \n",
       "8                        215.600006         1.417261e+07   \n",
       "...                             ...                  ...   \n",
       "50222                    176.100006         8.497457e+05   \n",
       "50223                    118.900002         9.502762e+05   \n",
       "50224                    767.799988         5.765898e+06   \n",
       "50225                    110.800003         7.194712e+05   \n",
       "50226                    123.900002         1.152896e+06   \n",
       "\n",
       "               SiteEnergyUseWN(kBtu)  TotalGHGEmissions  \\\n",
       "OSEBuildingID                                             \n",
       "1                       7.456910e+06             249.98   \n",
       "2                       8.664479e+06             295.86   \n",
       "3                       7.393711e+07            2089.28   \n",
       "5                       6.946800e+06             286.43   \n",
       "8                       1.465650e+07             505.01   \n",
       "...                              ...                ...   \n",
       "50222                   9.430032e+05              20.94   \n",
       "50223                   1.053706e+06              32.17   \n",
       "50224                   6.053764e+06             223.54   \n",
       "50225                   7.828413e+05              22.11   \n",
       "50226                   1.293722e+06              41.27   \n",
       "\n",
       "               GHGEmissionsIntensity   Age  PropertyGFAParking(%)  \\\n",
       "OSEBuildingID                                                       \n",
       "1                               2.83  89.0               0.000000   \n",
       "2                               2.86  20.0              14.545314   \n",
       "3                               2.19  47.0              20.574829   \n",
       "5                               4.67  90.0               0.000000   \n",
       "8                               2.88  36.0              35.311539   \n",
       "...                              ...   ...                    ...   \n",
       "50222                           1.70  26.0               0.000000   \n",
       "50223                           2.01  12.0               0.000000   \n",
       "50224                          16.99  42.0               0.000000   \n",
       "50225                           1.57  27.0               0.000000   \n",
       "50226                           2.26  78.0               0.000000   \n",
       "\n",
       "               PropertyGFABuilding(s)(%)  SteamUse(%)  Electricity(%)  \\\n",
       "OSEBuildingID                                                           \n",
       "1                             100.000000    27.730162       54.605993   \n",
       "2                              85.454686     0.000000       38.660907   \n",
       "3                              79.425171    29.711308       68.230741   \n",
       "5                             100.000000    32.591344       40.751928   \n",
       "8                              64.688461     0.000000       37.880168   \n",
       "...                                  ...          ...             ...   \n",
       "50222                         100.000000     0.000000       61.697384   \n",
       "50223                         100.000000     0.000000       41.729558   \n",
       "50224                         100.000000     0.000000       31.082041   \n",
       "50225                         100.000000     0.000000       48.489805   \n",
       "50226                         100.000000     0.000000       37.518922   \n",
       "\n",
       "               NaturalGas(%)  PrimaryPropertyType_Distribution Center  \\\n",
       "OSEBuildingID                                                           \n",
       "1                  17.663838                                      0.0   \n",
       "2                  61.339093                                      0.0   \n",
       "3                   2.057944                                      0.0   \n",
       "5                  26.656717                                      0.0   \n",
       "8                  62.119825                                      0.0   \n",
       "...                      ...                                      ...   \n",
       "50222              38.302639                                      0.0   \n",
       "50223              58.270426                                      0.0   \n",
       "50224              68.917956                                      0.0   \n",
       "50225              51.510194                                      0.0   \n",
       "50226              62.481077                                      0.0   \n",
       "\n",
       "               PrimaryPropertyType_Hotel  PrimaryPropertyType_K-12 School  \\\n",
       "OSEBuildingID                                                               \n",
       "1                                    1.0                              0.0   \n",
       "2                                    1.0                              0.0   \n",
       "3                                    1.0                              0.0   \n",
       "5                                    1.0                              0.0   \n",
       "8                                    1.0                              0.0   \n",
       "...                                  ...                              ...   \n",
       "50222                                0.0                              0.0   \n",
       "50223                                0.0                              0.0   \n",
       "50224                                0.0                              0.0   \n",
       "50225                                0.0                              0.0   \n",
       "50226                                0.0                              0.0   \n",
       "\n",
       "               PrimaryPropertyType_Large Office  \\\n",
       "OSEBuildingID                                     \n",
       "1                                           0.0   \n",
       "2                                           0.0   \n",
       "3                                           0.0   \n",
       "5                                           0.0   \n",
       "8                                           0.0   \n",
       "...                                         ...   \n",
       "50222                                       0.0   \n",
       "50223                                       0.0   \n",
       "50224                                       0.0   \n",
       "50225                                       0.0   \n",
       "50226                                       0.0   \n",
       "\n",
       "               PrimaryPropertyType_Medical Office  \\\n",
       "OSEBuildingID                                       \n",
       "1                                             0.0   \n",
       "2                                             0.0   \n",
       "3                                             0.0   \n",
       "5                                             0.0   \n",
       "8                                             0.0   \n",
       "...                                           ...   \n",
       "50222                                         0.0   \n",
       "50223                                         0.0   \n",
       "50224                                         0.0   \n",
       "50225                                         0.0   \n",
       "50226                                         0.0   \n",
       "\n",
       "               PrimaryPropertyType_Mixed Use Property  \\\n",
       "OSEBuildingID                                           \n",
       "1                                                 0.0   \n",
       "2                                                 0.0   \n",
       "3                                                 0.0   \n",
       "5                                                 0.0   \n",
       "8                                                 0.0   \n",
       "...                                               ...   \n",
       "50222                                             0.0   \n",
       "50223                                             0.0   \n",
       "50224                                             0.0   \n",
       "50225                                             1.0   \n",
       "50226                                             1.0   \n",
       "\n",
       "               PrimaryPropertyType_Other  PrimaryPropertyType_Retail Store  \\\n",
       "OSEBuildingID                                                                \n",
       "1                                    0.0                               0.0   \n",
       "2                                    0.0                               0.0   \n",
       "3                                    0.0                               0.0   \n",
       "5                                    0.0                               0.0   \n",
       "8                                    0.0                               0.0   \n",
       "...                                  ...                               ...   \n",
       "50222                                1.0                               0.0   \n",
       "50223                                1.0                               0.0   \n",
       "50224                                1.0                               0.0   \n",
       "50225                                0.0                               0.0   \n",
       "50226                                0.0                               0.0   \n",
       "\n",
       "               PrimaryPropertyType_Self-Storage Facility  \\\n",
       "OSEBuildingID                                              \n",
       "1                                                    0.0   \n",
       "2                                                    0.0   \n",
       "3                                                    0.0   \n",
       "5                                                    0.0   \n",
       "8                                                    0.0   \n",
       "...                                                  ...   \n",
       "50222                                                0.0   \n",
       "50223                                                0.0   \n",
       "50224                                                0.0   \n",
       "50225                                                0.0   \n",
       "50226                                                0.0   \n",
       "\n",
       "               PrimaryPropertyType_Small- and Mid-Sized Office  \\\n",
       "OSEBuildingID                                                    \n",
       "1                                                          0.0   \n",
       "2                                                          0.0   \n",
       "3                                                          0.0   \n",
       "5                                                          0.0   \n",
       "8                                                          0.0   \n",
       "...                                                        ...   \n",
       "50222                                                      0.0   \n",
       "50223                                                      0.0   \n",
       "50224                                                      0.0   \n",
       "50225                                                      0.0   \n",
       "50226                                                      0.0   \n",
       "\n",
       "               PrimaryPropertyType_Supermarket / Grocery Store  \\\n",
       "OSEBuildingID                                                    \n",
       "1                                                          0.0   \n",
       "2                                                          0.0   \n",
       "3                                                          0.0   \n",
       "5                                                          0.0   \n",
       "8                                                          0.0   \n",
       "...                                                        ...   \n",
       "50222                                                      0.0   \n",
       "50223                                                      0.0   \n",
       "50224                                                      0.0   \n",
       "50225                                                      0.0   \n",
       "50226                                                      0.0   \n",
       "\n",
       "               PrimaryPropertyType_University  PrimaryPropertyType_Warehouse  \\\n",
       "OSEBuildingID                                                                  \n",
       "1                                         0.0                            0.0   \n",
       "2                                         0.0                            0.0   \n",
       "3                                         0.0                            0.0   \n",
       "5                                         0.0                            0.0   \n",
       "8                                         0.0                            0.0   \n",
       "...                                       ...                            ...   \n",
       "50222                                     0.0                            0.0   \n",
       "50223                                     0.0                            0.0   \n",
       "50224                                     0.0                            0.0   \n",
       "50225                                     0.0                            0.0   \n",
       "50226                                     0.0                            0.0   \n",
       "\n",
       "               PrimaryPropertyType_Worship Facility  CouncilDistrictCode_1  \\\n",
       "OSEBuildingID                                                                \n",
       "1                                               0.0                    0.0   \n",
       "2                                               0.0                    0.0   \n",
       "3                                               0.0                    0.0   \n",
       "5                                               0.0                    0.0   \n",
       "8                                               0.0                    0.0   \n",
       "...                                             ...                    ...   \n",
       "50222                                           0.0                    0.0   \n",
       "50223                                           0.0                    0.0   \n",
       "50224                                           0.0                    0.0   \n",
       "50225                                           0.0                    1.0   \n",
       "50226                                           0.0                    0.0   \n",
       "\n",
       "               CouncilDistrictCode_2  CouncilDistrictCode_3  \\\n",
       "OSEBuildingID                                                 \n",
       "1                                0.0                    0.0   \n",
       "2                                0.0                    0.0   \n",
       "3                                0.0                    0.0   \n",
       "5                                0.0                    0.0   \n",
       "8                                0.0                    0.0   \n",
       "...                              ...                    ...   \n",
       "50222                            1.0                    0.0   \n",
       "50223                            1.0                    0.0   \n",
       "50224                            0.0                    0.0   \n",
       "50225                            0.0                    0.0   \n",
       "50226                            1.0                    0.0   \n",
       "\n",
       "               CouncilDistrictCode_4  CouncilDistrictCode_5  \\\n",
       "OSEBuildingID                                                 \n",
       "1                                0.0                    0.0   \n",
       "2                                0.0                    0.0   \n",
       "3                                0.0                    0.0   \n",
       "5                                0.0                    0.0   \n",
       "8                                0.0                    0.0   \n",
       "...                              ...                    ...   \n",
       "50222                            0.0                    0.0   \n",
       "50223                            0.0                    0.0   \n",
       "50224                            0.0                    0.0   \n",
       "50225                            0.0                    0.0   \n",
       "50226                            0.0                    0.0   \n",
       "\n",
       "               CouncilDistrictCode_6  CouncilDistrictCode_7  \n",
       "OSEBuildingID                                                \n",
       "1                                0.0                    1.0  \n",
       "2                                0.0                    1.0  \n",
       "3                                0.0                    1.0  \n",
       "5                                0.0                    1.0  \n",
       "8                                0.0                    1.0  \n",
       "...                              ...                    ...  \n",
       "50222                            0.0                    0.0  \n",
       "50223                            0.0                    0.0  \n",
       "50224                            0.0                    1.0  \n",
       "50225                            0.0                    0.0  \n",
       "50226                            0.0                    0.0  \n",
       "\n",
       "[1648 rows x 41 columns]"
      ]
     },
     "execution_count": 40,
     "metadata": {},
     "output_type": "execute_result"
    }
   ],
   "source": [
    "data"
   ]
  },
  {
   "cell_type": "code",
   "execution_count": 41,
   "id": "71e37d75",
   "metadata": {},
   "outputs": [
    {
     "data": {
      "text/plain": [
       "(1648, 41)"
      ]
     },
     "execution_count": 41,
     "metadata": {},
     "output_type": "execute_result"
    }
   ],
   "source": [
    "data.shape"
   ]
  },
  {
   "cell_type": "code",
   "execution_count": 42,
   "id": "9b34b239",
   "metadata": {},
   "outputs": [
    {
     "data": {
      "text/plain": [
       "'data =data[~data.isin([np.nan, np.inf, -np.inf]).any(1)]'"
      ]
     },
     "execution_count": 42,
     "metadata": {},
     "output_type": "execute_result"
    }
   ],
   "source": [
    "\"\"\"data =data[~data.isin([np.nan, np.inf, -np.inf]).any(1)]\"\"\""
   ]
  },
  {
   "cell_type": "code",
   "execution_count": 95,
   "id": "798a1f5a",
   "metadata": {},
   "outputs": [],
   "source": [
    "X = data[['Age','NumberofBuildings','NumberofFloors','PropertyGFATotal','PropertyGFAParking(%)',\n",
    "        'PropertyGFABuilding(s)(%)','LargestPropertyUseTypeGFA','ENERGYSTARScore','EnergyStarNaN',\n",
    "        'PrimaryPropertyType_Distribution Center', 'PrimaryPropertyType_Hotel',\n",
    "       'PrimaryPropertyType_K-12 School', \n",
    "       'PrimaryPropertyType_Large Office',\n",
    "       'PrimaryPropertyType_Medical Office',\n",
    "       'PrimaryPropertyType_Mixed Use Property',\n",
    "       'PrimaryPropertyType_Other',\n",
    "       'PrimaryPropertyType_Retail Store',\n",
    "       'PrimaryPropertyType_Self-Storage Facility',\n",
    "       'PrimaryPropertyType_Small- and Mid-Sized Office',\n",
    "       'PrimaryPropertyType_Supermarket / Grocery Store',\n",
    "       'PrimaryPropertyType_University', 'PrimaryPropertyType_Warehouse',\n",
    "       'PrimaryPropertyType_Worship Facility','CouncilDistrictCode_1',\n",
    "       'CouncilDistrictCode_2', 'CouncilDistrictCode_3',\n",
    "       'CouncilDistrictCode_4', 'CouncilDistrictCode_5',\n",
    "       'CouncilDistrictCode_6', 'CouncilDistrictCode_7']]\n",
    "\n",
    "\n",
    "y = data['TotalGHGEmissions']"
   ]
  },
  {
   "cell_type": "code",
   "execution_count": 96,
   "id": "b9bf7100",
   "metadata": {},
   "outputs": [
    {
     "data": {
      "text/plain": [
       "(1648, 30)"
      ]
     },
     "execution_count": 96,
     "metadata": {},
     "output_type": "execute_result"
    }
   ],
   "source": [
    "X.shape"
   ]
  },
  {
   "cell_type": "code",
   "execution_count": 97,
   "id": "63cc694d",
   "metadata": {},
   "outputs": [
    {
     "data": {
      "text/plain": [
       "OSEBuildingID\n",
       "1     249.98\n",
       "2     295.86\n",
       "3    2089.28\n",
       "5     286.43\n",
       "8     505.01\n",
       "Name: TotalGHGEmissions, dtype: float64"
      ]
     },
     "execution_count": 97,
     "metadata": {},
     "output_type": "execute_result"
    }
   ],
   "source": [
    "y.head()"
   ]
  },
  {
   "cell_type": "code",
   "execution_count": 98,
   "id": "fa77adaf",
   "metadata": {},
   "outputs": [],
   "source": [
    "std_scale = StandardScaler().fit(X)\n",
    "X_scale = std_scale.transform(X)\n",
    "X_train, X_test, y_train, y_test = train_test_split(X, y, test_size=0.2, random_state=7)"
   ]
  },
  {
   "cell_type": "code",
   "execution_count": 101,
   "id": "01e02a01",
   "metadata": {},
   "outputs": [
    {
     "data": {
      "image/png": "[encoded data removed]",
      "text/plain": [
       "<Figure size 432x288 with 1 Axes>"
      ]
     },
     "metadata": {
      "needs_background": "light"
     },
     "output_type": "display_data"
    },
    {
     "data": {
      "image/png": "[encoded data removed]",
      "text/plain": [
       "<Figure size 432x288 with 1 Axes>"
      ]
     },
     "metadata": {
      "needs_background": "light"
     },
     "output_type": "display_data"
    },
    {
     "data": {
      "image/png": "[encoded data removed]",
      "text/plain": [
       "<Figure size 432x288 with 1 Axes>"
      ]
     },
     "metadata": {
      "needs_background": "light"
     },
     "output_type": "display_data"
    },
    {
     "data": {
      "image/png": "[encoded data removed]",
      "text/plain": [
       "<Figure size 432x288 with 1 Axes>"
      ]
     },
     "metadata": {
      "needs_background": "light"
     },
     "output_type": "display_data"
    },
    {
     "data": {
      "image/png": "[encoded data removed]",
      "text/plain": [
       "<Figure size 432x288 with 1 Axes>"
      ]
     },
     "metadata": {
      "needs_background": "light"
     },
     "output_type": "display_data"
    },
    {
     "data": {
      "image/png": "[encoded data removed]",
      "text/plain": [
       "<Figure size 432x288 with 1 Axes>"
      ]
     },
     "metadata": {
      "needs_background": "light"
     },
     "output_type": "display_data"
    },
    {
     "data": {
      "image/png": "[encoded data removed]",
      "text/plain": [
       "<Figure size 432x288 with 1 Axes>"
      ]
     },
     "metadata": {
      "needs_background": "light"
     },
     "output_type": "display_data"
    },
    {
     "data": {
      "image/png": "[encoded data removed]",
      "text/plain": [
       "<Figure size 432x288 with 1 Axes>"
      ]
     },
     "metadata": {
      "needs_background": "light"
     },
     "output_type": "display_data"
    },
    {
     "data": {
      "image/png": "[encoded data removed]",
      "text/plain": [
       "<Figure size 432x288 with 1 Axes>"
      ]
     },
     "metadata": {
      "needs_background": "light"
     },
     "output_type": "display_data"
    },
    {
     "data": {
      "image/png": "[encoded data removed]",
      "text/plain": [
       "<Figure size 432x288 with 1 Axes>"
      ]
     },
     "metadata": {
      "needs_background": "light"
     },
     "output_type": "display_data"
    },
    {
     "data": {
      "image/png": "[encoded data removed]",
      "text/plain": [
       "<Figure size 432x288 with 1 Axes>"
      ]
     },
     "metadata": {
      "needs_background": "light"
     },
     "output_type": "display_data"
    },
    {
     "data": {
      "image/png": "[encoded data removed]",
      "text/plain": [
       "<Figure size 432x288 with 1 Axes>"
      ]
     },
     "metadata": {
      "needs_background": "light"
     },
     "output_type": "display_data"
    },
    {
     "data": {
      "image/png": "[encoded data removed]",
      "text/plain": [
       "<Figure size 432x288 with 1 Axes>"
      ]
     },
     "metadata": {
      "needs_background": "light"
     },
     "output_type": "display_data"
    },
    {
     "data": {
      "image/png": "[encoded data removed]",
      "text/plain": [
       "<Figure size 432x288 with 1 Axes>"
      ]
     },
     "metadata": {
      "needs_background": "light"
     },
     "output_type": "display_data"
    },
    {
     "data": {
      "image/png": "[encoded data removed]",
      "text/plain": [
       "<Figure size 432x288 with 1 Axes>"
      ]
     },
     "metadata": {
      "needs_background": "light"
     },
     "output_type": "display_data"
    },
    {
     "data": {
      "image/png": "[encoded data removed]",
      "text/plain": [
       "<Figure size 432x288 with 1 Axes>"
      ]
     },
     "metadata": {
      "needs_background": "light"
     },
     "output_type": "display_data"
    },
    {
     "data": {
      "image/png": "[encoded data removed]",
      "text/plain": [
       "<Figure size 432x288 with 1 Axes>"
      ]
     },
     "metadata": {
      "needs_background": "light"
     },
     "output_type": "display_data"
    },
    {
     "data": {
      "image/png": "[encoded data removed]",
      "text/plain": [
       "<Figure size 432x288 with 1 Axes>"
      ]
     },
     "metadata": {
      "needs_background": "light"
     },
     "output_type": "display_data"
    },
    {
     "data": {
      "image/png": "[encoded data removed]",
      "text/plain": [
       "<Figure size 432x288 with 1 Axes>"
      ]
     },
     "metadata": {
      "needs_background": "light"
     },
     "output_type": "display_data"
    },
    {
     "data": {
      "image/png": "[encoded data removed]",
      "text/plain": [
       "<Figure size 432x288 with 1 Axes>"
      ]
     },
     "metadata": {
      "needs_background": "light"
     },
     "output_type": "display_data"
    },
    {
     "data": {
      "image/png": "[encoded data removed]",
      "text/plain": [
       "<Figure size 432x288 with 1 Axes>"
      ]
     },
     "metadata": {
      "needs_background": "light"
     },
     "output_type": "display_data"
    },
    {
     "data": {
      "image/png": "[encoded data removed]",
      "text/plain": [
       "<Figure size 432x288 with 1 Axes>"
      ]
     },
     "metadata": {
      "needs_background": "light"
     },
     "output_type": "display_data"
    },
    {
     "data": {
      "image/png": "[encoded data removed]",
      "text/plain": [
       "<Figure size 432x288 with 1 Axes>"
      ]
     },
     "metadata": {
      "needs_background": "light"
     },
     "output_type": "display_data"
    },
    {
     "data": {
      "image/png": "[encoded data removed]",
      "text/plain": [
       "<Figure size 432x288 with 1 Axes>"
      ]
     },
     "metadata": {
      "needs_background": "light"
     },
     "output_type": "display_data"
    },
    {
     "data": {
      "image/png": "[encoded data removed]",
      "text/plain": [
       "<Figure size 432x288 with 1 Axes>"
      ]
     },
     "metadata": {
      "needs_background": "light"
     },
     "output_type": "display_data"
    },
    {
     "data": {
      "image/png": "[encoded data removed]",
      "text/plain": [
       "<Figure size 432x288 with 1 Axes>"
      ]
     },
     "metadata": {
      "needs_background": "light"
     },
     "output_type": "display_data"
    },
    {
     "data": {
      "image/png": "[encoded data removed]",
      "text/plain": [
       "<Figure size 432x288 with 1 Axes>"
      ]
     },
     "metadata": {
      "needs_background": "light"
     },
     "output_type": "display_data"
    },
    {
     "data": {
      "image/png": "[encoded data removed]",
      "text/plain": [
       "<Figure size 432x288 with 1 Axes>"
      ]
     },
     "metadata": {
      "needs_background": "light"
     },
     "output_type": "display_data"
    },
    {
     "data": {
      "image/png": "[encoded data removed]",
      "text/plain": [
       "<Figure size 432x288 with 1 Axes>"
      ]
     },
     "metadata": {
      "needs_background": "light"
     },
     "output_type": "display_data"
    },
    {
     "data": {
      "image/png": "[encoded data removed]",
      "text/plain": [
       "<Figure size 432x288 with 1 Axes>"
      ]
     },
     "metadata": {
      "needs_background": "light"
     },
     "output_type": "display_data"
    }
   ],
   "source": [
    "for col in X_scale.columns:\n",
    "   X_scale[col].dropna().plot.hist(bins=50, logx=False)\n",
    "   plt.title(col)\n",
    "   plt.show()"
   ]
  },
  {
   "cell_type": "code",
   "execution_count": 99,
   "id": "34b2c0c0",
   "metadata": {
    "scrolled": false
   },
   "outputs": [],
   "source": [
    "X_scale = pd.DataFrame(X_scale, columns = X_train.columns)"
   ]
  },
  {
   "cell_type": "code",
   "execution_count": null,
   "id": "ad509ddf",
   "metadata": {},
   "outputs": [],
   "source": []
  },
  {
   "cell_type": "code",
   "execution_count": null,
   "id": "413e9064",
   "metadata": {},
   "outputs": [],
   "source": []
  },
  {
   "cell_type": "code",
   "execution_count": null,
   "id": "3086a7de",
   "metadata": {},
   "outputs": [],
   "source": []
  },
  {
   "cell_type": "code",
   "execution_count": 48,
   "id": "2b56b165",
   "metadata": {},
   "outputs": [
    {
     "data": {
      "text/plain": [
       "968.2106104387265"
      ]
     },
     "execution_count": 48,
     "metadata": {},
     "output_type": "execute_result"
    }
   ],
   "source": [
    "dr = DummyRegressor(strategy=\"mean\")\n",
    "dr.fit(X_train, y_train)\n",
    "baseline_error = mean_squared_error(y_test, dr.predict(y_test), squared=False)\n",
    "baseline_error"
   ]
  },
  {
   "cell_type": "code",
   "execution_count": null,
   "id": "cf2ddf89",
   "metadata": {},
   "outputs": [],
   "source": []
  },
  {
   "cell_type": "code",
   "execution_count": null,
   "id": "880d0b8c",
   "metadata": {},
   "outputs": [],
   "source": []
  },
  {
   "cell_type": "code",
   "execution_count": null,
   "id": "6871d43c",
   "metadata": {},
   "outputs": [],
   "source": []
  },
  {
   "cell_type": "code",
   "execution_count": 49,
   "id": "c15c8cc4",
   "metadata": {},
   "outputs": [
    {
     "data": {
      "text/plain": [
       "849.8922184330842"
      ]
     },
     "execution_count": 49,
     "metadata": {},
     "output_type": "execute_result"
    }
   ],
   "source": [
    "lr = LinearRegression()\n",
    "lr.fit(X_train, y_train)\n",
    "lr_error = mean_squared_error(y_test, lr.predict(X_test), squared=False)\n",
    "lr_error"
   ]
  },
  {
   "cell_type": "code",
   "execution_count": null,
   "id": "4f2c0ef0",
   "metadata": {
    "scrolled": true
   },
   "outputs": [],
   "source": []
  },
  {
   "cell_type": "code",
   "execution_count": null,
   "id": "dbe11804",
   "metadata": {},
   "outputs": [],
   "source": []
  },
  {
   "cell_type": "code",
   "execution_count": null,
   "id": "68872d0a",
   "metadata": {},
   "outputs": [],
   "source": []
  },
  {
   "cell_type": "code",
   "execution_count": 50,
   "id": "161061bb",
   "metadata": {},
   "outputs": [],
   "source": [
    "n_alphas = 100\n",
    "alphas = np.logspace(-1, 7, n_alphas)\n",
    "\n",
    "ridge = Ridge()\n",
    "\n",
    "coefs = []\n",
    "errors = []\n",
    "for a in alphas:\n",
    "    ridge.set_params(alpha=a)\n",
    "    ridge.fit(X_train, y_train)\n",
    "    coefs.append(ridge.coef_)\n",
    "    errors.append([baseline_error, mean_squared_error(y_test, ridge.predict(X_test), squared=False)])"
   ]
  },
  {
   "cell_type": "code",
   "execution_count": 51,
   "id": "3855d126",
   "metadata": {},
   "outputs": [
    {
     "data": {
      "image/png": "[encoded data removed]",
      "text/plain": [
       "<Figure size 432x288 with 1 Axes>"
      ]
     },
     "metadata": {
      "needs_background": "light"
     },
     "output_type": "display_data"
    }
   ],
   "source": [
    "ax = plt.gca()\n",
    "\n",
    "ax.plot(alphas, coefs)\n",
    "ax.set_xscale('log')\n",
    "plt.xlabel('alpha')\n",
    "plt.ylabel('weights')\n",
    "plt.title('Ridge coefficients as a function of the regularization')\n",
    "plt.axis('tight')\n",
    "plt.show()"
   ]
  },
  {
   "cell_type": "code",
   "execution_count": 52,
   "id": "6a9134dc",
   "metadata": {},
   "outputs": [
    {
     "data": {
      "image/png": "[encoded data removed]",
      "text/plain": [
       "<Figure size 432x288 with 1 Axes>"
      ]
     },
     "metadata": {
      "needs_background": "light"
     },
     "output_type": "display_data"
    }
   ],
   "source": [
    "ax = plt.gca()\n",
    "\n",
    "ax.plot(alphas, errors)\n",
    "ax.set_xscale('log')\n",
    "plt.xlabel('alpha')\n",
    "plt.ylabel('error')\n",
    "plt.axis('tight')\n",
    "plt.show()"
   ]
  },
  {
   "cell_type": "code",
   "execution_count": 53,
   "id": "2af9e3b3",
   "metadata": {},
   "outputs": [
    {
     "data": {
      "text/plain": [
       "849.9088272628279"
      ]
     },
     "execution_count": 53,
     "metadata": {},
     "output_type": "execute_result"
    }
   ],
   "source": [
    "np.min(errors)"
   ]
  },
  {
   "cell_type": "code",
   "execution_count": 54,
   "id": "61d60f17",
   "metadata": {},
   "outputs": [
    {
     "data": {
      "text/plain": [
       "0"
      ]
     },
     "execution_count": 54,
     "metadata": {},
     "output_type": "execute_result"
    }
   ],
   "source": [
    "errors.index(min(errors))"
   ]
  },
  {
   "cell_type": "code",
   "execution_count": 55,
   "id": "ff617da4",
   "metadata": {},
   "outputs": [
    {
     "data": {
      "text/plain": [
       "[968.2106104387265, 849.9088272628279]"
      ]
     },
     "execution_count": 55,
     "metadata": {},
     "output_type": "execute_result"
    }
   ],
   "source": [
    "errors[errors.index(min(errors))]"
   ]
  },
  {
   "cell_type": "code",
   "execution_count": 56,
   "id": "db590c4c",
   "metadata": {},
   "outputs": [
    {
     "data": {
      "text/plain": [
       "0.1"
      ]
     },
     "execution_count": 56,
     "metadata": {},
     "output_type": "execute_result"
    }
   ],
   "source": [
    "alphas[errors.index(min(errors))]"
   ]
  },
  {
   "cell_type": "code",
   "execution_count": null,
   "id": "e3bb9f71",
   "metadata": {},
   "outputs": [],
   "source": []
  },
  {
   "cell_type": "code",
   "execution_count": 57,
   "id": "ee82293c",
   "metadata": {},
   "outputs": [
    {
     "data": {
      "text/plain": [
       "Ridge(alpha=0.1, copy_X=True, fit_intercept=True, max_iter=None,\n",
       "      normalize=False, random_state=None, solver='auto', tol=0.001)"
      ]
     },
     "execution_count": 57,
     "metadata": {},
     "output_type": "execute_result"
    }
   ],
   "source": [
    "ridge.set_params(alpha = alphas[errors.index(min(errors))])\n",
    "ridge.fit(X_train, y_train)"
   ]
  },
  {
   "cell_type": "code",
   "execution_count": 58,
   "id": "e18424b2",
   "metadata": {},
   "outputs": [
    {
     "data": {
      "text/plain": [
       "849.9088272628279"
      ]
     },
     "execution_count": 58,
     "metadata": {},
     "output_type": "execute_result"
    }
   ],
   "source": [
    "mean_squared_error(y_test, ridge.predict(X_test), squared=False)"
   ]
  },
  {
   "cell_type": "code",
   "execution_count": null,
   "id": "783fb6aa",
   "metadata": {},
   "outputs": [],
   "source": []
  },
  {
   "cell_type": "code",
   "execution_count": null,
   "id": "590b92d5",
   "metadata": {},
   "outputs": [],
   "source": []
  },
  {
   "cell_type": "code",
   "execution_count": 59,
   "id": "2eba64bb",
   "metadata": {},
   "outputs": [],
   "source": [
    "n_alphas = 100\n",
    "alphas = np.logspace(-1, 4, n_alphas)\n",
    "lasso = Lasso(fit_intercept=False)\n",
    "\n",
    "coefs = []\n",
    "errors = []\n",
    "for a in alphas:\n",
    "    lasso.set_params(alpha=a)\n",
    "    lasso.fit(X_train, y_train)\n",
    "    coefs.append(lasso.coef_)\n",
    "    errors.append([baseline_error, np.mean((lasso.predict(X_test) - y_test) ** 2)])"
   ]
  },
  {
   "cell_type": "code",
   "execution_count": 60,
   "id": "f07f4239",
   "metadata": {},
   "outputs": [
    {
     "data": {
      "image/png": "[encoded data removed]",
      "text/plain": [
       "<Figure size 432x288 with 1 Axes>"
      ]
     },
     "metadata": {
      "needs_background": "light"
     },
     "output_type": "display_data"
    }
   ],
   "source": [
    "ax = plt.gca()\n",
    "\n",
    "ax.plot(alphas, coefs)\n",
    "ax.set_xscale('log')\n",
    "plt.xlabel('alpha')\n",
    "plt.ylabel('weights')\n",
    "plt.axis('tight')\n",
    "plt.show()"
   ]
  },
  {
   "cell_type": "code",
   "execution_count": 61,
   "id": "e490b2b1",
   "metadata": {},
   "outputs": [
    {
     "data": {
      "image/png": "[encoded data removed]",
      "text/plain": [
       "<Figure size 432x288 with 1 Axes>"
      ]
     },
     "metadata": {
      "needs_background": "light"
     },
     "output_type": "display_data"
    }
   ],
   "source": [
    "ax = plt.gca()\n",
    "\n",
    "ax.plot(alphas, errors)\n",
    "ax.set_xscale('log')\n",
    "plt.xlabel('alpha')\n",
    "plt.ylabel('error')\n",
    "plt.axis('tight')\n",
    "plt.show()"
   ]
  },
  {
   "cell_type": "code",
   "execution_count": 62,
   "id": "553a3268",
   "metadata": {},
   "outputs": [
    {
     "data": {
      "text/plain": [
       "968.2106104387265"
      ]
     },
     "execution_count": 62,
     "metadata": {},
     "output_type": "execute_result"
    }
   ],
   "source": [
    "np.min(errors)"
   ]
  },
  {
   "cell_type": "code",
   "execution_count": 63,
   "id": "b9f2576b",
   "metadata": {},
   "outputs": [
    {
     "data": {
      "text/plain": [
       "0"
      ]
     },
     "execution_count": 63,
     "metadata": {},
     "output_type": "execute_result"
    }
   ],
   "source": [
    "errors.index(min(errors))"
   ]
  },
  {
   "cell_type": "code",
   "execution_count": 64,
   "id": "d4842025",
   "metadata": {},
   "outputs": [
    {
     "data": {
      "text/plain": [
       "0.1"
      ]
     },
     "execution_count": 64,
     "metadata": {},
     "output_type": "execute_result"
    }
   ],
   "source": [
    "alphas[errors.index(min(errors))]"
   ]
  },
  {
   "cell_type": "code",
   "execution_count": 65,
   "id": "3cd2bcde",
   "metadata": {},
   "outputs": [
    {
     "data": {
      "text/plain": [
       "Lasso(alpha=0.1, copy_X=True, fit_intercept=False, max_iter=1000,\n",
       "      normalize=False, positive=False, precompute=False, random_state=None,\n",
       "      selection='cyclic', tol=0.0001, warm_start=False)"
      ]
     },
     "execution_count": 65,
     "metadata": {},
     "output_type": "execute_result"
    }
   ],
   "source": [
    "lasso.set_params(alpha = alphas[errors.index(min(errors))])\n",
    "lasso.fit(X_train, y_train)"
   ]
  },
  {
   "cell_type": "code",
   "execution_count": 66,
   "id": "4ed5ee40",
   "metadata": {},
   "outputs": [
    {
     "data": {
      "text/plain": [
       "849.9231680542248"
      ]
     },
     "execution_count": 66,
     "metadata": {},
     "output_type": "execute_result"
    }
   ],
   "source": [
    "mean_squared_error(y_test, lasso.predict(X_test), squared=False)"
   ]
  },
  {
   "cell_type": "code",
   "execution_count": null,
   "id": "4d374985",
   "metadata": {},
   "outputs": [],
   "source": []
  },
  {
   "cell_type": "code",
   "execution_count": null,
   "id": "06f20389",
   "metadata": {},
   "outputs": [],
   "source": []
  },
  {
   "cell_type": "code",
   "execution_count": 67,
   "id": "ab8ff83f",
   "metadata": {},
   "outputs": [],
   "source": [
    "rmse_scorer = make_scorer(np.sqrt, greater_is_better=True)\n",
    "mse_scorer = make_scorer(mean_squared_error, greater_is_better=True)\n",
    "msle_scorer = make_scorer(mean_squared_log_error, greater_is_better=True)\n",
    "mae_scorer = make_scorer(mean_absolute_error, greater_is_better=True)"
   ]
  },
  {
   "cell_type": "code",
   "execution_count": 68,
   "id": "20c77a92",
   "metadata": {},
   "outputs": [
    {
     "data": {
      "text/plain": [
       "\"def resultize(grid): \\n    results = pd.DataFrame(grid.cv_results_)\\n    results = results.sort_values(by='rank_test_rmse')\\n    results = results[['param_alpha', 'mean_test_rmse', 'mean_test_mse',\\n    'mean_test_msle', 'mean_test_mae']]\\n    results.columns = ['alpha', 'RMSE', 'MSE', 'MSLE', 'MAE']\\n    return results\""
      ]
     },
     "execution_count": 68,
     "metadata": {},
     "output_type": "execute_result"
    }
   ],
   "source": [
    "'''def resultize(grid): \n",
    "    results = pd.DataFrame(grid.cv_results_)\n",
    "    results = results.sort_values(by='rank_test_rmse')\n",
    "    results = results[['param_alpha', 'mean_test_rmse', 'mean_test_mse',\n",
    "    'mean_test_msle', 'mean_test_mae']]\n",
    "    results.columns = ['alpha', 'RMSE', 'MSE', 'MSLE', 'MAE']\n",
    "    return results'''\n"
   ]
  },
  {
   "cell_type": "code",
   "execution_count": 69,
   "id": "04acba28",
   "metadata": {},
   "outputs": [],
   "source": [
    "def resultize(grid):\n",
    "\n",
    "    res = pd.DataFrame(grid.cv_results_)\n",
    "    cols = [i for i in res.columns if \"split\" not in i]\n",
    "    res = res[cols].sort_values('rank_test_score')\n",
    "    res = res[['params', 'mean_test_score', 'std_test_score', 'rank_test_score']]\n",
    "    res['mean_test_score'] = (-res['mean_test_score'])\n",
    "    return res"
   ]
  },
  {
   "cell_type": "code",
   "execution_count": 70,
   "id": "327cbbd0",
   "metadata": {},
   "outputs": [],
   "source": [
    "def resultize_RMSE(grid): \n",
    "      results = pd.DataFrame(grid.cv_results_)\n",
    "      results = results.sort_values(by = 'rank_test_score')\n",
    "      results = results[['params', 'mean_test_score', 'rank_test_score']]\n",
    "      results['mean_test_score'] = mean_squared_error(y_test, grid.predict(X_test), squared=False)\n",
    "      return results"
   ]
  },
  {
   "cell_type": "code",
   "execution_count": 71,
   "id": "1e5a5dd1",
   "metadata": {},
   "outputs": [
    {
     "data": {
      "text/html": [
       "<div>\n",
       "<style scoped>\n",
       "    .dataframe tbody tr th:only-of-type {\n",
       "        vertical-align: middle;\n",
       "    }\n",
       "\n",
       "    .dataframe tbody tr th {\n",
       "        vertical-align: top;\n",
       "    }\n",
       "\n",
       "    .dataframe thead th {\n",
       "        text-align: right;\n",
       "    }\n",
       "</style>\n",
       "<table border=\"1\" class=\"dataframe\">\n",
       "  <thead>\n",
       "    <tr style=\"text-align: right;\">\n",
       "      <th></th>\n",
       "      <th>params</th>\n",
       "      <th>mean_test_score</th>\n",
       "      <th>rank_test_score</th>\n",
       "    </tr>\n",
       "  </thead>\n",
       "  <tbody>\n",
       "    <tr>\n",
       "      <th>19</th>\n",
       "      <td>{'alpha': 10000000.0}</td>\n",
       "      <td>884.981351</td>\n",
       "      <td>1</td>\n",
       "    </tr>\n",
       "    <tr>\n",
       "      <th>18</th>\n",
       "      <td>{'alpha': 4281332.398719387}</td>\n",
       "      <td>884.981351</td>\n",
       "      <td>2</td>\n",
       "    </tr>\n",
       "    <tr>\n",
       "      <th>17</th>\n",
       "      <td>{'alpha': 1832980.7108324338}</td>\n",
       "      <td>884.981351</td>\n",
       "      <td>3</td>\n",
       "    </tr>\n",
       "    <tr>\n",
       "      <th>16</th>\n",
       "      <td>{'alpha': 784759.9703514606}</td>\n",
       "      <td>884.981351</td>\n",
       "      <td>4</td>\n",
       "    </tr>\n",
       "    <tr>\n",
       "      <th>15</th>\n",
       "      <td>{'alpha': 335981.8286283781}</td>\n",
       "      <td>884.981351</td>\n",
       "      <td>5</td>\n",
       "    </tr>\n",
       "  </tbody>\n",
       "</table>\n",
       "</div>"
      ],
      "text/plain": [
       "                           params  mean_test_score  rank_test_score\n",
       "19          {'alpha': 10000000.0}       884.981351                1\n",
       "18   {'alpha': 4281332.398719387}       884.981351                2\n",
       "17  {'alpha': 1832980.7108324338}       884.981351                3\n",
       "16   {'alpha': 784759.9703514606}       884.981351                4\n",
       "15   {'alpha': 335981.8286283781}       884.981351                5"
      ]
     },
     "execution_count": 71,
     "metadata": {},
     "output_type": "execute_result"
    }
   ],
   "source": [
    "params = {'alpha': np.logspace(0, 7, 20)}\n",
    "grid_ridge = GridSearchCV(Ridge(), params, cv = 10, \n",
    "                  scoring = 'neg_root_mean_squared_error', n_jobs=-1)\n",
    "grid_ridge.fit(X_train, y_train)\n",
    "grid_ridge_best_params = grid_ridge.best_params_\n",
    "resultize_RMSE(grid_ridge).head()"
   ]
  },
  {
   "cell_type": "code",
   "execution_count": null,
   "id": "e52c0d5f",
   "metadata": {},
   "outputs": [],
   "source": []
  },
  {
   "cell_type": "code",
   "execution_count": 72,
   "id": "cf75d3a4",
   "metadata": {},
   "outputs": [],
   "source": [
    "grid_rf_best_params = {'alpha': 10000000.0}"
   ]
  },
  {
   "cell_type": "code",
   "execution_count": 73,
   "id": "d2cde78a",
   "metadata": {
    "scrolled": false
   },
   "outputs": [
    {
     "data": {
      "text/plain": [
       "884.9813508958995"
      ]
     },
     "execution_count": 73,
     "metadata": {},
     "output_type": "execute_result"
    }
   ],
   "source": [
    "rf = Ridge(**grid_rf_best_params)\n",
    "rf.fit(X_train, y_train)\n",
    "y_pred = rf.predict(X_test)\n",
    "rf_error = mean_squared_error(y_test, y_pred, squared=False)\n",
    "rf_error"
   ]
  },
  {
   "cell_type": "code",
   "execution_count": null,
   "id": "5fcae071",
   "metadata": {},
   "outputs": [],
   "source": []
  },
  {
   "cell_type": "code",
   "execution_count": null,
   "id": "57ac388c",
   "metadata": {},
   "outputs": [],
   "source": []
  },
  {
   "cell_type": "code",
   "execution_count": null,
   "id": "050a4b49",
   "metadata": {},
   "outputs": [],
   "source": []
  },
  {
   "cell_type": "code",
   "execution_count": 74,
   "id": "9b479556",
   "metadata": {},
   "outputs": [
    {
     "data": {
      "text/html": [
       "<div>\n",
       "<style scoped>\n",
       "    .dataframe tbody tr th:only-of-type {\n",
       "        vertical-align: middle;\n",
       "    }\n",
       "\n",
       "    .dataframe tbody tr th {\n",
       "        vertical-align: top;\n",
       "    }\n",
       "\n",
       "    .dataframe thead th {\n",
       "        text-align: right;\n",
       "    }\n",
       "</style>\n",
       "<table border=\"1\" class=\"dataframe\">\n",
       "  <thead>\n",
       "    <tr style=\"text-align: right;\">\n",
       "      <th></th>\n",
       "      <th>params</th>\n",
       "      <th>mean_test_score</th>\n",
       "      <th>rank_test_score</th>\n",
       "    </tr>\n",
       "  </thead>\n",
       "  <tbody>\n",
       "    <tr>\n",
       "      <th>28</th>\n",
       "      <td>{'alpha': 727.8953843983146}</td>\n",
       "      <td>883.203511</td>\n",
       "      <td>1</td>\n",
       "    </tr>\n",
       "    <tr>\n",
       "      <th>29</th>\n",
       "      <td>{'alpha': 1000.0}</td>\n",
       "      <td>883.203511</td>\n",
       "      <td>2</td>\n",
       "    </tr>\n",
       "    <tr>\n",
       "      <th>27</th>\n",
       "      <td>{'alpha': 529.8316906283708}</td>\n",
       "      <td>883.203511</td>\n",
       "      <td>3</td>\n",
       "    </tr>\n",
       "    <tr>\n",
       "      <th>26</th>\n",
       "      <td>{'alpha': 385.6620421163472}</td>\n",
       "      <td>883.203511</td>\n",
       "      <td>4</td>\n",
       "    </tr>\n",
       "    <tr>\n",
       "      <th>25</th>\n",
       "      <td>{'alpha': 280.72162039411756}</td>\n",
       "      <td>883.203511</td>\n",
       "      <td>5</td>\n",
       "    </tr>\n",
       "  </tbody>\n",
       "</table>\n",
       "</div>"
      ],
      "text/plain": [
       "                           params  mean_test_score  rank_test_score\n",
       "28   {'alpha': 727.8953843983146}       883.203511                1\n",
       "29              {'alpha': 1000.0}       883.203511                2\n",
       "27   {'alpha': 529.8316906283708}       883.203511                3\n",
       "26   {'alpha': 385.6620421163472}       883.203511                4\n",
       "25  {'alpha': 280.72162039411756}       883.203511                5"
      ]
     },
     "execution_count": 74,
     "metadata": {},
     "output_type": "execute_result"
    }
   ],
   "source": [
    "params = {\"alpha\": np.logspace(-1, 3, 30)}\n",
    "grid_lasso = GridSearchCV(Lasso(), params, cv = 10)\n",
    "grid_lasso.fit(X_train, y_train)\n",
    "grid_lasso_best_params = grid_lasso.best_params_\n",
    "resultize_RMSE(grid_lasso).head()"
   ]
  },
  {
   "cell_type": "code",
   "execution_count": 75,
   "id": "619c55fd",
   "metadata": {},
   "outputs": [],
   "source": [
    "grid_lasso_best_params = {'alpha': 727.8953843983146}\t"
   ]
  },
  {
   "cell_type": "code",
   "execution_count": 76,
   "id": "b57aed5c",
   "metadata": {},
   "outputs": [
    {
     "data": {
      "text/plain": [
       "883.2035108169292"
      ]
     },
     "execution_count": 76,
     "metadata": {},
     "output_type": "execute_result"
    }
   ],
   "source": [
    "lasso = Lasso(**grid_lasso_best_params)\n",
    "lasso.fit(X_train, y_train)\n",
    "y_pred = lasso.predict(X_test)\n",
    "lasso_error = mean_squared_error(y_test, y_pred, squared=False)\n",
    "lasso_error"
   ]
  },
  {
   "cell_type": "code",
   "execution_count": null,
   "id": "fd27938c",
   "metadata": {},
   "outputs": [],
   "source": []
  },
  {
   "cell_type": "code",
   "execution_count": null,
   "id": "c31f08c6",
   "metadata": {},
   "outputs": [],
   "source": []
  },
  {
   "cell_type": "code",
   "execution_count": null,
   "id": "f09a3440",
   "metadata": {},
   "outputs": [],
   "source": []
  },
  {
   "cell_type": "code",
   "execution_count": 77,
   "id": "009a5e4d",
   "metadata": {},
   "outputs": [
    {
     "data": {
      "text/plain": [
       "953.6306739627747"
      ]
     },
     "execution_count": 77,
     "metadata": {},
     "output_type": "execute_result"
    }
   ],
   "source": [
    "tt_ridge = TransformedTargetRegressor(regressor = Ridge(),\n",
    "                               func = np.log1p,\n",
    "                               inverse_func = np.expm1)\n",
    "tt_ridge.fit(X_train, y_train)\n",
    "y_pred = tt_ridge.predict(X_test)\n",
    "tt_ridge_error = mean_squared_error(y_test, y_pred, squared=False)\n",
    "tt_ridge_error"
   ]
  },
  {
   "cell_type": "code",
   "execution_count": 78,
   "id": "30032431",
   "metadata": {},
   "outputs": [
    {
     "data": {
      "text/html": [
       "<div>\n",
       "<style scoped>\n",
       "    .dataframe tbody tr th:only-of-type {\n",
       "        vertical-align: middle;\n",
       "    }\n",
       "\n",
       "    .dataframe tbody tr th {\n",
       "        vertical-align: top;\n",
       "    }\n",
       "\n",
       "    .dataframe thead th {\n",
       "        text-align: right;\n",
       "    }\n",
       "</style>\n",
       "<table border=\"1\" class=\"dataframe\">\n",
       "  <thead>\n",
       "    <tr style=\"text-align: right;\">\n",
       "      <th></th>\n",
       "      <th>params</th>\n",
       "      <th>mean_test_score</th>\n",
       "      <th>rank_test_score</th>\n",
       "    </tr>\n",
       "  </thead>\n",
       "  <tbody>\n",
       "    <tr>\n",
       "      <th>99</th>\n",
       "      <td>{'regressor__alpha': 10000000.0}</td>\n",
       "      <td>975.199823</td>\n",
       "      <td>1</td>\n",
       "    </tr>\n",
       "    <tr>\n",
       "      <th>98</th>\n",
       "      <td>{'regressor__alpha': 8497534.359086439}</td>\n",
       "      <td>975.199823</td>\n",
       "      <td>2</td>\n",
       "    </tr>\n",
       "    <tr>\n",
       "      <th>97</th>\n",
       "      <td>{'regressor__alpha': 7220809.018385456}</td>\n",
       "      <td>975.199823</td>\n",
       "      <td>3</td>\n",
       "    </tr>\n",
       "    <tr>\n",
       "      <th>96</th>\n",
       "      <td>{'regressor__alpha': 6135907.273413164}</td>\n",
       "      <td>975.199823</td>\n",
       "      <td>4</td>\n",
       "    </tr>\n",
       "    <tr>\n",
       "      <th>95</th>\n",
       "      <td>{'regressor__alpha': 5214008.287999685}</td>\n",
       "      <td>975.199823</td>\n",
       "      <td>5</td>\n",
       "    </tr>\n",
       "  </tbody>\n",
       "</table>\n",
       "</div>"
      ],
      "text/plain": [
       "                                     params  mean_test_score  rank_test_score\n",
       "99         {'regressor__alpha': 10000000.0}       975.199823                1\n",
       "98  {'regressor__alpha': 8497534.359086439}       975.199823                2\n",
       "97  {'regressor__alpha': 7220809.018385456}       975.199823                3\n",
       "96  {'regressor__alpha': 6135907.273413164}       975.199823                4\n",
       "95  {'regressor__alpha': 5214008.287999685}       975.199823                5"
      ]
     },
     "execution_count": 78,
     "metadata": {},
     "output_type": "execute_result"
    }
   ],
   "source": [
    "params = {'regressor__alpha': np.logspace(0, 7, 100)}\n",
    "grid_tt_ridge = GridSearchCV(tt_ridge, params, cv = 10)\n",
    "grid_tt_ridge.fit(X_train, y_train)\n",
    "grid_tt_ridge_best_params = grid_tt_ridge.best_params_\n",
    "resultize_RMSE(grid_tt_ridge).head()"
   ]
  },
  {
   "cell_type": "code",
   "execution_count": 79,
   "id": "0ab037cf",
   "metadata": {},
   "outputs": [],
   "source": [
    "grid_tt_ridge_best_params = {'alpha': 10000000.0}"
   ]
  },
  {
   "cell_type": "code",
   "execution_count": 80,
   "id": "ae599e05",
   "metadata": {
    "tags": []
   },
   "outputs": [
    {
     "data": {
      "text/plain": [
       "975.1998229971124"
      ]
     },
     "execution_count": 80,
     "metadata": {},
     "output_type": "execute_result"
    }
   ],
   "source": [
    "tt_ridge = TransformedTargetRegressor(regressor = Ridge(**grid_tt_ridge_best_params),\n",
    "                                    func = np.log1p,\n",
    "                                    inverse_func = np.expm1)\n",
    "tt_ridge.fit(X_train, y_train)\n",
    "y_pred = tt_ridge.predict(X_test)\n",
    "tt_ridge_error = mean_squared_error(y_test, y_pred, squared=False)\n",
    "tt_ridge_error"
   ]
  },
  {
   "cell_type": "code",
   "execution_count": null,
   "id": "d77dcd71",
   "metadata": {},
   "outputs": [],
   "source": []
  },
  {
   "cell_type": "code",
   "execution_count": null,
   "id": "cf0dece8",
   "metadata": {},
   "outputs": [],
   "source": []
  },
  {
   "cell_type": "code",
   "execution_count": 81,
   "id": "cb0b66d9",
   "metadata": {},
   "outputs": [
    {
     "data": {
      "text/plain": [
       "969.5070583197254"
      ]
     },
     "execution_count": 81,
     "metadata": {},
     "output_type": "execute_result"
    }
   ],
   "source": [
    "svr = SVR()\n",
    "svr.fit(X_train, y_train)\n",
    "y_pred = svr.predict(X_test)\n",
    "svr_error = mean_squared_error(y_test, y_pred, squared=False)\n",
    "svr_error"
   ]
  },
  {
   "cell_type": "code",
   "execution_count": 82,
   "id": "3cabbd85",
   "metadata": {},
   "outputs": [
    {
     "ename": "KeyboardInterrupt",
     "evalue": "",
     "output_type": "error",
     "traceback": [
      "\u001b[0;31m---------------------------------------------------------------------------\u001b[0m",
      "\u001b[0;31mKeyboardInterrupt\u001b[0m                         Traceback (most recent call last)",
      "\u001b[0;32m<ipython-input-82-3988567b6904>\u001b[0m in \u001b[0;36m<module>\u001b[0;34m\u001b[0m\n\u001b[1;32m      3\u001b[0m          'degree': [1,2,3,4,5,6]}\n\u001b[1;32m      4\u001b[0m \u001b[0mgrid_svr\u001b[0m \u001b[0;34m=\u001b[0m \u001b[0mGridSearchCV\u001b[0m\u001b[0;34m(\u001b[0m\u001b[0mSVR\u001b[0m\u001b[0;34m(\u001b[0m\u001b[0;34m)\u001b[0m\u001b[0;34m,\u001b[0m \u001b[0mparams\u001b[0m\u001b[0;34m,\u001b[0m \u001b[0mcv\u001b[0m\u001b[0;34m=\u001b[0m\u001b[0;36m10\u001b[0m\u001b[0;34m,\u001b[0m \u001b[0mscoring\u001b[0m\u001b[0;34m=\u001b[0m\u001b[0;34m'neg_root_mean_squared_error'\u001b[0m\u001b[0;34m,\u001b[0m \u001b[0mn_jobs\u001b[0m\u001b[0;34m=\u001b[0m\u001b[0;34m-\u001b[0m\u001b[0;36m1\u001b[0m\u001b[0;34m)\u001b[0m\u001b[0;34m\u001b[0m\u001b[0;34m\u001b[0m\u001b[0m\n\u001b[0;32m----> 5\u001b[0;31m \u001b[0mgrid_svr\u001b[0m\u001b[0;34m.\u001b[0m\u001b[0mfit\u001b[0m\u001b[0;34m(\u001b[0m\u001b[0mX_train\u001b[0m\u001b[0;34m,\u001b[0m \u001b[0my_train\u001b[0m\u001b[0;34m)\u001b[0m\u001b[0;34m\u001b[0m\u001b[0;34m\u001b[0m\u001b[0m\n\u001b[0m\u001b[1;32m      6\u001b[0m \u001b[0mbest_params_svr\u001b[0m \u001b[0;34m=\u001b[0m \u001b[0mgrid_svr\u001b[0m\u001b[0;34m.\u001b[0m\u001b[0mbest_params_\u001b[0m\u001b[0;34m\u001b[0m\u001b[0;34m\u001b[0m\u001b[0m\n\u001b[1;32m      7\u001b[0m \u001b[0mresultize\u001b[0m\u001b[0;34m(\u001b[0m\u001b[0mgrid_svr\u001b[0m\u001b[0;34m)\u001b[0m\u001b[0;34m.\u001b[0m\u001b[0mhead\u001b[0m\u001b[0;34m(\u001b[0m\u001b[0;34m)\u001b[0m\u001b[0;34m\u001b[0m\u001b[0;34m\u001b[0m\u001b[0m\n",
      "\u001b[0;32m~/anaconda3/lib/python3.7/site-packages/sklearn/model_selection/_search.py\u001b[0m in \u001b[0;36mfit\u001b[0;34m(self, X, y, groups, **fit_params)\u001b[0m\n\u001b[1;32m    708\u001b[0m                 \u001b[0;32mreturn\u001b[0m \u001b[0mresults\u001b[0m\u001b[0;34m\u001b[0m\u001b[0;34m\u001b[0m\u001b[0m\n\u001b[1;32m    709\u001b[0m \u001b[0;34m\u001b[0m\u001b[0m\n\u001b[0;32m--> 710\u001b[0;31m             \u001b[0mself\u001b[0m\u001b[0;34m.\u001b[0m\u001b[0m_run_search\u001b[0m\u001b[0;34m(\u001b[0m\u001b[0mevaluate_candidates\u001b[0m\u001b[0;34m)\u001b[0m\u001b[0;34m\u001b[0m\u001b[0;34m\u001b[0m\u001b[0m\n\u001b[0m\u001b[1;32m    711\u001b[0m \u001b[0;34m\u001b[0m\u001b[0m\n\u001b[1;32m    712\u001b[0m         \u001b[0;31m# For multi-metric evaluation, store the best_index_, best_params_ and\u001b[0m\u001b[0;34m\u001b[0m\u001b[0;34m\u001b[0m\u001b[0;34m\u001b[0m\u001b[0m\n",
      "\u001b[0;32m~/anaconda3/lib/python3.7/site-packages/sklearn/model_selection/_search.py\u001b[0m in \u001b[0;36m_run_search\u001b[0;34m(self, evaluate_candidates)\u001b[0m\n\u001b[1;32m   1149\u001b[0m     \u001b[0;32mdef\u001b[0m \u001b[0m_run_search\u001b[0m\u001b[0;34m(\u001b[0m\u001b[0mself\u001b[0m\u001b[0;34m,\u001b[0m \u001b[0mevaluate_candidates\u001b[0m\u001b[0;34m)\u001b[0m\u001b[0;34m:\u001b[0m\u001b[0;34m\u001b[0m\u001b[0;34m\u001b[0m\u001b[0m\n\u001b[1;32m   1150\u001b[0m         \u001b[0;34m\"\"\"Search all candidates in param_grid\"\"\"\u001b[0m\u001b[0;34m\u001b[0m\u001b[0;34m\u001b[0m\u001b[0m\n\u001b[0;32m-> 1151\u001b[0;31m         \u001b[0mevaluate_candidates\u001b[0m\u001b[0;34m(\u001b[0m\u001b[0mParameterGrid\u001b[0m\u001b[0;34m(\u001b[0m\u001b[0mself\u001b[0m\u001b[0;34m.\u001b[0m\u001b[0mparam_grid\u001b[0m\u001b[0;34m)\u001b[0m\u001b[0;34m)\u001b[0m\u001b[0;34m\u001b[0m\u001b[0;34m\u001b[0m\u001b[0m\n\u001b[0m\u001b[1;32m   1152\u001b[0m \u001b[0;34m\u001b[0m\u001b[0m\n\u001b[1;32m   1153\u001b[0m \u001b[0;34m\u001b[0m\u001b[0m\n",
      "\u001b[0;32m~/anaconda3/lib/python3.7/site-packages/sklearn/model_selection/_search.py\u001b[0m in \u001b[0;36mevaluate_candidates\u001b[0;34m(candidate_params)\u001b[0m\n\u001b[1;32m    687\u001b[0m                                \u001b[0;32mfor\u001b[0m \u001b[0mparameters\u001b[0m\u001b[0;34m,\u001b[0m \u001b[0;34m(\u001b[0m\u001b[0mtrain\u001b[0m\u001b[0;34m,\u001b[0m \u001b[0mtest\u001b[0m\u001b[0;34m)\u001b[0m\u001b[0;34m\u001b[0m\u001b[0;34m\u001b[0m\u001b[0m\n\u001b[1;32m    688\u001b[0m                                in product(candidate_params,\n\u001b[0;32m--> 689\u001b[0;31m                                           cv.split(X, y, groups)))\n\u001b[0m\u001b[1;32m    690\u001b[0m \u001b[0;34m\u001b[0m\u001b[0m\n\u001b[1;32m    691\u001b[0m                 \u001b[0;32mif\u001b[0m \u001b[0mlen\u001b[0m\u001b[0;34m(\u001b[0m\u001b[0mout\u001b[0m\u001b[0;34m)\u001b[0m \u001b[0;34m<\u001b[0m \u001b[0;36m1\u001b[0m\u001b[0;34m:\u001b[0m\u001b[0;34m\u001b[0m\u001b[0;34m\u001b[0m\u001b[0m\n",
      "\u001b[0;32m~/anaconda3/lib/python3.7/site-packages/joblib/parallel.py\u001b[0m in \u001b[0;36m__call__\u001b[0;34m(self, iterable)\u001b[0m\n\u001b[1;32m   1015\u001b[0m \u001b[0;34m\u001b[0m\u001b[0m\n\u001b[1;32m   1016\u001b[0m             \u001b[0;32mwith\u001b[0m \u001b[0mself\u001b[0m\u001b[0;34m.\u001b[0m\u001b[0m_backend\u001b[0m\u001b[0;34m.\u001b[0m\u001b[0mretrieval_context\u001b[0m\u001b[0;34m(\u001b[0m\u001b[0;34m)\u001b[0m\u001b[0;34m:\u001b[0m\u001b[0;34m\u001b[0m\u001b[0;34m\u001b[0m\u001b[0m\n\u001b[0;32m-> 1017\u001b[0;31m                 \u001b[0mself\u001b[0m\u001b[0;34m.\u001b[0m\u001b[0mretrieve\u001b[0m\u001b[0;34m(\u001b[0m\u001b[0;34m)\u001b[0m\u001b[0;34m\u001b[0m\u001b[0;34m\u001b[0m\u001b[0m\n\u001b[0m\u001b[1;32m   1018\u001b[0m             \u001b[0;31m# Make sure that we get a last message telling us we are done\u001b[0m\u001b[0;34m\u001b[0m\u001b[0;34m\u001b[0m\u001b[0;34m\u001b[0m\u001b[0m\n\u001b[1;32m   1019\u001b[0m             \u001b[0melapsed_time\u001b[0m \u001b[0;34m=\u001b[0m \u001b[0mtime\u001b[0m\u001b[0;34m.\u001b[0m\u001b[0mtime\u001b[0m\u001b[0;34m(\u001b[0m\u001b[0;34m)\u001b[0m \u001b[0;34m-\u001b[0m \u001b[0mself\u001b[0m\u001b[0;34m.\u001b[0m\u001b[0m_start_time\u001b[0m\u001b[0;34m\u001b[0m\u001b[0;34m\u001b[0m\u001b[0m\n",
      "\u001b[0;32m~/anaconda3/lib/python3.7/site-packages/joblib/parallel.py\u001b[0m in \u001b[0;36mretrieve\u001b[0;34m(self)\u001b[0m\n\u001b[1;32m    907\u001b[0m             \u001b[0;32mtry\u001b[0m\u001b[0;34m:\u001b[0m\u001b[0;34m\u001b[0m\u001b[0;34m\u001b[0m\u001b[0m\n\u001b[1;32m    908\u001b[0m                 \u001b[0;32mif\u001b[0m \u001b[0mgetattr\u001b[0m\u001b[0;34m(\u001b[0m\u001b[0mself\u001b[0m\u001b[0;34m.\u001b[0m\u001b[0m_backend\u001b[0m\u001b[0;34m,\u001b[0m \u001b[0;34m'supports_timeout'\u001b[0m\u001b[0;34m,\u001b[0m \u001b[0;32mFalse\u001b[0m\u001b[0;34m)\u001b[0m\u001b[0;34m:\u001b[0m\u001b[0;34m\u001b[0m\u001b[0;34m\u001b[0m\u001b[0m\n\u001b[0;32m--> 909\u001b[0;31m                     \u001b[0mself\u001b[0m\u001b[0;34m.\u001b[0m\u001b[0m_output\u001b[0m\u001b[0;34m.\u001b[0m\u001b[0mextend\u001b[0m\u001b[0;34m(\u001b[0m\u001b[0mjob\u001b[0m\u001b[0;34m.\u001b[0m\u001b[0mget\u001b[0m\u001b[0;34m(\u001b[0m\u001b[0mtimeout\u001b[0m\u001b[0;34m=\u001b[0m\u001b[0mself\u001b[0m\u001b[0;34m.\u001b[0m\u001b[0mtimeout\u001b[0m\u001b[0;34m)\u001b[0m\u001b[0;34m)\u001b[0m\u001b[0;34m\u001b[0m\u001b[0;34m\u001b[0m\u001b[0m\n\u001b[0m\u001b[1;32m    910\u001b[0m                 \u001b[0;32melse\u001b[0m\u001b[0;34m:\u001b[0m\u001b[0;34m\u001b[0m\u001b[0;34m\u001b[0m\u001b[0m\n\u001b[1;32m    911\u001b[0m                     \u001b[0mself\u001b[0m\u001b[0;34m.\u001b[0m\u001b[0m_output\u001b[0m\u001b[0;34m.\u001b[0m\u001b[0mextend\u001b[0m\u001b[0;34m(\u001b[0m\u001b[0mjob\u001b[0m\u001b[0;34m.\u001b[0m\u001b[0mget\u001b[0m\u001b[0;34m(\u001b[0m\u001b[0;34m)\u001b[0m\u001b[0;34m)\u001b[0m\u001b[0;34m\u001b[0m\u001b[0;34m\u001b[0m\u001b[0m\n",
      "\u001b[0;32m~/anaconda3/lib/python3.7/site-packages/joblib/_parallel_backends.py\u001b[0m in \u001b[0;36mwrap_future_result\u001b[0;34m(future, timeout)\u001b[0m\n\u001b[1;32m    560\u001b[0m         AsyncResults.get from multiprocessing.\"\"\"\n\u001b[1;32m    561\u001b[0m         \u001b[0;32mtry\u001b[0m\u001b[0;34m:\u001b[0m\u001b[0;34m\u001b[0m\u001b[0;34m\u001b[0m\u001b[0m\n\u001b[0;32m--> 562\u001b[0;31m             \u001b[0;32mreturn\u001b[0m \u001b[0mfuture\u001b[0m\u001b[0;34m.\u001b[0m\u001b[0mresult\u001b[0m\u001b[0;34m(\u001b[0m\u001b[0mtimeout\u001b[0m\u001b[0;34m=\u001b[0m\u001b[0mtimeout\u001b[0m\u001b[0;34m)\u001b[0m\u001b[0;34m\u001b[0m\u001b[0;34m\u001b[0m\u001b[0m\n\u001b[0m\u001b[1;32m    563\u001b[0m         \u001b[0;32mexcept\u001b[0m \u001b[0mLokyTimeoutError\u001b[0m\u001b[0;34m:\u001b[0m\u001b[0;34m\u001b[0m\u001b[0;34m\u001b[0m\u001b[0m\n\u001b[1;32m    564\u001b[0m             \u001b[0;32mraise\u001b[0m \u001b[0mTimeoutError\u001b[0m\u001b[0;34m(\u001b[0m\u001b[0;34m)\u001b[0m\u001b[0;34m\u001b[0m\u001b[0;34m\u001b[0m\u001b[0m\n",
      "\u001b[0;32m~/anaconda3/lib/python3.7/concurrent/futures/_base.py\u001b[0m in \u001b[0;36mresult\u001b[0;34m(self, timeout)\u001b[0m\n\u001b[1;32m    428\u001b[0m                 \u001b[0;32mreturn\u001b[0m \u001b[0mself\u001b[0m\u001b[0;34m.\u001b[0m\u001b[0m__get_result\u001b[0m\u001b[0;34m(\u001b[0m\u001b[0;34m)\u001b[0m\u001b[0;34m\u001b[0m\u001b[0;34m\u001b[0m\u001b[0m\n\u001b[1;32m    429\u001b[0m \u001b[0;34m\u001b[0m\u001b[0m\n\u001b[0;32m--> 430\u001b[0;31m             \u001b[0mself\u001b[0m\u001b[0;34m.\u001b[0m\u001b[0m_condition\u001b[0m\u001b[0;34m.\u001b[0m\u001b[0mwait\u001b[0m\u001b[0;34m(\u001b[0m\u001b[0mtimeout\u001b[0m\u001b[0;34m)\u001b[0m\u001b[0;34m\u001b[0m\u001b[0;34m\u001b[0m\u001b[0m\n\u001b[0m\u001b[1;32m    431\u001b[0m \u001b[0;34m\u001b[0m\u001b[0m\n\u001b[1;32m    432\u001b[0m             \u001b[0;32mif\u001b[0m \u001b[0mself\u001b[0m\u001b[0;34m.\u001b[0m\u001b[0m_state\u001b[0m \u001b[0;32min\u001b[0m \u001b[0;34m[\u001b[0m\u001b[0mCANCELLED\u001b[0m\u001b[0;34m,\u001b[0m \u001b[0mCANCELLED_AND_NOTIFIED\u001b[0m\u001b[0;34m]\u001b[0m\u001b[0;34m:\u001b[0m\u001b[0;34m\u001b[0m\u001b[0;34m\u001b[0m\u001b[0m\n",
      "\u001b[0;32m~/anaconda3/lib/python3.7/threading.py\u001b[0m in \u001b[0;36mwait\u001b[0;34m(self, timeout)\u001b[0m\n\u001b[1;32m    294\u001b[0m         \u001b[0;32mtry\u001b[0m\u001b[0;34m:\u001b[0m    \u001b[0;31m# restore state no matter what (e.g., KeyboardInterrupt)\u001b[0m\u001b[0;34m\u001b[0m\u001b[0;34m\u001b[0m\u001b[0m\n\u001b[1;32m    295\u001b[0m             \u001b[0;32mif\u001b[0m \u001b[0mtimeout\u001b[0m \u001b[0;32mis\u001b[0m \u001b[0;32mNone\u001b[0m\u001b[0;34m:\u001b[0m\u001b[0;34m\u001b[0m\u001b[0;34m\u001b[0m\u001b[0m\n\u001b[0;32m--> 296\u001b[0;31m                 \u001b[0mwaiter\u001b[0m\u001b[0;34m.\u001b[0m\u001b[0macquire\u001b[0m\u001b[0;34m(\u001b[0m\u001b[0;34m)\u001b[0m\u001b[0;34m\u001b[0m\u001b[0;34m\u001b[0m\u001b[0m\n\u001b[0m\u001b[1;32m    297\u001b[0m                 \u001b[0mgotit\u001b[0m \u001b[0;34m=\u001b[0m \u001b[0;32mTrue\u001b[0m\u001b[0;34m\u001b[0m\u001b[0;34m\u001b[0m\u001b[0m\n\u001b[1;32m    298\u001b[0m             \u001b[0;32melse\u001b[0m\u001b[0;34m:\u001b[0m\u001b[0;34m\u001b[0m\u001b[0;34m\u001b[0m\u001b[0m\n",
      "\u001b[0;31mKeyboardInterrupt\u001b[0m: "
     ]
    }
   ],
   "source": [
    "params = {'kernel': ['sigmoid','rbf','poly'],\n",
    "         'C': [0.1,1,100,1000],\n",
    "         'degree': [1,2,3,4,5,6]}\n",
    "grid_svr = GridSearchCV(SVR(), params, cv=10, scoring='neg_root_mean_squared_error', n_jobs=-1)\n",
    "grid_svr.fit(X_train, y_train)\n",
    "best_params_svr = grid_svr.best_params_\n",
    "resultize(grid_svr).head()"
   ]
  },
  {
   "cell_type": "code",
   "execution_count": null,
   "id": "18080aca",
   "metadata": {},
   "outputs": [],
   "source": [
    "ffsf"
   ]
  },
  {
   "cell_type": "code",
   "execution_count": null,
   "id": "0096a031",
   "metadata": {},
   "outputs": [],
   "source": []
  },
  {
   "cell_type": "code",
   "execution_count": null,
   "id": "4fbc5f97",
   "metadata": {},
   "outputs": [],
   "source": []
  },
  {
   "cell_type": "code",
   "execution_count": null,
   "id": "11d667ff",
   "metadata": {},
   "outputs": [
    {
     "data": {
      "text/plain": [
       "\"params = {'kernel': ['sigmoid','rbf','poly','sigmoid'],\\n         'C': [0.1,1,100,1000],\\n         'degree': [1,2,3,4,5,6]}\\ngrid = GridSearchCV(SVR(), params, cv=10)\\ngrid.fit(X_train, y_train)\\nbest_params_svr = grid.best_params_\\nresultize(grid).head()\""
      ]
     },
     "execution_count": 309,
     "metadata": {},
     "output_type": "execute_result"
    }
   ],
   "source": [
    "'''params = {'kernel': ['sigmoid','rbf','poly','sigmoid'],\n",
    "         'C': [0.1,1,100,1000],\n",
    "         'degree': [1,2,3,4,5,6]}\n",
    "grid = GridSearchCV(SVR(), params, cv=10)\n",
    "grid.fit(X_train, y_train)\n",
    "best_params_svr = grid.best_params_\n",
    "resultize(grid).head()'''"
   ]
  },
  {
   "cell_type": "code",
   "execution_count": null,
   "id": "e3d9b3bb",
   "metadata": {},
   "outputs": [],
   "source": [
    "best_params_svr = {'C': 1000, 'degree': 6, 'kernel': 'rbf'}"
   ]
  },
  {
   "cell_type": "code",
   "execution_count": null,
   "id": "9a985a73",
   "metadata": {},
   "outputs": [
    {
     "data": {
      "text/plain": [
       "398.0529194444658"
      ]
     },
     "execution_count": 311,
     "metadata": {},
     "output_type": "execute_result"
    }
   ],
   "source": [
    "svr = SVR(**best_params_svr)\n",
    "svr.fit(X_train, y_train)\n",
    "y_pred = svr.predict(X_test)\n",
    "mean_squared_error(y_test, y_pred, squared=False)"
   ]
  },
  {
   "cell_type": "code",
   "execution_count": null,
   "id": "c94b8b07",
   "metadata": {},
   "outputs": [
    {
     "data": {
      "text/plain": [
       "1082.9415114920407"
      ]
     },
     "execution_count": 312,
     "metadata": {},
     "output_type": "execute_result"
    }
   ],
   "source": [
    "tt = TransformedTargetRegressor(regressor = SVR(**best_params_svr),\n",
    "                                    func = np.log1p,\n",
    "                                    inverse_func = np.expm1)\n",
    "tt.fit(X_train, y_train)\n",
    "y_pred = tt.predict(X_test)\n",
    "mean_squared_error(y_test, y_pred, squared=False)"
   ]
  },
  {
   "cell_type": "code",
   "execution_count": null,
   "id": "78e1203c",
   "metadata": {},
   "outputs": [
    {
     "data": {
      "text/plain": [
       "\"tt = TransformedTargetRegressor(regressor = SVR(),\\n                                    func = np.log1p,\\n                                    inverse_func = np.expm1)\\nparams = {'regressor__C': [0.1,1,100,1000],\\n            'regressor__degree': [1,2,3,4,5,6],\\n            'regressor__kernel': ['sigmoid','rbf','poly']}\\ngrid = GridSearchCV(tt, params, cv = 10)\\ngrid.fit(X_train, y_train)\\nbest_params_svr_tt = grid.best_params_\\nresultize(grid).head()\""
      ]
     },
     "execution_count": 313,
     "metadata": {},
     "output_type": "execute_result"
    }
   ],
   "source": [
    "'''tt = TransformedTargetRegressor(regressor = SVR(),\n",
    "                                    func = np.log1p,\n",
    "                                    inverse_func = np.expm1)\n",
    "params = {'regressor__C': [0.1,1,100,1000],\n",
    "            'regressor__degree': [1,2,3,4,5,6],\n",
    "            'regressor__kernel': ['sigmoid','rbf','poly']}\n",
    "grid = GridSearchCV(tt, params, cv = 10)\n",
    "grid.fit(X_train, y_train)\n",
    "best_params_svr_tt = grid.best_params_\n",
    "resultize(grid).head()'''"
   ]
  },
  {
   "cell_type": "code",
   "execution_count": null,
   "id": "1b8fac83",
   "metadata": {},
   "outputs": [
    {
     "data": {
      "text/plain": [
       "'tt = TransformedTargetRegressor(regressor = SVR(**best_params_svr_tt),\\n                                    func = np.log1p,\\n                                    inverse_func = np.expm1)\\ntt.fit(X_train, y_train)\\ny_pred = tt.predict(X_test)\\nmean_squared_error(y_test, y_pred, squared=False)'"
      ]
     },
     "execution_count": 314,
     "metadata": {},
     "output_type": "execute_result"
    }
   ],
   "source": [
    "'''tt = TransformedTargetRegressor(regressor = SVR(**best_params_svr_tt),\n",
    "                                    func = np.log1p,\n",
    "                                    inverse_func = np.expm1)\n",
    "tt.fit(X_train, y_train)\n",
    "y_pred = tt.predict(X_test)\n",
    "mean_squared_error(y_test, y_pred, squared=False)'''"
   ]
  },
  {
   "cell_type": "code",
   "execution_count": null,
   "id": "f70b2e90",
   "metadata": {},
   "outputs": [],
   "source": []
  },
  {
   "cell_type": "code",
   "execution_count": null,
   "id": "98965611",
   "metadata": {},
   "outputs": [],
   "source": []
  },
  {
   "cell_type": "code",
   "execution_count": null,
   "id": "66270d8a",
   "metadata": {},
   "outputs": [],
   "source": []
  },
  {
   "cell_type": "code",
   "execution_count": null,
   "id": "5fe1f062",
   "metadata": {},
   "outputs": [
    {
     "data": {
      "text/plain": [
       "328.97420701191714"
      ]
     },
     "execution_count": 315,
     "metadata": {},
     "output_type": "execute_result"
    }
   ],
   "source": [
    "rf = RandomForestRegressor()\n",
    "rf.fit(X_train, y_train)\n",
    "y_pred = rf.predict(X_test)\n",
    "mean_squared_error(y_test, y_pred, squared=False)"
   ]
  },
  {
   "cell_type": "code",
   "execution_count": null,
   "id": "d3f2a7bc",
   "metadata": {},
   "outputs": [
    {
     "data": {
      "text/plain": [
       "\"params = {'n_estimators': [100, 200, 300, 400, 500],\\n            'max_depth': [1,2,3,4,5,6,7,8,9,10],\\n            'min_samples_split': [2,3,4,5,6,7,8,9,10],\\n}\\ngrid = GridSearchCV(RandomForestRegressor(), params, cv=10)\\ngrid.fit(X_train, y_train)\\nbest_params_rf = grid.best_params_\\nresultize(grid).head()\""
      ]
     },
     "execution_count": 316,
     "metadata": {},
     "output_type": "execute_result"
    }
   ],
   "source": [
    "\"\"\"params = {'n_estimators': [100, 200, 300, 400, 500],\n",
    "            'max_depth': [1,2,3,4,5,6,7,8,9,10],\n",
    "            'min_samples_split': [2,3,4,5,6,7,8,9,10],\n",
    "}\n",
    "grid = GridSearchCV(RandomForestRegressor(), params, cv=10)\n",
    "grid.fit(X_train, y_train)\n",
    "best_params_rf = grid.best_params_\n",
    "resultize(grid).head()\"\"\""
   ]
  },
  {
   "cell_type": "code",
   "execution_count": null,
   "id": "e675be36",
   "metadata": {},
   "outputs": [],
   "source": [
    "best_params_rf ={'max_depth': 10, 'min_samples_split': 2, 'n_estimators': 100}"
   ]
  },
  {
   "cell_type": "code",
   "execution_count": null,
   "id": "827e91e3",
   "metadata": {},
   "outputs": [
    {
     "data": {
      "text/plain": [
       "337.93590177576345"
      ]
     },
     "execution_count": 318,
     "metadata": {},
     "output_type": "execute_result"
    }
   ],
   "source": [
    "rf = RandomForestRegressor(**best_params_rf)\n",
    "rf.fit(X_train, y_train)\n",
    "y_pred = rf.predict(X_test)\n",
    "mean_squared_error(y_test, y_pred, squared=False)"
   ]
  },
  {
   "cell_type": "code",
   "execution_count": null,
   "id": "b6ba14f5",
   "metadata": {},
   "outputs": [
    {
     "data": {
      "text/plain": [
       "323.243860619088"
      ]
     },
     "execution_count": 319,
     "metadata": {},
     "output_type": "execute_result"
    }
   ],
   "source": [
    "tt = TransformedTargetRegressor(regressor = RandomForestRegressor(**best_params_rf),\n",
    "                                    func = np.log1p,\n",
    "                                    inverse_func = np.expm1)\n",
    "tt.fit(X_train, y_train)\n",
    "y_pred = tt.predict(X_test)\n",
    "mean_squared_error(y_test, y_pred, squared=False)"
   ]
  },
  {
   "cell_type": "code",
   "execution_count": null,
   "id": "0962f819",
   "metadata": {},
   "outputs": [
    {
     "data": {
      "text/plain": [
       "\"tt_rf = TransformedTargetRegressor(regressor = RandomForestRegressor(),\\n                                    func = np.log1p,\\n                                    inverse_func = np.expm1)\\nparams = {'regressor__n_estimators': [100, 200, 300, 400, 500],\\n            'regressor__max_depth': [1,2,3,4,5,6,7,8,9,10],\\n            'regressor__min_samples_split': [2,3,4,5,6,7,8,9,10]}\\ngrid = GridSearchCV(tt_rf, params, cv = 10)\\ngrid.fit(X_train, y_train)\\nbest_params_rf_tt = grid.best_params_\\nresultize(grid).head()\""
      ]
     },
     "execution_count": 320,
     "metadata": {},
     "output_type": "execute_result"
    }
   ],
   "source": [
    "'''tt_rf = TransformedTargetRegressor(regressor = RandomForestRegressor(),\n",
    "                                    func = np.log1p,\n",
    "                                    inverse_func = np.expm1)\n",
    "params = {'regressor__n_estimators': [100, 200, 300, 400, 500],\n",
    "            'regressor__max_depth': [1,2,3,4,5,6,7,8,9,10],\n",
    "            'regressor__min_samples_split': [2,3,4,5,6,7,8,9,10]}\n",
    "grid = GridSearchCV(tt_rf, params, cv = 10)\n",
    "grid.fit(X_train, y_train)\n",
    "best_params_rf_tt = grid.best_params_\n",
    "resultize(grid).head()'''"
   ]
  },
  {
   "cell_type": "code",
   "execution_count": null,
   "id": "ea151df4",
   "metadata": {},
   "outputs": [
    {
     "data": {
      "text/plain": [
       "317.2140570409817"
      ]
     },
     "execution_count": 321,
     "metadata": {},
     "output_type": "execute_result"
    }
   ],
   "source": [
    "best_params_rf_tt = {'max_depth': 10,\n",
    " 'min_samples_split': 4,\n",
    " 'n_estimators': 200}\n",
    "rf_tt = TransformedTargetRegressor(\n",
    "      regressor = RandomForestRegressor(**best_params_rf_tt),\n",
    "      func = np.log1p,\n",
    "      inverse_func = np.expm1)\n",
    "rf_tt.fit(X_train, y_train)\n",
    "y_pred = rf_tt.predict(X_test)\n",
    "mean_squared_error(y_test, y_pred, squared=False)"
   ]
  },
  {
   "cell_type": "code",
   "execution_count": null,
   "id": "932baba1",
   "metadata": {},
   "outputs": [],
   "source": []
  },
  {
   "cell_type": "code",
   "execution_count": null,
   "id": "262e9048",
   "metadata": {},
   "outputs": [],
   "source": []
  },
  {
   "cell_type": "code",
   "execution_count": null,
   "id": "429478e8",
   "metadata": {},
   "outputs": [],
   "source": []
  },
  {
   "cell_type": "code",
   "execution_count": null,
   "id": "2c199d47",
   "metadata": {},
   "outputs": [
    {
     "data": {
      "text/plain": [
       "326.5484564509296"
      ]
     },
     "execution_count": 322,
     "metadata": {},
     "output_type": "execute_result"
    }
   ],
   "source": [
    "gb = GradientBoostingRegressor()\n",
    "gb.fit(X_train, y_train)\n",
    "y_pred = gb.predict(X_test)\n",
    "mean_squared_error(y_test, y_pred, squared=False)"
   ]
  },
  {
   "cell_type": "code",
   "execution_count": null,
   "id": "eca2577b",
   "metadata": {},
   "outputs": [
    {
     "data": {
      "text/plain": [
       "\"params = {'loss': ['ls', 'lad', 'huber', 'quantile'],\\n            'learning_rate': [0.1, 0.05, 0.02, 0.01],\\n            'max_depth': [4, 6],\\n            'min_samples_leaf': [3, 5, 9, 17],\\n}\\ngrid = GridSearchCV(GradientBoostingRegressor(), params, cv=10)\\ngrid.fit(X_train, y_train)\\nbest_params_gb = grid.best_params_\\nresultize(grid).head()\""
      ]
     },
     "execution_count": 323,
     "metadata": {},
     "output_type": "execute_result"
    }
   ],
   "source": [
    "'''params = {'loss': ['ls', 'lad', 'huber', 'quantile'],\n",
    "            'learning_rate': [0.1, 0.05, 0.02, 0.01],\n",
    "            'max_depth': [4, 6],\n",
    "            'min_samples_leaf': [3, 5, 9, 17],\n",
    "}\n",
    "grid = GridSearchCV(GradientBoostingRegressor(), params, cv=10)\n",
    "grid.fit(X_train, y_train)\n",
    "best_params_gb = grid.best_params_\n",
    "resultize(grid).head()'''"
   ]
  },
  {
   "cell_type": "code",
   "execution_count": null,
   "id": "48c2c5c9",
   "metadata": {},
   "outputs": [],
   "source": [
    "best_params_gb = {'learning_rate': 0.1, 'loss': 'huber', 'max_depth': 6, 'min_samples_leaf': 9}"
   ]
  },
  {
   "cell_type": "code",
   "execution_count": null,
   "id": "c1b4a073",
   "metadata": {},
   "outputs": [
    {
     "data": {
      "text/plain": [
       "337.4644256931685"
      ]
     },
     "execution_count": 325,
     "metadata": {},
     "output_type": "execute_result"
    }
   ],
   "source": [
    "gb = GradientBoostingRegressor(**best_params_gb)\n",
    "gb.fit(X_train, y_train)\n",
    "y_pred = gb.predict(X_test)\n",
    "mean_squared_error(y_test, y_pred, squared=False)"
   ]
  },
  {
   "cell_type": "code",
   "execution_count": null,
   "id": "249ca26b",
   "metadata": {},
   "outputs": [
    {
     "data": {
      "text/plain": [
       "\"tt_gb = TransformedTargetRegressor(regressor = GradientBoostingRegressor(),\\n                                    func = np.log1p,\\n                                    inverse_func = np.expm1)\\nparams = {'regressor__loss': ['ls', 'lad', 'huber', 'quantile'],\\n            'regressor__learning_rate': [0.1, 0.05, 0.02, 0.01],\\n            'regressor__max_depth': [4, 6],\\n            'regressor__min_samples_leaf': [3, 5, 9, 17]}\\ngrid = GridSearchCV(tt_gb, params, cv = 10)\\ngrid.fit(X_train, y_train)\\nbest_params_gb_tt = grid.best_params_\\nresultize(grid).head()\""
      ]
     },
     "execution_count": 326,
     "metadata": {},
     "output_type": "execute_result"
    }
   ],
   "source": [
    "'''tt_gb = TransformedTargetRegressor(regressor = GradientBoostingRegressor(),\n",
    "                                    func = np.log1p,\n",
    "                                    inverse_func = np.expm1)\n",
    "params = {'regressor__loss': ['ls', 'lad', 'huber', 'quantile'],\n",
    "            'regressor__learning_rate': [0.1, 0.05, 0.02, 0.01],\n",
    "            'regressor__max_depth': [4, 6],\n",
    "            'regressor__min_samples_leaf': [3, 5, 9, 17]}\n",
    "grid = GridSearchCV(tt_gb, params, cv = 10)\n",
    "grid.fit(X_train, y_train)\n",
    "best_params_gb_tt = grid.best_params_\n",
    "resultize(grid).head()'''"
   ]
  },
  {
   "cell_type": "code",
   "execution_count": null,
   "id": "3e6755ff",
   "metadata": {},
   "outputs": [
    {
     "data": {
      "text/plain": [
       "210.35251382711084"
      ]
     },
     "execution_count": 327,
     "metadata": {},
     "output_type": "execute_result"
    }
   ],
   "source": [
    "best_params_gb_tt = {'learning_rate': 0.1,\n",
    "      'loss': 'ls',\n",
    "      'max_depth': 6,\n",
    "      'min_samples_leaf': 5\n",
    "      }\n",
    "gb_tt = TransformedTargetRegressor(regressor=GradientBoostingRegressor(**best_params_gb_tt),\n",
    "                                    func = np.log1p,\n",
    "                                    inverse_func = np.expm1)\n",
    "gb_tt.fit(X_train, y_train)\n",
    "y_pred = gb_tt.predict(X_test)\n",
    "mean_squared_error(y_test, y_pred, squared=False)"
   ]
  },
  {
   "cell_type": "code",
   "execution_count": null,
   "id": "a4c18783",
   "metadata": {},
   "outputs": [],
   "source": []
  },
  {
   "cell_type": "code",
   "execution_count": null,
   "id": "b6301ac8",
   "metadata": {},
   "outputs": [],
   "source": []
  },
  {
   "cell_type": "code",
   "execution_count": null,
   "id": "cf32d1d8",
   "metadata": {},
   "outputs": [],
   "source": []
  },
  {
   "cell_type": "code",
   "execution_count": null,
   "id": "f1de56fe",
   "metadata": {},
   "outputs": [],
   "source": []
  },
  {
   "cell_type": "code",
   "execution_count": null,
   "id": "9ddeb8c0",
   "metadata": {},
   "outputs": [
    {
     "data": {
      "text/plain": [
       "473.62101856693846"
      ]
     },
     "execution_count": 328,
     "metadata": {},
     "output_type": "execute_result"
    }
   ],
   "source": [
    "ad =  AdaBoostRegressor()\n",
    "ad.fit(X_train, y_train)\n",
    "y_pred = ad.predict(X_test)\n",
    "mean_squared_error(y_test, y_pred, squared=False)"
   ]
  },
  {
   "cell_type": "code",
   "execution_count": null,
   "id": "c4480a43",
   "metadata": {},
   "outputs": [
    {
     "data": {
      "text/plain": [
       "\"params = {'n_estimators': [100, 200, 300, 400, 500],\\n            'learning_rate': [0.1, 0.05, 0.02, 0.01],\\n            'loss': ['linear', 'square', 'exponential'],\\n}\\ngrid = GridSearchCV(AdaBoostRegressor(), params, cv=10)\\ngrid.fit(X_train, y_train)\\nbest_params_ad = grid.best_params_\\nresultize(grid).head()\""
      ]
     },
     "execution_count": 329,
     "metadata": {},
     "output_type": "execute_result"
    }
   ],
   "source": [
    "'''params = {'n_estimators': [100, 200, 300, 400, 500],\n",
    "            'learning_rate': [0.1, 0.05, 0.02, 0.01],\n",
    "            'loss': ['linear', 'square', 'exponential'],\n",
    "}\n",
    "grid = GridSearchCV(AdaBoostRegressor(), params, cv=10)\n",
    "grid.fit(X_train, y_train)\n",
    "best_params_ad = grid.best_params_\n",
    "resultize(grid).head()'''"
   ]
  },
  {
   "cell_type": "code",
   "execution_count": null,
   "id": "f4182d2b",
   "metadata": {},
   "outputs": [],
   "source": [
    "best_params_ad = {'learning_rate': 0.1, 'loss': 'square', 'n_estimators': 400}"
   ]
  },
  {
   "cell_type": "code",
   "execution_count": null,
   "id": "83cd3f4c",
   "metadata": {},
   "outputs": [
    {
     "data": {
      "text/plain": [
       "369.1583133859532"
      ]
     },
     "execution_count": 331,
     "metadata": {},
     "output_type": "execute_result"
    }
   ],
   "source": [
    "ad = AdaBoostRegressor(**best_params_ad)\n",
    "ad.fit(X_train, y_train)\n",
    "y_pred = ad.predict(X_test)\n",
    "mean_squared_error(y_test, y_pred, squared=False)"
   ]
  },
  {
   "cell_type": "code",
   "execution_count": null,
   "id": "6d601ebb",
   "metadata": {},
   "outputs": [
    {
     "data": {
      "text/plain": [
       "\"tt_ad = TransformedTargetRegressor(regressor = AdaBoostRegressor(),\\n                                    func = np.log1p,\\n                                    inverse_func = np.expm1)\\nparams = {'regressor__n_estimators': [100, 200, 300, 400, 500],\\n            'regressor__learning_rate': [0.1, 0.05, 0.02, 0.01],\\n            'regressor__loss': ['linear', 'square', 'exponential'],\\n}\\ngrid = GridSearchCV(tt_ad, params, cv = 10)\\ngrid.fit(X_train, y_train)\\nbest_params_ad_tt = grid.best_params_\\nresultize(grid).head()\""
      ]
     },
     "execution_count": 332,
     "metadata": {},
     "output_type": "execute_result"
    }
   ],
   "source": [
    "\"\"\"tt_ad = TransformedTargetRegressor(regressor = AdaBoostRegressor(),\n",
    "                                    func = np.log1p,\n",
    "                                    inverse_func = np.expm1)\n",
    "params = {'regressor__n_estimators': [100, 200, 300, 400, 500],\n",
    "            'regressor__learning_rate': [0.1, 0.05, 0.02, 0.01],\n",
    "            'regressor__loss': ['linear', 'square', 'exponential'],\n",
    "}\n",
    "grid = GridSearchCV(tt_ad, params, cv = 10)\n",
    "grid.fit(X_train, y_train)\n",
    "best_params_ad_tt = grid.best_params_\n",
    "resultize(grid).head()\"\"\""
   ]
  },
  {
   "cell_type": "code",
   "execution_count": null,
   "id": "20b58dd0",
   "metadata": {},
   "outputs": [
    {
     "data": {
      "text/plain": [
       "348.6998131735482"
      ]
     },
     "execution_count": 333,
     "metadata": {},
     "output_type": "execute_result"
    }
   ],
   "source": [
    "best_params_ad_tt = {'learning_rate': 0.1,\n",
    "      'loss': 'square',\n",
    "      'n_estimators': 200\n",
    "      }\n",
    "tt_ad = TransformedTargetRegressor(regressor=AdaBoostRegressor(**best_params_ad_tt),\n",
    "                                    func = np.log1p,\n",
    "                                    inverse_func = np.expm1)\n",
    "tt_ad.fit(X_train, y_train)\n",
    "y_pred = tt_ad.predict(X_test)\n",
    "mean_squared_error(y_test, y_pred, squared=False)"
   ]
  },
  {
   "cell_type": "code",
   "execution_count": null,
   "id": "aa50b8d1",
   "metadata": {},
   "outputs": [],
   "source": []
  },
  {
   "cell_type": "code",
   "execution_count": null,
   "id": "08c48ebe",
   "metadata": {},
   "outputs": [
    {
     "data": {
      "text/plain": [
       "434.77462668189395"
      ]
     },
     "execution_count": 334,
     "metadata": {},
     "output_type": "execute_result"
    }
   ],
   "source": [
    "from sklearn.neural_network import MLPRegressor\n",
    "mlp = MLPRegressor()\n",
    "mlp.fit(X_train, y_train)\n",
    "y_pred = mlp.predict(X_test)\n",
    "mean_squared_error(y_test, y_pred, squared=False)"
   ]
  },
  {
   "cell_type": "code",
   "execution_count": null,
   "id": "b30e3488",
   "metadata": {},
   "outputs": [
    {
     "data": {
      "text/plain": [
       "\"params = {'hidden_layer_sizes': [(100,),(200,),(300,),(400,),(500,)],\\n            'activation': ['identity', 'logistic', 'tanh', 'relu'],\\n            'solver': ['lbfgs', 'adam'],\\n}\\ngrid = GridSearchCV(MLPRegressor(), params, cv=10)\\ngrid.fit(X_train, y_train)\\nbest_params_mlp = grid.best_params_\\nresultize(grid).head()\""
      ]
     },
     "execution_count": 335,
     "metadata": {},
     "output_type": "execute_result"
    }
   ],
   "source": [
    "'''params = {'hidden_layer_sizes': [(100,),(200,),(300,),(400,),(500,)],\n",
    "            'activation': ['identity', 'logistic', 'tanh', 'relu'],\n",
    "            'solver': ['lbfgs', 'adam'],\n",
    "}\n",
    "grid = GridSearchCV(MLPRegressor(), params, cv=10)\n",
    "grid.fit(X_train, y_train)\n",
    "best_params_mlp = grid.best_params_\n",
    "resultize(grid).head()'''"
   ]
  },
  {
   "cell_type": "code",
   "execution_count": null,
   "id": "aaacf4db",
   "metadata": {},
   "outputs": [],
   "source": [
    "best_params_mlp = {'activation': 'logistic',\n",
    "                  'hidden_layer_sizes': (200,), \n",
    "                  'solver': 'lbfgs'}"
   ]
  },
  {
   "cell_type": "code",
   "execution_count": null,
   "id": "872156ff",
   "metadata": {},
   "outputs": [
    {
     "data": {
      "text/plain": [
       "284.69790583780997"
      ]
     },
     "execution_count": 337,
     "metadata": {},
     "output_type": "execute_result"
    }
   ],
   "source": [
    "mlp = MLPRegressor(**best_params_mlp)\n",
    "mlp.fit(X_train, y_train)\n",
    "y_pred = mlp.predict(X_test)\n",
    "mean_squared_error(y_test, y_pred, squared=False)"
   ]
  },
  {
   "cell_type": "code",
   "execution_count": null,
   "id": "72645510",
   "metadata": {},
   "outputs": [
    {
     "data": {
      "text/plain": [
       "\"tt_mlp = TransformedTargetRegressor(regressor = MLPRegressor(),\\n                                    func = np.log1p,\\n                                    inverse_func = np.expm1)\\nparams = {'regressor__hidden_layer_sizes': [(100,),(200,),(300,),(400,),(500,)],\\n            'regressor__activation': ['identity', 'logistic', 'tanh', 'relu'],\\n            'regressor__solver': ['lbfgs', 'adam'],\\n}\\ngrid = GridSearchCV(tt_mlp, params, cv = 10)\\ngrid.fit(X_train, y_train)\\nbest_params_mlp_tt = grid.best_params_\\nresultize(grid).head()\""
      ]
     },
     "execution_count": 338,
     "metadata": {},
     "output_type": "execute_result"
    }
   ],
   "source": [
    "\"\"\"tt_mlp = TransformedTargetRegressor(regressor = MLPRegressor(),\n",
    "                                    func = np.log1p,\n",
    "                                    inverse_func = np.expm1)\n",
    "params = {'regressor__hidden_layer_sizes': [(100,),(200,),(300,),(400,),(500,)],\n",
    "            'regressor__activation': ['identity', 'logistic', 'tanh', 'relu'],\n",
    "            'regressor__solver': ['lbfgs', 'adam'],\n",
    "}\n",
    "grid = GridSearchCV(tt_mlp, params, cv = 10)\n",
    "grid.fit(X_train, y_train)\n",
    "best_params_mlp_tt = grid.best_params_\n",
    "resultize(grid).head()\"\"\""
   ]
  },
  {
   "cell_type": "code",
   "execution_count": null,
   "id": "0a26bce0",
   "metadata": {},
   "outputs": [
    {
     "data": {
      "text/plain": [
       "281.99836465827303"
      ]
     },
     "execution_count": 339,
     "metadata": {},
     "output_type": "execute_result"
    }
   ],
   "source": [
    "best_params_mlp_tt = {'activation': 'tanh',\n",
    "      'hidden_layer_sizes': (100,),\n",
    "      'solver': 'adam'\n",
    "      }\n",
    "tt_mlp = TransformedTargetRegressor(regressor=MLPRegressor(**best_params_mlp_tt),\n",
    "                                    func = np.log1p,\n",
    "                                    inverse_func = np.expm1)\n",
    "tt_mlp.fit(X_train, y_train)\n",
    "y_pred = tt_mlp.predict(X_test)\n",
    "mean_squared_error(y_test, y_pred, squared=False)"
   ]
  },
  {
   "cell_type": "code",
   "execution_count": null,
   "id": "5a5e9138",
   "metadata": {},
   "outputs": [],
   "source": []
  },
  {
   "cell_type": "code",
   "execution_count": null,
   "id": "07005e30",
   "metadata": {},
   "outputs": [],
   "source": []
  },
  {
   "cell_type": "code",
   "execution_count": null,
   "id": "a0158473",
   "metadata": {},
   "outputs": [],
   "source": []
  },
  {
   "cell_type": "code",
   "execution_count": null,
   "id": "d8f08356",
   "metadata": {},
   "outputs": [],
   "source": []
  }
 ],
 "metadata": {
  "kernelspec": {
   "display_name": "base",
   "language": "python",
   "name": "python3"
  },
  "language_info": {
   "codemirror_mode": {
    "name": "ipython",
    "version": 3
   },
   "file_extension": ".py",
   "mimetype": "text/x-python",
   "name": "python",
   "nbconvert_exporter": "python",
   "pygments_lexer": "ipython3",
   "version": "3.7.6"
  },
  "vscode": {
   "interpreter": {
    "hash": "8effbaa76bd891d5dedfafc37b55e0ad9035d84c812eadfdf6f5bc8817d866aa"
   }
  }
 },
 "nbformat": 4,
 "nbformat_minor": 5
}
