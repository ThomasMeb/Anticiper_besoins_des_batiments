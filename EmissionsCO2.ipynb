{
 "cells": [
  {
   "cell_type": "code",
   "execution_count": 1,
   "id": "f4f25002",
   "metadata": {},
   "outputs": [],
   "source": [
    "import pandas as pd\n",
    "pd.options.display.max_columns=200\n",
    "import matplotlib.pyplot as plt\n",
    "import numpy as np\n",
    "from sklearn.preprocessing import StandardScaler\n",
    "import warnings \n",
    "warnings.filterwarnings('ignore')\n",
    "from sklearn.dummy import DummyRegressor\n",
    "from sklearn.model_selection import train_test_split, GridSearchCV\n",
    "from sklearn.metrics import mean_squared_error, mean_squared_log_error, mean_absolute_error, make_scorer\n",
    "from sklearn.linear_model import Ridge, LinearRegression, Lasso\n",
    "from sklearn.compose import TransformedTargetRegressor\n",
    "from sklearn.svm import SVR\n",
    "from sklearn.ensemble import RandomForestRegressor, GradientBoostingRegressor, AdaBoostRegressor"
   ]
  },
  {
   "cell_type": "code",
   "execution_count": 2,
   "id": "4ea029de",
   "metadata": {},
   "outputs": [],
   "source": [
    "data = pd.read_csv('data.csv')"
   ]
  },
  {
   "cell_type": "code",
   "execution_count": 3,
   "id": "da0b82c9",
   "metadata": {},
   "outputs": [],
   "source": [
    "data.set_index('OSEBuildingID', inplace = True)"
   ]
  },
  {
   "cell_type": "code",
   "execution_count": 4,
   "id": "3c5f8a60",
   "metadata": {},
   "outputs": [
    {
     "data": {
      "text/html": [
       "<div>\n",
       "<style scoped>\n",
       "    .dataframe tbody tr th:only-of-type {\n",
       "        vertical-align: middle;\n",
       "    }\n",
       "\n",
       "    .dataframe tbody tr th {\n",
       "        vertical-align: top;\n",
       "    }\n",
       "\n",
       "    .dataframe thead th {\n",
       "        text-align: right;\n",
       "    }\n",
       "</style>\n",
       "<table border=\"1\" class=\"dataframe\">\n",
       "  <thead>\n",
       "    <tr style=\"text-align: right;\">\n",
       "      <th></th>\n",
       "      <th>NumberofBuildings</th>\n",
       "      <th>NumberofFloors</th>\n",
       "      <th>PropertyGFATotal</th>\n",
       "      <th>LargestPropertyUseTypeGFA</th>\n",
       "      <th>ENERGYSTARScore</th>\n",
       "      <th>EnergyStarNaN</th>\n",
       "      <th>SiteEUI(kBtu/sf)</th>\n",
       "      <th>SiteEUIWN(kBtu/sf)</th>\n",
       "      <th>SourceEUI(kBtu/sf)</th>\n",
       "      <th>SourceEUIWN(kBtu/sf)</th>\n",
       "      <th>SiteEnergyUse(kBtu)</th>\n",
       "      <th>SiteEnergyUseWN(kBtu)</th>\n",
       "      <th>TotalGHGEmissions</th>\n",
       "      <th>GHGEmissionsIntensity</th>\n",
       "      <th>Age</th>\n",
       "      <th>PropertyGFAParking(%)</th>\n",
       "      <th>PropertyGFABuilding(s)(%)</th>\n",
       "      <th>SteamUse(%)</th>\n",
       "      <th>Electricity(%)</th>\n",
       "      <th>NaturalGas(%)</th>\n",
       "      <th>PrimaryPropertyType_Distribution Center</th>\n",
       "      <th>PrimaryPropertyType_Hotel</th>\n",
       "      <th>PrimaryPropertyType_K-12 School</th>\n",
       "      <th>PrimaryPropertyType_Large Office</th>\n",
       "      <th>PrimaryPropertyType_Medical Office</th>\n",
       "      <th>PrimaryPropertyType_Mixed Use Property</th>\n",
       "      <th>PrimaryPropertyType_Other</th>\n",
       "      <th>PrimaryPropertyType_Retail Store</th>\n",
       "      <th>PrimaryPropertyType_Self-Storage Facility</th>\n",
       "      <th>PrimaryPropertyType_Small- and Mid-Sized Office</th>\n",
       "      <th>PrimaryPropertyType_Supermarket / Grocery Store</th>\n",
       "      <th>PrimaryPropertyType_University</th>\n",
       "      <th>PrimaryPropertyType_Warehouse</th>\n",
       "      <th>PrimaryPropertyType_Worship Facility</th>\n",
       "      <th>CouncilDistrictCode_1</th>\n",
       "      <th>CouncilDistrictCode_2</th>\n",
       "      <th>CouncilDistrictCode_3</th>\n",
       "      <th>CouncilDistrictCode_4</th>\n",
       "      <th>CouncilDistrictCode_5</th>\n",
       "      <th>CouncilDistrictCode_6</th>\n",
       "      <th>CouncilDistrictCode_7</th>\n",
       "    </tr>\n",
       "    <tr>\n",
       "      <th>OSEBuildingID</th>\n",
       "      <th></th>\n",
       "      <th></th>\n",
       "      <th></th>\n",
       "      <th></th>\n",
       "      <th></th>\n",
       "      <th></th>\n",
       "      <th></th>\n",
       "      <th></th>\n",
       "      <th></th>\n",
       "      <th></th>\n",
       "      <th></th>\n",
       "      <th></th>\n",
       "      <th></th>\n",
       "      <th></th>\n",
       "      <th></th>\n",
       "      <th></th>\n",
       "      <th></th>\n",
       "      <th></th>\n",
       "      <th></th>\n",
       "      <th></th>\n",
       "      <th></th>\n",
       "      <th></th>\n",
       "      <th></th>\n",
       "      <th></th>\n",
       "      <th></th>\n",
       "      <th></th>\n",
       "      <th></th>\n",
       "      <th></th>\n",
       "      <th></th>\n",
       "      <th></th>\n",
       "      <th></th>\n",
       "      <th></th>\n",
       "      <th></th>\n",
       "      <th></th>\n",
       "      <th></th>\n",
       "      <th></th>\n",
       "      <th></th>\n",
       "      <th></th>\n",
       "      <th></th>\n",
       "      <th></th>\n",
       "      <th></th>\n",
       "    </tr>\n",
       "  </thead>\n",
       "  <tbody>\n",
       "    <tr>\n",
       "      <th>1</th>\n",
       "      <td>1.0</td>\n",
       "      <td>12.0</td>\n",
       "      <td>88434.0</td>\n",
       "      <td>88434.0</td>\n",
       "      <td>60.0</td>\n",
       "      <td>0.0</td>\n",
       "      <td>81.699997</td>\n",
       "      <td>84.300003</td>\n",
       "      <td>182.500000</td>\n",
       "      <td>189.000000</td>\n",
       "      <td>7.226362e+06</td>\n",
       "      <td>7.456910e+06</td>\n",
       "      <td>249.98</td>\n",
       "      <td>2.83</td>\n",
       "      <td>89.0</td>\n",
       "      <td>0.000000</td>\n",
       "      <td>100.000000</td>\n",
       "      <td>27.730162</td>\n",
       "      <td>54.605993</td>\n",
       "      <td>17.663838</td>\n",
       "      <td>0.0</td>\n",
       "      <td>1.0</td>\n",
       "      <td>0.0</td>\n",
       "      <td>0.0</td>\n",
       "      <td>0.0</td>\n",
       "      <td>0.0</td>\n",
       "      <td>0.0</td>\n",
       "      <td>0.0</td>\n",
       "      <td>0.0</td>\n",
       "      <td>0.0</td>\n",
       "      <td>0.0</td>\n",
       "      <td>0.0</td>\n",
       "      <td>0.0</td>\n",
       "      <td>0.0</td>\n",
       "      <td>0.0</td>\n",
       "      <td>0.0</td>\n",
       "      <td>0.0</td>\n",
       "      <td>0.0</td>\n",
       "      <td>0.0</td>\n",
       "      <td>0.0</td>\n",
       "      <td>1.0</td>\n",
       "    </tr>\n",
       "    <tr>\n",
       "      <th>2</th>\n",
       "      <td>1.0</td>\n",
       "      <td>11.0</td>\n",
       "      <td>103566.0</td>\n",
       "      <td>83880.0</td>\n",
       "      <td>61.0</td>\n",
       "      <td>0.0</td>\n",
       "      <td>94.800003</td>\n",
       "      <td>97.900002</td>\n",
       "      <td>176.100006</td>\n",
       "      <td>179.399994</td>\n",
       "      <td>8.387933e+06</td>\n",
       "      <td>8.664479e+06</td>\n",
       "      <td>295.86</td>\n",
       "      <td>2.86</td>\n",
       "      <td>20.0</td>\n",
       "      <td>14.545314</td>\n",
       "      <td>85.454686</td>\n",
       "      <td>0.000000</td>\n",
       "      <td>38.660907</td>\n",
       "      <td>61.339093</td>\n",
       "      <td>0.0</td>\n",
       "      <td>1.0</td>\n",
       "      <td>0.0</td>\n",
       "      <td>0.0</td>\n",
       "      <td>0.0</td>\n",
       "      <td>0.0</td>\n",
       "      <td>0.0</td>\n",
       "      <td>0.0</td>\n",
       "      <td>0.0</td>\n",
       "      <td>0.0</td>\n",
       "      <td>0.0</td>\n",
       "      <td>0.0</td>\n",
       "      <td>0.0</td>\n",
       "      <td>0.0</td>\n",
       "      <td>0.0</td>\n",
       "      <td>0.0</td>\n",
       "      <td>0.0</td>\n",
       "      <td>0.0</td>\n",
       "      <td>0.0</td>\n",
       "      <td>0.0</td>\n",
       "      <td>1.0</td>\n",
       "    </tr>\n",
       "    <tr>\n",
       "      <th>3</th>\n",
       "      <td>1.0</td>\n",
       "      <td>41.0</td>\n",
       "      <td>956110.0</td>\n",
       "      <td>756493.0</td>\n",
       "      <td>43.0</td>\n",
       "      <td>0.0</td>\n",
       "      <td>96.000000</td>\n",
       "      <td>97.699997</td>\n",
       "      <td>241.899994</td>\n",
       "      <td>244.100006</td>\n",
       "      <td>7.258702e+07</td>\n",
       "      <td>7.393711e+07</td>\n",
       "      <td>2089.28</td>\n",
       "      <td>2.19</td>\n",
       "      <td>47.0</td>\n",
       "      <td>20.574829</td>\n",
       "      <td>79.425171</td>\n",
       "      <td>29.711308</td>\n",
       "      <td>68.230741</td>\n",
       "      <td>2.057944</td>\n",
       "      <td>0.0</td>\n",
       "      <td>1.0</td>\n",
       "      <td>0.0</td>\n",
       "      <td>0.0</td>\n",
       "      <td>0.0</td>\n",
       "      <td>0.0</td>\n",
       "      <td>0.0</td>\n",
       "      <td>0.0</td>\n",
       "      <td>0.0</td>\n",
       "      <td>0.0</td>\n",
       "      <td>0.0</td>\n",
       "      <td>0.0</td>\n",
       "      <td>0.0</td>\n",
       "      <td>0.0</td>\n",
       "      <td>0.0</td>\n",
       "      <td>0.0</td>\n",
       "      <td>0.0</td>\n",
       "      <td>0.0</td>\n",
       "      <td>0.0</td>\n",
       "      <td>0.0</td>\n",
       "      <td>1.0</td>\n",
       "    </tr>\n",
       "    <tr>\n",
       "      <th>5</th>\n",
       "      <td>1.0</td>\n",
       "      <td>10.0</td>\n",
       "      <td>61320.0</td>\n",
       "      <td>61320.0</td>\n",
       "      <td>56.0</td>\n",
       "      <td>0.0</td>\n",
       "      <td>110.800003</td>\n",
       "      <td>113.300003</td>\n",
       "      <td>216.199997</td>\n",
       "      <td>224.000000</td>\n",
       "      <td>6.794584e+06</td>\n",
       "      <td>6.946800e+06</td>\n",
       "      <td>286.43</td>\n",
       "      <td>4.67</td>\n",
       "      <td>90.0</td>\n",
       "      <td>0.000000</td>\n",
       "      <td>100.000000</td>\n",
       "      <td>32.591344</td>\n",
       "      <td>40.751928</td>\n",
       "      <td>26.656717</td>\n",
       "      <td>0.0</td>\n",
       "      <td>1.0</td>\n",
       "      <td>0.0</td>\n",
       "      <td>0.0</td>\n",
       "      <td>0.0</td>\n",
       "      <td>0.0</td>\n",
       "      <td>0.0</td>\n",
       "      <td>0.0</td>\n",
       "      <td>0.0</td>\n",
       "      <td>0.0</td>\n",
       "      <td>0.0</td>\n",
       "      <td>0.0</td>\n",
       "      <td>0.0</td>\n",
       "      <td>0.0</td>\n",
       "      <td>0.0</td>\n",
       "      <td>0.0</td>\n",
       "      <td>0.0</td>\n",
       "      <td>0.0</td>\n",
       "      <td>0.0</td>\n",
       "      <td>0.0</td>\n",
       "      <td>1.0</td>\n",
       "    </tr>\n",
       "    <tr>\n",
       "      <th>8</th>\n",
       "      <td>1.0</td>\n",
       "      <td>18.0</td>\n",
       "      <td>175580.0</td>\n",
       "      <td>123445.0</td>\n",
       "      <td>75.0</td>\n",
       "      <td>0.0</td>\n",
       "      <td>114.800003</td>\n",
       "      <td>118.699997</td>\n",
       "      <td>211.399994</td>\n",
       "      <td>215.600006</td>\n",
       "      <td>1.417261e+07</td>\n",
       "      <td>1.465650e+07</td>\n",
       "      <td>505.01</td>\n",
       "      <td>2.88</td>\n",
       "      <td>36.0</td>\n",
       "      <td>35.311539</td>\n",
       "      <td>64.688461</td>\n",
       "      <td>0.000000</td>\n",
       "      <td>37.880168</td>\n",
       "      <td>62.119825</td>\n",
       "      <td>0.0</td>\n",
       "      <td>1.0</td>\n",
       "      <td>0.0</td>\n",
       "      <td>0.0</td>\n",
       "      <td>0.0</td>\n",
       "      <td>0.0</td>\n",
       "      <td>0.0</td>\n",
       "      <td>0.0</td>\n",
       "      <td>0.0</td>\n",
       "      <td>0.0</td>\n",
       "      <td>0.0</td>\n",
       "      <td>0.0</td>\n",
       "      <td>0.0</td>\n",
       "      <td>0.0</td>\n",
       "      <td>0.0</td>\n",
       "      <td>0.0</td>\n",
       "      <td>0.0</td>\n",
       "      <td>0.0</td>\n",
       "      <td>0.0</td>\n",
       "      <td>0.0</td>\n",
       "      <td>1.0</td>\n",
       "    </tr>\n",
       "    <tr>\n",
       "      <th>...</th>\n",
       "      <td>...</td>\n",
       "      <td>...</td>\n",
       "      <td>...</td>\n",
       "      <td>...</td>\n",
       "      <td>...</td>\n",
       "      <td>...</td>\n",
       "      <td>...</td>\n",
       "      <td>...</td>\n",
       "      <td>...</td>\n",
       "      <td>...</td>\n",
       "      <td>...</td>\n",
       "      <td>...</td>\n",
       "      <td>...</td>\n",
       "      <td>...</td>\n",
       "      <td>...</td>\n",
       "      <td>...</td>\n",
       "      <td>...</td>\n",
       "      <td>...</td>\n",
       "      <td>...</td>\n",
       "      <td>...</td>\n",
       "      <td>...</td>\n",
       "      <td>...</td>\n",
       "      <td>...</td>\n",
       "      <td>...</td>\n",
       "      <td>...</td>\n",
       "      <td>...</td>\n",
       "      <td>...</td>\n",
       "      <td>...</td>\n",
       "      <td>...</td>\n",
       "      <td>...</td>\n",
       "      <td>...</td>\n",
       "      <td>...</td>\n",
       "      <td>...</td>\n",
       "      <td>...</td>\n",
       "      <td>...</td>\n",
       "      <td>...</td>\n",
       "      <td>...</td>\n",
       "      <td>...</td>\n",
       "      <td>...</td>\n",
       "      <td>...</td>\n",
       "      <td>...</td>\n",
       "    </tr>\n",
       "    <tr>\n",
       "      <th>50222</th>\n",
       "      <td>1.0</td>\n",
       "      <td>1.0</td>\n",
       "      <td>12294.0</td>\n",
       "      <td>12294.0</td>\n",
       "      <td>46.0</td>\n",
       "      <td>0.0</td>\n",
       "      <td>69.099998</td>\n",
       "      <td>76.699997</td>\n",
       "      <td>161.699997</td>\n",
       "      <td>176.100006</td>\n",
       "      <td>8.497457e+05</td>\n",
       "      <td>9.430032e+05</td>\n",
       "      <td>20.94</td>\n",
       "      <td>1.70</td>\n",
       "      <td>26.0</td>\n",
       "      <td>0.000000</td>\n",
       "      <td>100.000000</td>\n",
       "      <td>0.000000</td>\n",
       "      <td>61.697384</td>\n",
       "      <td>38.302639</td>\n",
       "      <td>0.0</td>\n",
       "      <td>0.0</td>\n",
       "      <td>0.0</td>\n",
       "      <td>0.0</td>\n",
       "      <td>0.0</td>\n",
       "      <td>0.0</td>\n",
       "      <td>1.0</td>\n",
       "      <td>0.0</td>\n",
       "      <td>0.0</td>\n",
       "      <td>0.0</td>\n",
       "      <td>0.0</td>\n",
       "      <td>0.0</td>\n",
       "      <td>0.0</td>\n",
       "      <td>0.0</td>\n",
       "      <td>0.0</td>\n",
       "      <td>1.0</td>\n",
       "      <td>0.0</td>\n",
       "      <td>0.0</td>\n",
       "      <td>0.0</td>\n",
       "      <td>0.0</td>\n",
       "      <td>0.0</td>\n",
       "    </tr>\n",
       "    <tr>\n",
       "      <th>50223</th>\n",
       "      <td>1.0</td>\n",
       "      <td>1.0</td>\n",
       "      <td>16000.0</td>\n",
       "      <td>16000.0</td>\n",
       "      <td>0.0</td>\n",
       "      <td>1.0</td>\n",
       "      <td>59.400002</td>\n",
       "      <td>65.900002</td>\n",
       "      <td>114.199997</td>\n",
       "      <td>118.900002</td>\n",
       "      <td>9.502762e+05</td>\n",
       "      <td>1.053706e+06</td>\n",
       "      <td>32.17</td>\n",
       "      <td>2.01</td>\n",
       "      <td>12.0</td>\n",
       "      <td>0.000000</td>\n",
       "      <td>100.000000</td>\n",
       "      <td>0.000000</td>\n",
       "      <td>41.729558</td>\n",
       "      <td>58.270426</td>\n",
       "      <td>0.0</td>\n",
       "      <td>0.0</td>\n",
       "      <td>0.0</td>\n",
       "      <td>0.0</td>\n",
       "      <td>0.0</td>\n",
       "      <td>0.0</td>\n",
       "      <td>1.0</td>\n",
       "      <td>0.0</td>\n",
       "      <td>0.0</td>\n",
       "      <td>0.0</td>\n",
       "      <td>0.0</td>\n",
       "      <td>0.0</td>\n",
       "      <td>0.0</td>\n",
       "      <td>0.0</td>\n",
       "      <td>0.0</td>\n",
       "      <td>1.0</td>\n",
       "      <td>0.0</td>\n",
       "      <td>0.0</td>\n",
       "      <td>0.0</td>\n",
       "      <td>0.0</td>\n",
       "      <td>0.0</td>\n",
       "    </tr>\n",
       "    <tr>\n",
       "      <th>50224</th>\n",
       "      <td>1.0</td>\n",
       "      <td>1.0</td>\n",
       "      <td>13157.0</td>\n",
       "      <td>7583.0</td>\n",
       "      <td>0.0</td>\n",
       "      <td>1.0</td>\n",
       "      <td>438.200012</td>\n",
       "      <td>460.100006</td>\n",
       "      <td>744.799988</td>\n",
       "      <td>767.799988</td>\n",
       "      <td>5.765898e+06</td>\n",
       "      <td>6.053764e+06</td>\n",
       "      <td>223.54</td>\n",
       "      <td>16.99</td>\n",
       "      <td>42.0</td>\n",
       "      <td>0.000000</td>\n",
       "      <td>100.000000</td>\n",
       "      <td>0.000000</td>\n",
       "      <td>31.082041</td>\n",
       "      <td>68.917956</td>\n",
       "      <td>0.0</td>\n",
       "      <td>0.0</td>\n",
       "      <td>0.0</td>\n",
       "      <td>0.0</td>\n",
       "      <td>0.0</td>\n",
       "      <td>0.0</td>\n",
       "      <td>1.0</td>\n",
       "      <td>0.0</td>\n",
       "      <td>0.0</td>\n",
       "      <td>0.0</td>\n",
       "      <td>0.0</td>\n",
       "      <td>0.0</td>\n",
       "      <td>0.0</td>\n",
       "      <td>0.0</td>\n",
       "      <td>0.0</td>\n",
       "      <td>0.0</td>\n",
       "      <td>0.0</td>\n",
       "      <td>0.0</td>\n",
       "      <td>0.0</td>\n",
       "      <td>0.0</td>\n",
       "      <td>1.0</td>\n",
       "    </tr>\n",
       "    <tr>\n",
       "      <th>50225</th>\n",
       "      <td>1.0</td>\n",
       "      <td>1.0</td>\n",
       "      <td>14101.0</td>\n",
       "      <td>6601.0</td>\n",
       "      <td>0.0</td>\n",
       "      <td>1.0</td>\n",
       "      <td>51.000000</td>\n",
       "      <td>55.500000</td>\n",
       "      <td>105.300003</td>\n",
       "      <td>110.800003</td>\n",
       "      <td>7.194712e+05</td>\n",
       "      <td>7.828413e+05</td>\n",
       "      <td>22.11</td>\n",
       "      <td>1.57</td>\n",
       "      <td>27.0</td>\n",
       "      <td>0.000000</td>\n",
       "      <td>100.000000</td>\n",
       "      <td>0.000000</td>\n",
       "      <td>48.489805</td>\n",
       "      <td>51.510194</td>\n",
       "      <td>0.0</td>\n",
       "      <td>0.0</td>\n",
       "      <td>0.0</td>\n",
       "      <td>0.0</td>\n",
       "      <td>0.0</td>\n",
       "      <td>1.0</td>\n",
       "      <td>0.0</td>\n",
       "      <td>0.0</td>\n",
       "      <td>0.0</td>\n",
       "      <td>0.0</td>\n",
       "      <td>0.0</td>\n",
       "      <td>0.0</td>\n",
       "      <td>0.0</td>\n",
       "      <td>0.0</td>\n",
       "      <td>1.0</td>\n",
       "      <td>0.0</td>\n",
       "      <td>0.0</td>\n",
       "      <td>0.0</td>\n",
       "      <td>0.0</td>\n",
       "      <td>0.0</td>\n",
       "      <td>0.0</td>\n",
       "    </tr>\n",
       "    <tr>\n",
       "      <th>50226</th>\n",
       "      <td>1.0</td>\n",
       "      <td>1.0</td>\n",
       "      <td>18258.0</td>\n",
       "      <td>8271.0</td>\n",
       "      <td>0.0</td>\n",
       "      <td>1.0</td>\n",
       "      <td>63.099998</td>\n",
       "      <td>70.900002</td>\n",
       "      <td>115.800003</td>\n",
       "      <td>123.900002</td>\n",
       "      <td>1.152896e+06</td>\n",
       "      <td>1.293722e+06</td>\n",
       "      <td>41.27</td>\n",
       "      <td>2.26</td>\n",
       "      <td>78.0</td>\n",
       "      <td>0.000000</td>\n",
       "      <td>100.000000</td>\n",
       "      <td>0.000000</td>\n",
       "      <td>37.518922</td>\n",
       "      <td>62.481077</td>\n",
       "      <td>0.0</td>\n",
       "      <td>0.0</td>\n",
       "      <td>0.0</td>\n",
       "      <td>0.0</td>\n",
       "      <td>0.0</td>\n",
       "      <td>1.0</td>\n",
       "      <td>0.0</td>\n",
       "      <td>0.0</td>\n",
       "      <td>0.0</td>\n",
       "      <td>0.0</td>\n",
       "      <td>0.0</td>\n",
       "      <td>0.0</td>\n",
       "      <td>0.0</td>\n",
       "      <td>0.0</td>\n",
       "      <td>0.0</td>\n",
       "      <td>1.0</td>\n",
       "      <td>0.0</td>\n",
       "      <td>0.0</td>\n",
       "      <td>0.0</td>\n",
       "      <td>0.0</td>\n",
       "      <td>0.0</td>\n",
       "    </tr>\n",
       "  </tbody>\n",
       "</table>\n",
       "<p>1648 rows × 41 columns</p>\n",
       "</div>"
      ],
      "text/plain": [
       "               NumberofBuildings  NumberofFloors  PropertyGFATotal  \\\n",
       "OSEBuildingID                                                        \n",
       "1                            1.0            12.0           88434.0   \n",
       "2                            1.0            11.0          103566.0   \n",
       "3                            1.0            41.0          956110.0   \n",
       "5                            1.0            10.0           61320.0   \n",
       "8                            1.0            18.0          175580.0   \n",
       "...                          ...             ...               ...   \n",
       "50222                        1.0             1.0           12294.0   \n",
       "50223                        1.0             1.0           16000.0   \n",
       "50224                        1.0             1.0           13157.0   \n",
       "50225                        1.0             1.0           14101.0   \n",
       "50226                        1.0             1.0           18258.0   \n",
       "\n",
       "               LargestPropertyUseTypeGFA  ENERGYSTARScore  EnergyStarNaN  \\\n",
       "OSEBuildingID                                                              \n",
       "1                                88434.0             60.0            0.0   \n",
       "2                                83880.0             61.0            0.0   \n",
       "3                               756493.0             43.0            0.0   \n",
       "5                                61320.0             56.0            0.0   \n",
       "8                               123445.0             75.0            0.0   \n",
       "...                                  ...              ...            ...   \n",
       "50222                            12294.0             46.0            0.0   \n",
       "50223                            16000.0              0.0            1.0   \n",
       "50224                             7583.0              0.0            1.0   \n",
       "50225                             6601.0              0.0            1.0   \n",
       "50226                             8271.0              0.0            1.0   \n",
       "\n",
       "               SiteEUI(kBtu/sf)  SiteEUIWN(kBtu/sf)  SourceEUI(kBtu/sf)  \\\n",
       "OSEBuildingID                                                             \n",
       "1                     81.699997           84.300003          182.500000   \n",
       "2                     94.800003           97.900002          176.100006   \n",
       "3                     96.000000           97.699997          241.899994   \n",
       "5                    110.800003          113.300003          216.199997   \n",
       "8                    114.800003          118.699997          211.399994   \n",
       "...                         ...                 ...                 ...   \n",
       "50222                 69.099998           76.699997          161.699997   \n",
       "50223                 59.400002           65.900002          114.199997   \n",
       "50224                438.200012          460.100006          744.799988   \n",
       "50225                 51.000000           55.500000          105.300003   \n",
       "50226                 63.099998           70.900002          115.800003   \n",
       "\n",
       "               SourceEUIWN(kBtu/sf)  SiteEnergyUse(kBtu)  \\\n",
       "OSEBuildingID                                              \n",
       "1                        189.000000         7.226362e+06   \n",
       "2                        179.399994         8.387933e+06   \n",
       "3                        244.100006         7.258702e+07   \n",
       "5                        224.000000         6.794584e+06   \n",
       "8                        215.600006         1.417261e+07   \n",
       "...                             ...                  ...   \n",
       "50222                    176.100006         8.497457e+05   \n",
       "50223                    118.900002         9.502762e+05   \n",
       "50224                    767.799988         5.765898e+06   \n",
       "50225                    110.800003         7.194712e+05   \n",
       "50226                    123.900002         1.152896e+06   \n",
       "\n",
       "               SiteEnergyUseWN(kBtu)  TotalGHGEmissions  \\\n",
       "OSEBuildingID                                             \n",
       "1                       7.456910e+06             249.98   \n",
       "2                       8.664479e+06             295.86   \n",
       "3                       7.393711e+07            2089.28   \n",
       "5                       6.946800e+06             286.43   \n",
       "8                       1.465650e+07             505.01   \n",
       "...                              ...                ...   \n",
       "50222                   9.430032e+05              20.94   \n",
       "50223                   1.053706e+06              32.17   \n",
       "50224                   6.053764e+06             223.54   \n",
       "50225                   7.828413e+05              22.11   \n",
       "50226                   1.293722e+06              41.27   \n",
       "\n",
       "               GHGEmissionsIntensity   Age  PropertyGFAParking(%)  \\\n",
       "OSEBuildingID                                                       \n",
       "1                               2.83  89.0               0.000000   \n",
       "2                               2.86  20.0              14.545314   \n",
       "3                               2.19  47.0              20.574829   \n",
       "5                               4.67  90.0               0.000000   \n",
       "8                               2.88  36.0              35.311539   \n",
       "...                              ...   ...                    ...   \n",
       "50222                           1.70  26.0               0.000000   \n",
       "50223                           2.01  12.0               0.000000   \n",
       "50224                          16.99  42.0               0.000000   \n",
       "50225                           1.57  27.0               0.000000   \n",
       "50226                           2.26  78.0               0.000000   \n",
       "\n",
       "               PropertyGFABuilding(s)(%)  SteamUse(%)  Electricity(%)  \\\n",
       "OSEBuildingID                                                           \n",
       "1                             100.000000    27.730162       54.605993   \n",
       "2                              85.454686     0.000000       38.660907   \n",
       "3                              79.425171    29.711308       68.230741   \n",
       "5                             100.000000    32.591344       40.751928   \n",
       "8                              64.688461     0.000000       37.880168   \n",
       "...                                  ...          ...             ...   \n",
       "50222                         100.000000     0.000000       61.697384   \n",
       "50223                         100.000000     0.000000       41.729558   \n",
       "50224                         100.000000     0.000000       31.082041   \n",
       "50225                         100.000000     0.000000       48.489805   \n",
       "50226                         100.000000     0.000000       37.518922   \n",
       "\n",
       "               NaturalGas(%)  PrimaryPropertyType_Distribution Center  \\\n",
       "OSEBuildingID                                                           \n",
       "1                  17.663838                                      0.0   \n",
       "2                  61.339093                                      0.0   \n",
       "3                   2.057944                                      0.0   \n",
       "5                  26.656717                                      0.0   \n",
       "8                  62.119825                                      0.0   \n",
       "...                      ...                                      ...   \n",
       "50222              38.302639                                      0.0   \n",
       "50223              58.270426                                      0.0   \n",
       "50224              68.917956                                      0.0   \n",
       "50225              51.510194                                      0.0   \n",
       "50226              62.481077                                      0.0   \n",
       "\n",
       "               PrimaryPropertyType_Hotel  PrimaryPropertyType_K-12 School  \\\n",
       "OSEBuildingID                                                               \n",
       "1                                    1.0                              0.0   \n",
       "2                                    1.0                              0.0   \n",
       "3                                    1.0                              0.0   \n",
       "5                                    1.0                              0.0   \n",
       "8                                    1.0                              0.0   \n",
       "...                                  ...                              ...   \n",
       "50222                                0.0                              0.0   \n",
       "50223                                0.0                              0.0   \n",
       "50224                                0.0                              0.0   \n",
       "50225                                0.0                              0.0   \n",
       "50226                                0.0                              0.0   \n",
       "\n",
       "               PrimaryPropertyType_Large Office  \\\n",
       "OSEBuildingID                                     \n",
       "1                                           0.0   \n",
       "2                                           0.0   \n",
       "3                                           0.0   \n",
       "5                                           0.0   \n",
       "8                                           0.0   \n",
       "...                                         ...   \n",
       "50222                                       0.0   \n",
       "50223                                       0.0   \n",
       "50224                                       0.0   \n",
       "50225                                       0.0   \n",
       "50226                                       0.0   \n",
       "\n",
       "               PrimaryPropertyType_Medical Office  \\\n",
       "OSEBuildingID                                       \n",
       "1                                             0.0   \n",
       "2                                             0.0   \n",
       "3                                             0.0   \n",
       "5                                             0.0   \n",
       "8                                             0.0   \n",
       "...                                           ...   \n",
       "50222                                         0.0   \n",
       "50223                                         0.0   \n",
       "50224                                         0.0   \n",
       "50225                                         0.0   \n",
       "50226                                         0.0   \n",
       "\n",
       "               PrimaryPropertyType_Mixed Use Property  \\\n",
       "OSEBuildingID                                           \n",
       "1                                                 0.0   \n",
       "2                                                 0.0   \n",
       "3                                                 0.0   \n",
       "5                                                 0.0   \n",
       "8                                                 0.0   \n",
       "...                                               ...   \n",
       "50222                                             0.0   \n",
       "50223                                             0.0   \n",
       "50224                                             0.0   \n",
       "50225                                             1.0   \n",
       "50226                                             1.0   \n",
       "\n",
       "               PrimaryPropertyType_Other  PrimaryPropertyType_Retail Store  \\\n",
       "OSEBuildingID                                                                \n",
       "1                                    0.0                               0.0   \n",
       "2                                    0.0                               0.0   \n",
       "3                                    0.0                               0.0   \n",
       "5                                    0.0                               0.0   \n",
       "8                                    0.0                               0.0   \n",
       "...                                  ...                               ...   \n",
       "50222                                1.0                               0.0   \n",
       "50223                                1.0                               0.0   \n",
       "50224                                1.0                               0.0   \n",
       "50225                                0.0                               0.0   \n",
       "50226                                0.0                               0.0   \n",
       "\n",
       "               PrimaryPropertyType_Self-Storage Facility  \\\n",
       "OSEBuildingID                                              \n",
       "1                                                    0.0   \n",
       "2                                                    0.0   \n",
       "3                                                    0.0   \n",
       "5                                                    0.0   \n",
       "8                                                    0.0   \n",
       "...                                                  ...   \n",
       "50222                                                0.0   \n",
       "50223                                                0.0   \n",
       "50224                                                0.0   \n",
       "50225                                                0.0   \n",
       "50226                                                0.0   \n",
       "\n",
       "               PrimaryPropertyType_Small- and Mid-Sized Office  \\\n",
       "OSEBuildingID                                                    \n",
       "1                                                          0.0   \n",
       "2                                                          0.0   \n",
       "3                                                          0.0   \n",
       "5                                                          0.0   \n",
       "8                                                          0.0   \n",
       "...                                                        ...   \n",
       "50222                                                      0.0   \n",
       "50223                                                      0.0   \n",
       "50224                                                      0.0   \n",
       "50225                                                      0.0   \n",
       "50226                                                      0.0   \n",
       "\n",
       "               PrimaryPropertyType_Supermarket / Grocery Store  \\\n",
       "OSEBuildingID                                                    \n",
       "1                                                          0.0   \n",
       "2                                                          0.0   \n",
       "3                                                          0.0   \n",
       "5                                                          0.0   \n",
       "8                                                          0.0   \n",
       "...                                                        ...   \n",
       "50222                                                      0.0   \n",
       "50223                                                      0.0   \n",
       "50224                                                      0.0   \n",
       "50225                                                      0.0   \n",
       "50226                                                      0.0   \n",
       "\n",
       "               PrimaryPropertyType_University  PrimaryPropertyType_Warehouse  \\\n",
       "OSEBuildingID                                                                  \n",
       "1                                         0.0                            0.0   \n",
       "2                                         0.0                            0.0   \n",
       "3                                         0.0                            0.0   \n",
       "5                                         0.0                            0.0   \n",
       "8                                         0.0                            0.0   \n",
       "...                                       ...                            ...   \n",
       "50222                                     0.0                            0.0   \n",
       "50223                                     0.0                            0.0   \n",
       "50224                                     0.0                            0.0   \n",
       "50225                                     0.0                            0.0   \n",
       "50226                                     0.0                            0.0   \n",
       "\n",
       "               PrimaryPropertyType_Worship Facility  CouncilDistrictCode_1  \\\n",
       "OSEBuildingID                                                                \n",
       "1                                               0.0                    0.0   \n",
       "2                                               0.0                    0.0   \n",
       "3                                               0.0                    0.0   \n",
       "5                                               0.0                    0.0   \n",
       "8                                               0.0                    0.0   \n",
       "...                                             ...                    ...   \n",
       "50222                                           0.0                    0.0   \n",
       "50223                                           0.0                    0.0   \n",
       "50224                                           0.0                    0.0   \n",
       "50225                                           0.0                    1.0   \n",
       "50226                                           0.0                    0.0   \n",
       "\n",
       "               CouncilDistrictCode_2  CouncilDistrictCode_3  \\\n",
       "OSEBuildingID                                                 \n",
       "1                                0.0                    0.0   \n",
       "2                                0.0                    0.0   \n",
       "3                                0.0                    0.0   \n",
       "5                                0.0                    0.0   \n",
       "8                                0.0                    0.0   \n",
       "...                              ...                    ...   \n",
       "50222                            1.0                    0.0   \n",
       "50223                            1.0                    0.0   \n",
       "50224                            0.0                    0.0   \n",
       "50225                            0.0                    0.0   \n",
       "50226                            1.0                    0.0   \n",
       "\n",
       "               CouncilDistrictCode_4  CouncilDistrictCode_5  \\\n",
       "OSEBuildingID                                                 \n",
       "1                                0.0                    0.0   \n",
       "2                                0.0                    0.0   \n",
       "3                                0.0                    0.0   \n",
       "5                                0.0                    0.0   \n",
       "8                                0.0                    0.0   \n",
       "...                              ...                    ...   \n",
       "50222                            0.0                    0.0   \n",
       "50223                            0.0                    0.0   \n",
       "50224                            0.0                    0.0   \n",
       "50225                            0.0                    0.0   \n",
       "50226                            0.0                    0.0   \n",
       "\n",
       "               CouncilDistrictCode_6  CouncilDistrictCode_7  \n",
       "OSEBuildingID                                                \n",
       "1                                0.0                    1.0  \n",
       "2                                0.0                    1.0  \n",
       "3                                0.0                    1.0  \n",
       "5                                0.0                    1.0  \n",
       "8                                0.0                    1.0  \n",
       "...                              ...                    ...  \n",
       "50222                            0.0                    0.0  \n",
       "50223                            0.0                    0.0  \n",
       "50224                            0.0                    1.0  \n",
       "50225                            0.0                    0.0  \n",
       "50226                            0.0                    0.0  \n",
       "\n",
       "[1648 rows x 41 columns]"
      ]
     },
     "execution_count": 4,
     "metadata": {},
     "output_type": "execute_result"
    }
   ],
   "source": [
    "data"
   ]
  },
  {
   "cell_type": "code",
   "execution_count": 5,
   "id": "71e37d75",
   "metadata": {},
   "outputs": [
    {
     "data": {
      "text/plain": [
       "(1648, 41)"
      ]
     },
     "execution_count": 5,
     "metadata": {},
     "output_type": "execute_result"
    }
   ],
   "source": [
    "data.shape"
   ]
  },
  {
   "cell_type": "code",
   "execution_count": 6,
   "id": "9b34b239",
   "metadata": {},
   "outputs": [
    {
     "data": {
      "text/plain": [
       "'data =data[~data.isin([np.nan, np.inf, -np.inf]).any(1)]'"
      ]
     },
     "execution_count": 6,
     "metadata": {},
     "output_type": "execute_result"
    }
   ],
   "source": [
    "\"\"\"data =data[~data.isin([np.nan, np.inf, -np.inf]).any(1)]\"\"\""
   ]
  },
  {
   "cell_type": "code",
   "execution_count": 7,
   "id": "798a1f5a",
   "metadata": {},
   "outputs": [],
   "source": [
    "X = data[['Age','NumberofBuildings','NumberofFloors','PropertyGFATotal','PropertyGFAParking(%)',\n",
    "        'PropertyGFABuilding(s)(%)','LargestPropertyUseTypeGFA','ENERGYSTARScore','EnergyStarNaN',\n",
    "        'PrimaryPropertyType_Distribution Center', 'PrimaryPropertyType_Hotel',\n",
    "       'PrimaryPropertyType_K-12 School', \n",
    "       'PrimaryPropertyType_Large Office',\n",
    "       'PrimaryPropertyType_Medical Office',\n",
    "       'PrimaryPropertyType_Mixed Use Property',\n",
    "       'PrimaryPropertyType_Other',\n",
    "       'PrimaryPropertyType_Retail Store',\n",
    "       'PrimaryPropertyType_Self-Storage Facility',\n",
    "       'PrimaryPropertyType_Small- and Mid-Sized Office',\n",
    "       'PrimaryPropertyType_Supermarket / Grocery Store',\n",
    "       'PrimaryPropertyType_University', 'PrimaryPropertyType_Warehouse',\n",
    "       'PrimaryPropertyType_Worship Facility','CouncilDistrictCode_1',\n",
    "       'CouncilDistrictCode_2', 'CouncilDistrictCode_3',\n",
    "       'CouncilDistrictCode_4', 'CouncilDistrictCode_5',\n",
    "       'CouncilDistrictCode_6', 'CouncilDistrictCode_7']]\n",
    "\n",
    "\n",
    "y = data['TotalGHGEmissions']"
   ]
  },
  {
   "cell_type": "code",
   "execution_count": 8,
   "id": "b9bf7100",
   "metadata": {},
   "outputs": [
    {
     "data": {
      "text/plain": [
       "(1648, 30)"
      ]
     },
     "execution_count": 8,
     "metadata": {},
     "output_type": "execute_result"
    }
   ],
   "source": [
    "X.shape"
   ]
  },
  {
   "cell_type": "code",
   "execution_count": 9,
   "id": "63cc694d",
   "metadata": {},
   "outputs": [
    {
     "data": {
      "text/plain": [
       "OSEBuildingID\n",
       "1     249.98\n",
       "2     295.86\n",
       "3    2089.28\n",
       "5     286.43\n",
       "8     505.01\n",
       "Name: TotalGHGEmissions, dtype: float64"
      ]
     },
     "execution_count": 9,
     "metadata": {},
     "output_type": "execute_result"
    }
   ],
   "source": [
    "y.head()"
   ]
  },
  {
   "cell_type": "code",
   "execution_count": 10,
   "id": "fa77adaf",
   "metadata": {},
   "outputs": [],
   "source": [
    "std_scale = StandardScaler().fit(X)\n",
    "X_scale = std_scale.transform(X)\n",
    "X_train, X_test, y_train, y_test = train_test_split(X_scale, y, test_size=0.2, random_state=7)"
   ]
  },
  {
   "cell_type": "code",
   "execution_count": null,
   "id": "fed6fcc6",
   "metadata": {
    "scrolled": false
   },
   "outputs": [],
   "source": []
  },
  {
   "cell_type": "code",
   "execution_count": null,
   "id": "01e02a01",
   "metadata": {},
   "outputs": [],
   "source": []
  },
  {
   "cell_type": "code",
   "execution_count": null,
   "id": "ad509ddf",
   "metadata": {},
   "outputs": [],
   "source": []
  },
  {
   "cell_type": "code",
   "execution_count": null,
   "id": "413e9064",
   "metadata": {},
   "outputs": [],
   "source": []
  },
  {
   "cell_type": "code",
   "execution_count": null,
   "id": "3086a7de",
   "metadata": {},
   "outputs": [],
   "source": []
  },
  {
   "cell_type": "code",
   "execution_count": 11,
   "id": "2b56b165",
   "metadata": {},
   "outputs": [
    {
     "data": {
      "text/plain": [
       "968.2106104376774"
      ]
     },
     "execution_count": 11,
     "metadata": {},
     "output_type": "execute_result"
    }
   ],
   "source": [
    "dr = DummyRegressor(strategy=\"mean\")\n",
    "dr.fit(X_train, y_train)\n",
    "baseline_error = mean_squared_error(y_test, dr.predict(y_test), squared=False)\n",
    "baseline_error"
   ]
  },
  {
   "cell_type": "code",
   "execution_count": null,
   "id": "cf2ddf89",
   "metadata": {},
   "outputs": [],
   "source": []
  },
  {
   "cell_type": "code",
   "execution_count": null,
   "id": "880d0b8c",
   "metadata": {},
   "outputs": [],
   "source": []
  },
  {
   "cell_type": "code",
   "execution_count": null,
   "id": "6871d43c",
   "metadata": {},
   "outputs": [],
   "source": []
  },
  {
   "cell_type": "code",
   "execution_count": 12,
   "id": "c15c8cc4",
   "metadata": {},
   "outputs": [
    {
     "data": {
      "text/plain": [
       "850.0826763557524"
      ]
     },
     "execution_count": 12,
     "metadata": {},
     "output_type": "execute_result"
    }
   ],
   "source": [
    "lr = LinearRegression()\n",
    "lr.fit(X_train, y_train)\n",
    "lr_error = mean_squared_error(y_test, lr.predict(X_test), squared=False)\n",
    "lr_error"
   ]
  },
  {
   "cell_type": "code",
   "execution_count": null,
   "id": "4f2c0ef0",
   "metadata": {
    "scrolled": true
   },
   "outputs": [],
   "source": []
  },
  {
   "cell_type": "code",
   "execution_count": null,
   "id": "dbe11804",
   "metadata": {},
   "outputs": [],
   "source": []
  },
  {
   "cell_type": "code",
   "execution_count": null,
   "id": "68872d0a",
   "metadata": {},
   "outputs": [],
   "source": []
  },
  {
   "cell_type": "code",
   "execution_count": 13,
   "id": "161061bb",
   "metadata": {},
   "outputs": [],
   "source": [
    "n_alphas = 100\n",
    "alphas = np.logspace(-1, 7, n_alphas)\n",
    "\n",
    "ridge = Ridge()\n",
    "\n",
    "coefs = []\n",
    "errors = []\n",
    "for a in alphas:\n",
    "    ridge.set_params(alpha=a)\n",
    "    ridge.fit(X_train, y_train)\n",
    "    coefs.append(ridge.coef_)\n",
    "    errors.append([baseline_error, mean_squared_error(y_test, ridge.predict(X_test), squared=False)])"
   ]
  },
  {
   "cell_type": "code",
   "execution_count": 14,
   "id": "3855d126",
   "metadata": {},
   "outputs": [
    {
     "data": {
      "image/png": "[encoded data removed]",
      "text/plain": [
       "<Figure size 640x480 with 1 Axes>"
      ]
     },
     "metadata": {},
     "output_type": "display_data"
    }
   ],
   "source": [
    "ax = plt.gca()\n",
    "\n",
    "ax.plot(alphas, coefs)\n",
    "ax.set_xscale('log')\n",
    "plt.xlabel('alpha')\n",
    "plt.ylabel('weights')\n",
    "plt.title('Ridge coefficients as a function of the regularization')\n",
    "plt.axis('tight')\n",
    "plt.show()"
   ]
  },
  {
   "cell_type": "code",
   "execution_count": 15,
   "id": "6a9134dc",
   "metadata": {},
   "outputs": [
    {
     "data": {
      "image/png": "[encoded data removed]",
      "text/plain": [
       "<Figure size 640x480 with 1 Axes>"
      ]
     },
     "metadata": {},
     "output_type": "display_data"
    }
   ],
   "source": [
    "ax = plt.gca()\n",
    "\n",
    "ax.plot(alphas, errors)\n",
    "ax.set_xscale('log')\n",
    "plt.xlabel('alpha')\n",
    "plt.ylabel('error')\n",
    "plt.axis('tight')\n",
    "plt.show()"
   ]
  },
  {
   "cell_type": "code",
   "execution_count": 16,
   "id": "2af9e3b3",
   "metadata": {},
   "outputs": [
    {
     "data": {
      "text/plain": [
       "850.1049867455149"
      ]
     },
     "execution_count": 16,
     "metadata": {},
     "output_type": "execute_result"
    }
   ],
   "source": [
    "np.min(errors)"
   ]
  },
  {
   "cell_type": "code",
   "execution_count": 17,
   "id": "61d60f17",
   "metadata": {},
   "outputs": [
    {
     "data": {
      "text/plain": [
       "0"
      ]
     },
     "execution_count": 17,
     "metadata": {},
     "output_type": "execute_result"
    }
   ],
   "source": [
    "errors.index(min(errors))"
   ]
  },
  {
   "cell_type": "code",
   "execution_count": 18,
   "id": "ff617da4",
   "metadata": {},
   "outputs": [
    {
     "data": {
      "text/plain": [
       "[968.2106104376774, 850.1049867455149]"
      ]
     },
     "execution_count": 18,
     "metadata": {},
     "output_type": "execute_result"
    }
   ],
   "source": [
    "errors[errors.index(min(errors))]"
   ]
  },
  {
   "cell_type": "code",
   "execution_count": 19,
   "id": "db590c4c",
   "metadata": {},
   "outputs": [
    {
     "data": {
      "text/plain": [
       "0.1"
      ]
     },
     "execution_count": 19,
     "metadata": {},
     "output_type": "execute_result"
    }
   ],
   "source": [
    "alphas[errors.index(min(errors))]"
   ]
  },
  {
   "cell_type": "code",
   "execution_count": null,
   "id": "e3bb9f71",
   "metadata": {},
   "outputs": [],
   "source": []
  },
  {
   "cell_type": "code",
   "execution_count": 20,
   "id": "ee82293c",
   "metadata": {},
   "outputs": [
    {
     "data": {
      "text/html": [
       "<style>#sk-container-id-1 {color: black;background-color: white;}#sk-container-id-1 pre{padding: 0;}#sk-container-id-1 div.sk-toggleable {background-color: white;}#sk-container-id-1 label.sk-toggleable__label {cursor: pointer;display: block;width: 100%;margin-bottom: 0;padding: 0.3em;box-sizing: border-box;text-align: center;}#sk-container-id-1 label.sk-toggleable__label-arrow:before {content: \"▸\";float: left;margin-right: 0.25em;color: #696969;}#sk-container-id-1 label.sk-toggleable__label-arrow:hover:before {color: black;}#sk-container-id-1 div.sk-estimator:hover label.sk-toggleable__label-arrow:before {color: black;}#sk-container-id-1 div.sk-toggleable__content {max-height: 0;max-width: 0;overflow: hidden;text-align: left;background-color: #f0f8ff;}#sk-container-id-1 div.sk-toggleable__content pre {margin: 0.2em;color: black;border-radius: 0.25em;background-color: #f0f8ff;}#sk-container-id-1 input.sk-toggleable__control:checked~div.sk-toggleable__content {max-height: 200px;max-width: 100%;overflow: auto;}#sk-container-id-1 input.sk-toggleable__control:checked~label.sk-toggleable__label-arrow:before {content: \"▾\";}#sk-container-id-1 div.sk-estimator input.sk-toggleable__control:checked~label.sk-toggleable__label {background-color: #d4ebff;}#sk-container-id-1 div.sk-label input.sk-toggleable__control:checked~label.sk-toggleable__label {background-color: #d4ebff;}#sk-container-id-1 input.sk-hidden--visually {border: 0;clip: rect(1px 1px 1px 1px);clip: rect(1px, 1px, 1px, 1px);height: 1px;margin: -1px;overflow: hidden;padding: 0;position: absolute;width: 1px;}#sk-container-id-1 div.sk-estimator {font-family: monospace;background-color: #f0f8ff;border: 1px dotted black;border-radius: 0.25em;box-sizing: border-box;margin-bottom: 0.5em;}#sk-container-id-1 div.sk-estimator:hover {background-color: #d4ebff;}#sk-container-id-1 div.sk-parallel-item::after {content: \"\";width: 100%;border-bottom: 1px solid gray;flex-grow: 1;}#sk-container-id-1 div.sk-label:hover label.sk-toggleable__label {background-color: #d4ebff;}#sk-container-id-1 div.sk-serial::before {content: \"\";position: absolute;border-left: 1px solid gray;box-sizing: border-box;top: 0;bottom: 0;left: 50%;z-index: 0;}#sk-container-id-1 div.sk-serial {display: flex;flex-direction: column;align-items: center;background-color: white;padding-right: 0.2em;padding-left: 0.2em;position: relative;}#sk-container-id-1 div.sk-item {position: relative;z-index: 1;}#sk-container-id-1 div.sk-parallel {display: flex;align-items: stretch;justify-content: center;background-color: white;position: relative;}#sk-container-id-1 div.sk-item::before, #sk-container-id-1 div.sk-parallel-item::before {content: \"\";position: absolute;border-left: 1px solid gray;box-sizing: border-box;top: 0;bottom: 0;left: 50%;z-index: -1;}#sk-container-id-1 div.sk-parallel-item {display: flex;flex-direction: column;z-index: 1;position: relative;background-color: white;}#sk-container-id-1 div.sk-parallel-item:first-child::after {align-self: flex-end;width: 50%;}#sk-container-id-1 div.sk-parallel-item:last-child::after {align-self: flex-start;width: 50%;}#sk-container-id-1 div.sk-parallel-item:only-child::after {width: 0;}#sk-container-id-1 div.sk-dashed-wrapped {border: 1px dashed gray;margin: 0 0.4em 0.5em 0.4em;box-sizing: border-box;padding-bottom: 0.4em;background-color: white;}#sk-container-id-1 div.sk-label label {font-family: monospace;font-weight: bold;display: inline-block;line-height: 1.2em;}#sk-container-id-1 div.sk-label-container {text-align: center;}#sk-container-id-1 div.sk-container {/* jupyter's `normalize.less` sets `[hidden] { display: none; }` but bootstrap.min.css set `[hidden] { display: none !important; }` so we also need the `!important` here to be able to override the default hidden behavior on the sphinx rendered scikit-learn.org. See: https://github.com/scikit-learn/scikit-learn/issues/21755 */display: inline-block !important;position: relative;}#sk-container-id-1 div.sk-text-repr-fallback {display: none;}</style><div id=\"sk-container-id-1\" class=\"sk-top-container\"><div class=\"sk-text-repr-fallback\"><pre>Ridge(alpha=0.1)</pre><b>In a Jupyter environment, please rerun this cell to show the HTML representation or trust the notebook. <br />On GitHub, the HTML representation is unable to render, please try loading this page with nbviewer.org.</b></div><div class=\"sk-container\" hidden><div class=\"sk-item\"><div class=\"sk-estimator sk-toggleable\"><input class=\"sk-toggleable__control sk-hidden--visually\" id=\"sk-estimator-id-1\" type=\"checkbox\" checked><label for=\"sk-estimator-id-1\" class=\"sk-toggleable__label sk-toggleable__label-arrow\">Ridge</label><div class=\"sk-toggleable__content\"><pre>Ridge(alpha=0.1)</pre></div></div></div></div></div>"
      ],
      "text/plain": [
       "Ridge(alpha=0.1)"
      ]
     },
     "execution_count": 20,
     "metadata": {},
     "output_type": "execute_result"
    }
   ],
   "source": [
    "ridge.set_params(alpha = alphas[errors.index(min(errors))])\n",
    "ridge.fit(X_train, y_train)"
   ]
  },
  {
   "cell_type": "code",
   "execution_count": 21,
   "id": "e18424b2",
   "metadata": {},
   "outputs": [
    {
     "data": {
      "text/plain": [
       "850.1049867455149"
      ]
     },
     "execution_count": 21,
     "metadata": {},
     "output_type": "execute_result"
    }
   ],
   "source": [
    "mean_squared_error(y_test, ridge.predict(X_test), squared=False)"
   ]
  },
  {
   "cell_type": "code",
   "execution_count": null,
   "id": "783fb6aa",
   "metadata": {},
   "outputs": [],
   "source": []
  },
  {
   "cell_type": "code",
   "execution_count": null,
   "id": "590b92d5",
   "metadata": {},
   "outputs": [],
   "source": []
  },
  {
   "cell_type": "code",
   "execution_count": 22,
   "id": "2eba64bb",
   "metadata": {},
   "outputs": [],
   "source": [
    "n_alphas = 100\n",
    "alphas = np.logspace(-1, 4, n_alphas)\n",
    "lasso = Lasso(fit_intercept=False)\n",
    "\n",
    "coefs = []\n",
    "errors = []\n",
    "for a in alphas:\n",
    "    lasso.set_params(alpha=a)\n",
    "    lasso.fit(X_train, y_train)\n",
    "    coefs.append(lasso.coef_)\n",
    "    errors.append([baseline_error, np.mean((lasso.predict(X_test) - y_test) ** 2)])"
   ]
  },
  {
   "cell_type": "code",
   "execution_count": 23,
   "id": "f07f4239",
   "metadata": {},
   "outputs": [
    {
     "data": {
      "image/png": "[encoded data removed]",
      "text/plain": [
       "<Figure size 640x480 with 1 Axes>"
      ]
     },
     "metadata": {},
     "output_type": "display_data"
    }
   ],
   "source": [
    "ax = plt.gca()\n",
    "\n",
    "ax.plot(alphas, coefs)\n",
    "ax.set_xscale('log')\n",
    "plt.xlabel('alpha')\n",
    "plt.ylabel('weights')\n",
    "plt.axis('tight')\n",
    "plt.show()"
   ]
  },
  {
   "cell_type": "code",
   "execution_count": 24,
   "id": "e490b2b1",
   "metadata": {},
   "outputs": [
    {
     "data": {
      "image/png": "[encoded data removed]",
      "text/plain": [
       "<Figure size 640x480 with 1 Axes>"
      ]
     },
     "metadata": {},
     "output_type": "display_data"
    }
   ],
   "source": [
    "ax = plt.gca()\n",
    "\n",
    "ax.plot(alphas, errors)\n",
    "ax.set_xscale('log')\n",
    "plt.xlabel('alpha')\n",
    "plt.ylabel('error')\n",
    "plt.axis('tight')\n",
    "plt.show()"
   ]
  },
  {
   "cell_type": "code",
   "execution_count": 25,
   "id": "553a3268",
   "metadata": {},
   "outputs": [
    {
     "data": {
      "text/plain": [
       "968.2106104376774"
      ]
     },
     "execution_count": 25,
     "metadata": {},
     "output_type": "execute_result"
    }
   ],
   "source": [
    "np.min(errors)"
   ]
  },
  {
   "cell_type": "code",
   "execution_count": 26,
   "id": "b9f2576b",
   "metadata": {},
   "outputs": [
    {
     "data": {
      "text/plain": [
       "0"
      ]
     },
     "execution_count": 26,
     "metadata": {},
     "output_type": "execute_result"
    }
   ],
   "source": [
    "errors.index(min(errors))"
   ]
  },
  {
   "cell_type": "code",
   "execution_count": 27,
   "id": "d4842025",
   "metadata": {},
   "outputs": [
    {
     "data": {
      "text/plain": [
       "0.1"
      ]
     },
     "execution_count": 27,
     "metadata": {},
     "output_type": "execute_result"
    }
   ],
   "source": [
    "alphas[errors.index(min(errors))]"
   ]
  },
  {
   "cell_type": "code",
   "execution_count": 28,
   "id": "3cd2bcde",
   "metadata": {},
   "outputs": [
    {
     "data": {
      "text/html": [
       "<style>#sk-container-id-2 {color: black;background-color: white;}#sk-container-id-2 pre{padding: 0;}#sk-container-id-2 div.sk-toggleable {background-color: white;}#sk-container-id-2 label.sk-toggleable__label {cursor: pointer;display: block;width: 100%;margin-bottom: 0;padding: 0.3em;box-sizing: border-box;text-align: center;}#sk-container-id-2 label.sk-toggleable__label-arrow:before {content: \"▸\";float: left;margin-right: 0.25em;color: #696969;}#sk-container-id-2 label.sk-toggleable__label-arrow:hover:before {color: black;}#sk-container-id-2 div.sk-estimator:hover label.sk-toggleable__label-arrow:before {color: black;}#sk-container-id-2 div.sk-toggleable__content {max-height: 0;max-width: 0;overflow: hidden;text-align: left;background-color: #f0f8ff;}#sk-container-id-2 div.sk-toggleable__content pre {margin: 0.2em;color: black;border-radius: 0.25em;background-color: #f0f8ff;}#sk-container-id-2 input.sk-toggleable__control:checked~div.sk-toggleable__content {max-height: 200px;max-width: 100%;overflow: auto;}#sk-container-id-2 input.sk-toggleable__control:checked~label.sk-toggleable__label-arrow:before {content: \"▾\";}#sk-container-id-2 div.sk-estimator input.sk-toggleable__control:checked~label.sk-toggleable__label {background-color: #d4ebff;}#sk-container-id-2 div.sk-label input.sk-toggleable__control:checked~label.sk-toggleable__label {background-color: #d4ebff;}#sk-container-id-2 input.sk-hidden--visually {border: 0;clip: rect(1px 1px 1px 1px);clip: rect(1px, 1px, 1px, 1px);height: 1px;margin: -1px;overflow: hidden;padding: 0;position: absolute;width: 1px;}#sk-container-id-2 div.sk-estimator {font-family: monospace;background-color: #f0f8ff;border: 1px dotted black;border-radius: 0.25em;box-sizing: border-box;margin-bottom: 0.5em;}#sk-container-id-2 div.sk-estimator:hover {background-color: #d4ebff;}#sk-container-id-2 div.sk-parallel-item::after {content: \"\";width: 100%;border-bottom: 1px solid gray;flex-grow: 1;}#sk-container-id-2 div.sk-label:hover label.sk-toggleable__label {background-color: #d4ebff;}#sk-container-id-2 div.sk-serial::before {content: \"\";position: absolute;border-left: 1px solid gray;box-sizing: border-box;top: 0;bottom: 0;left: 50%;z-index: 0;}#sk-container-id-2 div.sk-serial {display: flex;flex-direction: column;align-items: center;background-color: white;padding-right: 0.2em;padding-left: 0.2em;position: relative;}#sk-container-id-2 div.sk-item {position: relative;z-index: 1;}#sk-container-id-2 div.sk-parallel {display: flex;align-items: stretch;justify-content: center;background-color: white;position: relative;}#sk-container-id-2 div.sk-item::before, #sk-container-id-2 div.sk-parallel-item::before {content: \"\";position: absolute;border-left: 1px solid gray;box-sizing: border-box;top: 0;bottom: 0;left: 50%;z-index: -1;}#sk-container-id-2 div.sk-parallel-item {display: flex;flex-direction: column;z-index: 1;position: relative;background-color: white;}#sk-container-id-2 div.sk-parallel-item:first-child::after {align-self: flex-end;width: 50%;}#sk-container-id-2 div.sk-parallel-item:last-child::after {align-self: flex-start;width: 50%;}#sk-container-id-2 div.sk-parallel-item:only-child::after {width: 0;}#sk-container-id-2 div.sk-dashed-wrapped {border: 1px dashed gray;margin: 0 0.4em 0.5em 0.4em;box-sizing: border-box;padding-bottom: 0.4em;background-color: white;}#sk-container-id-2 div.sk-label label {font-family: monospace;font-weight: bold;display: inline-block;line-height: 1.2em;}#sk-container-id-2 div.sk-label-container {text-align: center;}#sk-container-id-2 div.sk-container {/* jupyter's `normalize.less` sets `[hidden] { display: none; }` but bootstrap.min.css set `[hidden] { display: none !important; }` so we also need the `!important` here to be able to override the default hidden behavior on the sphinx rendered scikit-learn.org. See: https://github.com/scikit-learn/scikit-learn/issues/21755 */display: inline-block !important;position: relative;}#sk-container-id-2 div.sk-text-repr-fallback {display: none;}</style><div id=\"sk-container-id-2\" class=\"sk-top-container\"><div class=\"sk-text-repr-fallback\"><pre>Lasso(alpha=0.1, fit_intercept=False)</pre><b>In a Jupyter environment, please rerun this cell to show the HTML representation or trust the notebook. <br />On GitHub, the HTML representation is unable to render, please try loading this page with nbviewer.org.</b></div><div class=\"sk-container\" hidden><div class=\"sk-item\"><div class=\"sk-estimator sk-toggleable\"><input class=\"sk-toggleable__control sk-hidden--visually\" id=\"sk-estimator-id-2\" type=\"checkbox\" checked><label for=\"sk-estimator-id-2\" class=\"sk-toggleable__label sk-toggleable__label-arrow\">Lasso</label><div class=\"sk-toggleable__content\"><pre>Lasso(alpha=0.1, fit_intercept=False)</pre></div></div></div></div></div>"
      ],
      "text/plain": [
       "Lasso(alpha=0.1, fit_intercept=False)"
      ]
     },
     "execution_count": 28,
     "metadata": {},
     "output_type": "execute_result"
    }
   ],
   "source": [
    "lasso.set_params(alpha = alphas[errors.index(min(errors))])\n",
    "lasso.fit(X_train, y_train)"
   ]
  },
  {
   "cell_type": "code",
   "execution_count": 29,
   "id": "4ed5ee40",
   "metadata": {},
   "outputs": [
    {
     "data": {
      "text/plain": [
       "876.6981474251965"
      ]
     },
     "execution_count": 29,
     "metadata": {},
     "output_type": "execute_result"
    }
   ],
   "source": [
    "mean_squared_error(y_test, lasso.predict(X_test), squared=False)"
   ]
  },
  {
   "cell_type": "code",
   "execution_count": null,
   "id": "4d374985",
   "metadata": {},
   "outputs": [],
   "source": []
  },
  {
   "cell_type": "code",
   "execution_count": null,
   "id": "06f20389",
   "metadata": {},
   "outputs": [],
   "source": []
  },
  {
   "cell_type": "code",
   "execution_count": 30,
   "id": "ab8ff83f",
   "metadata": {},
   "outputs": [],
   "source": [
    "rmse_scorer = make_scorer(np.sqrt, greater_is_better=True)\n",
    "mse_scorer = make_scorer(mean_squared_error, greater_is_better=True)\n",
    "msle_scorer = make_scorer(mean_squared_log_error, greater_is_better=True)\n",
    "mae_scorer = make_scorer(mean_absolute_error, greater_is_better=True)"
   ]
  },
  {
   "cell_type": "code",
   "execution_count": 31,
   "id": "20c77a92",
   "metadata": {},
   "outputs": [
    {
     "data": {
      "text/plain": [
       "\"def resultize(grid): \\n    results = pd.DataFrame(grid.cv_results_)\\n    results = results.sort_values(by='rank_test_rmse')\\n    results = results[['param_alpha', 'mean_test_rmse', 'mean_test_mse',\\n    'mean_test_msle', 'mean_test_mae']]\\n    results.columns = ['alpha', 'RMSE', 'MSE', 'MSLE', 'MAE']\\n    return results\""
      ]
     },
     "execution_count": 31,
     "metadata": {},
     "output_type": "execute_result"
    }
   ],
   "source": [
    "'''def resultize(grid): \n",
    "    results = pd.DataFrame(grid.cv_results_)\n",
    "    results = results.sort_values(by='rank_test_rmse')\n",
    "    results = results[['params', 'mean_test_rmse', 'mean_test_mse',\n",
    "    'mean_test_msle', 'mean_test_mae']]\n",
    "    results.columns = ['params', 'RMSE', 'MSE', 'MSLE', 'MAE']\n",
    "    return results\n",
    "'''"
   ]
  },
  {
   "cell_type": "code",
   "execution_count": 63,
   "id": "04acba28",
   "metadata": {},
   "outputs": [],
   "source": [
    "def resultize(grid, scoring):\n",
    "\n",
    "    res = pd.DataFrame(grid.cv_results_)\n",
    "    cols = [i for i in res.columns if \"split\" not in i]\n",
    "    res = res[cols].sort_values(f'rank_test_{scoring}')\n",
    "    res = res[['params', f'mean_test_{scoring}', f'rank_test_{scoring}']]\n",
    "    res[f'mean_test_{scoring}'] = (-res[f'mean_test_{scoring}'])\n",
    "    return res"
   ]
  },
  {
   "cell_type": "code",
   "execution_count": 33,
   "id": "327cbbd0",
   "metadata": {},
   "outputs": [],
   "source": [
    "def resultize_RMSE(grid): \n",
    "      results = pd.DataFrame(grid.cv_results_)\n",
    "      results = results.sort_values(by = 'rank_test_score')\n",
    "      results = results[['params', 'mean_test_score', 'rank_test_score']]\n",
    "      results['mean_test_score'] = mean_squared_error(y_test, grid.predict(X_test), squared=False)\n",
    "      return results"
   ]
  },
  {
   "cell_type": "code",
   "execution_count": 64,
   "id": "1e5a5dd1",
   "metadata": {},
   "outputs": [
    {
     "data": {
      "text/html": [
       "<div>\n",
       "<style scoped>\n",
       "    .dataframe tbody tr th:only-of-type {\n",
       "        vertical-align: middle;\n",
       "    }\n",
       "\n",
       "    .dataframe tbody tr th {\n",
       "        vertical-align: top;\n",
       "    }\n",
       "\n",
       "    .dataframe thead th {\n",
       "        text-align: right;\n",
       "    }\n",
       "</style>\n",
       "<table border=\"1\" class=\"dataframe\">\n",
       "  <thead>\n",
       "    <tr style=\"text-align: right;\">\n",
       "      <th></th>\n",
       "      <th>params</th>\n",
       "      <th>mean_test_RMSE</th>\n",
       "      <th>rank_test_RMSE</th>\n",
       "    </tr>\n",
       "  </thead>\n",
       "  <tbody>\n",
       "    <tr>\n",
       "      <th>8</th>\n",
       "      <td>{'alpha': 885.8667904100823}</td>\n",
       "      <td>474.998050</td>\n",
       "      <td>1</td>\n",
       "    </tr>\n",
       "    <tr>\n",
       "      <th>9</th>\n",
       "      <td>{'alpha': 2069.138081114788}</td>\n",
       "      <td>500.677169</td>\n",
       "      <td>2</td>\n",
       "    </tr>\n",
       "    <tr>\n",
       "      <th>7</th>\n",
       "      <td>{'alpha': 379.26901907322497}</td>\n",
       "      <td>510.220872</td>\n",
       "      <td>3</td>\n",
       "    </tr>\n",
       "    <tr>\n",
       "      <th>10</th>\n",
       "      <td>{'alpha': 4832.930238571752}</td>\n",
       "      <td>541.466565</td>\n",
       "      <td>4</td>\n",
       "    </tr>\n",
       "    <tr>\n",
       "      <th>6</th>\n",
       "      <td>{'alpha': 162.3776739188721}</td>\n",
       "      <td>571.167998</td>\n",
       "      <td>5</td>\n",
       "    </tr>\n",
       "    <tr>\n",
       "      <th>11</th>\n",
       "      <td>{'alpha': 11288.378916846883}</td>\n",
       "      <td>574.492680</td>\n",
       "      <td>6</td>\n",
       "    </tr>\n",
       "    <tr>\n",
       "      <th>12</th>\n",
       "      <td>{'alpha': 26366.508987303554}</td>\n",
       "      <td>596.021928</td>\n",
       "      <td>7</td>\n",
       "    </tr>\n",
       "    <tr>\n",
       "      <th>13</th>\n",
       "      <td>{'alpha': 61584.82110660255}</td>\n",
       "      <td>607.741769</td>\n",
       "      <td>8</td>\n",
       "    </tr>\n",
       "    <tr>\n",
       "      <th>14</th>\n",
       "      <td>{'alpha': 143844.9888287663}</td>\n",
       "      <td>613.397635</td>\n",
       "      <td>9</td>\n",
       "    </tr>\n",
       "    <tr>\n",
       "      <th>15</th>\n",
       "      <td>{'alpha': 335981.8286283781}</td>\n",
       "      <td>615.956236</td>\n",
       "      <td>10</td>\n",
       "    </tr>\n",
       "    <tr>\n",
       "      <th>16</th>\n",
       "      <td>{'alpha': 784759.9703514606}</td>\n",
       "      <td>617.078669</td>\n",
       "      <td>11</td>\n",
       "    </tr>\n",
       "    <tr>\n",
       "      <th>17</th>\n",
       "      <td>{'alpha': 1832980.7108324338}</td>\n",
       "      <td>617.564330</td>\n",
       "      <td>12</td>\n",
       "    </tr>\n",
       "    <tr>\n",
       "      <th>18</th>\n",
       "      <td>{'alpha': 4281332.398719387}</td>\n",
       "      <td>617.773207</td>\n",
       "      <td>13</td>\n",
       "    </tr>\n",
       "    <tr>\n",
       "      <th>19</th>\n",
       "      <td>{'alpha': 10000000.0}</td>\n",
       "      <td>617.862809</td>\n",
       "      <td>14</td>\n",
       "    </tr>\n",
       "    <tr>\n",
       "      <th>5</th>\n",
       "      <td>{'alpha': 69.51927961775606}</td>\n",
       "      <td>630.504774</td>\n",
       "      <td>15</td>\n",
       "    </tr>\n",
       "    <tr>\n",
       "      <th>4</th>\n",
       "      <td>{'alpha': 29.76351441631318}</td>\n",
       "      <td>675.096347</td>\n",
       "      <td>16</td>\n",
       "    </tr>\n",
       "    <tr>\n",
       "      <th>3</th>\n",
       "      <td>{'alpha': 12.742749857031335}</td>\n",
       "      <td>702.410348</td>\n",
       "      <td>17</td>\n",
       "    </tr>\n",
       "    <tr>\n",
       "      <th>2</th>\n",
       "      <td>{'alpha': 5.455594781168519}</td>\n",
       "      <td>717.416584</td>\n",
       "      <td>18</td>\n",
       "    </tr>\n",
       "    <tr>\n",
       "      <th>1</th>\n",
       "      <td>{'alpha': 2.3357214690901222}</td>\n",
       "      <td>725.169914</td>\n",
       "      <td>19</td>\n",
       "    </tr>\n",
       "    <tr>\n",
       "      <th>0</th>\n",
       "      <td>{'alpha': 1.0}</td>\n",
       "      <td>728.914244</td>\n",
       "      <td>20</td>\n",
       "    </tr>\n",
       "  </tbody>\n",
       "</table>\n",
       "</div>"
      ],
      "text/plain": [
       "                           params  mean_test_RMSE  rank_test_RMSE\n",
       "8    {'alpha': 885.8667904100823}      474.998050               1\n",
       "9    {'alpha': 2069.138081114788}      500.677169               2\n",
       "7   {'alpha': 379.26901907322497}      510.220872               3\n",
       "10   {'alpha': 4832.930238571752}      541.466565               4\n",
       "6    {'alpha': 162.3776739188721}      571.167998               5\n",
       "11  {'alpha': 11288.378916846883}      574.492680               6\n",
       "12  {'alpha': 26366.508987303554}      596.021928               7\n",
       "13   {'alpha': 61584.82110660255}      607.741769               8\n",
       "14   {'alpha': 143844.9888287663}      613.397635               9\n",
       "15   {'alpha': 335981.8286283781}      615.956236              10\n",
       "16   {'alpha': 784759.9703514606}      617.078669              11\n",
       "17  {'alpha': 1832980.7108324338}      617.564330              12\n",
       "18   {'alpha': 4281332.398719387}      617.773207              13\n",
       "19          {'alpha': 10000000.0}      617.862809              14\n",
       "5    {'alpha': 69.51927961775606}      630.504774              15\n",
       "4    {'alpha': 29.76351441631318}      675.096347              16\n",
       "3   {'alpha': 12.742749857031335}      702.410348              17\n",
       "2    {'alpha': 5.455594781168519}      717.416584              18\n",
       "1   {'alpha': 2.3357214690901222}      725.169914              19\n",
       "0                  {'alpha': 1.0}      728.914244              20"
      ]
     },
     "execution_count": 64,
     "metadata": {},
     "output_type": "execute_result"
    }
   ],
   "source": [
    "params = {'alpha': np.logspace(0, 7, 20)}\n",
    "score = 'RMSE'\n",
    "grid_ridge = GridSearchCV(Ridge(), params, cv = 10, \n",
    "                  scoring = s, refit = score, n_jobs=-1)\n",
    "grid_ridge.fit(X_train, y_train)\n",
    "grid_ridge_best_params = grid_ridge.best_params_\n",
    "resultize(grid_ridge, score)"
   ]
  },
  {
   "cell_type": "code",
   "execution_count": 67,
   "id": "e52c0d5f",
   "metadata": {
    "scrolled": true
   },
   "outputs": [
    {
     "data": {
      "text/html": [
       "<div>\n",
       "<style scoped>\n",
       "    .dataframe tbody tr th:only-of-type {\n",
       "        vertical-align: middle;\n",
       "    }\n",
       "\n",
       "    .dataframe tbody tr th {\n",
       "        vertical-align: top;\n",
       "    }\n",
       "\n",
       "    .dataframe thead th {\n",
       "        text-align: right;\n",
       "    }\n",
       "</style>\n",
       "<table border=\"1\" class=\"dataframe\">\n",
       "  <thead>\n",
       "    <tr style=\"text-align: right;\">\n",
       "      <th></th>\n",
       "      <th>mean_fit_time</th>\n",
       "      <th>std_fit_time</th>\n",
       "      <th>mean_score_time</th>\n",
       "      <th>std_score_time</th>\n",
       "      <th>param_alpha</th>\n",
       "      <th>params</th>\n",
       "      <th>split0_test_RMSE</th>\n",
       "      <th>split1_test_RMSE</th>\n",
       "      <th>split2_test_RMSE</th>\n",
       "      <th>split3_test_RMSE</th>\n",
       "      <th>split4_test_RMSE</th>\n",
       "      <th>split5_test_RMSE</th>\n",
       "      <th>split6_test_RMSE</th>\n",
       "      <th>split7_test_RMSE</th>\n",
       "      <th>split8_test_RMSE</th>\n",
       "      <th>split9_test_RMSE</th>\n",
       "      <th>mean_test_RMSE</th>\n",
       "      <th>std_test_RMSE</th>\n",
       "      <th>rank_test_RMSE</th>\n",
       "      <th>split0_test_MSE</th>\n",
       "      <th>split1_test_MSE</th>\n",
       "      <th>split2_test_MSE</th>\n",
       "      <th>split3_test_MSE</th>\n",
       "      <th>split4_test_MSE</th>\n",
       "      <th>split5_test_MSE</th>\n",
       "      <th>split6_test_MSE</th>\n",
       "      <th>split7_test_MSE</th>\n",
       "      <th>split8_test_MSE</th>\n",
       "      <th>split9_test_MSE</th>\n",
       "      <th>mean_test_MSE</th>\n",
       "      <th>std_test_MSE</th>\n",
       "      <th>rank_test_MSE</th>\n",
       "      <th>split0_test_R2</th>\n",
       "      <th>split1_test_R2</th>\n",
       "      <th>split2_test_R2</th>\n",
       "      <th>split3_test_R2</th>\n",
       "      <th>split4_test_R2</th>\n",
       "      <th>split5_test_R2</th>\n",
       "      <th>split6_test_R2</th>\n",
       "      <th>split7_test_R2</th>\n",
       "      <th>split8_test_R2</th>\n",
       "      <th>split9_test_R2</th>\n",
       "      <th>mean_test_R2</th>\n",
       "      <th>std_test_R2</th>\n",
       "      <th>rank_test_R2</th>\n",
       "    </tr>\n",
       "  </thead>\n",
       "  <tbody>\n",
       "    <tr>\n",
       "      <th>0</th>\n",
       "      <td>0.000881</td>\n",
       "      <td>0.000137</td>\n",
       "      <td>0.000499</td>\n",
       "      <td>0.000130</td>\n",
       "      <td>1.0</td>\n",
       "      <td>{'alpha': 1.0}</td>\n",
       "      <td>-416.996754</td>\n",
       "      <td>-585.939800</td>\n",
       "      <td>-708.440968</td>\n",
       "      <td>-212.730729</td>\n",
       "      <td>-363.658363</td>\n",
       "      <td>-348.270464</td>\n",
       "      <td>-437.315181</td>\n",
       "      <td>-3058.793513</td>\n",
       "      <td>-284.884834</td>\n",
       "      <td>-872.111838</td>\n",
       "      <td>-728.914244</td>\n",
       "      <td>799.620874</td>\n",
       "      <td>20</td>\n",
       "      <td>-173886.292981</td>\n",
       "      <td>-343325.449802</td>\n",
       "      <td>-501888.605085</td>\n",
       "      <td>-45254.363150</td>\n",
       "      <td>-132247.405064</td>\n",
       "      <td>-121292.316381</td>\n",
       "      <td>-191244.567436</td>\n",
       "      <td>-9.356218e+06</td>\n",
       "      <td>-81159.368607</td>\n",
       "      <td>-760579.057575</td>\n",
       "      <td>-1.170710e+06</td>\n",
       "      <td>2.736587e+06</td>\n",
       "      <td>20</td>\n",
       "      <td>0.016380</td>\n",
       "      <td>0.371021</td>\n",
       "      <td>0.436174</td>\n",
       "      <td>-0.306000</td>\n",
       "      <td>0.083230</td>\n",
       "      <td>0.355744</td>\n",
       "      <td>0.447800</td>\n",
       "      <td>-7.371182</td>\n",
       "      <td>0.031748</td>\n",
       "      <td>0.391938</td>\n",
       "      <td>-0.554315</td>\n",
       "      <td>2.284122</td>\n",
       "      <td>20</td>\n",
       "    </tr>\n",
       "    <tr>\n",
       "      <th>1</th>\n",
       "      <td>0.000849</td>\n",
       "      <td>0.000151</td>\n",
       "      <td>0.000507</td>\n",
       "      <td>0.000139</td>\n",
       "      <td>2.335721</td>\n",
       "      <td>{'alpha': 2.3357214690901222}</td>\n",
       "      <td>-416.922585</td>\n",
       "      <td>-586.769099</td>\n",
       "      <td>-710.970846</td>\n",
       "      <td>-211.945722</td>\n",
       "      <td>-359.289319</td>\n",
       "      <td>-345.586154</td>\n",
       "      <td>-441.031484</td>\n",
       "      <td>-3024.049998</td>\n",
       "      <td>-283.216642</td>\n",
       "      <td>-871.917293</td>\n",
       "      <td>-725.169914</td>\n",
       "      <td>789.820619</td>\n",
       "      <td>19</td>\n",
       "      <td>-173824.441881</td>\n",
       "      <td>-344297.975104</td>\n",
       "      <td>-505479.543337</td>\n",
       "      <td>-44920.989103</td>\n",
       "      <td>-129088.814710</td>\n",
       "      <td>-119429.789634</td>\n",
       "      <td>-194508.769815</td>\n",
       "      <td>-9.144878e+06</td>\n",
       "      <td>-80211.666473</td>\n",
       "      <td>-760239.766305</td>\n",
       "      <td>-1.149688e+06</td>\n",
       "      <td>2.673395e+06</td>\n",
       "      <td>19</td>\n",
       "      <td>0.016730</td>\n",
       "      <td>0.369239</td>\n",
       "      <td>0.432140</td>\n",
       "      <td>-0.296379</td>\n",
       "      <td>0.105126</td>\n",
       "      <td>0.365637</td>\n",
       "      <td>0.438375</td>\n",
       "      <td>-7.182093</td>\n",
       "      <td>0.043055</td>\n",
       "      <td>0.392209</td>\n",
       "      <td>-0.531596</td>\n",
       "      <td>2.228459</td>\n",
       "      <td>19</td>\n",
       "    </tr>\n",
       "    <tr>\n",
       "      <th>2</th>\n",
       "      <td>0.000817</td>\n",
       "      <td>0.000131</td>\n",
       "      <td>0.000461</td>\n",
       "      <td>0.000121</td>\n",
       "      <td>5.455595</td>\n",
       "      <td>{'alpha': 5.455594781168519}</td>\n",
       "      <td>-416.859009</td>\n",
       "      <td>-588.523877</td>\n",
       "      <td>-715.968651</td>\n",
       "      <td>-210.724578</td>\n",
       "      <td>-351.836324</td>\n",
       "      <td>-341.594089</td>\n",
       "      <td>-448.753964</td>\n",
       "      <td>-2947.856171</td>\n",
       "      <td>-280.123495</td>\n",
       "      <td>-871.925683</td>\n",
       "      <td>-717.416584</td>\n",
       "      <td>768.161260</td>\n",
       "      <td>18</td>\n",
       "      <td>-173771.433358</td>\n",
       "      <td>-346360.354356</td>\n",
       "      <td>-512611.109447</td>\n",
       "      <td>-44404.847831</td>\n",
       "      <td>-123788.799079</td>\n",
       "      <td>-116686.521379</td>\n",
       "      <td>-201380.120259</td>\n",
       "      <td>-8.689856e+06</td>\n",
       "      <td>-78469.172590</td>\n",
       "      <td>-760254.396301</td>\n",
       "      <td>-1.104758e+06</td>\n",
       "      <td>2.537267e+06</td>\n",
       "      <td>18</td>\n",
       "      <td>0.017030</td>\n",
       "      <td>0.365461</td>\n",
       "      <td>0.424128</td>\n",
       "      <td>-0.281483</td>\n",
       "      <td>0.141867</td>\n",
       "      <td>0.380208</td>\n",
       "      <td>0.418534</td>\n",
       "      <td>-6.774976</td>\n",
       "      <td>0.063843</td>\n",
       "      <td>0.392198</td>\n",
       "      <td>-0.485319</td>\n",
       "      <td>2.107977</td>\n",
       "      <td>18</td>\n",
       "    </tr>\n",
       "    <tr>\n",
       "      <th>3</th>\n",
       "      <td>0.000915</td>\n",
       "      <td>0.000139</td>\n",
       "      <td>0.000535</td>\n",
       "      <td>0.000133</td>\n",
       "      <td>12.74275</td>\n",
       "      <td>{'alpha': 12.742749857031335}</td>\n",
       "      <td>-416.703526</td>\n",
       "      <td>-591.807454</td>\n",
       "      <td>-724.365513</td>\n",
       "      <td>-209.416953</td>\n",
       "      <td>-342.285727</td>\n",
       "      <td>-338.163013</td>\n",
       "      <td>-462.120193</td>\n",
       "      <td>-2790.695473</td>\n",
       "      <td>-275.440783</td>\n",
       "      <td>-873.104847</td>\n",
       "      <td>-702.410348</td>\n",
       "      <td>723.178091</td>\n",
       "      <td>17</td>\n",
       "      <td>-173641.828822</td>\n",
       "      <td>-350236.062553</td>\n",
       "      <td>-524705.396407</td>\n",
       "      <td>-43855.460147</td>\n",
       "      <td>-117159.519175</td>\n",
       "      <td>-114354.223206</td>\n",
       "      <td>-213555.072383</td>\n",
       "      <td>-7.787981e+06</td>\n",
       "      <td>-75867.624939</td>\n",
       "      <td>-762312.073065</td>\n",
       "      <td>-1.016367e+06</td>\n",
       "      <td>2.267421e+06</td>\n",
       "      <td>17</td>\n",
       "      <td>0.017763</td>\n",
       "      <td>0.358360</td>\n",
       "      <td>0.410542</td>\n",
       "      <td>-0.265629</td>\n",
       "      <td>0.187823</td>\n",
       "      <td>0.392596</td>\n",
       "      <td>0.383380</td>\n",
       "      <td>-5.968052</td>\n",
       "      <td>0.094880</td>\n",
       "      <td>0.390553</td>\n",
       "      <td>-0.399778</td>\n",
       "      <td>1.867757</td>\n",
       "      <td>17</td>\n",
       "    </tr>\n",
       "    <tr>\n",
       "      <th>4</th>\n",
       "      <td>0.000735</td>\n",
       "      <td>0.000175</td>\n",
       "      <td>0.000471</td>\n",
       "      <td>0.000134</td>\n",
       "      <td>29.763514</td>\n",
       "      <td>{'alpha': 29.76351441631318}</td>\n",
       "      <td>-415.172775</td>\n",
       "      <td>-596.848101</td>\n",
       "      <td>-735.630110</td>\n",
       "      <td>-208.110449</td>\n",
       "      <td>-333.501890</td>\n",
       "      <td>-338.000585</td>\n",
       "      <td>-478.994462</td>\n",
       "      <td>-2497.768423</td>\n",
       "      <td>-269.814945</td>\n",
       "      <td>-877.121727</td>\n",
       "      <td>-675.096347</td>\n",
       "      <td>639.640544</td>\n",
       "      <td>16</td>\n",
       "      <td>-172368.432695</td>\n",
       "      <td>-356227.655829</td>\n",
       "      <td>-541151.659104</td>\n",
       "      <td>-43309.958871</td>\n",
       "      <td>-111223.510734</td>\n",
       "      <td>-114244.395258</td>\n",
       "      <td>-229435.695100</td>\n",
       "      <td>-6.238847e+06</td>\n",
       "      <td>-72800.104750</td>\n",
       "      <td>-769342.524366</td>\n",
       "      <td>-8.648951e+05</td>\n",
       "      <td>1.804698e+06</td>\n",
       "      <td>16</td>\n",
       "      <td>0.024966</td>\n",
       "      <td>0.347384</td>\n",
       "      <td>0.392066</td>\n",
       "      <td>-0.249886</td>\n",
       "      <td>0.228972</td>\n",
       "      <td>0.393180</td>\n",
       "      <td>0.337526</td>\n",
       "      <td>-4.582012</td>\n",
       "      <td>0.131476</td>\n",
       "      <td>0.384932</td>\n",
       "      <td>-0.259140</td>\n",
       "      <td>1.454206</td>\n",
       "      <td>16</td>\n",
       "    </tr>\n",
       "  </tbody>\n",
       "</table>\n",
       "</div>"
      ],
      "text/plain": [
       "   mean_fit_time  std_fit_time  mean_score_time  std_score_time param_alpha  \\\n",
       "0       0.000881      0.000137         0.000499        0.000130         1.0   \n",
       "1       0.000849      0.000151         0.000507        0.000139    2.335721   \n",
       "2       0.000817      0.000131         0.000461        0.000121    5.455595   \n",
       "3       0.000915      0.000139         0.000535        0.000133    12.74275   \n",
       "4       0.000735      0.000175         0.000471        0.000134   29.763514   \n",
       "\n",
       "                          params  split0_test_RMSE  split1_test_RMSE  \\\n",
       "0                 {'alpha': 1.0}       -416.996754       -585.939800   \n",
       "1  {'alpha': 2.3357214690901222}       -416.922585       -586.769099   \n",
       "2   {'alpha': 5.455594781168519}       -416.859009       -588.523877   \n",
       "3  {'alpha': 12.742749857031335}       -416.703526       -591.807454   \n",
       "4   {'alpha': 29.76351441631318}       -415.172775       -596.848101   \n",
       "\n",
       "   split2_test_RMSE  split3_test_RMSE  split4_test_RMSE  split5_test_RMSE  \\\n",
       "0       -708.440968       -212.730729       -363.658363       -348.270464   \n",
       "1       -710.970846       -211.945722       -359.289319       -345.586154   \n",
       "2       -715.968651       -210.724578       -351.836324       -341.594089   \n",
       "3       -724.365513       -209.416953       -342.285727       -338.163013   \n",
       "4       -735.630110       -208.110449       -333.501890       -338.000585   \n",
       "\n",
       "   split6_test_RMSE  split7_test_RMSE  split8_test_RMSE  split9_test_RMSE  \\\n",
       "0       -437.315181      -3058.793513       -284.884834       -872.111838   \n",
       "1       -441.031484      -3024.049998       -283.216642       -871.917293   \n",
       "2       -448.753964      -2947.856171       -280.123495       -871.925683   \n",
       "3       -462.120193      -2790.695473       -275.440783       -873.104847   \n",
       "4       -478.994462      -2497.768423       -269.814945       -877.121727   \n",
       "\n",
       "   mean_test_RMSE  std_test_RMSE  rank_test_RMSE  split0_test_MSE  \\\n",
       "0     -728.914244     799.620874              20   -173886.292981   \n",
       "1     -725.169914     789.820619              19   -173824.441881   \n",
       "2     -717.416584     768.161260              18   -173771.433358   \n",
       "3     -702.410348     723.178091              17   -173641.828822   \n",
       "4     -675.096347     639.640544              16   -172368.432695   \n",
       "\n",
       "   split1_test_MSE  split2_test_MSE  split3_test_MSE  split4_test_MSE  \\\n",
       "0   -343325.449802   -501888.605085    -45254.363150   -132247.405064   \n",
       "1   -344297.975104   -505479.543337    -44920.989103   -129088.814710   \n",
       "2   -346360.354356   -512611.109447    -44404.847831   -123788.799079   \n",
       "3   -350236.062553   -524705.396407    -43855.460147   -117159.519175   \n",
       "4   -356227.655829   -541151.659104    -43309.958871   -111223.510734   \n",
       "\n",
       "   split5_test_MSE  split6_test_MSE  split7_test_MSE  split8_test_MSE  \\\n",
       "0   -121292.316381   -191244.567436    -9.356218e+06    -81159.368607   \n",
       "1   -119429.789634   -194508.769815    -9.144878e+06    -80211.666473   \n",
       "2   -116686.521379   -201380.120259    -8.689856e+06    -78469.172590   \n",
       "3   -114354.223206   -213555.072383    -7.787981e+06    -75867.624939   \n",
       "4   -114244.395258   -229435.695100    -6.238847e+06    -72800.104750   \n",
       "\n",
       "   split9_test_MSE  mean_test_MSE  std_test_MSE  rank_test_MSE  \\\n",
       "0   -760579.057575  -1.170710e+06  2.736587e+06             20   \n",
       "1   -760239.766305  -1.149688e+06  2.673395e+06             19   \n",
       "2   -760254.396301  -1.104758e+06  2.537267e+06             18   \n",
       "3   -762312.073065  -1.016367e+06  2.267421e+06             17   \n",
       "4   -769342.524366  -8.648951e+05  1.804698e+06             16   \n",
       "\n",
       "   split0_test_R2  split1_test_R2  split2_test_R2  split3_test_R2  \\\n",
       "0        0.016380        0.371021        0.436174       -0.306000   \n",
       "1        0.016730        0.369239        0.432140       -0.296379   \n",
       "2        0.017030        0.365461        0.424128       -0.281483   \n",
       "3        0.017763        0.358360        0.410542       -0.265629   \n",
       "4        0.024966        0.347384        0.392066       -0.249886   \n",
       "\n",
       "   split4_test_R2  split5_test_R2  split6_test_R2  split7_test_R2  \\\n",
       "0        0.083230        0.355744        0.447800       -7.371182   \n",
       "1        0.105126        0.365637        0.438375       -7.182093   \n",
       "2        0.141867        0.380208        0.418534       -6.774976   \n",
       "3        0.187823        0.392596        0.383380       -5.968052   \n",
       "4        0.228972        0.393180        0.337526       -4.582012   \n",
       "\n",
       "   split8_test_R2  split9_test_R2  mean_test_R2  std_test_R2  rank_test_R2  \n",
       "0        0.031748        0.391938     -0.554315     2.284122            20  \n",
       "1        0.043055        0.392209     -0.531596     2.228459            19  \n",
       "2        0.063843        0.392198     -0.485319     2.107977            18  \n",
       "3        0.094880        0.390553     -0.399778     1.867757            17  \n",
       "4        0.131476        0.384932     -0.259140     1.454206            16  "
      ]
     },
     "execution_count": 67,
     "metadata": {},
     "output_type": "execute_result"
    }
   ],
   "source": [
    "res = pd.DataFrame(grid_ridge.cv_results_)\n",
    "res.head()"
   ]
  },
  {
   "cell_type": "code",
   "execution_count": 69,
   "id": "dfe52c7a",
   "metadata": {},
   "outputs": [
    {
     "data": {
      "text/plain": [
       "['mean_test_RMSE', 'mean_test_MSE', 'mean_test_R2']"
      ]
     },
     "execution_count": 69,
     "metadata": {},
     "output_type": "execute_result"
    }
   ],
   "source": [
    "cols = [col for col in res.columns if 'mean_test' in col]\n",
    "cols"
   ]
  },
  {
   "cell_type": "code",
   "execution_count": 35,
   "id": "cf75d3a4",
   "metadata": {},
   "outputs": [],
   "source": [
    "grid_rf_best_params = {'alpha': 10000000.0}"
   ]
  },
  {
   "cell_type": "code",
   "execution_count": 36,
   "id": "d2cde78a",
   "metadata": {
    "scrolled": false
   },
   "outputs": [
    {
     "data": {
      "text/plain": [
       "968.1845301165456"
      ]
     },
     "execution_count": 36,
     "metadata": {},
     "output_type": "execute_result"
    }
   ],
   "source": [
    "rf = Ridge(**grid_rf_best_params)\n",
    "rf.fit(X_train, y_train)\n",
    "y_pred = rf.predict(X_test)\n",
    "rf_error = mean_squared_error(y_test, y_pred, squared=False)\n",
    "rf_error"
   ]
  },
  {
   "cell_type": "code",
   "execution_count": null,
   "id": "5fcae071",
   "metadata": {},
   "outputs": [],
   "source": []
  },
  {
   "cell_type": "code",
   "execution_count": null,
   "id": "57ac388c",
   "metadata": {},
   "outputs": [],
   "source": []
  },
  {
   "cell_type": "code",
   "execution_count": null,
   "id": "050a4b49",
   "metadata": {},
   "outputs": [],
   "source": []
  },
  {
   "cell_type": "code",
   "execution_count": 37,
   "id": "9b479556",
   "metadata": {},
   "outputs": [
    {
     "data": {
      "text/html": [
       "<div>\n",
       "<style scoped>\n",
       "    .dataframe tbody tr th:only-of-type {\n",
       "        vertical-align: middle;\n",
       "    }\n",
       "\n",
       "    .dataframe tbody tr th {\n",
       "        vertical-align: top;\n",
       "    }\n",
       "\n",
       "    .dataframe thead th {\n",
       "        text-align: right;\n",
       "    }\n",
       "</style>\n",
       "<table border=\"1\" class=\"dataframe\">\n",
       "  <thead>\n",
       "    <tr style=\"text-align: right;\">\n",
       "      <th></th>\n",
       "      <th>params</th>\n",
       "      <th>mean_test_score</th>\n",
       "      <th>rank_test_score</th>\n",
       "    </tr>\n",
       "  </thead>\n",
       "  <tbody>\n",
       "    <tr>\n",
       "      <th>21</th>\n",
       "      <td>{'alpha': 78.80462815669912}</td>\n",
       "      <td>913.531584</td>\n",
       "      <td>1</td>\n",
       "    </tr>\n",
       "    <tr>\n",
       "      <th>22</th>\n",
       "      <td>{'alpha': 108.2636733874054}</td>\n",
       "      <td>913.531584</td>\n",
       "      <td>2</td>\n",
       "    </tr>\n",
       "    <tr>\n",
       "      <th>20</th>\n",
       "      <td>{'alpha': 57.361525104486816}</td>\n",
       "      <td>913.531584</td>\n",
       "      <td>3</td>\n",
       "    </tr>\n",
       "    <tr>\n",
       "      <th>23</th>\n",
       "      <td>{'alpha': 148.73521072935117}</td>\n",
       "      <td>913.531584</td>\n",
       "      <td>4</td>\n",
       "    </tr>\n",
       "    <tr>\n",
       "      <th>24</th>\n",
       "      <td>{'alpha': 204.33597178569417}</td>\n",
       "      <td>913.531584</td>\n",
       "      <td>5</td>\n",
       "    </tr>\n",
       "  </tbody>\n",
       "</table>\n",
       "</div>"
      ],
      "text/plain": [
       "                           params  mean_test_score  rank_test_score\n",
       "21   {'alpha': 78.80462815669912}       913.531584                1\n",
       "22   {'alpha': 108.2636733874054}       913.531584                2\n",
       "20  {'alpha': 57.361525104486816}       913.531584                3\n",
       "23  {'alpha': 148.73521072935117}       913.531584                4\n",
       "24  {'alpha': 204.33597178569417}       913.531584                5"
      ]
     },
     "execution_count": 37,
     "metadata": {},
     "output_type": "execute_result"
    }
   ],
   "source": [
    "params = {\"alpha\": np.logspace(-1, 3, 30)}\n",
    "grid_lasso = GridSearchCV(Lasso(), params, cv = 10)\n",
    "grid_lasso.fit(X_train, y_train)\n",
    "grid_lasso_best_params = grid_lasso.best_params_\n",
    "resultize_RMSE(grid_lasso).head()"
   ]
  },
  {
   "cell_type": "code",
   "execution_count": 38,
   "id": "619c55fd",
   "metadata": {},
   "outputs": [],
   "source": [
    "grid_lasso_best_params = {'alpha': 727.8953843983146}\t"
   ]
  },
  {
   "cell_type": "code",
   "execution_count": 39,
   "id": "b57aed5c",
   "metadata": {},
   "outputs": [
    {
     "data": {
      "text/plain": [
       "968.2106104376774"
      ]
     },
     "execution_count": 39,
     "metadata": {},
     "output_type": "execute_result"
    }
   ],
   "source": [
    "lasso = Lasso(**grid_lasso_best_params)\n",
    "lasso.fit(X_train, y_train)\n",
    "y_pred = lasso.predict(X_test)\n",
    "lasso_error = mean_squared_error(y_test, y_pred, squared=False)\n",
    "lasso_error"
   ]
  },
  {
   "cell_type": "code",
   "execution_count": null,
   "id": "fd27938c",
   "metadata": {},
   "outputs": [],
   "source": []
  },
  {
   "cell_type": "code",
   "execution_count": null,
   "id": "c31f08c6",
   "metadata": {},
   "outputs": [],
   "source": []
  },
  {
   "cell_type": "code",
   "execution_count": null,
   "id": "f09a3440",
   "metadata": {},
   "outputs": [],
   "source": []
  },
  {
   "cell_type": "code",
   "execution_count": 40,
   "id": "009a5e4d",
   "metadata": {},
   "outputs": [
    {
     "data": {
      "text/plain": [
       "953.49932095739"
      ]
     },
     "execution_count": 40,
     "metadata": {},
     "output_type": "execute_result"
    }
   ],
   "source": [
    "tt_ridge = TransformedTargetRegressor(regressor = Ridge(),\n",
    "                               func = np.log1p,\n",
    "                               inverse_func = np.expm1)\n",
    "tt_ridge.fit(X_train, y_train)\n",
    "y_pred = tt_ridge.predict(X_test)\n",
    "tt_ridge_error = mean_squared_error(y_test, y_pred, squared=False)\n",
    "tt_ridge_error"
   ]
  },
  {
   "cell_type": "code",
   "execution_count": 41,
   "id": "30032431",
   "metadata": {},
   "outputs": [
    {
     "data": {
      "text/html": [
       "<div>\n",
       "<style scoped>\n",
       "    .dataframe tbody tr th:only-of-type {\n",
       "        vertical-align: middle;\n",
       "    }\n",
       "\n",
       "    .dataframe tbody tr th {\n",
       "        vertical-align: top;\n",
       "    }\n",
       "\n",
       "    .dataframe thead th {\n",
       "        text-align: right;\n",
       "    }\n",
       "</style>\n",
       "<table border=\"1\" class=\"dataframe\">\n",
       "  <thead>\n",
       "    <tr style=\"text-align: right;\">\n",
       "      <th></th>\n",
       "      <th>params</th>\n",
       "      <th>mean_test_score</th>\n",
       "      <th>rank_test_score</th>\n",
       "    </tr>\n",
       "  </thead>\n",
       "  <tbody>\n",
       "    <tr>\n",
       "      <th>53</th>\n",
       "      <td>{'regressor__alpha': 5590.810182512223}</td>\n",
       "      <td>976.585762</td>\n",
       "      <td>1</td>\n",
       "    </tr>\n",
       "    <tr>\n",
       "      <th>52</th>\n",
       "      <td>{'regressor__alpha': 4750.810162102794}</td>\n",
       "      <td>976.585762</td>\n",
       "      <td>2</td>\n",
       "    </tr>\n",
       "    <tr>\n",
       "      <th>54</th>\n",
       "      <td>{'regressor__alpha': 6579.3322465756755}</td>\n",
       "      <td>976.585762</td>\n",
       "      <td>3</td>\n",
       "    </tr>\n",
       "    <tr>\n",
       "      <th>55</th>\n",
       "      <td>{'regressor__alpha': 7742.63682681127}</td>\n",
       "      <td>976.585762</td>\n",
       "      <td>4</td>\n",
       "    </tr>\n",
       "    <tr>\n",
       "      <th>56</th>\n",
       "      <td>{'regressor__alpha': 9111.627561154886}</td>\n",
       "      <td>976.585762</td>\n",
       "      <td>5</td>\n",
       "    </tr>\n",
       "  </tbody>\n",
       "</table>\n",
       "</div>"
      ],
      "text/plain": [
       "                                      params  mean_test_score  rank_test_score\n",
       "53   {'regressor__alpha': 5590.810182512223}       976.585762                1\n",
       "52   {'regressor__alpha': 4750.810162102794}       976.585762                2\n",
       "54  {'regressor__alpha': 6579.3322465756755}       976.585762                3\n",
       "55    {'regressor__alpha': 7742.63682681127}       976.585762                4\n",
       "56   {'regressor__alpha': 9111.627561154886}       976.585762                5"
      ]
     },
     "execution_count": 41,
     "metadata": {},
     "output_type": "execute_result"
    }
   ],
   "source": [
    "params = {'regressor__alpha': np.logspace(0, 7, 100)}\n",
    "grid_tt_ridge = GridSearchCV(tt_ridge, params, cv = 10)\n",
    "grid_tt_ridge.fit(X_train, y_train)\n",
    "grid_tt_ridge_best_params = grid_tt_ridge.best_params_\n",
    "resultize_RMSE(grid_tt_ridge).head()"
   ]
  },
  {
   "cell_type": "code",
   "execution_count": 42,
   "id": "0ab037cf",
   "metadata": {},
   "outputs": [],
   "source": [
    "grid_tt_ridge_best_params = {'alpha': 10000000.0}"
   ]
  },
  {
   "cell_type": "code",
   "execution_count": 43,
   "id": "ae599e05",
   "metadata": {
    "tags": []
   },
   "outputs": [
    {
     "data": {
      "text/plain": [
       "979.7336451970851"
      ]
     },
     "execution_count": 43,
     "metadata": {},
     "output_type": "execute_result"
    }
   ],
   "source": [
    "tt_ridge = TransformedTargetRegressor(regressor = Ridge(**grid_tt_ridge_best_params),\n",
    "                                    func = np.log1p,\n",
    "                                    inverse_func = np.expm1)\n",
    "tt_ridge.fit(X_train, y_train)\n",
    "y_pred = tt_ridge.predict(X_test)\n",
    "tt_ridge_error = mean_squared_error(y_test, y_pred, squared=False)\n",
    "tt_ridge_error"
   ]
  },
  {
   "cell_type": "code",
   "execution_count": null,
   "id": "d77dcd71",
   "metadata": {},
   "outputs": [],
   "source": []
  },
  {
   "cell_type": "code",
   "execution_count": null,
   "id": "cf0dece8",
   "metadata": {},
   "outputs": [],
   "source": []
  },
  {
   "cell_type": "code",
   "execution_count": 44,
   "id": "cb0b66d9",
   "metadata": {},
   "outputs": [
    {
     "data": {
      "text/plain": [
       "977.5383669115446"
      ]
     },
     "execution_count": 44,
     "metadata": {},
     "output_type": "execute_result"
    }
   ],
   "source": [
    "svr = SVR()\n",
    "svr.fit(X_train, y_train)\n",
    "y_pred = svr.predict(X_test)\n",
    "svr_error = mean_squared_error(y_test, y_pred, squared=False)\n",
    "svr_error"
   ]
  },
  {
   "cell_type": "code",
   "execution_count": 52,
   "id": "3cabbd85",
   "metadata": {},
   "outputs": [
    {
     "ename": "KeyError",
     "evalue": "'rank_test_score'",
     "output_type": "error",
     "traceback": [
      "\u001b[0;31m---------------------------------------------------------------------------\u001b[0m",
      "\u001b[0;31mKeyError\u001b[0m                                  Traceback (most recent call last)",
      "Cell \u001b[0;32mIn[52], line 8\u001b[0m\n\u001b[1;32m      6\u001b[0m grid_svr\u001b[38;5;241m.\u001b[39mfit(X_train, y_train)\n\u001b[1;32m      7\u001b[0m best_params_svr \u001b[38;5;241m=\u001b[39m grid_svr\u001b[38;5;241m.\u001b[39mbest_params_\n\u001b[0;32m----> 8\u001b[0m \u001b[43mresultize\u001b[49m\u001b[43m(\u001b[49m\u001b[43mgrid_svr\u001b[49m\u001b[43m)\u001b[49m\u001b[38;5;241m.\u001b[39mhead()\n",
      "Cell \u001b[0;32mIn[32], line 5\u001b[0m, in \u001b[0;36mresultize\u001b[0;34m(grid)\u001b[0m\n\u001b[1;32m      3\u001b[0m res \u001b[38;5;241m=\u001b[39m pd\u001b[38;5;241m.\u001b[39mDataFrame(grid\u001b[38;5;241m.\u001b[39mcv_results_)\n\u001b[1;32m      4\u001b[0m cols \u001b[38;5;241m=\u001b[39m [i \u001b[38;5;28;01mfor\u001b[39;00m i \u001b[38;5;129;01min\u001b[39;00m res\u001b[38;5;241m.\u001b[39mcolumns \u001b[38;5;28;01mif\u001b[39;00m \u001b[38;5;124m\"\u001b[39m\u001b[38;5;124msplit\u001b[39m\u001b[38;5;124m\"\u001b[39m \u001b[38;5;129;01mnot\u001b[39;00m \u001b[38;5;129;01min\u001b[39;00m i]\n\u001b[0;32m----> 5\u001b[0m res \u001b[38;5;241m=\u001b[39m \u001b[43mres\u001b[49m\u001b[43m[\u001b[49m\u001b[43mcols\u001b[49m\u001b[43m]\u001b[49m\u001b[38;5;241;43m.\u001b[39;49m\u001b[43msort_values\u001b[49m\u001b[43m(\u001b[49m\u001b[38;5;124;43m'\u001b[39;49m\u001b[38;5;124;43mrank_test_score\u001b[39;49m\u001b[38;5;124;43m'\u001b[39;49m\u001b[43m)\u001b[49m\n\u001b[1;32m      6\u001b[0m res \u001b[38;5;241m=\u001b[39m res[[\u001b[38;5;124m'\u001b[39m\u001b[38;5;124mparams\u001b[39m\u001b[38;5;124m'\u001b[39m, \u001b[38;5;124m'\u001b[39m\u001b[38;5;124mmean_test_score\u001b[39m\u001b[38;5;124m'\u001b[39m, \u001b[38;5;124m'\u001b[39m\u001b[38;5;124mstd_test_score\u001b[39m\u001b[38;5;124m'\u001b[39m, \u001b[38;5;124m'\u001b[39m\u001b[38;5;124mrank_test_score\u001b[39m\u001b[38;5;124m'\u001b[39m]]\n\u001b[1;32m      7\u001b[0m res[\u001b[38;5;124m'\u001b[39m\u001b[38;5;124mmean_test_score\u001b[39m\u001b[38;5;124m'\u001b[39m] \u001b[38;5;241m=\u001b[39m (\u001b[38;5;241m-\u001b[39mres[\u001b[38;5;124m'\u001b[39m\u001b[38;5;124mmean_test_score\u001b[39m\u001b[38;5;124m'\u001b[39m])\n",
      "File \u001b[0;32m~/.local/lib/python3.10/site-packages/pandas/util/_decorators.py:331\u001b[0m, in \u001b[0;36mdeprecate_nonkeyword_arguments.<locals>.decorate.<locals>.wrapper\u001b[0;34m(*args, **kwargs)\u001b[0m\n\u001b[1;32m    325\u001b[0m \u001b[38;5;28;01mif\u001b[39;00m \u001b[38;5;28mlen\u001b[39m(args) \u001b[38;5;241m>\u001b[39m num_allow_args:\n\u001b[1;32m    326\u001b[0m     warnings\u001b[38;5;241m.\u001b[39mwarn(\n\u001b[1;32m    327\u001b[0m         msg\u001b[38;5;241m.\u001b[39mformat(arguments\u001b[38;5;241m=\u001b[39m_format_argument_list(allow_args)),\n\u001b[1;32m    328\u001b[0m         \u001b[38;5;167;01mFutureWarning\u001b[39;00m,\n\u001b[1;32m    329\u001b[0m         stacklevel\u001b[38;5;241m=\u001b[39mfind_stack_level(),\n\u001b[1;32m    330\u001b[0m     )\n\u001b[0;32m--> 331\u001b[0m \u001b[38;5;28;01mreturn\u001b[39;00m \u001b[43mfunc\u001b[49m\u001b[43m(\u001b[49m\u001b[38;5;241;43m*\u001b[39;49m\u001b[43margs\u001b[49m\u001b[43m,\u001b[49m\u001b[43m \u001b[49m\u001b[38;5;241;43m*\u001b[39;49m\u001b[38;5;241;43m*\u001b[39;49m\u001b[43mkwargs\u001b[49m\u001b[43m)\u001b[49m\n",
      "File \u001b[0;32m~/.local/lib/python3.10/site-packages/pandas/core/frame.py:6909\u001b[0m, in \u001b[0;36mDataFrame.sort_values\u001b[0;34m(self, by, axis, ascending, inplace, kind, na_position, ignore_index, key)\u001b[0m\n\u001b[1;32m   6905\u001b[0m \u001b[38;5;28;01melif\u001b[39;00m \u001b[38;5;28mlen\u001b[39m(by):\n\u001b[1;32m   6906\u001b[0m     \u001b[38;5;66;03m# len(by) == 1\u001b[39;00m\n\u001b[1;32m   6908\u001b[0m     by \u001b[38;5;241m=\u001b[39m by[\u001b[38;5;241m0\u001b[39m]\n\u001b[0;32m-> 6909\u001b[0m     k \u001b[38;5;241m=\u001b[39m \u001b[38;5;28;43mself\u001b[39;49m\u001b[38;5;241;43m.\u001b[39;49m\u001b[43m_get_label_or_level_values\u001b[49m\u001b[43m(\u001b[49m\u001b[43mby\u001b[49m\u001b[43m,\u001b[49m\u001b[43m \u001b[49m\u001b[43maxis\u001b[49m\u001b[38;5;241;43m=\u001b[39;49m\u001b[43maxis\u001b[49m\u001b[43m)\u001b[49m\n\u001b[1;32m   6911\u001b[0m     \u001b[38;5;66;03m# need to rewrap column in Series to apply key function\u001b[39;00m\n\u001b[1;32m   6912\u001b[0m     \u001b[38;5;28;01mif\u001b[39;00m key \u001b[38;5;129;01mis\u001b[39;00m \u001b[38;5;129;01mnot\u001b[39;00m \u001b[38;5;28;01mNone\u001b[39;00m:\n\u001b[1;32m   6913\u001b[0m         \u001b[38;5;66;03m# error: Incompatible types in assignment (expression has type\u001b[39;00m\n\u001b[1;32m   6914\u001b[0m         \u001b[38;5;66;03m# \"Series\", variable has type \"ndarray\")\u001b[39;00m\n",
      "File \u001b[0;32m~/.local/lib/python3.10/site-packages/pandas/core/generic.py:1850\u001b[0m, in \u001b[0;36mNDFrame._get_label_or_level_values\u001b[0;34m(self, key, axis)\u001b[0m\n\u001b[1;32m   1844\u001b[0m     values \u001b[38;5;241m=\u001b[39m (\n\u001b[1;32m   1845\u001b[0m         \u001b[38;5;28mself\u001b[39m\u001b[38;5;241m.\u001b[39maxes[axis]\n\u001b[1;32m   1846\u001b[0m         \u001b[38;5;241m.\u001b[39mget_level_values(key)  \u001b[38;5;66;03m# type: ignore[assignment]\u001b[39;00m\n\u001b[1;32m   1847\u001b[0m         \u001b[38;5;241m.\u001b[39m_values\n\u001b[1;32m   1848\u001b[0m     )\n\u001b[1;32m   1849\u001b[0m \u001b[38;5;28;01melse\u001b[39;00m:\n\u001b[0;32m-> 1850\u001b[0m     \u001b[38;5;28;01mraise\u001b[39;00m \u001b[38;5;167;01mKeyError\u001b[39;00m(key)\n\u001b[1;32m   1852\u001b[0m \u001b[38;5;66;03m# Check for duplicates\u001b[39;00m\n\u001b[1;32m   1853\u001b[0m \u001b[38;5;28;01mif\u001b[39;00m values\u001b[38;5;241m.\u001b[39mndim \u001b[38;5;241m>\u001b[39m \u001b[38;5;241m1\u001b[39m:\n",
      "\u001b[0;31mKeyError\u001b[0m: 'rank_test_score'"
     ]
    }
   ],
   "source": [
    "params = {'kernel': ['sigmoid','rbf','poly'],\n",
    "         'C': [0.1,1,100,1000],\n",
    "         'degree': [1,2,3,4,5,6]}\n",
    "s = {\"RMSE\": \"neg_root_mean_squared_error\", \"MSE\": \"neg_mean_squared_error\", \"R2\":\"r2\"}\n",
    "grid_svr = GridSearchCV(SVR(), params, cv=10,scoring = s, refit = \"RMSE\",  n_jobs=-1)\n",
    "grid_svr.fit(X_train, y_train)\n",
    "best_params_svr = grid_svr.best_params_\n",
    "resultize(grid_svr).head()"
   ]
  },
  {
   "cell_type": "code",
   "execution_count": null,
   "id": "18080aca",
   "metadata": {},
   "outputs": [],
   "source": []
  },
  {
   "cell_type": "code",
   "execution_count": null,
   "id": "0096a031",
   "metadata": {},
   "outputs": [],
   "source": []
  },
  {
   "cell_type": "code",
   "execution_count": null,
   "id": "4fbc5f97",
   "metadata": {},
   "outputs": [],
   "source": []
  },
  {
   "cell_type": "code",
   "execution_count": null,
   "id": "11d667ff",
   "metadata": {},
   "outputs": [],
   "source": [
    "'''params = {'kernel': ['sigmoid','rbf','poly','sigmoid'],\n",
    "         'C': [0.1,1,100,1000],\n",
    "         'degree': [1,2,3,4,5,6]}\n",
    "grid = GridSearchCV(SVR(), params, cv=10)\n",
    "grid.fit(X_train, y_train)\n",
    "best_params_svr = grid.best_params_\n",
    "resultize(grid).head()'''"
   ]
  },
  {
   "cell_type": "code",
   "execution_count": 47,
   "id": "e3d9b3bb",
   "metadata": {},
   "outputs": [],
   "source": [
    "best_params_svr = {'C': 1000, 'degree': 6, 'kernel': 'rbf'}"
   ]
  },
  {
   "cell_type": "code",
   "execution_count": 48,
   "id": "9a985a73",
   "metadata": {},
   "outputs": [
    {
     "data": {
      "text/plain": [
       "916.5661190492019"
      ]
     },
     "execution_count": 48,
     "metadata": {},
     "output_type": "execute_result"
    }
   ],
   "source": [
    "svr = SVR(**best_params_svr)\n",
    "svr.fit(X_train, y_train)\n",
    "y_pred = svr.predict(X_test)\n",
    "mean_squared_error(y_test, y_pred, squared=False)"
   ]
  },
  {
   "cell_type": "code",
   "execution_count": 49,
   "id": "c94b8b07",
   "metadata": {},
   "outputs": [
    {
     "data": {
      "text/plain": [
       "2720.748165944485"
      ]
     },
     "execution_count": 49,
     "metadata": {},
     "output_type": "execute_result"
    }
   ],
   "source": [
    "tt = TransformedTargetRegressor(regressor = SVR(**best_params_svr),\n",
    "                                    func = np.log1p,\n",
    "                                    inverse_func = np.expm1)\n",
    "tt.fit(X_train, y_train)\n",
    "y_pred = tt.predict(X_test)\n",
    "mean_squared_error(y_test, y_pred, squared=False)"
   ]
  },
  {
   "cell_type": "code",
   "execution_count": null,
   "id": "78e1203c",
   "metadata": {},
   "outputs": [],
   "source": [
    "'''tt = TransformedTargetRegressor(regressor = SVR(),\n",
    "                                    func = np.log1p,\n",
    "                                    inverse_func = np.expm1)\n",
    "params = {'regressor__C': [0.1,1,100,1000],\n",
    "            'regressor__degree': [1,2,3,4,5,6],\n",
    "            'regressor__kernel': ['sigmoid','rbf','poly']}\n",
    "grid = GridSearchCV(tt, params, cv = 10)\n",
    "grid.fit(X_train, y_train)\n",
    "best_params_svr_tt = grid.best_params_\n",
    "resultize(grid).head()'''"
   ]
  },
  {
   "cell_type": "code",
   "execution_count": null,
   "id": "1b8fac83",
   "metadata": {},
   "outputs": [],
   "source": [
    "'''tt = TransformedTargetRegressor(regressor = SVR(**best_params_svr_tt),\n",
    "                                    func = np.log1p,\n",
    "                                    inverse_func = np.expm1)\n",
    "tt.fit(X_train, y_train)\n",
    "y_pred = tt.predict(X_test)\n",
    "mean_squared_error(y_test, y_pred, squared=False)'''"
   ]
  },
  {
   "cell_type": "code",
   "execution_count": null,
   "id": "f70b2e90",
   "metadata": {},
   "outputs": [],
   "source": []
  },
  {
   "cell_type": "code",
   "execution_count": null,
   "id": "98965611",
   "metadata": {},
   "outputs": [],
   "source": []
  },
  {
   "cell_type": "code",
   "execution_count": null,
   "id": "66270d8a",
   "metadata": {},
   "outputs": [],
   "source": []
  },
  {
   "cell_type": "code",
   "execution_count": null,
   "id": "5fe1f062",
   "metadata": {},
   "outputs": [],
   "source": [
    "rf = RandomForestRegressor()\n",
    "rf.fit(X_train, y_train)\n",
    "y_pred = rf.predict(X_test)\n",
    "mean_squared_error(y_test, y_pred, squared=False)"
   ]
  },
  {
   "cell_type": "code",
   "execution_count": null,
   "id": "d3f2a7bc",
   "metadata": {},
   "outputs": [],
   "source": [
    "\"\"\"params = {'n_estimators': [100, 200, 300, 400, 500],\n",
    "            'max_depth': [1,2,3,4,5,6,7,8,9,10],\n",
    "            'min_samples_split': [2,3,4,5,6,7,8,9,10],\n",
    "}\n",
    "grid = GridSearchCV(RandomForestRegressor(), params, cv=10)\n",
    "grid.fit(X_train, y_train)\n",
    "best_params_rf = grid.best_params_\n",
    "resultize(grid).head()\"\"\""
   ]
  },
  {
   "cell_type": "code",
   "execution_count": null,
   "id": "e675be36",
   "metadata": {},
   "outputs": [],
   "source": [
    "best_params_rf ={'max_depth': 10, 'min_samples_split': 2, 'n_estimators': 100}"
   ]
  },
  {
   "cell_type": "code",
   "execution_count": null,
   "id": "827e91e3",
   "metadata": {},
   "outputs": [],
   "source": [
    "rf = RandomForestRegressor(**best_params_rf)\n",
    "rf.fit(X_train, y_train)\n",
    "y_pred = rf.predict(X_test)\n",
    "mean_squared_error(y_test, y_pred, squared=False)"
   ]
  },
  {
   "cell_type": "code",
   "execution_count": null,
   "id": "b6ba14f5",
   "metadata": {},
   "outputs": [],
   "source": [
    "tt = TransformedTargetRegressor(regressor = RandomForestRegressor(**best_params_rf),\n",
    "                                    func = np.log1p,\n",
    "                                    inverse_func = np.expm1)\n",
    "tt.fit(X_train, y_train)\n",
    "y_pred = tt.predict(X_test)\n",
    "mean_squared_error(y_test, y_pred, squared=False)"
   ]
  },
  {
   "cell_type": "code",
   "execution_count": null,
   "id": "0962f819",
   "metadata": {},
   "outputs": [],
   "source": [
    "'''tt_rf = TransformedTargetRegressor(regressor = RandomForestRegressor(),\n",
    "                                    func = np.log1p,\n",
    "                                    inverse_func = np.expm1)\n",
    "params = {'regressor__n_estimators': [100, 200, 300, 400, 500],\n",
    "            'regressor__max_depth': [1,2,3,4,5,6,7,8,9,10],\n",
    "            'regressor__min_samples_split': [2,3,4,5,6,7,8,9,10]}\n",
    "grid = GridSearchCV(tt_rf, params, cv = 10)\n",
    "grid.fit(X_train, y_train)\n",
    "best_params_rf_tt = grid.best_params_\n",
    "resultize(grid).head()'''"
   ]
  },
  {
   "cell_type": "code",
   "execution_count": null,
   "id": "ea151df4",
   "metadata": {},
   "outputs": [],
   "source": [
    "best_params_rf_tt = {'max_depth': 10,\n",
    " 'min_samples_split': 4,\n",
    " 'n_estimators': 200}\n",
    "rf_tt = TransformedTargetRegressor(\n",
    "      regressor = RandomForestRegressor(**best_params_rf_tt),\n",
    "      func = np.log1p,\n",
    "      inverse_func = np.expm1)\n",
    "rf_tt.fit(X_train, y_train)\n",
    "y_pred = rf_tt.predict(X_test)\n",
    "mean_squared_error(y_test, y_pred, squared=False)"
   ]
  },
  {
   "cell_type": "code",
   "execution_count": null,
   "id": "932baba1",
   "metadata": {},
   "outputs": [],
   "source": []
  },
  {
   "cell_type": "code",
   "execution_count": null,
   "id": "262e9048",
   "metadata": {},
   "outputs": [],
   "source": []
  },
  {
   "cell_type": "code",
   "execution_count": null,
   "id": "429478e8",
   "metadata": {},
   "outputs": [],
   "source": []
  },
  {
   "cell_type": "code",
   "execution_count": null,
   "id": "2c199d47",
   "metadata": {},
   "outputs": [],
   "source": [
    "gb = GradientBoostingRegressor()\n",
    "gb.fit(X_train, y_train)\n",
    "y_pred = gb.predict(X_test)\n",
    "mean_squared_error(y_test, y_pred, squared=False)"
   ]
  },
  {
   "cell_type": "code",
   "execution_count": null,
   "id": "eca2577b",
   "metadata": {},
   "outputs": [],
   "source": [
    "'''params = {'loss': ['ls', 'lad', 'huber', 'quantile'],\n",
    "            'learning_rate': [0.1, 0.05, 0.02, 0.01],\n",
    "            'max_depth': [4, 6],\n",
    "            'min_samples_leaf': [3, 5, 9, 17],\n",
    "}\n",
    "grid = GridSearchCV(GradientBoostingRegressor(), params, cv=10)\n",
    "grid.fit(X_train, y_train)\n",
    "best_params_gb = grid.best_params_\n",
    "resultize(grid).head()'''"
   ]
  },
  {
   "cell_type": "code",
   "execution_count": null,
   "id": "48c2c5c9",
   "metadata": {},
   "outputs": [],
   "source": [
    "best_params_gb = {'learning_rate': 0.1, 'loss': 'huber', 'max_depth': 6, 'min_samples_leaf': 9}"
   ]
  },
  {
   "cell_type": "code",
   "execution_count": null,
   "id": "c1b4a073",
   "metadata": {},
   "outputs": [],
   "source": [
    "gb = GradientBoostingRegressor(**best_params_gb)\n",
    "gb.fit(X_train, y_train)\n",
    "y_pred = gb.predict(X_test)\n",
    "mean_squared_error(y_test, y_pred, squared=False)"
   ]
  },
  {
   "cell_type": "code",
   "execution_count": null,
   "id": "249ca26b",
   "metadata": {},
   "outputs": [],
   "source": [
    "'''tt_gb = TransformedTargetRegressor(regressor = GradientBoostingRegressor(),\n",
    "                                    func = np.log1p,\n",
    "                                    inverse_func = np.expm1)\n",
    "params = {'regressor__loss': ['ls', 'lad', 'huber', 'quantile'],\n",
    "            'regressor__learning_rate': [0.1, 0.05, 0.02, 0.01],\n",
    "            'regressor__max_depth': [4, 6],\n",
    "            'regressor__min_samples_leaf': [3, 5, 9, 17]}\n",
    "grid = GridSearchCV(tt_gb, params, cv = 10)\n",
    "grid.fit(X_train, y_train)\n",
    "best_params_gb_tt = grid.best_params_\n",
    "resultize(grid).head()'''"
   ]
  },
  {
   "cell_type": "code",
   "execution_count": null,
   "id": "3e6755ff",
   "metadata": {},
   "outputs": [],
   "source": [
    "best_params_gb_tt = {'learning_rate': 0.1,\n",
    "      'loss': 'ls',\n",
    "      'max_depth': 6,\n",
    "      'min_samples_leaf': 5\n",
    "      }\n",
    "gb_tt = TransformedTargetRegressor(regressor=GradientBoostingRegressor(**best_params_gb_tt),\n",
    "                                    func = np.log1p,\n",
    "                                    inverse_func = np.expm1)\n",
    "gb_tt.fit(X_train, y_train)\n",
    "y_pred = gb_tt.predict(X_test)\n",
    "mean_squared_error(y_test, y_pred, squared=False)"
   ]
  },
  {
   "cell_type": "code",
   "execution_count": null,
   "id": "a4c18783",
   "metadata": {},
   "outputs": [],
   "source": []
  },
  {
   "cell_type": "code",
   "execution_count": null,
   "id": "b6301ac8",
   "metadata": {},
   "outputs": [],
   "source": []
  },
  {
   "cell_type": "code",
   "execution_count": null,
   "id": "cf32d1d8",
   "metadata": {},
   "outputs": [],
   "source": []
  },
  {
   "cell_type": "code",
   "execution_count": null,
   "id": "f1de56fe",
   "metadata": {},
   "outputs": [],
   "source": []
  },
  {
   "cell_type": "code",
   "execution_count": null,
   "id": "9ddeb8c0",
   "metadata": {},
   "outputs": [],
   "source": [
    "ad =  AdaBoostRegressor()\n",
    "ad.fit(X_train, y_train)\n",
    "y_pred = ad.predict(X_test)\n",
    "mean_squared_error(y_test, y_pred, squared=False)"
   ]
  },
  {
   "cell_type": "code",
   "execution_count": null,
   "id": "c4480a43",
   "metadata": {},
   "outputs": [],
   "source": [
    "'''params = {'n_estimators': [100, 200, 300, 400, 500],\n",
    "            'learning_rate': [0.1, 0.05, 0.02, 0.01],\n",
    "            'loss': ['linear', 'square', 'exponential'],\n",
    "}\n",
    "grid = GridSearchCV(AdaBoostRegressor(), params, cv=10)\n",
    "grid.fit(X_train, y_train)\n",
    "best_params_ad = grid.best_params_\n",
    "resultize(grid).head()'''"
   ]
  },
  {
   "cell_type": "code",
   "execution_count": null,
   "id": "f4182d2b",
   "metadata": {},
   "outputs": [],
   "source": [
    "best_params_ad = {'learning_rate': 0.1, 'loss': 'square', 'n_estimators': 400}"
   ]
  },
  {
   "cell_type": "code",
   "execution_count": null,
   "id": "83cd3f4c",
   "metadata": {},
   "outputs": [],
   "source": [
    "ad = AdaBoostRegressor(**best_params_ad)\n",
    "ad.fit(X_train, y_train)\n",
    "y_pred = ad.predict(X_test)\n",
    "mean_squared_error(y_test, y_pred, squared=False)"
   ]
  },
  {
   "cell_type": "code",
   "execution_count": null,
   "id": "6d601ebb",
   "metadata": {},
   "outputs": [],
   "source": [
    "\"\"\"tt_ad = TransformedTargetRegressor(regressor = AdaBoostRegressor(),\n",
    "                                    func = np.log1p,\n",
    "                                    inverse_func = np.expm1)\n",
    "params = {'regressor__n_estimators': [100, 200, 300, 400, 500],\n",
    "            'regressor__learning_rate': [0.1, 0.05, 0.02, 0.01],\n",
    "            'regressor__loss': ['linear', 'square', 'exponential'],\n",
    "}\n",
    "grid = GridSearchCV(tt_ad, params, cv = 10)\n",
    "grid.fit(X_train, y_train)\n",
    "best_params_ad_tt = grid.best_params_\n",
    "resultize(grid).head()\"\"\""
   ]
  },
  {
   "cell_type": "code",
   "execution_count": null,
   "id": "20b58dd0",
   "metadata": {},
   "outputs": [],
   "source": [
    "best_params_ad_tt = {'learning_rate': 0.1,\n",
    "      'loss': 'square',\n",
    "      'n_estimators': 200\n",
    "      }\n",
    "tt_ad = TransformedTargetRegressor(regressor=AdaBoostRegressor(**best_params_ad_tt),\n",
    "                                    func = np.log1p,\n",
    "                                    inverse_func = np.expm1)\n",
    "tt_ad.fit(X_train, y_train)\n",
    "y_pred = tt_ad.predict(X_test)\n",
    "mean_squared_error(y_test, y_pred, squared=False)"
   ]
  },
  {
   "cell_type": "code",
   "execution_count": null,
   "id": "aa50b8d1",
   "metadata": {},
   "outputs": [],
   "source": []
  },
  {
   "cell_type": "code",
   "execution_count": null,
   "id": "08c48ebe",
   "metadata": {},
   "outputs": [],
   "source": [
    "from sklearn.neural_network import MLPRegressor\n",
    "mlp = MLPRegressor()\n",
    "mlp.fit(X_train, y_train)\n",
    "y_pred = mlp.predict(X_test)\n",
    "mean_squared_error(y_test, y_pred, squared=False)"
   ]
  },
  {
   "cell_type": "code",
   "execution_count": null,
   "id": "b30e3488",
   "metadata": {},
   "outputs": [],
   "source": [
    "'''params = {'hidden_layer_sizes': [(100,),(200,),(300,),(400,),(500,)],\n",
    "            'activation': ['identity', 'logistic', 'tanh', 'relu'],\n",
    "            'solver': ['lbfgs', 'adam'],\n",
    "}\n",
    "grid = GridSearchCV(MLPRegressor(), params, cv=10)\n",
    "grid.fit(X_train, y_train)\n",
    "best_params_mlp = grid.best_params_\n",
    "resultize(grid).head()'''"
   ]
  },
  {
   "cell_type": "code",
   "execution_count": null,
   "id": "aaacf4db",
   "metadata": {},
   "outputs": [],
   "source": [
    "best_params_mlp = {'activation': 'logistic',\n",
    "                  'hidden_layer_sizes': (200,), \n",
    "                  'solver': 'lbfgs'}"
   ]
  },
  {
   "cell_type": "code",
   "execution_count": null,
   "id": "872156ff",
   "metadata": {},
   "outputs": [],
   "source": [
    "mlp = MLPRegressor(**best_params_mlp)\n",
    "mlp.fit(X_train, y_train)\n",
    "y_pred = mlp.predict(X_test)\n",
    "mean_squared_error(y_test, y_pred, squared=False)"
   ]
  },
  {
   "cell_type": "code",
   "execution_count": null,
   "id": "72645510",
   "metadata": {},
   "outputs": [],
   "source": [
    "\"\"\"tt_mlp = TransformedTargetRegressor(regressor = MLPRegressor(),\n",
    "                                    func = np.log1p,\n",
    "                                    inverse_func = np.expm1)\n",
    "params = {'regressor__hidden_layer_sizes': [(100,),(200,),(300,),(400,),(500,)],\n",
    "            'regressor__activation': ['identity', 'logistic', 'tanh', 'relu'],\n",
    "            'regressor__solver': ['lbfgs', 'adam'],\n",
    "}\n",
    "grid = GridSearchCV(tt_mlp, params, cv = 10)\n",
    "grid.fit(X_train, y_train)\n",
    "best_params_mlp_tt = grid.best_params_\n",
    "resultize(grid).head()\"\"\""
   ]
  },
  {
   "cell_type": "code",
   "execution_count": null,
   "id": "0a26bce0",
   "metadata": {},
   "outputs": [],
   "source": [
    "best_params_mlp_tt = {'activation': 'tanh',\n",
    "      'hidden_layer_sizes': (100,),\n",
    "      'solver': 'adam'\n",
    "      }\n",
    "tt_mlp = TransformedTargetRegressor(regressor=MLPRegressor(**best_params_mlp_tt),\n",
    "                                    func = np.log1p,\n",
    "                                    inverse_func = np.expm1)\n",
    "tt_mlp.fit(X_train, y_train)\n",
    "y_pred = tt_mlp.predict(X_test)\n",
    "mean_squared_error(y_test, y_pred, squared=False)"
   ]
  },
  {
   "cell_type": "code",
   "execution_count": null,
   "id": "5a5e9138",
   "metadata": {},
   "outputs": [],
   "source": []
  },
  {
   "cell_type": "code",
   "execution_count": null,
   "id": "07005e30",
   "metadata": {},
   "outputs": [],
   "source": []
  },
  {
   "cell_type": "code",
   "execution_count": null,
   "id": "a0158473",
   "metadata": {},
   "outputs": [],
   "source": []
  },
  {
   "cell_type": "code",
   "execution_count": null,
   "id": "d8f08356",
   "metadata": {},
   "outputs": [],
   "source": []
  }
 ],
 "metadata": {
  "kernelspec": {
   "display_name": "Python 3 (ipykernel)",
   "language": "python",
   "name": "python3"
  },
  "language_info": {
   "codemirror_mode": {
    "name": "ipython",
    "version": 3
   },
   "file_extension": ".py",
   "mimetype": "text/x-python",
   "name": "python",
   "nbconvert_exporter": "python",
   "pygments_lexer": "ipython3",
   "version": "3.10.7"
  },
  "vscode": {
   "interpreter": {
    "hash": "8effbaa76bd891d5dedfafc37b55e0ad9035d84c812eadfdf6f5bc8817d866aa"
   }
  }
 },
 "nbformat": 4,
 "nbformat_minor": 5
}
