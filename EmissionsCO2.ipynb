{
 "cells": [
  {
   "cell_type": "code",
   "execution_count": 419,
   "id": "f4f25002",
   "metadata": {},
   "outputs": [],
   "source": [
    "import pandas as pd\n",
    "pd.options.display.max_columns=200\n",
    "import matplotlib.pyplot as plt\n",
    "import seaborn as sns\n",
    "import numpy as np\n",
    "from sklearn.preprocessing import StandardScaler\n",
    "import warnings \n",
    "warnings.filterwarnings('ignore')\n",
    "from sklearn.dummy import DummyRegressor\n",
    "from sklearn.model_selection import train_test_split, GridSearchCV\n",
    "from sklearn.metrics import mean_squared_error, mean_squared_log_error, mean_absolute_error, make_scorer\n",
    "from sklearn.linear_model import Ridge, LinearRegression, Lasso\n",
    "from sklearn.compose import TransformedTargetRegressor\n",
    "from sklearn.svm import SVR\n",
    "from scipy.stats import skew\n",
    "from sklearn.ensemble import RandomForestRegressor, GradientBoostingRegressor, AdaBoostRegressor"
   ]
  },
  {
   "cell_type": "code",
   "execution_count": 420,
   "id": "4ea029de",
   "metadata": {},
   "outputs": [],
   "source": [
    "data = pd.read_csv('data.csv')"
   ]
  },
  {
   "cell_type": "code",
   "execution_count": 421,
   "id": "da0b82c9",
   "metadata": {},
   "outputs": [],
   "source": [
    "data.set_index('OSEBuildingID', inplace = True)"
   ]
  },
  {
   "cell_type": "code",
   "execution_count": 422,
   "id": "3c5f8a60",
   "metadata": {},
   "outputs": [
    {
     "data": {
      "text/html": [
       "<div>\n",
       "<style scoped>\n",
       "    .dataframe tbody tr th:only-of-type {\n",
       "        vertical-align: middle;\n",
       "    }\n",
       "\n",
       "    .dataframe tbody tr th {\n",
       "        vertical-align: top;\n",
       "    }\n",
       "\n",
       "    .dataframe thead th {\n",
       "        text-align: right;\n",
       "    }\n",
       "</style>\n",
       "<table border=\"1\" class=\"dataframe\">\n",
       "  <thead>\n",
       "    <tr style=\"text-align: right;\">\n",
       "      <th></th>\n",
       "      <th>NumberofBuildings</th>\n",
       "      <th>NumberofFloors</th>\n",
       "      <th>PropertyGFATotal</th>\n",
       "      <th>LargestPropertyUseTypeGFA</th>\n",
       "      <th>ENERGYSTARScore</th>\n",
       "      <th>EnergyStarNaN</th>\n",
       "      <th>SiteEUI(kBtu/sf)</th>\n",
       "      <th>SiteEUIWN(kBtu/sf)</th>\n",
       "      <th>SourceEUI(kBtu/sf)</th>\n",
       "      <th>SourceEUIWN(kBtu/sf)</th>\n",
       "      <th>SiteEnergyUse(kBtu)</th>\n",
       "      <th>SiteEnergyUseWN(kBtu)</th>\n",
       "      <th>TotalGHGEmissions</th>\n",
       "      <th>GHGEmissionsIntensity</th>\n",
       "      <th>Age</th>\n",
       "      <th>PropertyGFAParking(%)</th>\n",
       "      <th>PropertyGFABuilding(s)(%)</th>\n",
       "      <th>SteamUse(%)</th>\n",
       "      <th>Electricity(%)</th>\n",
       "      <th>NaturalGas(%)</th>\n",
       "      <th>PrimaryPropertyType_Distribution Center</th>\n",
       "      <th>PrimaryPropertyType_Hotel</th>\n",
       "      <th>PrimaryPropertyType_K-12 School</th>\n",
       "      <th>PrimaryPropertyType_Large Office</th>\n",
       "      <th>PrimaryPropertyType_Medical Office</th>\n",
       "      <th>PrimaryPropertyType_Mixed Use Property</th>\n",
       "      <th>PrimaryPropertyType_Other</th>\n",
       "      <th>PrimaryPropertyType_Retail Store</th>\n",
       "      <th>PrimaryPropertyType_Self-Storage Facility</th>\n",
       "      <th>PrimaryPropertyType_Small- and Mid-Sized Office</th>\n",
       "      <th>PrimaryPropertyType_Supermarket / Grocery Store</th>\n",
       "      <th>PrimaryPropertyType_University</th>\n",
       "      <th>PrimaryPropertyType_Warehouse</th>\n",
       "      <th>PrimaryPropertyType_Worship Facility</th>\n",
       "      <th>CouncilDistrictCode_1</th>\n",
       "      <th>CouncilDistrictCode_2</th>\n",
       "      <th>CouncilDistrictCode_3</th>\n",
       "      <th>CouncilDistrictCode_4</th>\n",
       "      <th>CouncilDistrictCode_5</th>\n",
       "      <th>CouncilDistrictCode_6</th>\n",
       "      <th>CouncilDistrictCode_7</th>\n",
       "    </tr>\n",
       "    <tr>\n",
       "      <th>OSEBuildingID</th>\n",
       "      <th></th>\n",
       "      <th></th>\n",
       "      <th></th>\n",
       "      <th></th>\n",
       "      <th></th>\n",
       "      <th></th>\n",
       "      <th></th>\n",
       "      <th></th>\n",
       "      <th></th>\n",
       "      <th></th>\n",
       "      <th></th>\n",
       "      <th></th>\n",
       "      <th></th>\n",
       "      <th></th>\n",
       "      <th></th>\n",
       "      <th></th>\n",
       "      <th></th>\n",
       "      <th></th>\n",
       "      <th></th>\n",
       "      <th></th>\n",
       "      <th></th>\n",
       "      <th></th>\n",
       "      <th></th>\n",
       "      <th></th>\n",
       "      <th></th>\n",
       "      <th></th>\n",
       "      <th></th>\n",
       "      <th></th>\n",
       "      <th></th>\n",
       "      <th></th>\n",
       "      <th></th>\n",
       "      <th></th>\n",
       "      <th></th>\n",
       "      <th></th>\n",
       "      <th></th>\n",
       "      <th></th>\n",
       "      <th></th>\n",
       "      <th></th>\n",
       "      <th></th>\n",
       "      <th></th>\n",
       "      <th></th>\n",
       "    </tr>\n",
       "  </thead>\n",
       "  <tbody>\n",
       "    <tr>\n",
       "      <th>1</th>\n",
       "      <td>1.0</td>\n",
       "      <td>12.0</td>\n",
       "      <td>88434.0</td>\n",
       "      <td>88434.0</td>\n",
       "      <td>60.0</td>\n",
       "      <td>0.0</td>\n",
       "      <td>81.699997</td>\n",
       "      <td>84.300003</td>\n",
       "      <td>182.500000</td>\n",
       "      <td>189.000000</td>\n",
       "      <td>7.226362e+06</td>\n",
       "      <td>7.456910e+06</td>\n",
       "      <td>249.98</td>\n",
       "      <td>2.83</td>\n",
       "      <td>89.0</td>\n",
       "      <td>0.000000</td>\n",
       "      <td>100.000000</td>\n",
       "      <td>27.730162</td>\n",
       "      <td>54.605993</td>\n",
       "      <td>17.663838</td>\n",
       "      <td>0.0</td>\n",
       "      <td>1.0</td>\n",
       "      <td>0.0</td>\n",
       "      <td>0.0</td>\n",
       "      <td>0.0</td>\n",
       "      <td>0.0</td>\n",
       "      <td>0.0</td>\n",
       "      <td>0.0</td>\n",
       "      <td>0.0</td>\n",
       "      <td>0.0</td>\n",
       "      <td>0.0</td>\n",
       "      <td>0.0</td>\n",
       "      <td>0.0</td>\n",
       "      <td>0.0</td>\n",
       "      <td>0.0</td>\n",
       "      <td>0.0</td>\n",
       "      <td>0.0</td>\n",
       "      <td>0.0</td>\n",
       "      <td>0.0</td>\n",
       "      <td>0.0</td>\n",
       "      <td>1.0</td>\n",
       "    </tr>\n",
       "    <tr>\n",
       "      <th>2</th>\n",
       "      <td>1.0</td>\n",
       "      <td>11.0</td>\n",
       "      <td>103566.0</td>\n",
       "      <td>83880.0</td>\n",
       "      <td>61.0</td>\n",
       "      <td>0.0</td>\n",
       "      <td>94.800003</td>\n",
       "      <td>97.900002</td>\n",
       "      <td>176.100006</td>\n",
       "      <td>179.399994</td>\n",
       "      <td>8.387933e+06</td>\n",
       "      <td>8.664479e+06</td>\n",
       "      <td>295.86</td>\n",
       "      <td>2.86</td>\n",
       "      <td>20.0</td>\n",
       "      <td>14.545314</td>\n",
       "      <td>85.454686</td>\n",
       "      <td>0.000000</td>\n",
       "      <td>38.660907</td>\n",
       "      <td>61.339093</td>\n",
       "      <td>0.0</td>\n",
       "      <td>1.0</td>\n",
       "      <td>0.0</td>\n",
       "      <td>0.0</td>\n",
       "      <td>0.0</td>\n",
       "      <td>0.0</td>\n",
       "      <td>0.0</td>\n",
       "      <td>0.0</td>\n",
       "      <td>0.0</td>\n",
       "      <td>0.0</td>\n",
       "      <td>0.0</td>\n",
       "      <td>0.0</td>\n",
       "      <td>0.0</td>\n",
       "      <td>0.0</td>\n",
       "      <td>0.0</td>\n",
       "      <td>0.0</td>\n",
       "      <td>0.0</td>\n",
       "      <td>0.0</td>\n",
       "      <td>0.0</td>\n",
       "      <td>0.0</td>\n",
       "      <td>1.0</td>\n",
       "    </tr>\n",
       "    <tr>\n",
       "      <th>3</th>\n",
       "      <td>1.0</td>\n",
       "      <td>41.0</td>\n",
       "      <td>956110.0</td>\n",
       "      <td>756493.0</td>\n",
       "      <td>43.0</td>\n",
       "      <td>0.0</td>\n",
       "      <td>96.000000</td>\n",
       "      <td>97.699997</td>\n",
       "      <td>241.899994</td>\n",
       "      <td>244.100006</td>\n",
       "      <td>7.258702e+07</td>\n",
       "      <td>7.393711e+07</td>\n",
       "      <td>2089.28</td>\n",
       "      <td>2.19</td>\n",
       "      <td>47.0</td>\n",
       "      <td>20.574829</td>\n",
       "      <td>79.425171</td>\n",
       "      <td>29.711308</td>\n",
       "      <td>68.230741</td>\n",
       "      <td>2.057944</td>\n",
       "      <td>0.0</td>\n",
       "      <td>1.0</td>\n",
       "      <td>0.0</td>\n",
       "      <td>0.0</td>\n",
       "      <td>0.0</td>\n",
       "      <td>0.0</td>\n",
       "      <td>0.0</td>\n",
       "      <td>0.0</td>\n",
       "      <td>0.0</td>\n",
       "      <td>0.0</td>\n",
       "      <td>0.0</td>\n",
       "      <td>0.0</td>\n",
       "      <td>0.0</td>\n",
       "      <td>0.0</td>\n",
       "      <td>0.0</td>\n",
       "      <td>0.0</td>\n",
       "      <td>0.0</td>\n",
       "      <td>0.0</td>\n",
       "      <td>0.0</td>\n",
       "      <td>0.0</td>\n",
       "      <td>1.0</td>\n",
       "    </tr>\n",
       "    <tr>\n",
       "      <th>5</th>\n",
       "      <td>1.0</td>\n",
       "      <td>10.0</td>\n",
       "      <td>61320.0</td>\n",
       "      <td>61320.0</td>\n",
       "      <td>56.0</td>\n",
       "      <td>0.0</td>\n",
       "      <td>110.800003</td>\n",
       "      <td>113.300003</td>\n",
       "      <td>216.199997</td>\n",
       "      <td>224.000000</td>\n",
       "      <td>6.794584e+06</td>\n",
       "      <td>6.946800e+06</td>\n",
       "      <td>286.43</td>\n",
       "      <td>4.67</td>\n",
       "      <td>90.0</td>\n",
       "      <td>0.000000</td>\n",
       "      <td>100.000000</td>\n",
       "      <td>32.591344</td>\n",
       "      <td>40.751928</td>\n",
       "      <td>26.656717</td>\n",
       "      <td>0.0</td>\n",
       "      <td>1.0</td>\n",
       "      <td>0.0</td>\n",
       "      <td>0.0</td>\n",
       "      <td>0.0</td>\n",
       "      <td>0.0</td>\n",
       "      <td>0.0</td>\n",
       "      <td>0.0</td>\n",
       "      <td>0.0</td>\n",
       "      <td>0.0</td>\n",
       "      <td>0.0</td>\n",
       "      <td>0.0</td>\n",
       "      <td>0.0</td>\n",
       "      <td>0.0</td>\n",
       "      <td>0.0</td>\n",
       "      <td>0.0</td>\n",
       "      <td>0.0</td>\n",
       "      <td>0.0</td>\n",
       "      <td>0.0</td>\n",
       "      <td>0.0</td>\n",
       "      <td>1.0</td>\n",
       "    </tr>\n",
       "    <tr>\n",
       "      <th>8</th>\n",
       "      <td>1.0</td>\n",
       "      <td>18.0</td>\n",
       "      <td>175580.0</td>\n",
       "      <td>123445.0</td>\n",
       "      <td>75.0</td>\n",
       "      <td>0.0</td>\n",
       "      <td>114.800003</td>\n",
       "      <td>118.699997</td>\n",
       "      <td>211.399994</td>\n",
       "      <td>215.600006</td>\n",
       "      <td>1.417261e+07</td>\n",
       "      <td>1.465650e+07</td>\n",
       "      <td>505.01</td>\n",
       "      <td>2.88</td>\n",
       "      <td>36.0</td>\n",
       "      <td>35.311539</td>\n",
       "      <td>64.688461</td>\n",
       "      <td>0.000000</td>\n",
       "      <td>37.880168</td>\n",
       "      <td>62.119825</td>\n",
       "      <td>0.0</td>\n",
       "      <td>1.0</td>\n",
       "      <td>0.0</td>\n",
       "      <td>0.0</td>\n",
       "      <td>0.0</td>\n",
       "      <td>0.0</td>\n",
       "      <td>0.0</td>\n",
       "      <td>0.0</td>\n",
       "      <td>0.0</td>\n",
       "      <td>0.0</td>\n",
       "      <td>0.0</td>\n",
       "      <td>0.0</td>\n",
       "      <td>0.0</td>\n",
       "      <td>0.0</td>\n",
       "      <td>0.0</td>\n",
       "      <td>0.0</td>\n",
       "      <td>0.0</td>\n",
       "      <td>0.0</td>\n",
       "      <td>0.0</td>\n",
       "      <td>0.0</td>\n",
       "      <td>1.0</td>\n",
       "    </tr>\n",
       "    <tr>\n",
       "      <th>...</th>\n",
       "      <td>...</td>\n",
       "      <td>...</td>\n",
       "      <td>...</td>\n",
       "      <td>...</td>\n",
       "      <td>...</td>\n",
       "      <td>...</td>\n",
       "      <td>...</td>\n",
       "      <td>...</td>\n",
       "      <td>...</td>\n",
       "      <td>...</td>\n",
       "      <td>...</td>\n",
       "      <td>...</td>\n",
       "      <td>...</td>\n",
       "      <td>...</td>\n",
       "      <td>...</td>\n",
       "      <td>...</td>\n",
       "      <td>...</td>\n",
       "      <td>...</td>\n",
       "      <td>...</td>\n",
       "      <td>...</td>\n",
       "      <td>...</td>\n",
       "      <td>...</td>\n",
       "      <td>...</td>\n",
       "      <td>...</td>\n",
       "      <td>...</td>\n",
       "      <td>...</td>\n",
       "      <td>...</td>\n",
       "      <td>...</td>\n",
       "      <td>...</td>\n",
       "      <td>...</td>\n",
       "      <td>...</td>\n",
       "      <td>...</td>\n",
       "      <td>...</td>\n",
       "      <td>...</td>\n",
       "      <td>...</td>\n",
       "      <td>...</td>\n",
       "      <td>...</td>\n",
       "      <td>...</td>\n",
       "      <td>...</td>\n",
       "      <td>...</td>\n",
       "      <td>...</td>\n",
       "    </tr>\n",
       "    <tr>\n",
       "      <th>50222</th>\n",
       "      <td>1.0</td>\n",
       "      <td>1.0</td>\n",
       "      <td>12294.0</td>\n",
       "      <td>12294.0</td>\n",
       "      <td>46.0</td>\n",
       "      <td>0.0</td>\n",
       "      <td>69.099998</td>\n",
       "      <td>76.699997</td>\n",
       "      <td>161.699997</td>\n",
       "      <td>176.100006</td>\n",
       "      <td>8.497457e+05</td>\n",
       "      <td>9.430032e+05</td>\n",
       "      <td>20.94</td>\n",
       "      <td>1.70</td>\n",
       "      <td>26.0</td>\n",
       "      <td>0.000000</td>\n",
       "      <td>100.000000</td>\n",
       "      <td>0.000000</td>\n",
       "      <td>61.697384</td>\n",
       "      <td>38.302639</td>\n",
       "      <td>0.0</td>\n",
       "      <td>0.0</td>\n",
       "      <td>0.0</td>\n",
       "      <td>0.0</td>\n",
       "      <td>0.0</td>\n",
       "      <td>0.0</td>\n",
       "      <td>1.0</td>\n",
       "      <td>0.0</td>\n",
       "      <td>0.0</td>\n",
       "      <td>0.0</td>\n",
       "      <td>0.0</td>\n",
       "      <td>0.0</td>\n",
       "      <td>0.0</td>\n",
       "      <td>0.0</td>\n",
       "      <td>0.0</td>\n",
       "      <td>1.0</td>\n",
       "      <td>0.0</td>\n",
       "      <td>0.0</td>\n",
       "      <td>0.0</td>\n",
       "      <td>0.0</td>\n",
       "      <td>0.0</td>\n",
       "    </tr>\n",
       "    <tr>\n",
       "      <th>50223</th>\n",
       "      <td>1.0</td>\n",
       "      <td>1.0</td>\n",
       "      <td>16000.0</td>\n",
       "      <td>16000.0</td>\n",
       "      <td>0.0</td>\n",
       "      <td>1.0</td>\n",
       "      <td>59.400002</td>\n",
       "      <td>65.900002</td>\n",
       "      <td>114.199997</td>\n",
       "      <td>118.900002</td>\n",
       "      <td>9.502762e+05</td>\n",
       "      <td>1.053706e+06</td>\n",
       "      <td>32.17</td>\n",
       "      <td>2.01</td>\n",
       "      <td>12.0</td>\n",
       "      <td>0.000000</td>\n",
       "      <td>100.000000</td>\n",
       "      <td>0.000000</td>\n",
       "      <td>41.729558</td>\n",
       "      <td>58.270426</td>\n",
       "      <td>0.0</td>\n",
       "      <td>0.0</td>\n",
       "      <td>0.0</td>\n",
       "      <td>0.0</td>\n",
       "      <td>0.0</td>\n",
       "      <td>0.0</td>\n",
       "      <td>1.0</td>\n",
       "      <td>0.0</td>\n",
       "      <td>0.0</td>\n",
       "      <td>0.0</td>\n",
       "      <td>0.0</td>\n",
       "      <td>0.0</td>\n",
       "      <td>0.0</td>\n",
       "      <td>0.0</td>\n",
       "      <td>0.0</td>\n",
       "      <td>1.0</td>\n",
       "      <td>0.0</td>\n",
       "      <td>0.0</td>\n",
       "      <td>0.0</td>\n",
       "      <td>0.0</td>\n",
       "      <td>0.0</td>\n",
       "    </tr>\n",
       "    <tr>\n",
       "      <th>50224</th>\n",
       "      <td>1.0</td>\n",
       "      <td>1.0</td>\n",
       "      <td>13157.0</td>\n",
       "      <td>7583.0</td>\n",
       "      <td>0.0</td>\n",
       "      <td>1.0</td>\n",
       "      <td>438.200012</td>\n",
       "      <td>460.100006</td>\n",
       "      <td>744.799988</td>\n",
       "      <td>767.799988</td>\n",
       "      <td>5.765898e+06</td>\n",
       "      <td>6.053764e+06</td>\n",
       "      <td>223.54</td>\n",
       "      <td>16.99</td>\n",
       "      <td>42.0</td>\n",
       "      <td>0.000000</td>\n",
       "      <td>100.000000</td>\n",
       "      <td>0.000000</td>\n",
       "      <td>31.082041</td>\n",
       "      <td>68.917956</td>\n",
       "      <td>0.0</td>\n",
       "      <td>0.0</td>\n",
       "      <td>0.0</td>\n",
       "      <td>0.0</td>\n",
       "      <td>0.0</td>\n",
       "      <td>0.0</td>\n",
       "      <td>1.0</td>\n",
       "      <td>0.0</td>\n",
       "      <td>0.0</td>\n",
       "      <td>0.0</td>\n",
       "      <td>0.0</td>\n",
       "      <td>0.0</td>\n",
       "      <td>0.0</td>\n",
       "      <td>0.0</td>\n",
       "      <td>0.0</td>\n",
       "      <td>0.0</td>\n",
       "      <td>0.0</td>\n",
       "      <td>0.0</td>\n",
       "      <td>0.0</td>\n",
       "      <td>0.0</td>\n",
       "      <td>1.0</td>\n",
       "    </tr>\n",
       "    <tr>\n",
       "      <th>50225</th>\n",
       "      <td>1.0</td>\n",
       "      <td>1.0</td>\n",
       "      <td>14101.0</td>\n",
       "      <td>6601.0</td>\n",
       "      <td>0.0</td>\n",
       "      <td>1.0</td>\n",
       "      <td>51.000000</td>\n",
       "      <td>55.500000</td>\n",
       "      <td>105.300003</td>\n",
       "      <td>110.800003</td>\n",
       "      <td>7.194712e+05</td>\n",
       "      <td>7.828413e+05</td>\n",
       "      <td>22.11</td>\n",
       "      <td>1.57</td>\n",
       "      <td>27.0</td>\n",
       "      <td>0.000000</td>\n",
       "      <td>100.000000</td>\n",
       "      <td>0.000000</td>\n",
       "      <td>48.489805</td>\n",
       "      <td>51.510194</td>\n",
       "      <td>0.0</td>\n",
       "      <td>0.0</td>\n",
       "      <td>0.0</td>\n",
       "      <td>0.0</td>\n",
       "      <td>0.0</td>\n",
       "      <td>1.0</td>\n",
       "      <td>0.0</td>\n",
       "      <td>0.0</td>\n",
       "      <td>0.0</td>\n",
       "      <td>0.0</td>\n",
       "      <td>0.0</td>\n",
       "      <td>0.0</td>\n",
       "      <td>0.0</td>\n",
       "      <td>0.0</td>\n",
       "      <td>1.0</td>\n",
       "      <td>0.0</td>\n",
       "      <td>0.0</td>\n",
       "      <td>0.0</td>\n",
       "      <td>0.0</td>\n",
       "      <td>0.0</td>\n",
       "      <td>0.0</td>\n",
       "    </tr>\n",
       "    <tr>\n",
       "      <th>50226</th>\n",
       "      <td>1.0</td>\n",
       "      <td>1.0</td>\n",
       "      <td>18258.0</td>\n",
       "      <td>8271.0</td>\n",
       "      <td>0.0</td>\n",
       "      <td>1.0</td>\n",
       "      <td>63.099998</td>\n",
       "      <td>70.900002</td>\n",
       "      <td>115.800003</td>\n",
       "      <td>123.900002</td>\n",
       "      <td>1.152896e+06</td>\n",
       "      <td>1.293722e+06</td>\n",
       "      <td>41.27</td>\n",
       "      <td>2.26</td>\n",
       "      <td>78.0</td>\n",
       "      <td>0.000000</td>\n",
       "      <td>100.000000</td>\n",
       "      <td>0.000000</td>\n",
       "      <td>37.518922</td>\n",
       "      <td>62.481077</td>\n",
       "      <td>0.0</td>\n",
       "      <td>0.0</td>\n",
       "      <td>0.0</td>\n",
       "      <td>0.0</td>\n",
       "      <td>0.0</td>\n",
       "      <td>1.0</td>\n",
       "      <td>0.0</td>\n",
       "      <td>0.0</td>\n",
       "      <td>0.0</td>\n",
       "      <td>0.0</td>\n",
       "      <td>0.0</td>\n",
       "      <td>0.0</td>\n",
       "      <td>0.0</td>\n",
       "      <td>0.0</td>\n",
       "      <td>0.0</td>\n",
       "      <td>1.0</td>\n",
       "      <td>0.0</td>\n",
       "      <td>0.0</td>\n",
       "      <td>0.0</td>\n",
       "      <td>0.0</td>\n",
       "      <td>0.0</td>\n",
       "    </tr>\n",
       "  </tbody>\n",
       "</table>\n",
       "<p>1648 rows × 41 columns</p>\n",
       "</div>"
      ],
      "text/plain": [
       "               NumberofBuildings  NumberofFloors  PropertyGFATotal  \\\n",
       "OSEBuildingID                                                        \n",
       "1                            1.0            12.0           88434.0   \n",
       "2                            1.0            11.0          103566.0   \n",
       "3                            1.0            41.0          956110.0   \n",
       "5                            1.0            10.0           61320.0   \n",
       "8                            1.0            18.0          175580.0   \n",
       "...                          ...             ...               ...   \n",
       "50222                        1.0             1.0           12294.0   \n",
       "50223                        1.0             1.0           16000.0   \n",
       "50224                        1.0             1.0           13157.0   \n",
       "50225                        1.0             1.0           14101.0   \n",
       "50226                        1.0             1.0           18258.0   \n",
       "\n",
       "               LargestPropertyUseTypeGFA  ENERGYSTARScore  EnergyStarNaN  \\\n",
       "OSEBuildingID                                                              \n",
       "1                                88434.0             60.0            0.0   \n",
       "2                                83880.0             61.0            0.0   \n",
       "3                               756493.0             43.0            0.0   \n",
       "5                                61320.0             56.0            0.0   \n",
       "8                               123445.0             75.0            0.0   \n",
       "...                                  ...              ...            ...   \n",
       "50222                            12294.0             46.0            0.0   \n",
       "50223                            16000.0              0.0            1.0   \n",
       "50224                             7583.0              0.0            1.0   \n",
       "50225                             6601.0              0.0            1.0   \n",
       "50226                             8271.0              0.0            1.0   \n",
       "\n",
       "               SiteEUI(kBtu/sf)  SiteEUIWN(kBtu/sf)  SourceEUI(kBtu/sf)  \\\n",
       "OSEBuildingID                                                             \n",
       "1                     81.699997           84.300003          182.500000   \n",
       "2                     94.800003           97.900002          176.100006   \n",
       "3                     96.000000           97.699997          241.899994   \n",
       "5                    110.800003          113.300003          216.199997   \n",
       "8                    114.800003          118.699997          211.399994   \n",
       "...                         ...                 ...                 ...   \n",
       "50222                 69.099998           76.699997          161.699997   \n",
       "50223                 59.400002           65.900002          114.199997   \n",
       "50224                438.200012          460.100006          744.799988   \n",
       "50225                 51.000000           55.500000          105.300003   \n",
       "50226                 63.099998           70.900002          115.800003   \n",
       "\n",
       "               SourceEUIWN(kBtu/sf)  SiteEnergyUse(kBtu)  \\\n",
       "OSEBuildingID                                              \n",
       "1                        189.000000         7.226362e+06   \n",
       "2                        179.399994         8.387933e+06   \n",
       "3                        244.100006         7.258702e+07   \n",
       "5                        224.000000         6.794584e+06   \n",
       "8                        215.600006         1.417261e+07   \n",
       "...                             ...                  ...   \n",
       "50222                    176.100006         8.497457e+05   \n",
       "50223                    118.900002         9.502762e+05   \n",
       "50224                    767.799988         5.765898e+06   \n",
       "50225                    110.800003         7.194712e+05   \n",
       "50226                    123.900002         1.152896e+06   \n",
       "\n",
       "               SiteEnergyUseWN(kBtu)  TotalGHGEmissions  \\\n",
       "OSEBuildingID                                             \n",
       "1                       7.456910e+06             249.98   \n",
       "2                       8.664479e+06             295.86   \n",
       "3                       7.393711e+07            2089.28   \n",
       "5                       6.946800e+06             286.43   \n",
       "8                       1.465650e+07             505.01   \n",
       "...                              ...                ...   \n",
       "50222                   9.430032e+05              20.94   \n",
       "50223                   1.053706e+06              32.17   \n",
       "50224                   6.053764e+06             223.54   \n",
       "50225                   7.828413e+05              22.11   \n",
       "50226                   1.293722e+06              41.27   \n",
       "\n",
       "               GHGEmissionsIntensity   Age  PropertyGFAParking(%)  \\\n",
       "OSEBuildingID                                                       \n",
       "1                               2.83  89.0               0.000000   \n",
       "2                               2.86  20.0              14.545314   \n",
       "3                               2.19  47.0              20.574829   \n",
       "5                               4.67  90.0               0.000000   \n",
       "8                               2.88  36.0              35.311539   \n",
       "...                              ...   ...                    ...   \n",
       "50222                           1.70  26.0               0.000000   \n",
       "50223                           2.01  12.0               0.000000   \n",
       "50224                          16.99  42.0               0.000000   \n",
       "50225                           1.57  27.0               0.000000   \n",
       "50226                           2.26  78.0               0.000000   \n",
       "\n",
       "               PropertyGFABuilding(s)(%)  SteamUse(%)  Electricity(%)  \\\n",
       "OSEBuildingID                                                           \n",
       "1                             100.000000    27.730162       54.605993   \n",
       "2                              85.454686     0.000000       38.660907   \n",
       "3                              79.425171    29.711308       68.230741   \n",
       "5                             100.000000    32.591344       40.751928   \n",
       "8                              64.688461     0.000000       37.880168   \n",
       "...                                  ...          ...             ...   \n",
       "50222                         100.000000     0.000000       61.697384   \n",
       "50223                         100.000000     0.000000       41.729558   \n",
       "50224                         100.000000     0.000000       31.082041   \n",
       "50225                         100.000000     0.000000       48.489805   \n",
       "50226                         100.000000     0.000000       37.518922   \n",
       "\n",
       "               NaturalGas(%)  PrimaryPropertyType_Distribution Center  \\\n",
       "OSEBuildingID                                                           \n",
       "1                  17.663838                                      0.0   \n",
       "2                  61.339093                                      0.0   \n",
       "3                   2.057944                                      0.0   \n",
       "5                  26.656717                                      0.0   \n",
       "8                  62.119825                                      0.0   \n",
       "...                      ...                                      ...   \n",
       "50222              38.302639                                      0.0   \n",
       "50223              58.270426                                      0.0   \n",
       "50224              68.917956                                      0.0   \n",
       "50225              51.510194                                      0.0   \n",
       "50226              62.481077                                      0.0   \n",
       "\n",
       "               PrimaryPropertyType_Hotel  PrimaryPropertyType_K-12 School  \\\n",
       "OSEBuildingID                                                               \n",
       "1                                    1.0                              0.0   \n",
       "2                                    1.0                              0.0   \n",
       "3                                    1.0                              0.0   \n",
       "5                                    1.0                              0.0   \n",
       "8                                    1.0                              0.0   \n",
       "...                                  ...                              ...   \n",
       "50222                                0.0                              0.0   \n",
       "50223                                0.0                              0.0   \n",
       "50224                                0.0                              0.0   \n",
       "50225                                0.0                              0.0   \n",
       "50226                                0.0                              0.0   \n",
       "\n",
       "               PrimaryPropertyType_Large Office  \\\n",
       "OSEBuildingID                                     \n",
       "1                                           0.0   \n",
       "2                                           0.0   \n",
       "3                                           0.0   \n",
       "5                                           0.0   \n",
       "8                                           0.0   \n",
       "...                                         ...   \n",
       "50222                                       0.0   \n",
       "50223                                       0.0   \n",
       "50224                                       0.0   \n",
       "50225                                       0.0   \n",
       "50226                                       0.0   \n",
       "\n",
       "               PrimaryPropertyType_Medical Office  \\\n",
       "OSEBuildingID                                       \n",
       "1                                             0.0   \n",
       "2                                             0.0   \n",
       "3                                             0.0   \n",
       "5                                             0.0   \n",
       "8                                             0.0   \n",
       "...                                           ...   \n",
       "50222                                         0.0   \n",
       "50223                                         0.0   \n",
       "50224                                         0.0   \n",
       "50225                                         0.0   \n",
       "50226                                         0.0   \n",
       "\n",
       "               PrimaryPropertyType_Mixed Use Property  \\\n",
       "OSEBuildingID                                           \n",
       "1                                                 0.0   \n",
       "2                                                 0.0   \n",
       "3                                                 0.0   \n",
       "5                                                 0.0   \n",
       "8                                                 0.0   \n",
       "...                                               ...   \n",
       "50222                                             0.0   \n",
       "50223                                             0.0   \n",
       "50224                                             0.0   \n",
       "50225                                             1.0   \n",
       "50226                                             1.0   \n",
       "\n",
       "               PrimaryPropertyType_Other  PrimaryPropertyType_Retail Store  \\\n",
       "OSEBuildingID                                                                \n",
       "1                                    0.0                               0.0   \n",
       "2                                    0.0                               0.0   \n",
       "3                                    0.0                               0.0   \n",
       "5                                    0.0                               0.0   \n",
       "8                                    0.0                               0.0   \n",
       "...                                  ...                               ...   \n",
       "50222                                1.0                               0.0   \n",
       "50223                                1.0                               0.0   \n",
       "50224                                1.0                               0.0   \n",
       "50225                                0.0                               0.0   \n",
       "50226                                0.0                               0.0   \n",
       "\n",
       "               PrimaryPropertyType_Self-Storage Facility  \\\n",
       "OSEBuildingID                                              \n",
       "1                                                    0.0   \n",
       "2                                                    0.0   \n",
       "3                                                    0.0   \n",
       "5                                                    0.0   \n",
       "8                                                    0.0   \n",
       "...                                                  ...   \n",
       "50222                                                0.0   \n",
       "50223                                                0.0   \n",
       "50224                                                0.0   \n",
       "50225                                                0.0   \n",
       "50226                                                0.0   \n",
       "\n",
       "               PrimaryPropertyType_Small- and Mid-Sized Office  \\\n",
       "OSEBuildingID                                                    \n",
       "1                                                          0.0   \n",
       "2                                                          0.0   \n",
       "3                                                          0.0   \n",
       "5                                                          0.0   \n",
       "8                                                          0.0   \n",
       "...                                                        ...   \n",
       "50222                                                      0.0   \n",
       "50223                                                      0.0   \n",
       "50224                                                      0.0   \n",
       "50225                                                      0.0   \n",
       "50226                                                      0.0   \n",
       "\n",
       "               PrimaryPropertyType_Supermarket / Grocery Store  \\\n",
       "OSEBuildingID                                                    \n",
       "1                                                          0.0   \n",
       "2                                                          0.0   \n",
       "3                                                          0.0   \n",
       "5                                                          0.0   \n",
       "8                                                          0.0   \n",
       "...                                                        ...   \n",
       "50222                                                      0.0   \n",
       "50223                                                      0.0   \n",
       "50224                                                      0.0   \n",
       "50225                                                      0.0   \n",
       "50226                                                      0.0   \n",
       "\n",
       "               PrimaryPropertyType_University  PrimaryPropertyType_Warehouse  \\\n",
       "OSEBuildingID                                                                  \n",
       "1                                         0.0                            0.0   \n",
       "2                                         0.0                            0.0   \n",
       "3                                         0.0                            0.0   \n",
       "5                                         0.0                            0.0   \n",
       "8                                         0.0                            0.0   \n",
       "...                                       ...                            ...   \n",
       "50222                                     0.0                            0.0   \n",
       "50223                                     0.0                            0.0   \n",
       "50224                                     0.0                            0.0   \n",
       "50225                                     0.0                            0.0   \n",
       "50226                                     0.0                            0.0   \n",
       "\n",
       "               PrimaryPropertyType_Worship Facility  CouncilDistrictCode_1  \\\n",
       "OSEBuildingID                                                                \n",
       "1                                               0.0                    0.0   \n",
       "2                                               0.0                    0.0   \n",
       "3                                               0.0                    0.0   \n",
       "5                                               0.0                    0.0   \n",
       "8                                               0.0                    0.0   \n",
       "...                                             ...                    ...   \n",
       "50222                                           0.0                    0.0   \n",
       "50223                                           0.0                    0.0   \n",
       "50224                                           0.0                    0.0   \n",
       "50225                                           0.0                    1.0   \n",
       "50226                                           0.0                    0.0   \n",
       "\n",
       "               CouncilDistrictCode_2  CouncilDistrictCode_3  \\\n",
       "OSEBuildingID                                                 \n",
       "1                                0.0                    0.0   \n",
       "2                                0.0                    0.0   \n",
       "3                                0.0                    0.0   \n",
       "5                                0.0                    0.0   \n",
       "8                                0.0                    0.0   \n",
       "...                              ...                    ...   \n",
       "50222                            1.0                    0.0   \n",
       "50223                            1.0                    0.0   \n",
       "50224                            0.0                    0.0   \n",
       "50225                            0.0                    0.0   \n",
       "50226                            1.0                    0.0   \n",
       "\n",
       "               CouncilDistrictCode_4  CouncilDistrictCode_5  \\\n",
       "OSEBuildingID                                                 \n",
       "1                                0.0                    0.0   \n",
       "2                                0.0                    0.0   \n",
       "3                                0.0                    0.0   \n",
       "5                                0.0                    0.0   \n",
       "8                                0.0                    0.0   \n",
       "...                              ...                    ...   \n",
       "50222                            0.0                    0.0   \n",
       "50223                            0.0                    0.0   \n",
       "50224                            0.0                    0.0   \n",
       "50225                            0.0                    0.0   \n",
       "50226                            0.0                    0.0   \n",
       "\n",
       "               CouncilDistrictCode_6  CouncilDistrictCode_7  \n",
       "OSEBuildingID                                                \n",
       "1                                0.0                    1.0  \n",
       "2                                0.0                    1.0  \n",
       "3                                0.0                    1.0  \n",
       "5                                0.0                    1.0  \n",
       "8                                0.0                    1.0  \n",
       "...                              ...                    ...  \n",
       "50222                            0.0                    0.0  \n",
       "50223                            0.0                    0.0  \n",
       "50224                            0.0                    1.0  \n",
       "50225                            0.0                    0.0  \n",
       "50226                            0.0                    0.0  \n",
       "\n",
       "[1648 rows x 41 columns]"
      ]
     },
     "execution_count": 422,
     "metadata": {},
     "output_type": "execute_result"
    }
   ],
   "source": [
    "data"
   ]
  },
  {
   "cell_type": "code",
   "execution_count": null,
   "id": "71e37d75",
   "metadata": {},
   "outputs": [],
   "source": []
  },
  {
   "cell_type": "code",
   "execution_count": 423,
   "id": "9b34b239",
   "metadata": {},
   "outputs": [],
   "source": [
    "data =data[~data.isin([np.nan, np.inf, -np.inf]).any(1)]"
   ]
  },
  {
   "cell_type": "code",
   "execution_count": 424,
   "id": "798a1f5a",
   "metadata": {},
   "outputs": [],
   "source": [
    "X = data[['Age','NumberofBuildings','NumberofFloors','PropertyGFATotal','PropertyGFAParking(%)',\n",
    "        'PropertyGFABuilding(s)(%)','LargestPropertyUseTypeGFA','ENERGYSTARScore','EnergyStarNaN',\n",
    "        'PrimaryPropertyType_Distribution Center', 'PrimaryPropertyType_Hotel',\n",
    "       'PrimaryPropertyType_K-12 School', \n",
    "       'PrimaryPropertyType_Large Office',\n",
    "       'PrimaryPropertyType_Medical Office',\n",
    "       'PrimaryPropertyType_Mixed Use Property',\n",
    "       'PrimaryPropertyType_Other',\n",
    "       'PrimaryPropertyType_Retail Store',\n",
    "       'PrimaryPropertyType_Self-Storage Facility',\n",
    "       'PrimaryPropertyType_Small- and Mid-Sized Office',\n",
    "       'PrimaryPropertyType_Supermarket / Grocery Store',\n",
    "       'PrimaryPropertyType_University', 'PrimaryPropertyType_Warehouse',\n",
    "       'PrimaryPropertyType_Worship Facility','CouncilDistrictCode_1',\n",
    "       'CouncilDistrictCode_2', 'CouncilDistrictCode_3',\n",
    "       'CouncilDistrictCode_4', 'CouncilDistrictCode_5',\n",
    "       'CouncilDistrictCode_6', 'CouncilDistrictCode_7']]\n",
    "\n",
    "\n",
    "y = data['TotalGHGEmissions']"
   ]
  },
  {
   "cell_type": "code",
   "execution_count": 425,
   "id": "b9bf7100",
   "metadata": {},
   "outputs": [
    {
     "data": {
      "text/plain": [
       "(1648, 30)"
      ]
     },
     "execution_count": 425,
     "metadata": {},
     "output_type": "execute_result"
    }
   ],
   "source": [
    "X.shape"
   ]
  },
  {
   "cell_type": "code",
   "execution_count": 426,
   "id": "63cc694d",
   "metadata": {},
   "outputs": [
    {
     "data": {
      "text/plain": [
       "OSEBuildingID\n",
       "1     249.98\n",
       "2     295.86\n",
       "3    2089.28\n",
       "5     286.43\n",
       "8     505.01\n",
       "Name: TotalGHGEmissions, dtype: float64"
      ]
     },
     "execution_count": 426,
     "metadata": {},
     "output_type": "execute_result"
    }
   ],
   "source": [
    "y.head()"
   ]
  },
  {
   "cell_type": "code",
   "execution_count": null,
   "id": "fa77adaf",
   "metadata": {},
   "outputs": [],
   "source": []
  },
  {
   "cell_type": "code",
   "execution_count": null,
   "id": "fed6fcc6",
   "metadata": {
    "scrolled": false
   },
   "outputs": [],
   "source": []
  },
  {
   "cell_type": "code",
   "execution_count": null,
   "id": "b26bacdd",
   "metadata": {},
   "outputs": [],
   "source": []
  },
  {
   "cell_type": "code",
   "execution_count": null,
   "id": "13521229",
   "metadata": {},
   "outputs": [],
   "source": []
  },
  {
   "cell_type": "code",
   "execution_count": 427,
   "id": "60f1177d",
   "metadata": {},
   "outputs": [],
   "source": [
    "cols = ['Age','PropertyGFATotal',\n",
    "       'SiteEUI(kBtu/sf)', 'SiteEUIWN(kBtu/sf)', 'SourceEUI(kBtu/sf)',\n",
    "       'SourceEUIWN(kBtu/sf)', 'SiteEnergyUse(kBtu)', 'SiteEnergyUseWN(kBtu)',\n",
    "       'LargestPropertyUseTypeGFA','ENERGYSTARScore', 'TotalGHGEmissions']"
   ]
  },
  {
   "cell_type": "code",
   "execution_count": 428,
   "id": "01e02a01",
   "metadata": {},
   "outputs": [
    {
     "name": "stdout",
     "output_type": "stream",
     "text": [
      "Age\n",
      "0.29753360879193896\n"
     ]
    },
    {
     "data": {
      "image/png": "[encoded data removed]",
      "text/plain": [
       "<Figure size 432x288 with 1 Axes>"
      ]
     },
     "metadata": {
      "needs_background": "light"
     },
     "output_type": "display_data"
    },
    {
     "name": "stdout",
     "output_type": "stream",
     "text": [
      "PropertyGFATotal\n",
      "19.037917545145827\n"
     ]
    },
    {
     "data": {
      "image/png": "[encoded data removed]",
      "text/plain": [
       "<Figure size 432x288 with 1 Axes>"
      ]
     },
     "metadata": {
      "needs_background": "light"
     },
     "output_type": "display_data"
    },
    {
     "name": "stdout",
     "output_type": "stream",
     "text": [
      "SiteEUI(kBtu/sf)\n",
      "3.767000453173848\n"
     ]
    },
    {
     "data": {
      "image/png": "[encoded data removed]",
      "text/plain": [
       "<Figure size 432x288 with 1 Axes>"
      ]
     },
     "metadata": {
      "needs_background": "light"
     },
     "output_type": "display_data"
    },
    {
     "name": "stdout",
     "output_type": "stream",
     "text": [
      "SiteEUIWN(kBtu/sf)\n",
      "3.6664593768907086\n"
     ]
    },
    {
     "data": {
      "image/png": "[encoded data removed]",
      "text/plain": [
       "<Figure size 432x288 with 1 Axes>"
      ]
     },
     "metadata": {
      "needs_background": "light"
     },
     "output_type": "display_data"
    },
    {
     "name": "stdout",
     "output_type": "stream",
     "text": [
      "SourceEUI(kBtu/sf)\n",
      "5.02139873400849\n"
     ]
    },
    {
     "data": {
      "image/png": "[encoded data removed]",
      "text/plain": [
       "<Figure size 432x288 with 1 Axes>"
      ]
     },
     "metadata": {
      "needs_background": "light"
     },
     "output_type": "display_data"
    },
    {
     "name": "stdout",
     "output_type": "stream",
     "text": [
      "SourceEUIWN(kBtu/sf)\n",
      "4.998804175082916\n"
     ]
    },
    {
     "data": {
      "image/png": "[encoded data removed]",
      "text/plain": [
       "<Figure size 432x288 with 1 Axes>"
      ]
     },
     "metadata": {
      "needs_background": "light"
     },
     "output_type": "display_data"
    },
    {
     "name": "stdout",
     "output_type": "stream",
     "text": [
      "SiteEnergyUse(kBtu)\n",
      "17.973308078803022\n"
     ]
    },
    {
     "data": {
      "image/png": "[encoded data removed]",
      "text/plain": [
       "<Figure size 432x288 with 1 Axes>"
      ]
     },
     "metadata": {
      "needs_background": "light"
     },
     "output_type": "display_data"
    },
    {
     "name": "stdout",
     "output_type": "stream",
     "text": [
      "SiteEnergyUseWN(kBtu)\n",
      "11.273463145790341\n"
     ]
    },
    {
     "data": {
      "image/png": "[encoded data removed]",
      "text/plain": [
       "<Figure size 432x288 with 1 Axes>"
      ]
     },
     "metadata": {
      "needs_background": "light"
     },
     "output_type": "display_data"
    },
    {
     "name": "stdout",
     "output_type": "stream",
     "text": [
      "LargestPropertyUseTypeGFA\n",
      "23.175161728669494\n"
     ]
    },
    {
     "data": {
      "image/png": "[encoded data removed]",
      "text/plain": [
       "<Figure size 432x288 with 1 Axes>"
      ]
     },
     "metadata": {
      "needs_background": "light"
     },
     "output_type": "display_data"
    },
    {
     "name": "stdout",
     "output_type": "stream",
     "text": [
      "ENERGYSTARScore\n",
      "0.07727154779048637\n"
     ]
    },
    {
     "data": {
      "image/png": "[encoded data removed]",
      "text/plain": [
       "<Figure size 432x288 with 1 Axes>"
      ]
     },
     "metadata": {
      "needs_background": "light"
     },
     "output_type": "display_data"
    },
    {
     "name": "stdout",
     "output_type": "stream",
     "text": [
      "TotalGHGEmissions\n",
      "14.130616835139792\n"
     ]
    },
    {
     "data": {
      "image/png": "[encoded data removed]",
      "text/plain": [
       "<Figure size 432x288 with 1 Axes>"
      ]
     },
     "metadata": {
      "needs_background": "light"
     },
     "output_type": "display_data"
    }
   ],
   "source": [
    "for col in cols:\n",
    "      print(col)\n",
    "      print(skew(data[col]))\n",
    "\n",
    "      plt.figure()\n",
    "      sns.distplot(data[col])\n",
    "      plt.show()"
   ]
  },
  {
   "cell_type": "code",
   "execution_count": 429,
   "id": "c205c374",
   "metadata": {},
   "outputs": [
    {
     "name": "stdout",
     "output_type": "stream",
     "text": [
      "12.267743014672009\n"
     ]
    },
    {
     "data": {
      "image/png": "[encoded data removed]",
      "text/plain": [
       "<Figure size 432x288 with 1 Axes>"
      ]
     },
     "metadata": {
      "needs_background": "light"
     },
     "output_type": "display_data"
    }
   ],
   "source": [
    "print(skew(y_train))\n",
    "plt.figure()\n",
    "sns.distplot(y_train)\n",
    "plt.show()"
   ]
  },
  {
   "cell_type": "code",
   "execution_count": 430,
   "id": "239d81a0",
   "metadata": {},
   "outputs": [],
   "source": [
    "cols = ['Age','PropertyGFATotal','PropertyGFAParking(%)',\n",
    "        'PropertyGFABuilding(s)(%)','PropertyGFATotal',\n",
    "       'SiteEUI(kBtu/sf)', 'SiteEUIWN(kBtu/sf)', 'SourceEUI(kBtu/sf)',\n",
    "       'SourceEUIWN(kBtu/sf)', 'SiteEnergyUse(kBtu)', 'SiteEnergyUseWN(kBtu)',\n",
    "        'LargestPropertyUseTypeGFA','ENERGYSTARScore', 'TotalGHGEmissions']"
   ]
  },
  {
   "cell_type": "code",
   "execution_count": 431,
   "id": "641211f5",
   "metadata": {},
   "outputs": [
    {
     "data": {
      "text/plain": [
       "<matplotlib.axes._subplots.AxesSubplot at 0x7fd534903310>"
      ]
     },
     "execution_count": 431,
     "metadata": {},
     "output_type": "execute_result"
    },
    {
     "data": {
      "image/png": "[encoded data removed]",
      "text/plain": [
       "<Figure size 432x288 with 2 Axes>"
      ]
     },
     "metadata": {
      "needs_background": "light"
     },
     "output_type": "display_data"
    }
   ],
   "source": [
    "sns.heatmap(data[cols].corr(), annot = True)"
   ]
  },
  {
   "cell_type": "code",
   "execution_count": null,
   "id": "ad509ddf",
   "metadata": {},
   "outputs": [],
   "source": []
  },
  {
   "cell_type": "code",
   "execution_count": 432,
   "id": "7d45d49c",
   "metadata": {},
   "outputs": [],
   "source": [
    "X_train, X_test, y_train, y_test = train_test_split(X, y, test_size=0.2, random_state=7)"
   ]
  },
  {
   "cell_type": "code",
   "execution_count": null,
   "id": "722885ef",
   "metadata": {},
   "outputs": [],
   "source": []
  },
  {
   "cell_type": "code",
   "execution_count": 433,
   "id": "413e9064",
   "metadata": {},
   "outputs": [],
   "source": [
    "colsk = ['Age','PropertyGFATotal', 'LargestPropertyUseTypeGFA','ENERGYSTARScore']\n",
    "X_train_tt = X_train.copy()\n",
    "X_test_tt = X_test.copy()\n",
    "X_train_tt[colsk] = np.log1p(X_train_tt[colsk])\n",
    "X_test_tt[colsk] = np.log1p(X_test_tt[colsk])"
   ]
  },
  {
   "cell_type": "code",
   "execution_count": 434,
   "id": "3086a7de",
   "metadata": {},
   "outputs": [
    {
     "data": {
      "text/plain": [
       "Age                                                0\n",
       "NumberofBuildings                                  0\n",
       "NumberofFloors                                     0\n",
       "PropertyGFATotal                                   0\n",
       "PropertyGFAParking(%)                              0\n",
       "PropertyGFABuilding(s)(%)                          0\n",
       "LargestPropertyUseTypeGFA                          0\n",
       "ENERGYSTARScore                                    0\n",
       "EnergyStarNaN                                      0\n",
       "PrimaryPropertyType_Distribution Center            0\n",
       "PrimaryPropertyType_Hotel                          0\n",
       "PrimaryPropertyType_K-12 School                    0\n",
       "PrimaryPropertyType_Large Office                   0\n",
       "PrimaryPropertyType_Medical Office                 0\n",
       "PrimaryPropertyType_Mixed Use Property             0\n",
       "PrimaryPropertyType_Other                          0\n",
       "PrimaryPropertyType_Retail Store                   0\n",
       "PrimaryPropertyType_Self-Storage Facility          0\n",
       "PrimaryPropertyType_Small- and Mid-Sized Office    0\n",
       "PrimaryPropertyType_Supermarket / Grocery Store    0\n",
       "PrimaryPropertyType_University                     0\n",
       "PrimaryPropertyType_Warehouse                      0\n",
       "PrimaryPropertyType_Worship Facility               0\n",
       "CouncilDistrictCode_1                              0\n",
       "CouncilDistrictCode_2                              0\n",
       "CouncilDistrictCode_3                              0\n",
       "CouncilDistrictCode_4                              0\n",
       "CouncilDistrictCode_5                              0\n",
       "CouncilDistrictCode_6                              0\n",
       "CouncilDistrictCode_7                              0\n",
       "dtype: int64"
      ]
     },
     "execution_count": 434,
     "metadata": {},
     "output_type": "execute_result"
    }
   ],
   "source": [
    "X_test_tt.isnull().sum()"
   ]
  },
  {
   "cell_type": "code",
   "execution_count": 435,
   "id": "de95582c",
   "metadata": {},
   "outputs": [],
   "source": [
    "std_scale = StandardScaler()\n",
    "std_scale.fit(X_train)\n",
    "X_train = std_scale.transform(X_train)\n",
    "X_test = std_scale.transform(X_test)\n",
    "X_train_tt = std_scale.transform(X_train_tt)\n",
    "X_test_tt = std_scale.transform(X_test_tt)\n",
    "X_train = pd.DataFrame(X_train, columns = X.columns)\n",
    "X_test = pd.DataFrame(X_test, columns = X.columns)\n",
    "X_train_tt = pd.DataFrame(X_train_tt, columns = X.columns)\n",
    "X_test_tt = pd.DataFrame(X_test_tt, columns = X.columns)"
   ]
  },
  {
   "cell_type": "code",
   "execution_count": null,
   "id": "56c4a4c1",
   "metadata": {},
   "outputs": [],
   "source": []
  },
  {
   "cell_type": "code",
   "execution_count": null,
   "id": "6aeb1034",
   "metadata": {},
   "outputs": [],
   "source": []
  },
  {
   "cell_type": "code",
   "execution_count": null,
   "id": "69b5738c",
   "metadata": {},
   "outputs": [],
   "source": []
  },
  {
   "cell_type": "code",
   "execution_count": 436,
   "id": "2b56b165",
   "metadata": {},
   "outputs": [
    {
     "data": {
      "text/plain": [
       "968.2106104387265"
      ]
     },
     "execution_count": 436,
     "metadata": {},
     "output_type": "execute_result"
    }
   ],
   "source": [
    "dr = DummyRegressor(strategy=\"mean\")\n",
    "dr.fit(X_train, y_train)\n",
    "baseline_error = mean_squared_error(y_test, dr.predict(y_test), squared=False)\n",
    "baseline_error"
   ]
  },
  {
   "cell_type": "code",
   "execution_count": null,
   "id": "cf2ddf89",
   "metadata": {},
   "outputs": [],
   "source": []
  },
  {
   "cell_type": "code",
   "execution_count": null,
   "id": "880d0b8c",
   "metadata": {},
   "outputs": [],
   "source": []
  },
  {
   "cell_type": "code",
   "execution_count": null,
   "id": "6871d43c",
   "metadata": {},
   "outputs": [],
   "source": []
  },
  {
   "cell_type": "code",
   "execution_count": 437,
   "id": "c15c8cc4",
   "metadata": {},
   "outputs": [
    {
     "data": {
      "text/plain": [
       "849.9064979139018"
      ]
     },
     "execution_count": 437,
     "metadata": {},
     "output_type": "execute_result"
    }
   ],
   "source": [
    "lr = LinearRegression()\n",
    "lr.fit(X_train, y_train)\n",
    "lr_error = mean_squared_error(y_test, lr.predict(X_test), squared=False)\n",
    "lr_error"
   ]
  },
  {
   "cell_type": "code",
   "execution_count": null,
   "id": "4f2c0ef0",
   "metadata": {
    "scrolled": true
   },
   "outputs": [],
   "source": []
  },
  {
   "cell_type": "code",
   "execution_count": null,
   "id": "dbe11804",
   "metadata": {},
   "outputs": [],
   "source": []
  },
  {
   "cell_type": "code",
   "execution_count": null,
   "id": "68872d0a",
   "metadata": {},
   "outputs": [],
   "source": []
  },
  {
   "cell_type": "code",
   "execution_count": 438,
   "id": "161061bb",
   "metadata": {},
   "outputs": [],
   "source": [
    "n_alphas = 100\n",
    "alphas = np.logspace(-1, 7, n_alphas)\n",
    "\n",
    "ridge = Ridge()\n",
    "\n",
    "coefs = []\n",
    "errors = []\n",
    "for a in alphas:\n",
    "    ridge.set_params(alpha=a)\n",
    "    ridge.fit(X_train, y_train)\n",
    "    coefs.append(ridge.coef_)\n",
    "    errors.append([baseline_error, mean_squared_error(y_test, ridge.predict(X_test), squared=False)])"
   ]
  },
  {
   "cell_type": "code",
   "execution_count": 439,
   "id": "3855d126",
   "metadata": {},
   "outputs": [
    {
     "data": {
      "image/png": "[encoded data removed]",
      "text/plain": [
       "<Figure size 432x288 with 1 Axes>"
      ]
     },
     "metadata": {
      "needs_background": "light"
     },
     "output_type": "display_data"
    }
   ],
   "source": [
    "ax = plt.gca()\n",
    "\n",
    "ax.plot(alphas, coefs)\n",
    "ax.set_xscale('log')\n",
    "plt.xlabel('alpha')\n",
    "plt.ylabel('weights')\n",
    "plt.title('Ridge coefficients as a function of the regularization')\n",
    "plt.axis('tight')\n",
    "plt.show()"
   ]
  },
  {
   "cell_type": "code",
   "execution_count": 440,
   "id": "6a9134dc",
   "metadata": {},
   "outputs": [
    {
     "data": {
      "image/png": "[encoded data removed]",
      "text/plain": [
       "<Figure size 432x288 with 1 Axes>"
      ]
     },
     "metadata": {
      "needs_background": "light"
     },
     "output_type": "display_data"
    }
   ],
   "source": [
    "ax = plt.gca()\n",
    "\n",
    "ax.plot(alphas, errors)\n",
    "ax.set_xscale('log')\n",
    "plt.xlabel('alpha')\n",
    "plt.ylabel('error')\n",
    "plt.axis('tight')\n",
    "plt.show()"
   ]
  },
  {
   "cell_type": "code",
   "execution_count": 441,
   "id": "2af9e3b3",
   "metadata": {},
   "outputs": [
    {
     "data": {
      "text/plain": [
       "850.1438048488458"
      ]
     },
     "execution_count": 441,
     "metadata": {},
     "output_type": "execute_result"
    }
   ],
   "source": [
    "np.min(errors)"
   ]
  },
  {
   "cell_type": "code",
   "execution_count": 442,
   "id": "61d60f17",
   "metadata": {},
   "outputs": [
    {
     "data": {
      "text/plain": [
       "0"
      ]
     },
     "execution_count": 442,
     "metadata": {},
     "output_type": "execute_result"
    }
   ],
   "source": [
    "errors.index(min(errors))"
   ]
  },
  {
   "cell_type": "code",
   "execution_count": 443,
   "id": "ff617da4",
   "metadata": {},
   "outputs": [
    {
     "data": {
      "text/plain": [
       "[968.2106104387265, 850.1438048488458]"
      ]
     },
     "execution_count": 443,
     "metadata": {},
     "output_type": "execute_result"
    }
   ],
   "source": [
    "errors[errors.index(min(errors))]"
   ]
  },
  {
   "cell_type": "code",
   "execution_count": 444,
   "id": "db590c4c",
   "metadata": {},
   "outputs": [
    {
     "data": {
      "text/plain": [
       "0.1"
      ]
     },
     "execution_count": 444,
     "metadata": {},
     "output_type": "execute_result"
    }
   ],
   "source": [
    "alphas[errors.index(min(errors))]"
   ]
  },
  {
   "cell_type": "code",
   "execution_count": null,
   "id": "e3bb9f71",
   "metadata": {},
   "outputs": [],
   "source": []
  },
  {
   "cell_type": "code",
   "execution_count": 445,
   "id": "ee82293c",
   "metadata": {},
   "outputs": [
    {
     "data": {
      "text/plain": [
       "Ridge(alpha=0.1, copy_X=True, fit_intercept=True, max_iter=None,\n",
       "      normalize=False, random_state=None, solver='auto', tol=0.001)"
      ]
     },
     "execution_count": 445,
     "metadata": {},
     "output_type": "execute_result"
    }
   ],
   "source": [
    "ridge.set_params(alpha = alphas[errors.index(min(errors))])\n",
    "ridge.fit(X_train, y_train)"
   ]
  },
  {
   "cell_type": "code",
   "execution_count": 446,
   "id": "e18424b2",
   "metadata": {},
   "outputs": [
    {
     "data": {
      "text/plain": [
       "850.1438048488458"
      ]
     },
     "execution_count": 446,
     "metadata": {},
     "output_type": "execute_result"
    }
   ],
   "source": [
    "mean_squared_error(y_test, ridge.predict(X_test), squared=False)"
   ]
  },
  {
   "cell_type": "code",
   "execution_count": null,
   "id": "783fb6aa",
   "metadata": {},
   "outputs": [],
   "source": []
  },
  {
   "cell_type": "code",
   "execution_count": null,
   "id": "590b92d5",
   "metadata": {},
   "outputs": [],
   "source": []
  },
  {
   "cell_type": "code",
   "execution_count": 447,
   "id": "2eba64bb",
   "metadata": {},
   "outputs": [],
   "source": [
    "n_alphas = 100\n",
    "alphas = np.logspace(-1, 4, n_alphas)\n",
    "lasso = Lasso(fit_intercept=False)\n",
    "\n",
    "coefs = []\n",
    "errors = []\n",
    "for a in alphas:\n",
    "    lasso.set_params(alpha=a)\n",
    "    lasso.fit(X_train, y_train)\n",
    "    coefs.append(lasso.coef_)\n",
    "    errors.append([baseline_error, np.mean((lasso.predict(X_test) - y_test) ** 2)])"
   ]
  },
  {
   "cell_type": "code",
   "execution_count": 448,
   "id": "f07f4239",
   "metadata": {},
   "outputs": [
    {
     "data": {
      "image/png": "[encoded data removed]",
      "text/plain": [
       "<Figure size 432x288 with 1 Axes>"
      ]
     },
     "metadata": {
      "needs_background": "light"
     },
     "output_type": "display_data"
    }
   ],
   "source": [
    "ax = plt.gca()\n",
    "\n",
    "ax.plot(alphas, coefs)\n",
    "ax.set_xscale('log')\n",
    "plt.xlabel('alpha')\n",
    "plt.ylabel('weights')\n",
    "plt.axis('tight')\n",
    "plt.show()"
   ]
  },
  {
   "cell_type": "code",
   "execution_count": 449,
   "id": "e490b2b1",
   "metadata": {},
   "outputs": [
    {
     "data": {
      "image/png": "[encoded data removed]",
      "text/plain": [
       "<Figure size 432x288 with 1 Axes>"
      ]
     },
     "metadata": {
      "needs_background": "light"
     },
     "output_type": "display_data"
    }
   ],
   "source": [
    "ax = plt.gca()\n",
    "\n",
    "ax.plot(alphas, errors)\n",
    "ax.set_xscale('log')\n",
    "plt.xlabel('alpha')\n",
    "plt.ylabel('error')\n",
    "plt.axis('tight')\n",
    "plt.show()"
   ]
  },
  {
   "cell_type": "code",
   "execution_count": 450,
   "id": "553a3268",
   "metadata": {},
   "outputs": [
    {
     "data": {
      "text/plain": [
       "968.2106104387265"
      ]
     },
     "execution_count": 450,
     "metadata": {},
     "output_type": "execute_result"
    }
   ],
   "source": [
    "np.min(errors)"
   ]
  },
  {
   "cell_type": "code",
   "execution_count": 451,
   "id": "b9f2576b",
   "metadata": {},
   "outputs": [
    {
     "data": {
      "text/plain": [
       "0"
      ]
     },
     "execution_count": 451,
     "metadata": {},
     "output_type": "execute_result"
    }
   ],
   "source": [
    "errors.index(min(errors))"
   ]
  },
  {
   "cell_type": "code",
   "execution_count": 452,
   "id": "d4842025",
   "metadata": {},
   "outputs": [
    {
     "data": {
      "text/plain": [
       "0.1"
      ]
     },
     "execution_count": 452,
     "metadata": {},
     "output_type": "execute_result"
    }
   ],
   "source": [
    "alphas[errors.index(min(errors))]"
   ]
  },
  {
   "cell_type": "code",
   "execution_count": 453,
   "id": "3cd2bcde",
   "metadata": {},
   "outputs": [
    {
     "data": {
      "text/plain": [
       "Lasso(alpha=0.1, copy_X=True, fit_intercept=False, max_iter=1000,\n",
       "      normalize=False, positive=False, precompute=False, random_state=None,\n",
       "      selection='cyclic', tol=0.0001, warm_start=False)"
      ]
     },
     "execution_count": 453,
     "metadata": {},
     "output_type": "execute_result"
    }
   ],
   "source": [
    "lasso.set_params(alpha = alphas[errors.index(min(errors))])\n",
    "lasso.fit(X_train, y_train)"
   ]
  },
  {
   "cell_type": "code",
   "execution_count": 454,
   "id": "4ed5ee40",
   "metadata": {},
   "outputs": [
    {
     "data": {
      "text/plain": [
       "877.523691182049"
      ]
     },
     "execution_count": 454,
     "metadata": {},
     "output_type": "execute_result"
    }
   ],
   "source": [
    "mean_squared_error(y_test, lasso.predict(X_test), squared=False)"
   ]
  },
  {
   "cell_type": "code",
   "execution_count": null,
   "id": "4d374985",
   "metadata": {},
   "outputs": [],
   "source": []
  },
  {
   "cell_type": "code",
   "execution_count": null,
   "id": "b380fa77",
   "metadata": {},
   "outputs": [],
   "source": []
  },
  {
   "cell_type": "code",
   "execution_count": null,
   "id": "adda3a1f",
   "metadata": {},
   "outputs": [],
   "source": []
  },
  {
   "cell_type": "code",
   "execution_count": 455,
   "id": "04acba28",
   "metadata": {},
   "outputs": [],
   "source": [
    "def resultize(grid):\n",
    "\n",
    "    res = pd.DataFrame(grid.cv_results_)\n",
    "    res = res[['params', 'mean_test_RMSE', 'rank_test_RMSE', 'mean_test_MSE', 'rank_test_MSE', 'mean_test_MAE', 'rank_test_MAE', 'mean_test_R2', 'rank_test_R2']]\n",
    "    res['mean_test_MSE'] = (-res[f'mean_test_MSE'])\n",
    "    res['mean_test_RMSE'] = (-res[f'mean_test_RMSE'])\n",
    "    res['mean_test_MAE'] = (-res[f'mean_test_MAE'])\n",
    "    res.sort_values(by='rank_test_RMSE', inplace=True)\n",
    "    return res"
   ]
  },
  {
   "cell_type": "code",
   "execution_count": null,
   "id": "327cbbd0",
   "metadata": {},
   "outputs": [],
   "source": []
  },
  {
   "cell_type": "code",
   "execution_count": 456,
   "id": "30ebf1f6",
   "metadata": {},
   "outputs": [],
   "source": [
    "s = {'MSE': 'neg_mean_squared_error', \n",
    "      'RMSE': 'neg_root_mean_squared_error',\n",
    "      'MAE': 'neg_mean_absolute_error',\n",
    "      'R2': 'r2'}\n",
    "score = 'RMSE'"
   ]
  },
  {
   "cell_type": "code",
   "execution_count": 457,
   "id": "1e5a5dd1",
   "metadata": {},
   "outputs": [
    {
     "data": {
      "text/html": [
       "<div>\n",
       "<style scoped>\n",
       "    .dataframe tbody tr th:only-of-type {\n",
       "        vertical-align: middle;\n",
       "    }\n",
       "\n",
       "    .dataframe tbody tr th {\n",
       "        vertical-align: top;\n",
       "    }\n",
       "\n",
       "    .dataframe thead th {\n",
       "        text-align: right;\n",
       "    }\n",
       "</style>\n",
       "<table border=\"1\" class=\"dataframe\">\n",
       "  <thead>\n",
       "    <tr style=\"text-align: right;\">\n",
       "      <th></th>\n",
       "      <th>params</th>\n",
       "      <th>mean_test_RMSE</th>\n",
       "      <th>rank_test_RMSE</th>\n",
       "      <th>mean_test_MSE</th>\n",
       "      <th>rank_test_MSE</th>\n",
       "      <th>mean_test_MAE</th>\n",
       "      <th>rank_test_MAE</th>\n",
       "      <th>mean_test_R2</th>\n",
       "      <th>rank_test_R2</th>\n",
       "    </tr>\n",
       "  </thead>\n",
       "  <tbody>\n",
       "    <tr>\n",
       "      <th>8</th>\n",
       "      <td>{'alpha': 885.8667904100823}</td>\n",
       "      <td>475.502614</td>\n",
       "      <td>1</td>\n",
       "      <td>283330.241314</td>\n",
       "      <td>1</td>\n",
       "      <td>152.387597</td>\n",
       "      <td>1</td>\n",
       "      <td>0.319256</td>\n",
       "      <td>1</td>\n",
       "    </tr>\n",
       "    <tr>\n",
       "      <th>7</th>\n",
       "      <td>{'alpha': 379.26901907322497}</td>\n",
       "      <td>499.449459</td>\n",
       "      <td>2</td>\n",
       "      <td>303322.091078</td>\n",
       "      <td>2</td>\n",
       "      <td>164.412205</td>\n",
       "      <td>3</td>\n",
       "      <td>0.287768</td>\n",
       "      <td>2</td>\n",
       "    </tr>\n",
       "    <tr>\n",
       "      <th>9</th>\n",
       "      <td>{'alpha': 2069.138081114788}</td>\n",
       "      <td>508.441065</td>\n",
       "      <td>3</td>\n",
       "      <td>321902.221801</td>\n",
       "      <td>3</td>\n",
       "      <td>160.346760</td>\n",
       "      <td>2</td>\n",
       "      <td>0.278607</td>\n",
       "      <td>3</td>\n",
       "    </tr>\n",
       "    <tr>\n",
       "      <th>10</th>\n",
       "      <td>{'alpha': 4832.930238571752}</td>\n",
       "      <td>548.095508</td>\n",
       "      <td>4</td>\n",
       "      <td>376555.481883</td>\n",
       "      <td>4</td>\n",
       "      <td>174.239427</td>\n",
       "      <td>4</td>\n",
       "      <td>0.198896</td>\n",
       "      <td>4</td>\n",
       "    </tr>\n",
       "    <tr>\n",
       "      <th>6</th>\n",
       "      <td>{'alpha': 162.3776739188721}</td>\n",
       "      <td>558.383050</td>\n",
       "      <td>5</td>\n",
       "      <td>416808.241454</td>\n",
       "      <td>5</td>\n",
       "      <td>181.036959</td>\n",
       "      <td>5</td>\n",
       "      <td>0.165952</td>\n",
       "      <td>5</td>\n",
       "    </tr>\n",
       "  </tbody>\n",
       "</table>\n",
       "</div>"
      ],
      "text/plain": [
       "                           params  mean_test_RMSE  rank_test_RMSE  \\\n",
       "8    {'alpha': 885.8667904100823}      475.502614               1   \n",
       "7   {'alpha': 379.26901907322497}      499.449459               2   \n",
       "9    {'alpha': 2069.138081114788}      508.441065               3   \n",
       "10   {'alpha': 4832.930238571752}      548.095508               4   \n",
       "6    {'alpha': 162.3776739188721}      558.383050               5   \n",
       "\n",
       "    mean_test_MSE  rank_test_MSE  mean_test_MAE  rank_test_MAE  mean_test_R2  \\\n",
       "8   283330.241314              1     152.387597              1      0.319256   \n",
       "7   303322.091078              2     164.412205              3      0.287768   \n",
       "9   321902.221801              3     160.346760              2      0.278607   \n",
       "10  376555.481883              4     174.239427              4      0.198896   \n",
       "6   416808.241454              5     181.036959              5      0.165952   \n",
       "\n",
       "    rank_test_R2  \n",
       "8              1  \n",
       "7              2  \n",
       "9              3  \n",
       "10             4  \n",
       "6              5  "
      ]
     },
     "execution_count": 457,
     "metadata": {},
     "output_type": "execute_result"
    }
   ],
   "source": [
    "params = {'alpha': np.logspace(0, 7, 20)}\n",
    "grid_ridge = GridSearchCV(Ridge(), params, cv = 10, \n",
    "                  scoring = s, refit = score, n_jobs=-1)\n",
    "grid_ridge.fit(X_train, y_train)\n",
    "grid_ridge_best_params = grid_ridge.best_params_\n",
    "resultize(grid_ridge).head()"
   ]
  },
  {
   "cell_type": "code",
   "execution_count": 458,
   "id": "509c62df",
   "metadata": {},
   "outputs": [],
   "source": [
    "grid_rf_best_params = {'alpha': 885.8667904100823}\t"
   ]
  },
  {
   "cell_type": "code",
   "execution_count": 459,
   "id": "d2cde78a",
   "metadata": {
    "scrolled": false
   },
   "outputs": [
    {
     "data": {
      "text/plain": [
       "927.2576474530254"
      ]
     },
     "execution_count": 459,
     "metadata": {},
     "output_type": "execute_result"
    }
   ],
   "source": [
    "rf = Ridge(**grid_rf_best_params)\n",
    "rf.fit(X_train, y_train)\n",
    "y_pred = rf.predict(X_test)\n",
    "rf_error = mean_squared_error(y_test, y_pred, squared=False)\n",
    "rf_error"
   ]
  },
  {
   "cell_type": "code",
   "execution_count": null,
   "id": "5fcae071",
   "metadata": {},
   "outputs": [],
   "source": []
  },
  {
   "cell_type": "code",
   "execution_count": null,
   "id": "57ac388c",
   "metadata": {},
   "outputs": [],
   "source": []
  },
  {
   "cell_type": "code",
   "execution_count": null,
   "id": "050a4b49",
   "metadata": {},
   "outputs": [],
   "source": []
  },
  {
   "cell_type": "code",
   "execution_count": 460,
   "id": "9b479556",
   "metadata": {},
   "outputs": [
    {
     "data": {
      "text/html": [
       "<div>\n",
       "<style scoped>\n",
       "    .dataframe tbody tr th:only-of-type {\n",
       "        vertical-align: middle;\n",
       "    }\n",
       "\n",
       "    .dataframe tbody tr th {\n",
       "        vertical-align: top;\n",
       "    }\n",
       "\n",
       "    .dataframe thead th {\n",
       "        text-align: right;\n",
       "    }\n",
       "</style>\n",
       "<table border=\"1\" class=\"dataframe\">\n",
       "  <thead>\n",
       "    <tr style=\"text-align: right;\">\n",
       "      <th></th>\n",
       "      <th>params</th>\n",
       "      <th>mean_test_RMSE</th>\n",
       "      <th>rank_test_RMSE</th>\n",
       "      <th>mean_test_MSE</th>\n",
       "      <th>rank_test_MSE</th>\n",
       "      <th>mean_test_MAE</th>\n",
       "      <th>rank_test_MAE</th>\n",
       "      <th>mean_test_R2</th>\n",
       "      <th>rank_test_R2</th>\n",
       "    </tr>\n",
       "  </thead>\n",
       "  <tbody>\n",
       "    <tr>\n",
       "      <th>21</th>\n",
       "      <td>{'alpha': 78.80462815669912}</td>\n",
       "      <td>482.426558</td>\n",
       "      <td>1</td>\n",
       "      <td>287018.667921</td>\n",
       "      <td>1</td>\n",
       "      <td>156.079568</td>\n",
       "      <td>2</td>\n",
       "      <td>0.314691</td>\n",
       "      <td>1</td>\n",
       "    </tr>\n",
       "    <tr>\n",
       "      <th>22</th>\n",
       "      <td>{'alpha': 108.2636733874054}</td>\n",
       "      <td>483.821142</td>\n",
       "      <td>2</td>\n",
       "      <td>290925.425738</td>\n",
       "      <td>2</td>\n",
       "      <td>159.498764</td>\n",
       "      <td>3</td>\n",
       "      <td>0.300916</td>\n",
       "      <td>3</td>\n",
       "    </tr>\n",
       "    <tr>\n",
       "      <th>20</th>\n",
       "      <td>{'alpha': 57.361525104486816}</td>\n",
       "      <td>492.310747</td>\n",
       "      <td>3</td>\n",
       "      <td>295571.337810</td>\n",
       "      <td>3</td>\n",
       "      <td>156.072793</td>\n",
       "      <td>1</td>\n",
       "      <td>0.308447</td>\n",
       "      <td>2</td>\n",
       "    </tr>\n",
       "    <tr>\n",
       "      <th>23</th>\n",
       "      <td>{'alpha': 148.73521072935117}</td>\n",
       "      <td>507.120903</td>\n",
       "      <td>4</td>\n",
       "      <td>317067.628852</td>\n",
       "      <td>4</td>\n",
       "      <td>165.838400</td>\n",
       "      <td>5</td>\n",
       "      <td>0.273989</td>\n",
       "      <td>4</td>\n",
       "    </tr>\n",
       "    <tr>\n",
       "      <th>19</th>\n",
       "      <td>{'alpha': 41.753189365604}</td>\n",
       "      <td>538.126128</td>\n",
       "      <td>5</td>\n",
       "      <td>375256.313755</td>\n",
       "      <td>5</td>\n",
       "      <td>161.744613</td>\n",
       "      <td>4</td>\n",
       "      <td>0.238725</td>\n",
       "      <td>5</td>\n",
       "    </tr>\n",
       "  </tbody>\n",
       "</table>\n",
       "</div>"
      ],
      "text/plain": [
       "                           params  mean_test_RMSE  rank_test_RMSE  \\\n",
       "21   {'alpha': 78.80462815669912}      482.426558               1   \n",
       "22   {'alpha': 108.2636733874054}      483.821142               2   \n",
       "20  {'alpha': 57.361525104486816}      492.310747               3   \n",
       "23  {'alpha': 148.73521072935117}      507.120903               4   \n",
       "19     {'alpha': 41.753189365604}      538.126128               5   \n",
       "\n",
       "    mean_test_MSE  rank_test_MSE  mean_test_MAE  rank_test_MAE  mean_test_R2  \\\n",
       "21  287018.667921              1     156.079568              2      0.314691   \n",
       "22  290925.425738              2     159.498764              3      0.300916   \n",
       "20  295571.337810              3     156.072793              1      0.308447   \n",
       "23  317067.628852              4     165.838400              5      0.273989   \n",
       "19  375256.313755              5     161.744613              4      0.238725   \n",
       "\n",
       "    rank_test_R2  \n",
       "21             1  \n",
       "22             3  \n",
       "20             2  \n",
       "23             4  \n",
       "19             5  "
      ]
     },
     "execution_count": 460,
     "metadata": {},
     "output_type": "execute_result"
    }
   ],
   "source": [
    "params = {\"alpha\": np.logspace(-1, 3, 30)}\n",
    "grid_lasso = GridSearchCV(Lasso(), params, cv = 10, \n",
    "                  scoring = s, refit = score, n_jobs=-1)\n",
    "grid_lasso.fit(X_train, y_train)\n",
    "grid_lasso_best_params = grid_lasso.best_params_\n",
    "resultize(grid_lasso).head()"
   ]
  },
  {
   "cell_type": "code",
   "execution_count": 461,
   "id": "619c55fd",
   "metadata": {},
   "outputs": [],
   "source": [
    "grid_lasso_best_params = {'alpha': 529.8316906283708}"
   ]
  },
  {
   "cell_type": "code",
   "execution_count": 462,
   "id": "b57aed5c",
   "metadata": {},
   "outputs": [
    {
     "data": {
      "text/plain": [
       "968.2106104387265"
      ]
     },
     "execution_count": 462,
     "metadata": {},
     "output_type": "execute_result"
    }
   ],
   "source": [
    "lasso = Lasso(**grid_lasso_best_params)\n",
    "lasso.fit(X_train, y_train)\n",
    "y_pred = lasso.predict(X_test)\n",
    "lasso_error = mean_squared_error(y_test, y_pred, squared=False)\n",
    "lasso_error"
   ]
  },
  {
   "cell_type": "code",
   "execution_count": null,
   "id": "fd27938c",
   "metadata": {},
   "outputs": [],
   "source": []
  },
  {
   "cell_type": "code",
   "execution_count": null,
   "id": "c31f08c6",
   "metadata": {},
   "outputs": [],
   "source": []
  },
  {
   "cell_type": "code",
   "execution_count": 463,
   "id": "f09a3440",
   "metadata": {},
   "outputs": [],
   "source": [
    "grid_ridge = GridSearchCV(Ridge(), params, cv = 10, \n",
    "                  scoring = s, refit = score, n_jobs=-1)"
   ]
  },
  {
   "cell_type": "code",
   "execution_count": 464,
   "id": "009a5e4d",
   "metadata": {},
   "outputs": [
    {
     "data": {
      "text/plain": [
       "984.3727462405766"
      ]
     },
     "execution_count": 464,
     "metadata": {},
     "output_type": "execute_result"
    }
   ],
   "source": [
    "tt_ridge = TransformedTargetRegressor(regressor = Ridge(),\n",
    "                               func = np.log1p,\n",
    "                               inverse_func = np.expm1)\n",
    "tt_ridge.fit(X_train_tt, y_train)\n",
    "y_pred = tt_ridge.predict(X_test)\n",
    "tt_ridge_error = mean_squared_error(y_test, y_pred, squared=False)\n",
    "tt_ridge_error"
   ]
  },
  {
   "cell_type": "code",
   "execution_count": 465,
   "id": "30032431",
   "metadata": {},
   "outputs": [
    {
     "data": {
      "text/html": [
       "<div>\n",
       "<style scoped>\n",
       "    .dataframe tbody tr th:only-of-type {\n",
       "        vertical-align: middle;\n",
       "    }\n",
       "\n",
       "    .dataframe tbody tr th {\n",
       "        vertical-align: top;\n",
       "    }\n",
       "\n",
       "    .dataframe thead th {\n",
       "        text-align: right;\n",
       "    }\n",
       "</style>\n",
       "<table border=\"1\" class=\"dataframe\">\n",
       "  <thead>\n",
       "    <tr style=\"text-align: right;\">\n",
       "      <th></th>\n",
       "      <th>params</th>\n",
       "      <th>mean_test_RMSE</th>\n",
       "      <th>rank_test_RMSE</th>\n",
       "      <th>mean_test_MSE</th>\n",
       "      <th>rank_test_MSE</th>\n",
       "      <th>mean_test_MAE</th>\n",
       "      <th>rank_test_MAE</th>\n",
       "      <th>mean_test_R2</th>\n",
       "      <th>rank_test_R2</th>\n",
       "    </tr>\n",
       "  </thead>\n",
       "  <tbody>\n",
       "    <tr>\n",
       "      <th>51</th>\n",
       "      <td>{'regressor__alpha': 4037.017258596554}</td>\n",
       "      <td>567.511958</td>\n",
       "      <td>1</td>\n",
       "      <td>398873.246062</td>\n",
       "      <td>1</td>\n",
       "      <td>146.215892</td>\n",
       "      <td>1</td>\n",
       "      <td>0.052489</td>\n",
       "      <td>1</td>\n",
       "    </tr>\n",
       "    <tr>\n",
       "      <th>52</th>\n",
       "      <td>{'regressor__alpha': 4750.810162102794}</td>\n",
       "      <td>573.197078</td>\n",
       "      <td>2</td>\n",
       "      <td>405335.331704</td>\n",
       "      <td>2</td>\n",
       "      <td>147.740556</td>\n",
       "      <td>2</td>\n",
       "      <td>0.043605</td>\n",
       "      <td>2</td>\n",
       "    </tr>\n",
       "    <tr>\n",
       "      <th>53</th>\n",
       "      <td>{'regressor__alpha': 5590.810182512223}</td>\n",
       "      <td>594.247751</td>\n",
       "      <td>3</td>\n",
       "      <td>433864.998985</td>\n",
       "      <td>3</td>\n",
       "      <td>150.931698</td>\n",
       "      <td>3</td>\n",
       "      <td>0.015224</td>\n",
       "      <td>3</td>\n",
       "    </tr>\n",
       "    <tr>\n",
       "      <th>54</th>\n",
       "      <td>{'regressor__alpha': 6579.3322465756755}</td>\n",
       "      <td>606.987103</td>\n",
       "      <td>4</td>\n",
       "      <td>454950.337828</td>\n",
       "      <td>4</td>\n",
       "      <td>152.851582</td>\n",
       "      <td>4</td>\n",
       "      <td>-0.006245</td>\n",
       "      <td>4</td>\n",
       "    </tr>\n",
       "    <tr>\n",
       "      <th>55</th>\n",
       "      <td>{'regressor__alpha': 7742.63682681127}</td>\n",
       "      <td>614.372123</td>\n",
       "      <td>5</td>\n",
       "      <td>468317.285025</td>\n",
       "      <td>5</td>\n",
       "      <td>154.134686</td>\n",
       "      <td>5</td>\n",
       "      <td>-0.020559</td>\n",
       "      <td>5</td>\n",
       "    </tr>\n",
       "  </tbody>\n",
       "</table>\n",
       "</div>"
      ],
      "text/plain": [
       "                                      params  mean_test_RMSE  rank_test_RMSE  \\\n",
       "51   {'regressor__alpha': 4037.017258596554}      567.511958               1   \n",
       "52   {'regressor__alpha': 4750.810162102794}      573.197078               2   \n",
       "53   {'regressor__alpha': 5590.810182512223}      594.247751               3   \n",
       "54  {'regressor__alpha': 6579.3322465756755}      606.987103               4   \n",
       "55    {'regressor__alpha': 7742.63682681127}      614.372123               5   \n",
       "\n",
       "    mean_test_MSE  rank_test_MSE  mean_test_MAE  rank_test_MAE  mean_test_R2  \\\n",
       "51  398873.246062              1     146.215892              1      0.052489   \n",
       "52  405335.331704              2     147.740556              2      0.043605   \n",
       "53  433864.998985              3     150.931698              3      0.015224   \n",
       "54  454950.337828              4     152.851582              4     -0.006245   \n",
       "55  468317.285025              5     154.134686              5     -0.020559   \n",
       "\n",
       "    rank_test_R2  \n",
       "51             1  \n",
       "52             2  \n",
       "53             3  \n",
       "54             4  \n",
       "55             5  "
      ]
     },
     "execution_count": 465,
     "metadata": {},
     "output_type": "execute_result"
    }
   ],
   "source": [
    "params = {'regressor__alpha': np.logspace(0, 7, 100)}\n",
    "grid_tt_ridge = GridSearchCV(tt_ridge, scoring=s, refit = score, param_grid=params, cv = 10)\n",
    "grid_tt_ridge.fit(X_train, y_train)\n",
    "grid_tt_ridge_best_params = grid_tt_ridge.best_params_\n",
    "resultize(grid_tt_ridge).head()"
   ]
  },
  {
   "cell_type": "code",
   "execution_count": 466,
   "id": "0ab037cf",
   "metadata": {},
   "outputs": [],
   "source": [
    "grid_tt_ridge_best_params = {'alpha': 4037.017258596554}"
   ]
  },
  {
   "cell_type": "code",
   "execution_count": 467,
   "id": "ae599e05",
   "metadata": {
    "tags": []
   },
   "outputs": [
    {
     "data": {
      "text/plain": [
       "975.9617424881096"
      ]
     },
     "execution_count": 467,
     "metadata": {},
     "output_type": "execute_result"
    }
   ],
   "source": [
    "tt_ridge = TransformedTargetRegressor(regressor = Ridge(**grid_tt_ridge_best_params),\n",
    "                                    func = np.log1p,\n",
    "                                    inverse_func = np.expm1)\n",
    "tt_ridge.fit(X_train, y_train)\n",
    "y_pred = tt_ridge.predict(X_test)\n",
    "tt_ridge_error = mean_squared_error(y_test, y_pred, squared=False)\n",
    "tt_ridge_error"
   ]
  },
  {
   "cell_type": "code",
   "execution_count": null,
   "id": "d77dcd71",
   "metadata": {},
   "outputs": [],
   "source": []
  },
  {
   "cell_type": "code",
   "execution_count": null,
   "id": "cf0dece8",
   "metadata": {},
   "outputs": [],
   "source": []
  },
  {
   "cell_type": "code",
   "execution_count": 468,
   "id": "cb0b66d9",
   "metadata": {},
   "outputs": [
    {
     "data": {
      "text/plain": [
       "977.6534948431871"
      ]
     },
     "execution_count": 468,
     "metadata": {},
     "output_type": "execute_result"
    }
   ],
   "source": [
    "svr = SVR()\n",
    "svr.fit(X_train, y_train)\n",
    "y_pred = svr.predict(X_test)\n",
    "svr_error = mean_squared_error(y_test, y_pred, squared=False)\n",
    "svr_error"
   ]
  },
  {
   "cell_type": "code",
   "execution_count": 469,
   "id": "3cabbd85",
   "metadata": {},
   "outputs": [
    {
     "data": {
      "text/html": [
       "<div>\n",
       "<style scoped>\n",
       "    .dataframe tbody tr th:only-of-type {\n",
       "        vertical-align: middle;\n",
       "    }\n",
       "\n",
       "    .dataframe tbody tr th {\n",
       "        vertical-align: top;\n",
       "    }\n",
       "\n",
       "    .dataframe thead th {\n",
       "        text-align: right;\n",
       "    }\n",
       "</style>\n",
       "<table border=\"1\" class=\"dataframe\">\n",
       "  <thead>\n",
       "    <tr style=\"text-align: right;\">\n",
       "      <th></th>\n",
       "      <th>params</th>\n",
       "      <th>mean_test_RMSE</th>\n",
       "      <th>rank_test_RMSE</th>\n",
       "      <th>mean_test_MSE</th>\n",
       "      <th>rank_test_MSE</th>\n",
       "      <th>mean_test_MAE</th>\n",
       "      <th>rank_test_MAE</th>\n",
       "      <th>mean_test_R2</th>\n",
       "      <th>rank_test_R2</th>\n",
       "    </tr>\n",
       "  </thead>\n",
       "  <tbody>\n",
       "    <tr>\n",
       "      <th>56</th>\n",
       "      <td>{'C': 1000, 'degree': 1, 'kernel': 'poly'}</td>\n",
       "      <td>487.504017</td>\n",
       "      <td>1</td>\n",
       "      <td>298326.936244</td>\n",
       "      <td>1</td>\n",
       "      <td>121.197764</td>\n",
       "      <td>1</td>\n",
       "      <td>0.302931</td>\n",
       "      <td>7</td>\n",
       "    </tr>\n",
       "    <tr>\n",
       "      <th>64</th>\n",
       "      <td>{'C': 1000, 'degree': 4, 'kernel': 'rbf'}</td>\n",
       "      <td>502.729907</td>\n",
       "      <td>2</td>\n",
       "      <td>335995.421409</td>\n",
       "      <td>3</td>\n",
       "      <td>124.688712</td>\n",
       "      <td>3</td>\n",
       "      <td>0.368132</td>\n",
       "      <td>1</td>\n",
       "    </tr>\n",
       "    <tr>\n",
       "      <th>67</th>\n",
       "      <td>{'C': 1000, 'degree': 5, 'kernel': 'rbf'}</td>\n",
       "      <td>502.729907</td>\n",
       "      <td>2</td>\n",
       "      <td>335995.421409</td>\n",
       "      <td>3</td>\n",
       "      <td>124.688712</td>\n",
       "      <td>3</td>\n",
       "      <td>0.368132</td>\n",
       "      <td>1</td>\n",
       "    </tr>\n",
       "    <tr>\n",
       "      <th>61</th>\n",
       "      <td>{'C': 1000, 'degree': 3, 'kernel': 'rbf'}</td>\n",
       "      <td>502.729907</td>\n",
       "      <td>2</td>\n",
       "      <td>335995.421409</td>\n",
       "      <td>3</td>\n",
       "      <td>124.688712</td>\n",
       "      <td>3</td>\n",
       "      <td>0.368132</td>\n",
       "      <td>1</td>\n",
       "    </tr>\n",
       "    <tr>\n",
       "      <th>58</th>\n",
       "      <td>{'C': 1000, 'degree': 2, 'kernel': 'rbf'}</td>\n",
       "      <td>502.729907</td>\n",
       "      <td>2</td>\n",
       "      <td>335995.421409</td>\n",
       "      <td>3</td>\n",
       "      <td>124.688712</td>\n",
       "      <td>3</td>\n",
       "      <td>0.368132</td>\n",
       "      <td>1</td>\n",
       "    </tr>\n",
       "  </tbody>\n",
       "</table>\n",
       "</div>"
      ],
      "text/plain": [
       "                                        params  mean_test_RMSE  \\\n",
       "56  {'C': 1000, 'degree': 1, 'kernel': 'poly'}      487.504017   \n",
       "64   {'C': 1000, 'degree': 4, 'kernel': 'rbf'}      502.729907   \n",
       "67   {'C': 1000, 'degree': 5, 'kernel': 'rbf'}      502.729907   \n",
       "61   {'C': 1000, 'degree': 3, 'kernel': 'rbf'}      502.729907   \n",
       "58   {'C': 1000, 'degree': 2, 'kernel': 'rbf'}      502.729907   \n",
       "\n",
       "    rank_test_RMSE  mean_test_MSE  rank_test_MSE  mean_test_MAE  \\\n",
       "56               1  298326.936244              1     121.197764   \n",
       "64               2  335995.421409              3     124.688712   \n",
       "67               2  335995.421409              3     124.688712   \n",
       "61               2  335995.421409              3     124.688712   \n",
       "58               2  335995.421409              3     124.688712   \n",
       "\n",
       "    rank_test_MAE  mean_test_R2  rank_test_R2  \n",
       "56              1      0.302931             7  \n",
       "64              3      0.368132             1  \n",
       "67              3      0.368132             1  \n",
       "61              3      0.368132             1  \n",
       "58              3      0.368132             1  "
      ]
     },
     "execution_count": 469,
     "metadata": {},
     "output_type": "execute_result"
    }
   ],
   "source": [
    "params = {'kernel': ['sigmoid','rbf','poly'],\n",
    "         'C': [0.1,1,100,1000],\n",
    "         'degree': [1,2,3,4,5,6]}\n",
    "grid_svr = GridSearchCV(SVR(), params, cv=10, scoring = s,\n",
    "                        refit = score,  n_jobs=-1)\n",
    "grid_svr.fit(X_train, y_train)\n",
    "best_params_svr = grid_svr.best_params_\n",
    "resultize(grid_svr).head()"
   ]
  },
  {
   "cell_type": "code",
   "execution_count": 470,
   "id": "e3d9b3bb",
   "metadata": {},
   "outputs": [],
   "source": [
    "best_params_svr = {'C': 1000, 'degree': 4, 'kernel': 'rbf'}"
   ]
  },
  {
   "cell_type": "code",
   "execution_count": 471,
   "id": "9a985a73",
   "metadata": {},
   "outputs": [
    {
     "data": {
      "text/plain": [
       "918.8533032649599"
      ]
     },
     "execution_count": 471,
     "metadata": {},
     "output_type": "execute_result"
    }
   ],
   "source": [
    "svr = SVR(**best_params_svr)\n",
    "svr.fit(X_train, y_train)\n",
    "y_pred = svr.predict(X_test)\n",
    "mean_squared_error(y_test, y_pred, squared=False)"
   ]
  },
  {
   "cell_type": "code",
   "execution_count": null,
   "id": "d691a852",
   "metadata": {},
   "outputs": [],
   "source": []
  },
  {
   "cell_type": "code",
   "execution_count": null,
   "id": "6d31642d",
   "metadata": {},
   "outputs": [],
   "source": []
  },
  {
   "cell_type": "code",
   "execution_count": 475,
   "id": "c94b8b07",
   "metadata": {},
   "outputs": [
    {
     "data": {
      "text/plain": [
       "61893.65683313666"
      ]
     },
     "execution_count": 475,
     "metadata": {},
     "output_type": "execute_result"
    }
   ],
   "source": [
    "tt = TransformedTargetRegressor(regressor = SVR(**best_params_svr),\n",
    "                                    func = np.log1p,\n",
    "                                    inverse_func = np.expm1)\n",
    "tt.fit(X_train_tt, y_train)\n",
    "y_pred = tt.predict(X_test_tt)\n",
    "mean_squared_error(y_test, y_pred, squared=False)"
   ]
  },
  {
   "cell_type": "code",
   "execution_count": 476,
   "id": "78e1203c",
   "metadata": {},
   "outputs": [
    {
     "ename": "ValueError",
     "evalue": "Input contains NaN, infinity or a value too large for dtype('float64').",
     "output_type": "error",
     "traceback": [
      "\u001b[0;31m---------------------------------------------------------------------------\u001b[0m",
      "\u001b[0;31m_RemoteTraceback\u001b[0m                          Traceback (most recent call last)",
      "\u001b[0;31m_RemoteTraceback\u001b[0m: \n\"\"\"\nTraceback (most recent call last):\n  File \"/home/lolonois/anaconda3/lib/python3.7/site-packages/joblib/externals/loky/process_executor.py\", line 418, in _process_worker\n    r = call_item()\n  File \"/home/lolonois/anaconda3/lib/python3.7/site-packages/joblib/externals/loky/process_executor.py\", line 272, in __call__\n    return self.fn(*self.args, **self.kwargs)\n  File \"/home/lolonois/anaconda3/lib/python3.7/site-packages/joblib/_parallel_backends.py\", line 608, in __call__\n    return self.func(*args, **kwargs)\n  File \"/home/lolonois/anaconda3/lib/python3.7/site-packages/joblib/parallel.py\", line 256, in __call__\n    for func, args, kwargs in self.items]\n  File \"/home/lolonois/anaconda3/lib/python3.7/site-packages/joblib/parallel.py\", line 256, in <listcomp>\n    for func, args, kwargs in self.items]\n  File \"/home/lolonois/anaconda3/lib/python3.7/site-packages/sklearn/model_selection/_validation.py\", line 544, in _fit_and_score\n    test_scores = _score(estimator, X_test, y_test, scorer)\n  File \"/home/lolonois/anaconda3/lib/python3.7/site-packages/sklearn/model_selection/_validation.py\", line 591, in _score\n    scores = scorer(estimator, X_test, y_test)\n  File \"/home/lolonois/anaconda3/lib/python3.7/site-packages/sklearn/metrics/_scorer.py\", line 87, in __call__\n    *args, **kwargs)\n  File \"/home/lolonois/anaconda3/lib/python3.7/site-packages/sklearn/metrics/_scorer.py\", line 212, in _score\n    **self._kwargs)\n  File \"/home/lolonois/anaconda3/lib/python3.7/site-packages/sklearn/metrics/_regression.py\", line 252, in mean_squared_error\n    y_true, y_pred, multioutput)\n  File \"/home/lolonois/anaconda3/lib/python3.7/site-packages/sklearn/metrics/_regression.py\", line 86, in _check_reg_targets\n    y_pred = check_array(y_pred, ensure_2d=False, dtype=dtype)\n  File \"/home/lolonois/anaconda3/lib/python3.7/site-packages/sklearn/utils/validation.py\", line 578, in check_array\n    allow_nan=force_all_finite == 'allow-nan')\n  File \"/home/lolonois/anaconda3/lib/python3.7/site-packages/sklearn/utils/validation.py\", line 60, in _assert_all_finite\n    msg_dtype if msg_dtype is not None else X.dtype)\nValueError: Input contains NaN, infinity or a value too large for dtype('float64').\n\"\"\"",
      "\nThe above exception was the direct cause of the following exception:\n",
      "\u001b[0;31mValueError\u001b[0m                                Traceback (most recent call last)",
      "\u001b[0;32m<ipython-input-476-4a6bf59fbda9>\u001b[0m in \u001b[0;36m<module>\u001b[0;34m\u001b[0m\n\u001b[1;32m      6\u001b[0m             'regressor__kernel': ['sigmoid','rbf','poly']}\n\u001b[1;32m      7\u001b[0m \u001b[0mgrid\u001b[0m \u001b[0;34m=\u001b[0m \u001b[0mGridSearchCV\u001b[0m\u001b[0;34m(\u001b[0m\u001b[0mtt\u001b[0m\u001b[0;34m,\u001b[0m \u001b[0mcv\u001b[0m \u001b[0;34m=\u001b[0m \u001b[0;36m10\u001b[0m\u001b[0;34m,\u001b[0m \u001b[0mscoring\u001b[0m \u001b[0;34m=\u001b[0m \u001b[0ms\u001b[0m\u001b[0;34m,\u001b[0m \u001b[0mrefit\u001b[0m \u001b[0;34m=\u001b[0m \u001b[0mscore\u001b[0m\u001b[0;34m,\u001b[0m \u001b[0mn_jobs\u001b[0m\u001b[0;34m=\u001b[0m\u001b[0;34m-\u001b[0m\u001b[0;36m1\u001b[0m\u001b[0;34m,\u001b[0m \u001b[0mparam_grid\u001b[0m\u001b[0;34m=\u001b[0m\u001b[0mparams\u001b[0m\u001b[0;34m)\u001b[0m\u001b[0;34m\u001b[0m\u001b[0;34m\u001b[0m\u001b[0m\n\u001b[0;32m----> 8\u001b[0;31m \u001b[0mgrid\u001b[0m\u001b[0;34m.\u001b[0m\u001b[0mfit\u001b[0m\u001b[0;34m(\u001b[0m\u001b[0mX_train_tt\u001b[0m\u001b[0;34m,\u001b[0m \u001b[0my_train\u001b[0m\u001b[0;34m)\u001b[0m\u001b[0;34m\u001b[0m\u001b[0;34m\u001b[0m\u001b[0m\n\u001b[0m\u001b[1;32m      9\u001b[0m \u001b[0mbest_params_svr_tt\u001b[0m \u001b[0;34m=\u001b[0m \u001b[0mgrid\u001b[0m\u001b[0;34m.\u001b[0m\u001b[0mbest_params_\u001b[0m\u001b[0;34m\u001b[0m\u001b[0;34m\u001b[0m\u001b[0m\n\u001b[1;32m     10\u001b[0m \u001b[0mresultize\u001b[0m\u001b[0;34m(\u001b[0m\u001b[0mgrid\u001b[0m\u001b[0;34m)\u001b[0m\u001b[0;34m.\u001b[0m\u001b[0mhead\u001b[0m\u001b[0;34m(\u001b[0m\u001b[0;34m)\u001b[0m\u001b[0;34m\u001b[0m\u001b[0;34m\u001b[0m\u001b[0m\n",
      "\u001b[0;32m~/anaconda3/lib/python3.7/site-packages/sklearn/model_selection/_search.py\u001b[0m in \u001b[0;36mfit\u001b[0;34m(self, X, y, groups, **fit_params)\u001b[0m\n\u001b[1;32m    708\u001b[0m                 \u001b[0;32mreturn\u001b[0m \u001b[0mresults\u001b[0m\u001b[0;34m\u001b[0m\u001b[0;34m\u001b[0m\u001b[0m\n\u001b[1;32m    709\u001b[0m \u001b[0;34m\u001b[0m\u001b[0m\n\u001b[0;32m--> 710\u001b[0;31m             \u001b[0mself\u001b[0m\u001b[0;34m.\u001b[0m\u001b[0m_run_search\u001b[0m\u001b[0;34m(\u001b[0m\u001b[0mevaluate_candidates\u001b[0m\u001b[0;34m)\u001b[0m\u001b[0;34m\u001b[0m\u001b[0;34m\u001b[0m\u001b[0m\n\u001b[0m\u001b[1;32m    711\u001b[0m \u001b[0;34m\u001b[0m\u001b[0m\n\u001b[1;32m    712\u001b[0m         \u001b[0;31m# For multi-metric evaluation, store the best_index_, best_params_ and\u001b[0m\u001b[0;34m\u001b[0m\u001b[0;34m\u001b[0m\u001b[0;34m\u001b[0m\u001b[0m\n",
      "\u001b[0;32m~/anaconda3/lib/python3.7/site-packages/sklearn/model_selection/_search.py\u001b[0m in \u001b[0;36m_run_search\u001b[0;34m(self, evaluate_candidates)\u001b[0m\n\u001b[1;32m   1149\u001b[0m     \u001b[0;32mdef\u001b[0m \u001b[0m_run_search\u001b[0m\u001b[0;34m(\u001b[0m\u001b[0mself\u001b[0m\u001b[0;34m,\u001b[0m \u001b[0mevaluate_candidates\u001b[0m\u001b[0;34m)\u001b[0m\u001b[0;34m:\u001b[0m\u001b[0;34m\u001b[0m\u001b[0;34m\u001b[0m\u001b[0m\n\u001b[1;32m   1150\u001b[0m         \u001b[0;34m\"\"\"Search all candidates in param_grid\"\"\"\u001b[0m\u001b[0;34m\u001b[0m\u001b[0;34m\u001b[0m\u001b[0m\n\u001b[0;32m-> 1151\u001b[0;31m         \u001b[0mevaluate_candidates\u001b[0m\u001b[0;34m(\u001b[0m\u001b[0mParameterGrid\u001b[0m\u001b[0;34m(\u001b[0m\u001b[0mself\u001b[0m\u001b[0;34m.\u001b[0m\u001b[0mparam_grid\u001b[0m\u001b[0;34m)\u001b[0m\u001b[0;34m)\u001b[0m\u001b[0;34m\u001b[0m\u001b[0;34m\u001b[0m\u001b[0m\n\u001b[0m\u001b[1;32m   1152\u001b[0m \u001b[0;34m\u001b[0m\u001b[0m\n\u001b[1;32m   1153\u001b[0m \u001b[0;34m\u001b[0m\u001b[0m\n",
      "\u001b[0;32m~/anaconda3/lib/python3.7/site-packages/sklearn/model_selection/_search.py\u001b[0m in \u001b[0;36mevaluate_candidates\u001b[0;34m(candidate_params)\u001b[0m\n\u001b[1;32m    687\u001b[0m                                \u001b[0;32mfor\u001b[0m \u001b[0mparameters\u001b[0m\u001b[0;34m,\u001b[0m \u001b[0;34m(\u001b[0m\u001b[0mtrain\u001b[0m\u001b[0;34m,\u001b[0m \u001b[0mtest\u001b[0m\u001b[0;34m)\u001b[0m\u001b[0;34m\u001b[0m\u001b[0;34m\u001b[0m\u001b[0m\n\u001b[1;32m    688\u001b[0m                                in product(candidate_params,\n\u001b[0;32m--> 689\u001b[0;31m                                           cv.split(X, y, groups)))\n\u001b[0m\u001b[1;32m    690\u001b[0m \u001b[0;34m\u001b[0m\u001b[0m\n\u001b[1;32m    691\u001b[0m                 \u001b[0;32mif\u001b[0m \u001b[0mlen\u001b[0m\u001b[0;34m(\u001b[0m\u001b[0mout\u001b[0m\u001b[0;34m)\u001b[0m \u001b[0;34m<\u001b[0m \u001b[0;36m1\u001b[0m\u001b[0;34m:\u001b[0m\u001b[0;34m\u001b[0m\u001b[0;34m\u001b[0m\u001b[0m\n",
      "\u001b[0;32m~/anaconda3/lib/python3.7/site-packages/joblib/parallel.py\u001b[0m in \u001b[0;36m__call__\u001b[0;34m(self, iterable)\u001b[0m\n\u001b[1;32m   1015\u001b[0m \u001b[0;34m\u001b[0m\u001b[0m\n\u001b[1;32m   1016\u001b[0m             \u001b[0;32mwith\u001b[0m \u001b[0mself\u001b[0m\u001b[0;34m.\u001b[0m\u001b[0m_backend\u001b[0m\u001b[0;34m.\u001b[0m\u001b[0mretrieval_context\u001b[0m\u001b[0;34m(\u001b[0m\u001b[0;34m)\u001b[0m\u001b[0;34m:\u001b[0m\u001b[0;34m\u001b[0m\u001b[0;34m\u001b[0m\u001b[0m\n\u001b[0;32m-> 1017\u001b[0;31m                 \u001b[0mself\u001b[0m\u001b[0;34m.\u001b[0m\u001b[0mretrieve\u001b[0m\u001b[0;34m(\u001b[0m\u001b[0;34m)\u001b[0m\u001b[0;34m\u001b[0m\u001b[0;34m\u001b[0m\u001b[0m\n\u001b[0m\u001b[1;32m   1018\u001b[0m             \u001b[0;31m# Make sure that we get a last message telling us we are done\u001b[0m\u001b[0;34m\u001b[0m\u001b[0;34m\u001b[0m\u001b[0;34m\u001b[0m\u001b[0m\n\u001b[1;32m   1019\u001b[0m             \u001b[0melapsed_time\u001b[0m \u001b[0;34m=\u001b[0m \u001b[0mtime\u001b[0m\u001b[0;34m.\u001b[0m\u001b[0mtime\u001b[0m\u001b[0;34m(\u001b[0m\u001b[0;34m)\u001b[0m \u001b[0;34m-\u001b[0m \u001b[0mself\u001b[0m\u001b[0;34m.\u001b[0m\u001b[0m_start_time\u001b[0m\u001b[0;34m\u001b[0m\u001b[0;34m\u001b[0m\u001b[0m\n",
      "\u001b[0;32m~/anaconda3/lib/python3.7/site-packages/joblib/parallel.py\u001b[0m in \u001b[0;36mretrieve\u001b[0;34m(self)\u001b[0m\n\u001b[1;32m    907\u001b[0m             \u001b[0;32mtry\u001b[0m\u001b[0;34m:\u001b[0m\u001b[0;34m\u001b[0m\u001b[0;34m\u001b[0m\u001b[0m\n\u001b[1;32m    908\u001b[0m                 \u001b[0;32mif\u001b[0m \u001b[0mgetattr\u001b[0m\u001b[0;34m(\u001b[0m\u001b[0mself\u001b[0m\u001b[0;34m.\u001b[0m\u001b[0m_backend\u001b[0m\u001b[0;34m,\u001b[0m \u001b[0;34m'supports_timeout'\u001b[0m\u001b[0;34m,\u001b[0m \u001b[0;32mFalse\u001b[0m\u001b[0;34m)\u001b[0m\u001b[0;34m:\u001b[0m\u001b[0;34m\u001b[0m\u001b[0;34m\u001b[0m\u001b[0m\n\u001b[0;32m--> 909\u001b[0;31m                     \u001b[0mself\u001b[0m\u001b[0;34m.\u001b[0m\u001b[0m_output\u001b[0m\u001b[0;34m.\u001b[0m\u001b[0mextend\u001b[0m\u001b[0;34m(\u001b[0m\u001b[0mjob\u001b[0m\u001b[0;34m.\u001b[0m\u001b[0mget\u001b[0m\u001b[0;34m(\u001b[0m\u001b[0mtimeout\u001b[0m\u001b[0;34m=\u001b[0m\u001b[0mself\u001b[0m\u001b[0;34m.\u001b[0m\u001b[0mtimeout\u001b[0m\u001b[0;34m)\u001b[0m\u001b[0;34m)\u001b[0m\u001b[0;34m\u001b[0m\u001b[0;34m\u001b[0m\u001b[0m\n\u001b[0m\u001b[1;32m    910\u001b[0m                 \u001b[0;32melse\u001b[0m\u001b[0;34m:\u001b[0m\u001b[0;34m\u001b[0m\u001b[0;34m\u001b[0m\u001b[0m\n\u001b[1;32m    911\u001b[0m                     \u001b[0mself\u001b[0m\u001b[0;34m.\u001b[0m\u001b[0m_output\u001b[0m\u001b[0;34m.\u001b[0m\u001b[0mextend\u001b[0m\u001b[0;34m(\u001b[0m\u001b[0mjob\u001b[0m\u001b[0;34m.\u001b[0m\u001b[0mget\u001b[0m\u001b[0;34m(\u001b[0m\u001b[0;34m)\u001b[0m\u001b[0;34m)\u001b[0m\u001b[0;34m\u001b[0m\u001b[0;34m\u001b[0m\u001b[0m\n",
      "\u001b[0;32m~/anaconda3/lib/python3.7/site-packages/joblib/_parallel_backends.py\u001b[0m in \u001b[0;36mwrap_future_result\u001b[0;34m(future, timeout)\u001b[0m\n\u001b[1;32m    560\u001b[0m         AsyncResults.get from multiprocessing.\"\"\"\n\u001b[1;32m    561\u001b[0m         \u001b[0;32mtry\u001b[0m\u001b[0;34m:\u001b[0m\u001b[0;34m\u001b[0m\u001b[0;34m\u001b[0m\u001b[0m\n\u001b[0;32m--> 562\u001b[0;31m             \u001b[0;32mreturn\u001b[0m \u001b[0mfuture\u001b[0m\u001b[0;34m.\u001b[0m\u001b[0mresult\u001b[0m\u001b[0;34m(\u001b[0m\u001b[0mtimeout\u001b[0m\u001b[0;34m=\u001b[0m\u001b[0mtimeout\u001b[0m\u001b[0;34m)\u001b[0m\u001b[0;34m\u001b[0m\u001b[0;34m\u001b[0m\u001b[0m\n\u001b[0m\u001b[1;32m    563\u001b[0m         \u001b[0;32mexcept\u001b[0m \u001b[0mLokyTimeoutError\u001b[0m\u001b[0;34m:\u001b[0m\u001b[0;34m\u001b[0m\u001b[0;34m\u001b[0m\u001b[0m\n\u001b[1;32m    564\u001b[0m             \u001b[0;32mraise\u001b[0m \u001b[0mTimeoutError\u001b[0m\u001b[0;34m(\u001b[0m\u001b[0;34m)\u001b[0m\u001b[0;34m\u001b[0m\u001b[0;34m\u001b[0m\u001b[0m\n",
      "\u001b[0;32m~/anaconda3/lib/python3.7/concurrent/futures/_base.py\u001b[0m in \u001b[0;36mresult\u001b[0;34m(self, timeout)\u001b[0m\n\u001b[1;32m    426\u001b[0m                 \u001b[0;32mraise\u001b[0m \u001b[0mCancelledError\u001b[0m\u001b[0;34m(\u001b[0m\u001b[0;34m)\u001b[0m\u001b[0;34m\u001b[0m\u001b[0;34m\u001b[0m\u001b[0m\n\u001b[1;32m    427\u001b[0m             \u001b[0;32melif\u001b[0m \u001b[0mself\u001b[0m\u001b[0;34m.\u001b[0m\u001b[0m_state\u001b[0m \u001b[0;34m==\u001b[0m \u001b[0mFINISHED\u001b[0m\u001b[0;34m:\u001b[0m\u001b[0;34m\u001b[0m\u001b[0;34m\u001b[0m\u001b[0m\n\u001b[0;32m--> 428\u001b[0;31m                 \u001b[0;32mreturn\u001b[0m \u001b[0mself\u001b[0m\u001b[0;34m.\u001b[0m\u001b[0m__get_result\u001b[0m\u001b[0;34m(\u001b[0m\u001b[0;34m)\u001b[0m\u001b[0;34m\u001b[0m\u001b[0;34m\u001b[0m\u001b[0m\n\u001b[0m\u001b[1;32m    429\u001b[0m \u001b[0;34m\u001b[0m\u001b[0m\n\u001b[1;32m    430\u001b[0m             \u001b[0mself\u001b[0m\u001b[0;34m.\u001b[0m\u001b[0m_condition\u001b[0m\u001b[0;34m.\u001b[0m\u001b[0mwait\u001b[0m\u001b[0;34m(\u001b[0m\u001b[0mtimeout\u001b[0m\u001b[0;34m)\u001b[0m\u001b[0;34m\u001b[0m\u001b[0;34m\u001b[0m\u001b[0m\n",
      "\u001b[0;32m~/anaconda3/lib/python3.7/concurrent/futures/_base.py\u001b[0m in \u001b[0;36m__get_result\u001b[0;34m(self)\u001b[0m\n\u001b[1;32m    382\u001b[0m     \u001b[0;32mdef\u001b[0m \u001b[0m__get_result\u001b[0m\u001b[0;34m(\u001b[0m\u001b[0mself\u001b[0m\u001b[0;34m)\u001b[0m\u001b[0;34m:\u001b[0m\u001b[0;34m\u001b[0m\u001b[0;34m\u001b[0m\u001b[0m\n\u001b[1;32m    383\u001b[0m         \u001b[0;32mif\u001b[0m \u001b[0mself\u001b[0m\u001b[0;34m.\u001b[0m\u001b[0m_exception\u001b[0m\u001b[0;34m:\u001b[0m\u001b[0;34m\u001b[0m\u001b[0;34m\u001b[0m\u001b[0m\n\u001b[0;32m--> 384\u001b[0;31m             \u001b[0;32mraise\u001b[0m \u001b[0mself\u001b[0m\u001b[0;34m.\u001b[0m\u001b[0m_exception\u001b[0m\u001b[0;34m\u001b[0m\u001b[0;34m\u001b[0m\u001b[0m\n\u001b[0m\u001b[1;32m    385\u001b[0m         \u001b[0;32melse\u001b[0m\u001b[0;34m:\u001b[0m\u001b[0;34m\u001b[0m\u001b[0;34m\u001b[0m\u001b[0m\n\u001b[1;32m    386\u001b[0m             \u001b[0;32mreturn\u001b[0m \u001b[0mself\u001b[0m\u001b[0;34m.\u001b[0m\u001b[0m_result\u001b[0m\u001b[0;34m\u001b[0m\u001b[0;34m\u001b[0m\u001b[0m\n",
      "\u001b[0;31mValueError\u001b[0m: Input contains NaN, infinity or a value too large for dtype('float64')."
     ]
    }
   ],
   "source": [
    "tt = TransformedTargetRegressor(regressor = SVR(),\n",
    "                                    func = np.log1p,\n",
    "                                    inverse_func = np.expm1)\n",
    "params = {'regressor__C': [0.1,1,100,1000],\n",
    "            'regressor__degree': [1,2,3,4,5,6],\n",
    "            'regressor__kernel': ['sigmoid','rbf','poly']}\n",
    "grid = GridSearchCV(tt, cv = 10, scoring = s, refit = score, n_jobs=-1, param_grid=params)\n",
    "grid.fit(X_train_tt, y_train)\n",
    "best_params_svr_tt = grid.best_params_\n",
    "resultize(grid).head()"
   ]
  },
  {
   "cell_type": "code",
   "execution_count": null,
   "id": "1b8fac83",
   "metadata": {},
   "outputs": [],
   "source": [
    "tt = TransformedTargetRegressor(regressor = SVR(**best_params_svr_tt),\n",
    "                                    func = np.log1p,\n",
    "                                    inverse_func = np.expm1)\n",
    "tt.fit(X_train, y_train)\n",
    "y_pred = tt.predict(X_test)\n",
    "mean_squared_error(y_test, y_pred, squared=False)"
   ]
  },
  {
   "cell_type": "code",
   "execution_count": null,
   "id": "f70b2e90",
   "metadata": {},
   "outputs": [],
   "source": []
  },
  {
   "cell_type": "code",
   "execution_count": null,
   "id": "98965611",
   "metadata": {},
   "outputs": [],
   "source": []
  },
  {
   "cell_type": "code",
   "execution_count": null,
   "id": "66270d8a",
   "metadata": {},
   "outputs": [],
   "source": []
  },
  {
   "cell_type": "code",
   "execution_count": 477,
   "id": "5fe1f062",
   "metadata": {},
   "outputs": [
    {
     "data": {
      "text/plain": [
       "878.0048358189819"
      ]
     },
     "execution_count": 477,
     "metadata": {},
     "output_type": "execute_result"
    }
   ],
   "source": [
    "rf = RandomForestRegressor()\n",
    "rf.fit(X_train, y_train)\n",
    "y_pred = rf.predict(X_test)\n",
    "mean_squared_error(y_test, y_pred, squared=False)"
   ]
  },
  {
   "cell_type": "code",
   "execution_count": 480,
   "id": "d3f2a7bc",
   "metadata": {},
   "outputs": [
    {
     "data": {
      "text/html": [
       "<div>\n",
       "<style scoped>\n",
       "    .dataframe tbody tr th:only-of-type {\n",
       "        vertical-align: middle;\n",
       "    }\n",
       "\n",
       "    .dataframe tbody tr th {\n",
       "        vertical-align: top;\n",
       "    }\n",
       "\n",
       "    .dataframe thead th {\n",
       "        text-align: right;\n",
       "    }\n",
       "</style>\n",
       "<table border=\"1\" class=\"dataframe\">\n",
       "  <thead>\n",
       "    <tr style=\"text-align: right;\">\n",
       "      <th></th>\n",
       "      <th>params</th>\n",
       "      <th>mean_test_RMSE</th>\n",
       "      <th>rank_test_RMSE</th>\n",
       "      <th>mean_test_MSE</th>\n",
       "      <th>rank_test_MSE</th>\n",
       "      <th>mean_test_MAE</th>\n",
       "      <th>rank_test_MAE</th>\n",
       "      <th>mean_test_R2</th>\n",
       "      <th>rank_test_R2</th>\n",
       "    </tr>\n",
       "  </thead>\n",
       "  <tbody>\n",
       "    <tr>\n",
       "      <th>370</th>\n",
       "      <td>{'max_depth': 9, 'min_samples_split': 4, 'n_es...</td>\n",
       "      <td>389.782738</td>\n",
       "      <td>1</td>\n",
       "      <td>177584.548064</td>\n",
       "      <td>1</td>\n",
       "      <td>127.368119</td>\n",
       "      <td>1</td>\n",
       "      <td>0.535029</td>\n",
       "      <td>1</td>\n",
       "    </tr>\n",
       "    <tr>\n",
       "      <th>419</th>\n",
       "      <td>{'max_depth': 10, 'min_samples_split': 4, 'n_e...</td>\n",
       "      <td>394.754736</td>\n",
       "      <td>2</td>\n",
       "      <td>180820.071994</td>\n",
       "      <td>2</td>\n",
       "      <td>127.712609</td>\n",
       "      <td>2</td>\n",
       "      <td>0.515759</td>\n",
       "      <td>12</td>\n",
       "    </tr>\n",
       "    <tr>\n",
       "      <th>372</th>\n",
       "      <td>{'max_depth': 9, 'min_samples_split': 4, 'n_es...</td>\n",
       "      <td>395.115910</td>\n",
       "      <td>3</td>\n",
       "      <td>183169.504542</td>\n",
       "      <td>8</td>\n",
       "      <td>127.851473</td>\n",
       "      <td>3</td>\n",
       "      <td>0.527863</td>\n",
       "      <td>2</td>\n",
       "    </tr>\n",
       "    <tr>\n",
       "      <th>317</th>\n",
       "      <td>{'max_depth': 8, 'min_samples_split': 2, 'n_es...</td>\n",
       "      <td>395.756284</td>\n",
       "      <td>4</td>\n",
       "      <td>183033.958833</td>\n",
       "      <td>6</td>\n",
       "      <td>127.932470</td>\n",
       "      <td>5</td>\n",
       "      <td>0.525910</td>\n",
       "      <td>4</td>\n",
       "    </tr>\n",
       "    <tr>\n",
       "      <th>413</th>\n",
       "      <td>{'max_depth': 10, 'min_samples_split': 3, 'n_e...</td>\n",
       "      <td>395.914299</td>\n",
       "      <td>5</td>\n",
       "      <td>183148.620952</td>\n",
       "      <td>7</td>\n",
       "      <td>127.993785</td>\n",
       "      <td>6</td>\n",
       "      <td>0.519623</td>\n",
       "      <td>9</td>\n",
       "    </tr>\n",
       "  </tbody>\n",
       "</table>\n",
       "</div>"
      ],
      "text/plain": [
       "                                                params  mean_test_RMSE  \\\n",
       "370  {'max_depth': 9, 'min_samples_split': 4, 'n_es...      389.782738   \n",
       "419  {'max_depth': 10, 'min_samples_split': 4, 'n_e...      394.754736   \n",
       "372  {'max_depth': 9, 'min_samples_split': 4, 'n_es...      395.115910   \n",
       "317  {'max_depth': 8, 'min_samples_split': 2, 'n_es...      395.756284   \n",
       "413  {'max_depth': 10, 'min_samples_split': 3, 'n_e...      395.914299   \n",
       "\n",
       "     rank_test_RMSE  mean_test_MSE  rank_test_MSE  mean_test_MAE  \\\n",
       "370               1  177584.548064              1     127.368119   \n",
       "419               2  180820.071994              2     127.712609   \n",
       "372               3  183169.504542              8     127.851473   \n",
       "317               4  183033.958833              6     127.932470   \n",
       "413               5  183148.620952              7     127.993785   \n",
       "\n",
       "     rank_test_MAE  mean_test_R2  rank_test_R2  \n",
       "370              1      0.535029             1  \n",
       "419              2      0.515759            12  \n",
       "372              3      0.527863             2  \n",
       "317              5      0.525910             4  \n",
       "413              6      0.519623             9  "
      ]
     },
     "execution_count": 480,
     "metadata": {},
     "output_type": "execute_result"
    }
   ],
   "source": [
    "params = {'n_estimators': [100, 200, 300, 400, 500],\n",
    "            'max_depth': [1,2,3,4,5,6,7,8,9,10],\n",
    "            'min_samples_split': [2,3,4,5,6,7,8,9,10],\n",
    "}\n",
    "grid_rf = GridSearchCV(RandomForestRegressor(), params, cv=10, scoring = s, refit = score, n_jobs=-1)\n",
    "grid_rf.fit(X_train, y_train)\n",
    "best_params_rf = grid_rf.best_params_\n",
    "resultize(grid_rf).head()"
   ]
  },
  {
   "cell_type": "code",
   "execution_count": 482,
   "id": "e675be36",
   "metadata": {},
   "outputs": [],
   "source": [
    "best_params_rf = {'max_depth': 9, 'min_samples_split': 4, 'n_estimators': 100}"
   ]
  },
  {
   "cell_type": "code",
   "execution_count": 489,
   "id": "827e91e3",
   "metadata": {},
   "outputs": [
    {
     "data": {
      "text/plain": [
       "871.067851351641"
      ]
     },
     "execution_count": 489,
     "metadata": {},
     "output_type": "execute_result"
    }
   ],
   "source": [
    "rf = RandomForestRegressor(**best_params_rf)\n",
    "rf.fit(X_train, y_train)\n",
    "y_pred = rf.predict(X_test)\n",
    "mean_squared_error(y_test, y_pred, squared=False)"
   ]
  },
  {
   "cell_type": "code",
   "execution_count": 491,
   "id": "b6ba14f5",
   "metadata": {},
   "outputs": [
    {
     "data": {
      "text/plain": [
       "926.998740028455"
      ]
     },
     "execution_count": 491,
     "metadata": {},
     "output_type": "execute_result"
    }
   ],
   "source": [
    "tt = TransformedTargetRegressor(regressor = RandomForestRegressor(**best_params_rf),\n",
    "                                    func = np.log1p,\n",
    "                                    inverse_func = np.expm1)\n",
    "tt.fit(X_train_tt, y_train)\n",
    "y_pred = tt.predict(X_test_tt)\n",
    "mean_squared_error(y_test, y_pred, squared=False)"
   ]
  },
  {
   "cell_type": "code",
   "execution_count": 496,
   "id": "0962f819",
   "metadata": {},
   "outputs": [
    {
     "data": {
      "text/html": [
       "<div>\n",
       "<style scoped>\n",
       "    .dataframe tbody tr th:only-of-type {\n",
       "        vertical-align: middle;\n",
       "    }\n",
       "\n",
       "    .dataframe tbody tr th {\n",
       "        vertical-align: top;\n",
       "    }\n",
       "\n",
       "    .dataframe thead th {\n",
       "        text-align: right;\n",
       "    }\n",
       "</style>\n",
       "<table border=\"1\" class=\"dataframe\">\n",
       "  <thead>\n",
       "    <tr style=\"text-align: right;\">\n",
       "      <th></th>\n",
       "      <th>params</th>\n",
       "      <th>mean_test_RMSE</th>\n",
       "      <th>rank_test_RMSE</th>\n",
       "      <th>mean_test_MSE</th>\n",
       "      <th>rank_test_MSE</th>\n",
       "      <th>mean_test_MAE</th>\n",
       "      <th>rank_test_MAE</th>\n",
       "      <th>mean_test_R2</th>\n",
       "      <th>rank_test_R2</th>\n",
       "    </tr>\n",
       "  </thead>\n",
       "  <tbody>\n",
       "    <tr>\n",
       "      <th>320</th>\n",
       "      <td>{'regressor__max_depth': 8, 'regressor__min_sa...</td>\n",
       "      <td>460.692025</td>\n",
       "      <td>1</td>\n",
       "      <td>261609.216151</td>\n",
       "      <td>1</td>\n",
       "      <td>119.784300</td>\n",
       "      <td>2</td>\n",
       "      <td>0.418534</td>\n",
       "      <td>1</td>\n",
       "    </tr>\n",
       "    <tr>\n",
       "      <th>417</th>\n",
       "      <td>{'regressor__max_depth': 10, 'regressor__min_s...</td>\n",
       "      <td>469.792284</td>\n",
       "      <td>2</td>\n",
       "      <td>276245.263840</td>\n",
       "      <td>5</td>\n",
       "      <td>121.068744</td>\n",
       "      <td>16</td>\n",
       "      <td>0.408383</td>\n",
       "      <td>3</td>\n",
       "    </tr>\n",
       "    <tr>\n",
       "      <th>316</th>\n",
       "      <td>{'regressor__max_depth': 8, 'regressor__min_sa...</td>\n",
       "      <td>469.835983</td>\n",
       "      <td>3</td>\n",
       "      <td>273492.436868</td>\n",
       "      <td>2</td>\n",
       "      <td>120.936403</td>\n",
       "      <td>11</td>\n",
       "      <td>0.405356</td>\n",
       "      <td>6</td>\n",
       "    </tr>\n",
       "    <tr>\n",
       "      <th>413</th>\n",
       "      <td>{'regressor__max_depth': 10, 'regressor__min_s...</td>\n",
       "      <td>470.649466</td>\n",
       "      <td>4</td>\n",
       "      <td>278750.251170</td>\n",
       "      <td>6</td>\n",
       "      <td>120.369848</td>\n",
       "      <td>4</td>\n",
       "      <td>0.411759</td>\n",
       "      <td>2</td>\n",
       "    </tr>\n",
       "    <tr>\n",
       "      <th>271</th>\n",
       "      <td>{'regressor__max_depth': 7, 'regressor__min_sa...</td>\n",
       "      <td>470.651603</td>\n",
       "      <td>5</td>\n",
       "      <td>275338.464234</td>\n",
       "      <td>3</td>\n",
       "      <td>122.111112</td>\n",
       "      <td>41</td>\n",
       "      <td>0.396915</td>\n",
       "      <td>19</td>\n",
       "    </tr>\n",
       "  </tbody>\n",
       "</table>\n",
       "</div>"
      ],
      "text/plain": [
       "                                                params  mean_test_RMSE  \\\n",
       "320  {'regressor__max_depth': 8, 'regressor__min_sa...      460.692025   \n",
       "417  {'regressor__max_depth': 10, 'regressor__min_s...      469.792284   \n",
       "316  {'regressor__max_depth': 8, 'regressor__min_sa...      469.835983   \n",
       "413  {'regressor__max_depth': 10, 'regressor__min_s...      470.649466   \n",
       "271  {'regressor__max_depth': 7, 'regressor__min_sa...      470.651603   \n",
       "\n",
       "     rank_test_RMSE  mean_test_MSE  rank_test_MSE  mean_test_MAE  \\\n",
       "320               1  261609.216151              1     119.784300   \n",
       "417               2  276245.263840              5     121.068744   \n",
       "316               3  273492.436868              2     120.936403   \n",
       "413               4  278750.251170              6     120.369848   \n",
       "271               5  275338.464234              3     122.111112   \n",
       "\n",
       "     rank_test_MAE  mean_test_R2  rank_test_R2  \n",
       "320              2      0.418534             1  \n",
       "417             16      0.408383             3  \n",
       "316             11      0.405356             6  \n",
       "413              4      0.411759             2  \n",
       "271             41      0.396915            19  "
      ]
     },
     "execution_count": 496,
     "metadata": {},
     "output_type": "execute_result"
    }
   ],
   "source": [
    "tt_rf = TransformedTargetRegressor(regressor = RandomForestRegressor(),\n",
    "                                    func = np.log1p,\n",
    "                                    inverse_func = np.expm1)\n",
    "params = {'regressor__n_estimators': [100, 200, 300, 400, 500],\n",
    "            'regressor__max_depth': [1,2,3,4,5,6,7,8,9,10],\n",
    "            'regressor__min_samples_split': [2,3,4,5,6,7,8,9,10]}\n",
    "grid_tt_rf = GridSearchCV(tt_rf, params, cv = 10, scoring = s, refit = score, n_jobs=-1)\n",
    "grid_tt_rf.fit(X_train_tt, y_train)\n",
    "best_params_rf_tt = grid_tt_rf.best_params_\n",
    "resultize(grid_tt_rf).head()"
   ]
  },
  {
   "cell_type": "code",
   "execution_count": 498,
   "id": "b150f5fc",
   "metadata": {},
   "outputs": [],
   "source": [
    "best_params_rf_tt = {'max_depth': 8,\n",
    " 'min_samples_split': 3,\n",
    " 'n_estimators': 100}"
   ]
  },
  {
   "cell_type": "code",
   "execution_count": 499,
   "id": "ea151df4",
   "metadata": {},
   "outputs": [
    {
     "data": {
      "text/plain": [
       "929.5797345307338"
      ]
     },
     "execution_count": 499,
     "metadata": {},
     "output_type": "execute_result"
    }
   ],
   "source": [
    "best_params_rf_tt = {'max_depth': 10,\n",
    " 'min_samples_split': 4,\n",
    " 'n_estimators': 200}\n",
    "rf_tt = TransformedTargetRegressor(\n",
    "      regressor = RandomForestRegressor(**best_params_rf_tt),\n",
    "      func = np.log1p,\n",
    "      inverse_func = np.expm1)\n",
    "rf_tt.fit(X_train_tt, y_train)\n",
    "y_pred = rf_tt.predict(X_test_tt)\n",
    "mean_squared_error(y_test, y_pred, squared=False)"
   ]
  },
  {
   "cell_type": "code",
   "execution_count": null,
   "id": "932baba1",
   "metadata": {},
   "outputs": [],
   "source": []
  },
  {
   "cell_type": "code",
   "execution_count": null,
   "id": "262e9048",
   "metadata": {},
   "outputs": [],
   "source": []
  },
  {
   "cell_type": "code",
   "execution_count": null,
   "id": "429478e8",
   "metadata": {},
   "outputs": [],
   "source": []
  },
  {
   "cell_type": "code",
   "execution_count": 500,
   "id": "2c199d47",
   "metadata": {},
   "outputs": [
    {
     "data": {
      "text/plain": [
       "825.3071199981167"
      ]
     },
     "execution_count": 500,
     "metadata": {},
     "output_type": "execute_result"
    }
   ],
   "source": [
    "gb = GradientBoostingRegressor()\n",
    "gb.fit(X_train, y_train)\n",
    "y_pred = gb.predict(X_test)\n",
    "mean_squared_error(y_test, y_pred, squared=False)"
   ]
  },
  {
   "cell_type": "code",
   "execution_count": 501,
   "id": "eca2577b",
   "metadata": {},
   "outputs": [
    {
     "data": {
      "text/html": [
       "<div>\n",
       "<style scoped>\n",
       "    .dataframe tbody tr th:only-of-type {\n",
       "        vertical-align: middle;\n",
       "    }\n",
       "\n",
       "    .dataframe tbody tr th {\n",
       "        vertical-align: top;\n",
       "    }\n",
       "\n",
       "    .dataframe thead th {\n",
       "        text-align: right;\n",
       "    }\n",
       "</style>\n",
       "<table border=\"1\" class=\"dataframe\">\n",
       "  <thead>\n",
       "    <tr style=\"text-align: right;\">\n",
       "      <th></th>\n",
       "      <th>params</th>\n",
       "      <th>mean_test_RMSE</th>\n",
       "      <th>rank_test_RMSE</th>\n",
       "      <th>mean_test_MSE</th>\n",
       "      <th>rank_test_MSE</th>\n",
       "      <th>mean_test_MAE</th>\n",
       "      <th>rank_test_MAE</th>\n",
       "      <th>mean_test_R2</th>\n",
       "      <th>rank_test_R2</th>\n",
       "    </tr>\n",
       "  </thead>\n",
       "  <tbody>\n",
       "    <tr>\n",
       "      <th>0</th>\n",
       "      <td>{'learning_rate': 0.1, 'loss': 'ls', 'max_dept...</td>\n",
       "      <td>358.629988</td>\n",
       "      <td>1</td>\n",
       "      <td>139464.125422</td>\n",
       "      <td>1</td>\n",
       "      <td>118.889967</td>\n",
       "      <td>9</td>\n",
       "      <td>0.419397</td>\n",
       "      <td>21</td>\n",
       "    </tr>\n",
       "    <tr>\n",
       "      <th>32</th>\n",
       "      <td>{'learning_rate': 0.05, 'loss': 'ls', 'max_dep...</td>\n",
       "      <td>365.625682</td>\n",
       "      <td>2</td>\n",
       "      <td>144467.866513</td>\n",
       "      <td>2</td>\n",
       "      <td>121.384600</td>\n",
       "      <td>18</td>\n",
       "      <td>0.420592</td>\n",
       "      <td>20</td>\n",
       "    </tr>\n",
       "    <tr>\n",
       "      <th>16</th>\n",
       "      <td>{'learning_rate': 0.1, 'loss': 'huber', 'max_d...</td>\n",
       "      <td>368.288590</td>\n",
       "      <td>3</td>\n",
       "      <td>157009.439734</td>\n",
       "      <td>5</td>\n",
       "      <td>113.368069</td>\n",
       "      <td>1</td>\n",
       "      <td>0.540011</td>\n",
       "      <td>1</td>\n",
       "    </tr>\n",
       "    <tr>\n",
       "      <th>2</th>\n",
       "      <td>{'learning_rate': 0.1, 'loss': 'ls', 'max_dept...</td>\n",
       "      <td>379.056951</td>\n",
       "      <td>4</td>\n",
       "      <td>155527.575728</td>\n",
       "      <td>4</td>\n",
       "      <td>134.134067</td>\n",
       "      <td>64</td>\n",
       "      <td>0.357391</td>\n",
       "      <td>41</td>\n",
       "    </tr>\n",
       "    <tr>\n",
       "      <th>6</th>\n",
       "      <td>{'learning_rate': 0.1, 'loss': 'ls', 'max_dept...</td>\n",
       "      <td>379.590309</td>\n",
       "      <td>5</td>\n",
       "      <td>155286.893495</td>\n",
       "      <td>3</td>\n",
       "      <td>132.757320</td>\n",
       "      <td>58</td>\n",
       "      <td>0.331857</td>\n",
       "      <td>49</td>\n",
       "    </tr>\n",
       "  </tbody>\n",
       "</table>\n",
       "</div>"
      ],
      "text/plain": [
       "                                               params  mean_test_RMSE  \\\n",
       "0   {'learning_rate': 0.1, 'loss': 'ls', 'max_dept...      358.629988   \n",
       "32  {'learning_rate': 0.05, 'loss': 'ls', 'max_dep...      365.625682   \n",
       "16  {'learning_rate': 0.1, 'loss': 'huber', 'max_d...      368.288590   \n",
       "2   {'learning_rate': 0.1, 'loss': 'ls', 'max_dept...      379.056951   \n",
       "6   {'learning_rate': 0.1, 'loss': 'ls', 'max_dept...      379.590309   \n",
       "\n",
       "    rank_test_RMSE  mean_test_MSE  rank_test_MSE  mean_test_MAE  \\\n",
       "0                1  139464.125422              1     118.889967   \n",
       "32               2  144467.866513              2     121.384600   \n",
       "16               3  157009.439734              5     113.368069   \n",
       "2                4  155527.575728              4     134.134067   \n",
       "6                5  155286.893495              3     132.757320   \n",
       "\n",
       "    rank_test_MAE  mean_test_R2  rank_test_R2  \n",
       "0               9      0.419397            21  \n",
       "32             18      0.420592            20  \n",
       "16              1      0.540011             1  \n",
       "2              64      0.357391            41  \n",
       "6              58      0.331857            49  "
      ]
     },
     "execution_count": 501,
     "metadata": {},
     "output_type": "execute_result"
    }
   ],
   "source": [
    "params = {'loss': ['ls', 'lad', 'huber', 'quantile'],\n",
    "            'learning_rate': [0.1, 0.05, 0.02, 0.01],\n",
    "            'max_depth': [4, 6],\n",
    "            'min_samples_leaf': [3, 5, 9, 17],\n",
    "}\n",
    "grid_gb = GridSearchCV(GradientBoostingRegressor(), params, cv=10, scoring = s, refit = score, n_jobs=-1)\n",
    "grid_gb.fit(X_train, y_train)\n",
    "best_params_gb = grid_gb.best_params_\n",
    "resultize(grid_gb).head()"
   ]
  },
  {
   "cell_type": "code",
   "execution_count": 506,
   "id": "48c2c5c9",
   "metadata": {},
   "outputs": [],
   "source": [
    "best_params_gb = {'learning_rate': 0.1, 'loss': 'ls', 'max_depth': 4, 'min_samples_leaf': 3}"
   ]
  },
  {
   "cell_type": "code",
   "execution_count": 507,
   "id": "c1b4a073",
   "metadata": {},
   "outputs": [
    {
     "data": {
      "text/plain": [
       "850.3176525790487"
      ]
     },
     "execution_count": 507,
     "metadata": {},
     "output_type": "execute_result"
    }
   ],
   "source": [
    "gb = GradientBoostingRegressor(**best_params_gb)\n",
    "gb.fit(X_train, y_train)\n",
    "y_pred = gb.predict(X_test)\n",
    "mean_squared_error(y_test, y_pred, squared=False)"
   ]
  },
  {
   "cell_type": "code",
   "execution_count": 508,
   "id": "249ca26b",
   "metadata": {},
   "outputs": [
    {
     "data": {
      "text/html": [
       "<div>\n",
       "<style scoped>\n",
       "    .dataframe tbody tr th:only-of-type {\n",
       "        vertical-align: middle;\n",
       "    }\n",
       "\n",
       "    .dataframe tbody tr th {\n",
       "        vertical-align: top;\n",
       "    }\n",
       "\n",
       "    .dataframe thead th {\n",
       "        text-align: right;\n",
       "    }\n",
       "</style>\n",
       "<table border=\"1\" class=\"dataframe\">\n",
       "  <thead>\n",
       "    <tr style=\"text-align: right;\">\n",
       "      <th></th>\n",
       "      <th>params</th>\n",
       "      <th>mean_test_RMSE</th>\n",
       "      <th>rank_test_RMSE</th>\n",
       "      <th>mean_test_MSE</th>\n",
       "      <th>rank_test_MSE</th>\n",
       "      <th>mean_test_MAE</th>\n",
       "      <th>rank_test_MAE</th>\n",
       "      <th>mean_test_R2</th>\n",
       "      <th>rank_test_R2</th>\n",
       "    </tr>\n",
       "  </thead>\n",
       "  <tbody>\n",
       "    <tr>\n",
       "      <th>21</th>\n",
       "      <td>{'regressor__learning_rate': 0.1, 'regressor__...</td>\n",
       "      <td>348.439551</td>\n",
       "      <td>1</td>\n",
       "      <td>145859.729492</td>\n",
       "      <td>5</td>\n",
       "      <td>105.856672</td>\n",
       "      <td>2</td>\n",
       "      <td>0.576086</td>\n",
       "      <td>3</td>\n",
       "    </tr>\n",
       "    <tr>\n",
       "      <th>28</th>\n",
       "      <td>{'regressor__learning_rate': 0.1, 'regressor__...</td>\n",
       "      <td>350.756538</td>\n",
       "      <td>2</td>\n",
       "      <td>141270.432267</td>\n",
       "      <td>2</td>\n",
       "      <td>147.341948</td>\n",
       "      <td>97</td>\n",
       "      <td>0.575052</td>\n",
       "      <td>4</td>\n",
       "    </tr>\n",
       "    <tr>\n",
       "      <th>5</th>\n",
       "      <td>{'regressor__learning_rate': 0.1, 'regressor__...</td>\n",
       "      <td>352.268470</td>\n",
       "      <td>3</td>\n",
       "      <td>146618.928615</td>\n",
       "      <td>6</td>\n",
       "      <td>105.063069</td>\n",
       "      <td>1</td>\n",
       "      <td>0.554623</td>\n",
       "      <td>8</td>\n",
       "    </tr>\n",
       "    <tr>\n",
       "      <th>30</th>\n",
       "      <td>{'regressor__learning_rate': 0.1, 'regressor__...</td>\n",
       "      <td>352.759847</td>\n",
       "      <td>4</td>\n",
       "      <td>141990.443987</td>\n",
       "      <td>3</td>\n",
       "      <td>149.944045</td>\n",
       "      <td>99</td>\n",
       "      <td>0.459212</td>\n",
       "      <td>41</td>\n",
       "    </tr>\n",
       "    <tr>\n",
       "      <th>29</th>\n",
       "      <td>{'regressor__learning_rate': 0.1, 'regressor__...</td>\n",
       "      <td>353.648541</td>\n",
       "      <td>5</td>\n",
       "      <td>140580.184578</td>\n",
       "      <td>1</td>\n",
       "      <td>149.350098</td>\n",
       "      <td>98</td>\n",
       "      <td>0.551575</td>\n",
       "      <td>10</td>\n",
       "    </tr>\n",
       "  </tbody>\n",
       "</table>\n",
       "</div>"
      ],
      "text/plain": [
       "                                               params  mean_test_RMSE  \\\n",
       "21  {'regressor__learning_rate': 0.1, 'regressor__...      348.439551   \n",
       "28  {'regressor__learning_rate': 0.1, 'regressor__...      350.756538   \n",
       "5   {'regressor__learning_rate': 0.1, 'regressor__...      352.268470   \n",
       "30  {'regressor__learning_rate': 0.1, 'regressor__...      352.759847   \n",
       "29  {'regressor__learning_rate': 0.1, 'regressor__...      353.648541   \n",
       "\n",
       "    rank_test_RMSE  mean_test_MSE  rank_test_MSE  mean_test_MAE  \\\n",
       "21               1  145859.729492              5     105.856672   \n",
       "28               2  141270.432267              2     147.341948   \n",
       "5                3  146618.928615              6     105.063069   \n",
       "30               4  141990.443987              3     149.944045   \n",
       "29               5  140580.184578              1     149.350098   \n",
       "\n",
       "    rank_test_MAE  mean_test_R2  rank_test_R2  \n",
       "21              2      0.576086             3  \n",
       "28             97      0.575052             4  \n",
       "5               1      0.554623             8  \n",
       "30             99      0.459212            41  \n",
       "29             98      0.551575            10  "
      ]
     },
     "execution_count": 508,
     "metadata": {},
     "output_type": "execute_result"
    }
   ],
   "source": [
    "tt_gb = TransformedTargetRegressor(regressor = GradientBoostingRegressor(),\n",
    "                                    func = np.log1p,\n",
    "                                    inverse_func = np.expm1)\n",
    "params = {'regressor__loss': ['ls', 'lad', 'huber', 'quantile'],\n",
    "            'regressor__learning_rate': [0.1, 0.05, 0.02, 0.01],\n",
    "            'regressor__max_depth': [4, 6],\n",
    "            'regressor__min_samples_leaf': [3, 5, 9, 17]}\n",
    "grid = GridSearchCV(tt_gb, params, cv = 10, scoring = s, refit = score, n_jobs=-1)\n",
    "grid.fit(X_train_tt, y_train)\n",
    "best_params_gb_tt = grid.best_params_\n",
    "resultize(grid).head()"
   ]
  },
  {
   "cell_type": "code",
   "execution_count": null,
   "id": "3e6755ff",
   "metadata": {},
   "outputs": [],
   "source": [
    "best_params_gb_tt = {'learning_rate': 0.1,\n",
    "      'loss': 'ls',\n",
    "      'max_depth': 6,\n",
    "      'min_samples_leaf': 5\n",
    "      }\n",
    "gb_tt = TransformedTargetRegressor(regressor=GradientBoostingRegressor(**best_params_gb_tt),\n",
    "                                    func = np.log1p,\n",
    "                                    inverse_func = np.expm1)\n",
    "gb_tt.fit(X_train, y_train)\n",
    "y_pred = gb_tt.predict(X_test)\n",
    "mean_squared_error(y_test, y_pred, squared=False)"
   ]
  },
  {
   "cell_type": "code",
   "execution_count": null,
   "id": "a4c18783",
   "metadata": {},
   "outputs": [],
   "source": []
  },
  {
   "cell_type": "code",
   "execution_count": null,
   "id": "b6301ac8",
   "metadata": {},
   "outputs": [],
   "source": []
  },
  {
   "cell_type": "code",
   "execution_count": null,
   "id": "cf32d1d8",
   "metadata": {},
   "outputs": [],
   "source": []
  },
  {
   "cell_type": "code",
   "execution_count": null,
   "id": "f1de56fe",
   "metadata": {},
   "outputs": [],
   "source": []
  },
  {
   "cell_type": "code",
   "execution_count": null,
   "id": "9ddeb8c0",
   "metadata": {},
   "outputs": [],
   "source": [
    "ad =  AdaBoostRegressor()\n",
    "ad.fit(X_train, y_train)\n",
    "y_pred = ad.predict(X_test)\n",
    "mean_squared_error(y_test, y_pred, squared=False)"
   ]
  },
  {
   "cell_type": "code",
   "execution_count": null,
   "id": "c4480a43",
   "metadata": {},
   "outputs": [],
   "source": [
    "'''params = {'n_estimators': [100, 200, 300, 400, 500],\n",
    "            'learning_rate': [0.1, 0.05, 0.02, 0.01],\n",
    "            'loss': ['linear', 'square', 'exponential'],\n",
    "}\n",
    "grid = GridSearchCV(AdaBoostRegressor(), params, cv=10)\n",
    "grid.fit(X_train, y_train)\n",
    "best_params_ad = grid.best_params_\n",
    "resultize(grid).head()'''"
   ]
  },
  {
   "cell_type": "code",
   "execution_count": null,
   "id": "f4182d2b",
   "metadata": {},
   "outputs": [],
   "source": [
    "best_params_ad = {'learning_rate': 0.1, 'loss': 'square', 'n_estimators': 400}"
   ]
  },
  {
   "cell_type": "code",
   "execution_count": null,
   "id": "83cd3f4c",
   "metadata": {},
   "outputs": [],
   "source": [
    "ad = AdaBoostRegressor(**best_params_ad)\n",
    "ad.fit(X_train, y_train)\n",
    "y_pred = ad.predict(X_test)\n",
    "mean_squared_error(y_test, y_pred, squared=False)"
   ]
  },
  {
   "cell_type": "code",
   "execution_count": null,
   "id": "6d601ebb",
   "metadata": {},
   "outputs": [],
   "source": [
    "\"\"\"tt_ad = TransformedTargetRegressor(regressor = AdaBoostRegressor(),\n",
    "                                    func = np.log1p,\n",
    "                                    inverse_func = np.expm1)\n",
    "params = {'regressor__n_estimators': [100, 200, 300, 400, 500],\n",
    "            'regressor__learning_rate': [0.1, 0.05, 0.02, 0.01],\n",
    "            'regressor__loss': ['linear', 'square', 'exponential'],\n",
    "}\n",
    "grid = GridSearchCV(tt_ad, params, cv = 10)\n",
    "grid.fit(X_train, y_train)\n",
    "best_params_ad_tt = grid.best_params_\n",
    "resultize(grid).head()\"\"\""
   ]
  },
  {
   "cell_type": "code",
   "execution_count": null,
   "id": "20b58dd0",
   "metadata": {},
   "outputs": [],
   "source": [
    "best_params_ad_tt = {'learning_rate': 0.1,\n",
    "      'loss': 'square',\n",
    "      'n_estimators': 200\n",
    "      }\n",
    "tt_ad = TransformedTargetRegressor(regressor=AdaBoostRegressor(**best_params_ad_tt),\n",
    "                                    func = np.log1p,\n",
    "                                    inverse_func = np.expm1)\n",
    "tt_ad.fit(X_train, y_train)\n",
    "y_pred = tt_ad.predict(X_test)\n",
    "mean_squared_error(y_test, y_pred, squared=False)"
   ]
  },
  {
   "cell_type": "code",
   "execution_count": null,
   "id": "aa50b8d1",
   "metadata": {},
   "outputs": [],
   "source": []
  },
  {
   "cell_type": "code",
   "execution_count": null,
   "id": "08c48ebe",
   "metadata": {},
   "outputs": [],
   "source": [
    "from sklearn.neural_network import MLPRegressor\n",
    "mlp = MLPRegressor()\n",
    "mlp.fit(X_train, y_train)\n",
    "y_pred = mlp.predict(X_test)\n",
    "mean_squared_error(y_test, y_pred, squared=False)"
   ]
  },
  {
   "cell_type": "code",
   "execution_count": null,
   "id": "b30e3488",
   "metadata": {},
   "outputs": [],
   "source": [
    "'''params = {'hidden_layer_sizes': [(100,),(200,),(300,),(400,),(500,)],\n",
    "            'activation': ['identity', 'logistic', 'tanh', 'relu'],\n",
    "            'solver': ['lbfgs', 'adam'],\n",
    "}\n",
    "grid = GridSearchCV(MLPRegressor(), params, cv=10)\n",
    "grid.fit(X_train, y_train)\n",
    "best_params_mlp = grid.best_params_\n",
    "resultize(grid).head()'''"
   ]
  },
  {
   "cell_type": "code",
   "execution_count": null,
   "id": "aaacf4db",
   "metadata": {},
   "outputs": [],
   "source": [
    "best_params_mlp = {'activation': 'logistic',\n",
    "                  'hidden_layer_sizes': (200,), \n",
    "                  'solver': 'lbfgs'}"
   ]
  },
  {
   "cell_type": "code",
   "execution_count": null,
   "id": "872156ff",
   "metadata": {},
   "outputs": [],
   "source": [
    "mlp = MLPRegressor(**best_params_mlp)\n",
    "mlp.fit(X_train, y_train)\n",
    "y_pred = mlp.predict(X_test)\n",
    "mean_squared_error(y_test, y_pred, squared=False)"
   ]
  },
  {
   "cell_type": "code",
   "execution_count": null,
   "id": "72645510",
   "metadata": {},
   "outputs": [],
   "source": [
    "\"\"\"tt_mlp = TransformedTargetRegressor(regressor = MLPRegressor(),\n",
    "                                    func = np.log1p,\n",
    "                                    inverse_func = np.expm1)\n",
    "params = {'regressor__hidden_layer_sizes': [(100,),(200,),(300,),(400,),(500,)],\n",
    "            'regressor__activation': ['identity', 'logistic', 'tanh', 'relu'],\n",
    "            'regressor__solver': ['lbfgs', 'adam'],\n",
    "}\n",
    "grid = GridSearchCV(tt_mlp, params, cv = 10)\n",
    "grid.fit(X_train, y_train)\n",
    "best_params_mlp_tt = grid.best_params_\n",
    "resultize(grid).head()\"\"\""
   ]
  },
  {
   "cell_type": "code",
   "execution_count": null,
   "id": "0a26bce0",
   "metadata": {},
   "outputs": [],
   "source": [
    "best_params_mlp_tt = {'activation': 'tanh',\n",
    "      'hidden_layer_sizes': (100,),\n",
    "      'solver': 'adam'\n",
    "      }\n",
    "tt_mlp = TransformedTargetRegressor(regressor=MLPRegressor(**best_params_mlp_tt),\n",
    "                                    func = np.log1p,\n",
    "                                    inverse_func = np.expm1)\n",
    "tt_mlp.fit(X_train, y_train)\n",
    "y_pred = tt_mlp.predict(X_test)\n",
    "mean_squared_error(y_test, y_pred, squared=False)"
   ]
  },
  {
   "cell_type": "code",
   "execution_count": null,
   "id": "5a5e9138",
   "metadata": {},
   "outputs": [],
   "source": []
  },
  {
   "cell_type": "code",
   "execution_count": null,
   "id": "07005e30",
   "metadata": {},
   "outputs": [],
   "source": []
  },
  {
   "cell_type": "code",
   "execution_count": null,
   "id": "a0158473",
   "metadata": {},
   "outputs": [],
   "source": []
  },
  {
   "cell_type": "code",
   "execution_count": null,
   "id": "d8f08356",
   "metadata": {},
   "outputs": [],
   "source": []
  }
 ],
 "metadata": {
  "kernelspec": {
   "display_name": "Python 3 (ipykernel)",
   "language": "python",
   "name": "python3"
  },
  "language_info": {
   "codemirror_mode": {
    "name": "ipython",
    "version": 3
   },
   "file_extension": ".py",
   "mimetype": "text/x-python",
   "name": "python",
   "nbconvert_exporter": "python",
   "pygments_lexer": "ipython3",
   "version": "3.7.6"
  },
  "vscode": {
   "interpreter": {
    "hash": "8effbaa76bd891d5dedfafc37b55e0ad9035d84c812eadfdf6f5bc8817d866aa"
   }
  }
 },
 "nbformat": 4,
 "nbformat_minor": 5
}
