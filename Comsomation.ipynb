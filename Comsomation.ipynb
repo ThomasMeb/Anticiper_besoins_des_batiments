{
 "cells": [
  {
   "cell_type": "code",
   "execution_count": 1,
   "metadata": {},
   "outputs": [],
   "source": [
    "import pandas as pd\n",
    "pd.options.display.max_columns=200\n",
    "import matplotlib.pyplot as plt\n",
    "import numpy as np\n",
    "from sklearn.preprocessing import StandardScaler\n",
    "import warnings \n",
    "warnings.filterwarnings('ignore')\n",
    "from sklearn.dummy import DummyRegressor\n",
    "from sklearn.model_selection import train_test_split, GridSearchCV\n",
    "from sklearn.metrics import mean_squared_error, mean_squared_log_error\n",
    "from sklearn.linear_model import Ridge, LinearRegression, Lasso\n",
    "from sklearn.compose import TransformedTargetRegressor\n",
    "from sklearn.svm import SVR\n",
    "from sklearn.ensemble import RandomForestRegressor, GradientBoostingRegressor, AdaBoostRegressor"
   ]
  },
  {
   "cell_type": "code",
   "execution_count": 2,
   "metadata": {},
   "outputs": [],
   "source": [
    "data = pd.read_csv('data.csv')"
   ]
  },
  {
   "cell_type": "code",
   "execution_count": 3,
   "metadata": {},
   "outputs": [],
   "source": [
    "data.set_index('OSEBuildingID', inplace = True)"
   ]
  },
  {
   "cell_type": "code",
   "execution_count": 4,
   "metadata": {},
   "outputs": [],
   "source": [
    "data.loc[data['TotalGHGEmissions'].isnull(), 'TotalGHGEmissions'] = np.mean(data['TotalGHGEmissions'])"
   ]
  },
  {
   "cell_type": "code",
   "execution_count": 5,
   "metadata": {},
   "outputs": [],
   "source": [
    "data.loc[data['GHGEmissionsIntensity'].isnull(), 'GHGEmissionsIntensity'] = np.mean(data['GHGEmissionsIntensity'])"
   ]
  },
  {
   "cell_type": "code",
   "execution_count": 6,
   "metadata": {},
   "outputs": [
    {
     "data": {
      "text/html": [
       "<div>\n",
       "<style scoped>\n",
       "    .dataframe tbody tr th:only-of-type {\n",
       "        vertical-align: middle;\n",
       "    }\n",
       "\n",
       "    .dataframe tbody tr th {\n",
       "        vertical-align: top;\n",
       "    }\n",
       "\n",
       "    .dataframe thead th {\n",
       "        text-align: right;\n",
       "    }\n",
       "</style>\n",
       "<table border=\"1\" class=\"dataframe\">\n",
       "  <thead>\n",
       "    <tr style=\"text-align: right;\">\n",
       "      <th></th>\n",
       "      <th>NumberofBuildings</th>\n",
       "      <th>NumberofFloors</th>\n",
       "      <th>PropertyGFATotal</th>\n",
       "      <th>LargestPropertyUseTypeGFA</th>\n",
       "      <th>ENERGYSTARScore</th>\n",
       "      <th>EnergyStarNaN</th>\n",
       "      <th>SiteEUI(kBtu/sf)</th>\n",
       "      <th>SiteEUIWN(kBtu/sf)</th>\n",
       "      <th>SourceEUI(kBtu/sf)</th>\n",
       "      <th>SourceEUIWN(kBtu/sf)</th>\n",
       "      <th>SiteEnergyUse(kBtu)</th>\n",
       "      <th>SiteEnergyUseWN(kBtu)</th>\n",
       "      <th>TotalGHGEmissions</th>\n",
       "      <th>GHGEmissionsIntensity</th>\n",
       "      <th>Age</th>\n",
       "      <th>PropertyGFAParking(%)</th>\n",
       "      <th>PropertyGFABuilding(s)(%)</th>\n",
       "      <th>SteamUse(%)</th>\n",
       "      <th>Electricity(%)</th>\n",
       "      <th>NaturalGas(%)</th>\n",
       "      <th>PrimaryPropertyType_Distribution Center</th>\n",
       "      <th>PrimaryPropertyType_Hotel</th>\n",
       "      <th>PrimaryPropertyType_K-12 School</th>\n",
       "      <th>PrimaryPropertyType_Large Office</th>\n",
       "      <th>PrimaryPropertyType_Medical Office</th>\n",
       "      <th>PrimaryPropertyType_Mixed Use Property</th>\n",
       "      <th>PrimaryPropertyType_Other</th>\n",
       "      <th>PrimaryPropertyType_Retail Store</th>\n",
       "      <th>PrimaryPropertyType_Self-Storage Facility</th>\n",
       "      <th>PrimaryPropertyType_Small- and Mid-Sized Office</th>\n",
       "      <th>PrimaryPropertyType_Supermarket / Grocery Store</th>\n",
       "      <th>PrimaryPropertyType_University</th>\n",
       "      <th>PrimaryPropertyType_Warehouse</th>\n",
       "      <th>PrimaryPropertyType_Worship Facility</th>\n",
       "      <th>CouncilDistrictCode_1</th>\n",
       "      <th>CouncilDistrictCode_2</th>\n",
       "      <th>CouncilDistrictCode_3</th>\n",
       "      <th>CouncilDistrictCode_4</th>\n",
       "      <th>CouncilDistrictCode_5</th>\n",
       "      <th>CouncilDistrictCode_6</th>\n",
       "      <th>CouncilDistrictCode_7</th>\n",
       "    </tr>\n",
       "    <tr>\n",
       "      <th>OSEBuildingID</th>\n",
       "      <th></th>\n",
       "      <th></th>\n",
       "      <th></th>\n",
       "      <th></th>\n",
       "      <th></th>\n",
       "      <th></th>\n",
       "      <th></th>\n",
       "      <th></th>\n",
       "      <th></th>\n",
       "      <th></th>\n",
       "      <th></th>\n",
       "      <th></th>\n",
       "      <th></th>\n",
       "      <th></th>\n",
       "      <th></th>\n",
       "      <th></th>\n",
       "      <th></th>\n",
       "      <th></th>\n",
       "      <th></th>\n",
       "      <th></th>\n",
       "      <th></th>\n",
       "      <th></th>\n",
       "      <th></th>\n",
       "      <th></th>\n",
       "      <th></th>\n",
       "      <th></th>\n",
       "      <th></th>\n",
       "      <th></th>\n",
       "      <th></th>\n",
       "      <th></th>\n",
       "      <th></th>\n",
       "      <th></th>\n",
       "      <th></th>\n",
       "      <th></th>\n",
       "      <th></th>\n",
       "      <th></th>\n",
       "      <th></th>\n",
       "      <th></th>\n",
       "      <th></th>\n",
       "      <th></th>\n",
       "      <th></th>\n",
       "    </tr>\n",
       "  </thead>\n",
       "  <tbody>\n",
       "  </tbody>\n",
       "</table>\n",
       "</div>"
      ],
      "text/plain": [
       "Empty DataFrame\n",
       "Columns: [NumberofBuildings, NumberofFloors, PropertyGFATotal, LargestPropertyUseTypeGFA, ENERGYSTARScore, EnergyStarNaN, SiteEUI(kBtu/sf), SiteEUIWN(kBtu/sf), SourceEUI(kBtu/sf), SourceEUIWN(kBtu/sf), SiteEnergyUse(kBtu), SiteEnergyUseWN(kBtu), TotalGHGEmissions, GHGEmissionsIntensity, Age, PropertyGFAParking(%), PropertyGFABuilding(s)(%), SteamUse(%), Electricity(%), NaturalGas(%), PrimaryPropertyType_Distribution Center, PrimaryPropertyType_Hotel, PrimaryPropertyType_K-12 School, PrimaryPropertyType_Large Office, PrimaryPropertyType_Medical Office, PrimaryPropertyType_Mixed Use Property, PrimaryPropertyType_Other, PrimaryPropertyType_Retail Store, PrimaryPropertyType_Self-Storage Facility, PrimaryPropertyType_Small- and Mid-Sized Office, PrimaryPropertyType_Supermarket / Grocery Store, PrimaryPropertyType_University, PrimaryPropertyType_Warehouse, PrimaryPropertyType_Worship Facility, CouncilDistrictCode_1, CouncilDistrictCode_2, CouncilDistrictCode_3, CouncilDistrictCode_4, CouncilDistrictCode_5, CouncilDistrictCode_6, CouncilDistrictCode_7]\n",
       "Index: []"
      ]
     },
     "execution_count": 6,
     "metadata": {},
     "output_type": "execute_result"
    }
   ],
   "source": [
    "data.loc[data['SiteEUI(kBtu/sf)'].isnull()]"
   ]
  },
  {
   "cell_type": "code",
   "execution_count": 7,
   "metadata": {},
   "outputs": [],
   "source": [
    "data.loc[data['SiteEUI(kBtu/sf)'].isnull(), 'SiteEUI(kBtu/sf)'] = np.mean(data['SiteEUI(kBtu/sf)'])"
   ]
  },
  {
   "cell_type": "code",
   "execution_count": null,
   "metadata": {},
   "outputs": [],
   "source": []
  },
  {
   "cell_type": "code",
   "execution_count": 8,
   "metadata": {},
   "outputs": [],
   "source": [
    "X = data[['Age','NumberofBuildings','NumberofFloors','PropertyGFATotal','PropertyGFAParking(%)',\n",
    "        'PropertyGFABuilding(s)(%)','LargestPropertyUseTypeGFA','ENERGYSTARScore','EnergyStarNaN',\n",
    "        'TotalGHGEmissions','GHGEmissionsIntensity',\n",
    "        'PrimaryPropertyType_Distribution Center', 'PrimaryPropertyType_Hotel',\n",
    "       'PrimaryPropertyType_K-12 School', \n",
    "       'PrimaryPropertyType_Large Office',\n",
    "       'PrimaryPropertyType_Medical Office',\n",
    "       'PrimaryPropertyType_Mixed Use Property',\n",
    "       'PrimaryPropertyType_Other',\n",
    "       'PrimaryPropertyType_Retail Store',\n",
    "       'PrimaryPropertyType_Self-Storage Facility',\n",
    "       'PrimaryPropertyType_Small- and Mid-Sized Office',\n",
    "       'PrimaryPropertyType_Supermarket / Grocery Store',\n",
    "       'PrimaryPropertyType_University', 'PrimaryPropertyType_Warehouse',\n",
    "       'PrimaryPropertyType_Worship Facility','CouncilDistrictCode_1',\n",
    "       'CouncilDistrictCode_2', 'CouncilDistrictCode_3',\n",
    "       'CouncilDistrictCode_4', 'CouncilDistrictCode_5',\n",
    "       'CouncilDistrictCode_6', 'CouncilDistrictCode_7']]\n",
    "\n",
    "y = data['SiteEUI(kBtu/sf)']"
   ]
  },
  {
   "cell_type": "code",
   "execution_count": 9,
   "metadata": {},
   "outputs": [
    {
     "data": {
      "text/html": [
       "<div>\n",
       "<style scoped>\n",
       "    .dataframe tbody tr th:only-of-type {\n",
       "        vertical-align: middle;\n",
       "    }\n",
       "\n",
       "    .dataframe tbody tr th {\n",
       "        vertical-align: top;\n",
       "    }\n",
       "\n",
       "    .dataframe thead th {\n",
       "        text-align: right;\n",
       "    }\n",
       "</style>\n",
       "<table border=\"1\" class=\"dataframe\">\n",
       "  <thead>\n",
       "    <tr style=\"text-align: right;\">\n",
       "      <th></th>\n",
       "      <th>Age</th>\n",
       "      <th>NumberofBuildings</th>\n",
       "      <th>NumberofFloors</th>\n",
       "      <th>PropertyGFATotal</th>\n",
       "      <th>PropertyGFAParking(%)</th>\n",
       "      <th>PropertyGFABuilding(s)(%)</th>\n",
       "      <th>LargestPropertyUseTypeGFA</th>\n",
       "      <th>ENERGYSTARScore</th>\n",
       "      <th>EnergyStarNaN</th>\n",
       "      <th>TotalGHGEmissions</th>\n",
       "      <th>GHGEmissionsIntensity</th>\n",
       "      <th>PrimaryPropertyType_Distribution Center</th>\n",
       "      <th>PrimaryPropertyType_Hotel</th>\n",
       "      <th>PrimaryPropertyType_K-12 School</th>\n",
       "      <th>PrimaryPropertyType_Large Office</th>\n",
       "      <th>PrimaryPropertyType_Medical Office</th>\n",
       "      <th>PrimaryPropertyType_Mixed Use Property</th>\n",
       "      <th>PrimaryPropertyType_Other</th>\n",
       "      <th>PrimaryPropertyType_Retail Store</th>\n",
       "      <th>PrimaryPropertyType_Self-Storage Facility</th>\n",
       "      <th>PrimaryPropertyType_Small- and Mid-Sized Office</th>\n",
       "      <th>PrimaryPropertyType_Supermarket / Grocery Store</th>\n",
       "      <th>PrimaryPropertyType_University</th>\n",
       "      <th>PrimaryPropertyType_Warehouse</th>\n",
       "      <th>PrimaryPropertyType_Worship Facility</th>\n",
       "      <th>CouncilDistrictCode_1</th>\n",
       "      <th>CouncilDistrictCode_2</th>\n",
       "      <th>CouncilDistrictCode_3</th>\n",
       "      <th>CouncilDistrictCode_4</th>\n",
       "      <th>CouncilDistrictCode_5</th>\n",
       "      <th>CouncilDistrictCode_6</th>\n",
       "      <th>CouncilDistrictCode_7</th>\n",
       "    </tr>\n",
       "    <tr>\n",
       "      <th>OSEBuildingID</th>\n",
       "      <th></th>\n",
       "      <th></th>\n",
       "      <th></th>\n",
       "      <th></th>\n",
       "      <th></th>\n",
       "      <th></th>\n",
       "      <th></th>\n",
       "      <th></th>\n",
       "      <th></th>\n",
       "      <th></th>\n",
       "      <th></th>\n",
       "      <th></th>\n",
       "      <th></th>\n",
       "      <th></th>\n",
       "      <th></th>\n",
       "      <th></th>\n",
       "      <th></th>\n",
       "      <th></th>\n",
       "      <th></th>\n",
       "      <th></th>\n",
       "      <th></th>\n",
       "      <th></th>\n",
       "      <th></th>\n",
       "      <th></th>\n",
       "      <th></th>\n",
       "      <th></th>\n",
       "      <th></th>\n",
       "      <th></th>\n",
       "      <th></th>\n",
       "      <th></th>\n",
       "      <th></th>\n",
       "      <th></th>\n",
       "    </tr>\n",
       "  </thead>\n",
       "  <tbody>\n",
       "    <tr>\n",
       "      <th>1</th>\n",
       "      <td>89.0</td>\n",
       "      <td>1.0</td>\n",
       "      <td>12.0</td>\n",
       "      <td>88434.0</td>\n",
       "      <td>0.000000</td>\n",
       "      <td>100.000000</td>\n",
       "      <td>88434.0</td>\n",
       "      <td>60.0</td>\n",
       "      <td>0.0</td>\n",
       "      <td>249.98</td>\n",
       "      <td>2.83</td>\n",
       "      <td>0.0</td>\n",
       "      <td>1.0</td>\n",
       "      <td>0.0</td>\n",
       "      <td>0.0</td>\n",
       "      <td>0.0</td>\n",
       "      <td>0.0</td>\n",
       "      <td>0.0</td>\n",
       "      <td>0.0</td>\n",
       "      <td>0.0</td>\n",
       "      <td>0.0</td>\n",
       "      <td>0.0</td>\n",
       "      <td>0.0</td>\n",
       "      <td>0.0</td>\n",
       "      <td>0.0</td>\n",
       "      <td>0.0</td>\n",
       "      <td>0.0</td>\n",
       "      <td>0.0</td>\n",
       "      <td>0.0</td>\n",
       "      <td>0.0</td>\n",
       "      <td>0.0</td>\n",
       "      <td>1.0</td>\n",
       "    </tr>\n",
       "    <tr>\n",
       "      <th>2</th>\n",
       "      <td>20.0</td>\n",
       "      <td>1.0</td>\n",
       "      <td>11.0</td>\n",
       "      <td>103566.0</td>\n",
       "      <td>14.545314</td>\n",
       "      <td>85.454686</td>\n",
       "      <td>83880.0</td>\n",
       "      <td>61.0</td>\n",
       "      <td>0.0</td>\n",
       "      <td>295.86</td>\n",
       "      <td>2.86</td>\n",
       "      <td>0.0</td>\n",
       "      <td>1.0</td>\n",
       "      <td>0.0</td>\n",
       "      <td>0.0</td>\n",
       "      <td>0.0</td>\n",
       "      <td>0.0</td>\n",
       "      <td>0.0</td>\n",
       "      <td>0.0</td>\n",
       "      <td>0.0</td>\n",
       "      <td>0.0</td>\n",
       "      <td>0.0</td>\n",
       "      <td>0.0</td>\n",
       "      <td>0.0</td>\n",
       "      <td>0.0</td>\n",
       "      <td>0.0</td>\n",
       "      <td>0.0</td>\n",
       "      <td>0.0</td>\n",
       "      <td>0.0</td>\n",
       "      <td>0.0</td>\n",
       "      <td>0.0</td>\n",
       "      <td>1.0</td>\n",
       "    </tr>\n",
       "    <tr>\n",
       "      <th>3</th>\n",
       "      <td>47.0</td>\n",
       "      <td>1.0</td>\n",
       "      <td>41.0</td>\n",
       "      <td>956110.0</td>\n",
       "      <td>20.574829</td>\n",
       "      <td>79.425171</td>\n",
       "      <td>756493.0</td>\n",
       "      <td>43.0</td>\n",
       "      <td>0.0</td>\n",
       "      <td>2089.28</td>\n",
       "      <td>2.19</td>\n",
       "      <td>0.0</td>\n",
       "      <td>1.0</td>\n",
       "      <td>0.0</td>\n",
       "      <td>0.0</td>\n",
       "      <td>0.0</td>\n",
       "      <td>0.0</td>\n",
       "      <td>0.0</td>\n",
       "      <td>0.0</td>\n",
       "      <td>0.0</td>\n",
       "      <td>0.0</td>\n",
       "      <td>0.0</td>\n",
       "      <td>0.0</td>\n",
       "      <td>0.0</td>\n",
       "      <td>0.0</td>\n",
       "      <td>0.0</td>\n",
       "      <td>0.0</td>\n",
       "      <td>0.0</td>\n",
       "      <td>0.0</td>\n",
       "      <td>0.0</td>\n",
       "      <td>0.0</td>\n",
       "      <td>1.0</td>\n",
       "    </tr>\n",
       "    <tr>\n",
       "      <th>5</th>\n",
       "      <td>90.0</td>\n",
       "      <td>1.0</td>\n",
       "      <td>10.0</td>\n",
       "      <td>61320.0</td>\n",
       "      <td>0.000000</td>\n",
       "      <td>100.000000</td>\n",
       "      <td>61320.0</td>\n",
       "      <td>56.0</td>\n",
       "      <td>0.0</td>\n",
       "      <td>286.43</td>\n",
       "      <td>4.67</td>\n",
       "      <td>0.0</td>\n",
       "      <td>1.0</td>\n",
       "      <td>0.0</td>\n",
       "      <td>0.0</td>\n",
       "      <td>0.0</td>\n",
       "      <td>0.0</td>\n",
       "      <td>0.0</td>\n",
       "      <td>0.0</td>\n",
       "      <td>0.0</td>\n",
       "      <td>0.0</td>\n",
       "      <td>0.0</td>\n",
       "      <td>0.0</td>\n",
       "      <td>0.0</td>\n",
       "      <td>0.0</td>\n",
       "      <td>0.0</td>\n",
       "      <td>0.0</td>\n",
       "      <td>0.0</td>\n",
       "      <td>0.0</td>\n",
       "      <td>0.0</td>\n",
       "      <td>0.0</td>\n",
       "      <td>1.0</td>\n",
       "    </tr>\n",
       "    <tr>\n",
       "      <th>8</th>\n",
       "      <td>36.0</td>\n",
       "      <td>1.0</td>\n",
       "      <td>18.0</td>\n",
       "      <td>175580.0</td>\n",
       "      <td>35.311539</td>\n",
       "      <td>64.688461</td>\n",
       "      <td>123445.0</td>\n",
       "      <td>75.0</td>\n",
       "      <td>0.0</td>\n",
       "      <td>505.01</td>\n",
       "      <td>2.88</td>\n",
       "      <td>0.0</td>\n",
       "      <td>1.0</td>\n",
       "      <td>0.0</td>\n",
       "      <td>0.0</td>\n",
       "      <td>0.0</td>\n",
       "      <td>0.0</td>\n",
       "      <td>0.0</td>\n",
       "      <td>0.0</td>\n",
       "      <td>0.0</td>\n",
       "      <td>0.0</td>\n",
       "      <td>0.0</td>\n",
       "      <td>0.0</td>\n",
       "      <td>0.0</td>\n",
       "      <td>0.0</td>\n",
       "      <td>0.0</td>\n",
       "      <td>0.0</td>\n",
       "      <td>0.0</td>\n",
       "      <td>0.0</td>\n",
       "      <td>0.0</td>\n",
       "      <td>0.0</td>\n",
       "      <td>1.0</td>\n",
       "    </tr>\n",
       "  </tbody>\n",
       "</table>\n",
       "</div>"
      ],
      "text/plain": [
       "                Age  NumberofBuildings  NumberofFloors  PropertyGFATotal  \\\n",
       "OSEBuildingID                                                              \n",
       "1              89.0                1.0            12.0           88434.0   \n",
       "2              20.0                1.0            11.0          103566.0   \n",
       "3              47.0                1.0            41.0          956110.0   \n",
       "5              90.0                1.0            10.0           61320.0   \n",
       "8              36.0                1.0            18.0          175580.0   \n",
       "\n",
       "               PropertyGFAParking(%)  PropertyGFABuilding(s)(%)  \\\n",
       "OSEBuildingID                                                     \n",
       "1                           0.000000                 100.000000   \n",
       "2                          14.545314                  85.454686   \n",
       "3                          20.574829                  79.425171   \n",
       "5                           0.000000                 100.000000   \n",
       "8                          35.311539                  64.688461   \n",
       "\n",
       "               LargestPropertyUseTypeGFA  ENERGYSTARScore  EnergyStarNaN  \\\n",
       "OSEBuildingID                                                              \n",
       "1                                88434.0             60.0            0.0   \n",
       "2                                83880.0             61.0            0.0   \n",
       "3                               756493.0             43.0            0.0   \n",
       "5                                61320.0             56.0            0.0   \n",
       "8                               123445.0             75.0            0.0   \n",
       "\n",
       "               TotalGHGEmissions  GHGEmissionsIntensity  \\\n",
       "OSEBuildingID                                             \n",
       "1                         249.98                   2.83   \n",
       "2                         295.86                   2.86   \n",
       "3                        2089.28                   2.19   \n",
       "5                         286.43                   4.67   \n",
       "8                         505.01                   2.88   \n",
       "\n",
       "               PrimaryPropertyType_Distribution Center  \\\n",
       "OSEBuildingID                                            \n",
       "1                                                  0.0   \n",
       "2                                                  0.0   \n",
       "3                                                  0.0   \n",
       "5                                                  0.0   \n",
       "8                                                  0.0   \n",
       "\n",
       "               PrimaryPropertyType_Hotel  PrimaryPropertyType_K-12 School  \\\n",
       "OSEBuildingID                                                               \n",
       "1                                    1.0                              0.0   \n",
       "2                                    1.0                              0.0   \n",
       "3                                    1.0                              0.0   \n",
       "5                                    1.0                              0.0   \n",
       "8                                    1.0                              0.0   \n",
       "\n",
       "               PrimaryPropertyType_Large Office  \\\n",
       "OSEBuildingID                                     \n",
       "1                                           0.0   \n",
       "2                                           0.0   \n",
       "3                                           0.0   \n",
       "5                                           0.0   \n",
       "8                                           0.0   \n",
       "\n",
       "               PrimaryPropertyType_Medical Office  \\\n",
       "OSEBuildingID                                       \n",
       "1                                             0.0   \n",
       "2                                             0.0   \n",
       "3                                             0.0   \n",
       "5                                             0.0   \n",
       "8                                             0.0   \n",
       "\n",
       "               PrimaryPropertyType_Mixed Use Property  \\\n",
       "OSEBuildingID                                           \n",
       "1                                                 0.0   \n",
       "2                                                 0.0   \n",
       "3                                                 0.0   \n",
       "5                                                 0.0   \n",
       "8                                                 0.0   \n",
       "\n",
       "               PrimaryPropertyType_Other  PrimaryPropertyType_Retail Store  \\\n",
       "OSEBuildingID                                                                \n",
       "1                                    0.0                               0.0   \n",
       "2                                    0.0                               0.0   \n",
       "3                                    0.0                               0.0   \n",
       "5                                    0.0                               0.0   \n",
       "8                                    0.0                               0.0   \n",
       "\n",
       "               PrimaryPropertyType_Self-Storage Facility  \\\n",
       "OSEBuildingID                                              \n",
       "1                                                    0.0   \n",
       "2                                                    0.0   \n",
       "3                                                    0.0   \n",
       "5                                                    0.0   \n",
       "8                                                    0.0   \n",
       "\n",
       "               PrimaryPropertyType_Small- and Mid-Sized Office  \\\n",
       "OSEBuildingID                                                    \n",
       "1                                                          0.0   \n",
       "2                                                          0.0   \n",
       "3                                                          0.0   \n",
       "5                                                          0.0   \n",
       "8                                                          0.0   \n",
       "\n",
       "               PrimaryPropertyType_Supermarket / Grocery Store  \\\n",
       "OSEBuildingID                                                    \n",
       "1                                                          0.0   \n",
       "2                                                          0.0   \n",
       "3                                                          0.0   \n",
       "5                                                          0.0   \n",
       "8                                                          0.0   \n",
       "\n",
       "               PrimaryPropertyType_University  PrimaryPropertyType_Warehouse  \\\n",
       "OSEBuildingID                                                                  \n",
       "1                                         0.0                            0.0   \n",
       "2                                         0.0                            0.0   \n",
       "3                                         0.0                            0.0   \n",
       "5                                         0.0                            0.0   \n",
       "8                                         0.0                            0.0   \n",
       "\n",
       "               PrimaryPropertyType_Worship Facility  CouncilDistrictCode_1  \\\n",
       "OSEBuildingID                                                                \n",
       "1                                               0.0                    0.0   \n",
       "2                                               0.0                    0.0   \n",
       "3                                               0.0                    0.0   \n",
       "5                                               0.0                    0.0   \n",
       "8                                               0.0                    0.0   \n",
       "\n",
       "               CouncilDistrictCode_2  CouncilDistrictCode_3  \\\n",
       "OSEBuildingID                                                 \n",
       "1                                0.0                    0.0   \n",
       "2                                0.0                    0.0   \n",
       "3                                0.0                    0.0   \n",
       "5                                0.0                    0.0   \n",
       "8                                0.0                    0.0   \n",
       "\n",
       "               CouncilDistrictCode_4  CouncilDistrictCode_5  \\\n",
       "OSEBuildingID                                                 \n",
       "1                                0.0                    0.0   \n",
       "2                                0.0                    0.0   \n",
       "3                                0.0                    0.0   \n",
       "5                                0.0                    0.0   \n",
       "8                                0.0                    0.0   \n",
       "\n",
       "               CouncilDistrictCode_6  CouncilDistrictCode_7  \n",
       "OSEBuildingID                                                \n",
       "1                                0.0                    1.0  \n",
       "2                                0.0                    1.0  \n",
       "3                                0.0                    1.0  \n",
       "5                                0.0                    1.0  \n",
       "8                                0.0                    1.0  "
      ]
     },
     "execution_count": 9,
     "metadata": {},
     "output_type": "execute_result"
    }
   ],
   "source": [
    "X.head()"
   ]
  },
  {
   "cell_type": "code",
   "execution_count": 10,
   "metadata": {},
   "outputs": [
    {
     "data": {
      "text/plain": [
       "OSEBuildingID\n",
       "1     81.699997\n",
       "2     94.800003\n",
       "3     96.000000\n",
       "5    110.800003\n",
       "8    114.800003\n",
       "Name: SiteEUI(kBtu/sf), dtype: float64"
      ]
     },
     "execution_count": 10,
     "metadata": {},
     "output_type": "execute_result"
    }
   ],
   "source": [
    "y.head()"
   ]
  },
  {
   "cell_type": "code",
   "execution_count": 11,
   "metadata": {},
   "outputs": [],
   "source": [
    "std_scaler = StandardScaler().fit(X)\n",
    "X_scale = std_scaler.transform(X)\n",
    "X_train, X_test, y_train, y_test = train_test_split(X_scale, y, test_size=0.2, random_state=7)"
   ]
  },
  {
   "cell_type": "code",
   "execution_count": 12,
   "metadata": {},
   "outputs": [
    {
     "data": {
      "text/plain": [
       "(330, 32)"
      ]
     },
     "execution_count": 12,
     "metadata": {},
     "output_type": "execute_result"
    }
   ],
   "source": [
    "X_test.shape"
   ]
  },
  {
   "cell_type": "code",
   "execution_count": null,
   "metadata": {},
   "outputs": [],
   "source": []
  },
  {
   "cell_type": "code",
   "execution_count": 13,
   "metadata": {},
   "outputs": [
    {
     "data": {
      "text/plain": [
       "71.58877563770794"
      ]
     },
     "execution_count": 13,
     "metadata": {},
     "output_type": "execute_result"
    }
   ],
   "source": [
    "dr = DummyRegressor(strategy='mean')\n",
    "dr.fit(X_train, y_train)\n",
    "y_pred = dr.predict(X_test)\n",
    "baseline_error = mean_squared_error(y_test, y_pred, squared=False)\n",
    "baseline_error"
   ]
  },
  {
   "cell_type": "code",
   "execution_count": null,
   "metadata": {},
   "outputs": [],
   "source": []
  },
  {
   "cell_type": "code",
   "execution_count": null,
   "metadata": {},
   "outputs": [],
   "source": []
  },
  {
   "cell_type": "code",
   "execution_count": null,
   "metadata": {},
   "outputs": [],
   "source": []
  },
  {
   "cell_type": "code",
   "execution_count": 14,
   "metadata": {},
   "outputs": [
    {
     "data": {
      "text/plain": [
       "53.22305073230883"
      ]
     },
     "execution_count": 14,
     "metadata": {},
     "output_type": "execute_result"
    }
   ],
   "source": [
    "lr = LinearRegression()\n",
    "lr.fit(X_train, y_train)\n",
    "y_pred = lr.predict(X_test)\n",
    "lr_error = mean_squared_error(y_test, y_pred, squared=False)\n",
    "lr_error"
   ]
  },
  {
   "cell_type": "code",
   "execution_count": null,
   "metadata": {},
   "outputs": [],
   "source": []
  },
  {
   "cell_type": "code",
   "execution_count": null,
   "metadata": {},
   "outputs": [],
   "source": []
  },
  {
   "cell_type": "code",
   "execution_count": 15,
   "metadata": {},
   "outputs": [],
   "source": [
    "def resultize_RMSE(grid): \n",
    "      results = pd.DataFrame(grid.cv_results_)\n",
    "      results = results.sort_values(by = 'rank_test_score')\n",
    "      results = results[['params', 'mean_test_score', 'rank_test_score']]\n",
    "      results['mean_test_score'] = mean_squared_error(y_test, grid.predict(X_test), squared=False)\n",
    "      return results"
   ]
  },
  {
   "cell_type": "code",
   "execution_count": null,
   "metadata": {},
   "outputs": [],
   "source": []
  },
  {
   "cell_type": "code",
   "execution_count": 16,
   "metadata": {},
   "outputs": [
    {
     "data": {
      "text/html": [
       "<div>\n",
       "<style scoped>\n",
       "    .dataframe tbody tr th:only-of-type {\n",
       "        vertical-align: middle;\n",
       "    }\n",
       "\n",
       "    .dataframe tbody tr th {\n",
       "        vertical-align: top;\n",
       "    }\n",
       "\n",
       "    .dataframe thead th {\n",
       "        text-align: right;\n",
       "    }\n",
       "</style>\n",
       "<table border=\"1\" class=\"dataframe\">\n",
       "  <thead>\n",
       "    <tr style=\"text-align: right;\">\n",
       "      <th></th>\n",
       "      <th>params</th>\n",
       "      <th>mean_test_score</th>\n",
       "      <th>rank_test_score</th>\n",
       "    </tr>\n",
       "  </thead>\n",
       "  <tbody>\n",
       "    <tr>\n",
       "      <th>7</th>\n",
       "      <td>{'alpha': 61.58482110660267}</td>\n",
       "      <td>53.054887</td>\n",
       "      <td>1</td>\n",
       "    </tr>\n",
       "    <tr>\n",
       "      <th>8</th>\n",
       "      <td>{'alpha': 297.63514416313194}</td>\n",
       "      <td>53.054887</td>\n",
       "      <td>2</td>\n",
       "    </tr>\n",
       "    <tr>\n",
       "      <th>6</th>\n",
       "      <td>{'alpha': 12.742749857031347}</td>\n",
       "      <td>53.054887</td>\n",
       "      <td>3</td>\n",
       "    </tr>\n",
       "    <tr>\n",
       "      <th>5</th>\n",
       "      <td>{'alpha': 2.636650898730358}</td>\n",
       "      <td>53.054887</td>\n",
       "      <td>4</td>\n",
       "    </tr>\n",
       "    <tr>\n",
       "      <th>4</th>\n",
       "      <td>{'alpha': 0.545559478116852}</td>\n",
       "      <td>53.054887</td>\n",
       "      <td>5</td>\n",
       "    </tr>\n",
       "  </tbody>\n",
       "</table>\n",
       "</div>"
      ],
      "text/plain": [
       "                          params  mean_test_score  rank_test_score\n",
       "7   {'alpha': 61.58482110660267}        53.054887                1\n",
       "8  {'alpha': 297.63514416313194}        53.054887                2\n",
       "6  {'alpha': 12.742749857031347}        53.054887                3\n",
       "5   {'alpha': 2.636650898730358}        53.054887                4\n",
       "4   {'alpha': 0.545559478116852}        53.054887                5"
      ]
     },
     "execution_count": 16,
     "metadata": {},
     "output_type": "execute_result"
    }
   ],
   "source": [
    "params = {'alpha': np.logspace(-3, 10, 20)}\n",
    "ridge = Ridge()\n",
    "grid_ridge = GridSearchCV(ridge, params, cv=10)\n",
    "grid_ridge.fit(X_train, y_train)\n",
    "grid_ridge_best_params = grid_ridge.best_params_\n",
    "resultize_RMSE(grid_ridge).head()"
   ]
  },
  {
   "cell_type": "code",
   "execution_count": null,
   "metadata": {},
   "outputs": [],
   "source": []
  },
  {
   "cell_type": "code",
   "execution_count": 17,
   "metadata": {},
   "outputs": [
    {
     "data": {
      "text/plain": [
       "53.054887217220106"
      ]
     },
     "execution_count": 17,
     "metadata": {},
     "output_type": "execute_result"
    }
   ],
   "source": [
    "ridge = Ridge(**grid_ridge_best_params)\n",
    "ridge.fit(X_train, y_train)\n",
    "y_pred = ridge.predict(X_test)\n",
    "ridge_error = mean_squared_error(y_test, y_pred, squared=False)\n",
    "ridge_error"
   ]
  },
  {
   "cell_type": "code",
   "execution_count": null,
   "metadata": {},
   "outputs": [],
   "source": []
  },
  {
   "cell_type": "code",
   "execution_count": null,
   "metadata": {},
   "outputs": [],
   "source": []
  },
  {
   "cell_type": "code",
   "execution_count": 18,
   "metadata": {},
   "outputs": [
    {
     "data": {
      "text/html": [
       "<div>\n",
       "<style scoped>\n",
       "    .dataframe tbody tr th:only-of-type {\n",
       "        vertical-align: middle;\n",
       "    }\n",
       "\n",
       "    .dataframe tbody tr th {\n",
       "        vertical-align: top;\n",
       "    }\n",
       "\n",
       "    .dataframe thead th {\n",
       "        text-align: right;\n",
       "    }\n",
       "</style>\n",
       "<table border=\"1\" class=\"dataframe\">\n",
       "  <thead>\n",
       "    <tr style=\"text-align: right;\">\n",
       "      <th></th>\n",
       "      <th>params</th>\n",
       "      <th>mean_test_score</th>\n",
       "      <th>rank_test_score</th>\n",
       "    </tr>\n",
       "  </thead>\n",
       "  <tbody>\n",
       "    <tr>\n",
       "      <th>4</th>\n",
       "      <td>{'alpha': 0.545559478116852}</td>\n",
       "      <td>53.451754</td>\n",
       "      <td>1</td>\n",
       "    </tr>\n",
       "    <tr>\n",
       "      <th>5</th>\n",
       "      <td>{'alpha': 2.636650898730358}</td>\n",
       "      <td>53.451754</td>\n",
       "      <td>2</td>\n",
       "    </tr>\n",
       "    <tr>\n",
       "      <th>3</th>\n",
       "      <td>{'alpha': 0.11288378916846895}</td>\n",
       "      <td>53.451754</td>\n",
       "      <td>3</td>\n",
       "    </tr>\n",
       "    <tr>\n",
       "      <th>2</th>\n",
       "      <td>{'alpha': 0.023357214690901226}</td>\n",
       "      <td>53.451754</td>\n",
       "      <td>4</td>\n",
       "    </tr>\n",
       "    <tr>\n",
       "      <th>1</th>\n",
       "      <td>{'alpha': 0.004832930238571752}</td>\n",
       "      <td>53.451754</td>\n",
       "      <td>5</td>\n",
       "    </tr>\n",
       "  </tbody>\n",
       "</table>\n",
       "</div>"
      ],
      "text/plain": [
       "                            params  mean_test_score  rank_test_score\n",
       "4     {'alpha': 0.545559478116852}        53.451754                1\n",
       "5     {'alpha': 2.636650898730358}        53.451754                2\n",
       "3   {'alpha': 0.11288378916846895}        53.451754                3\n",
       "2  {'alpha': 0.023357214690901226}        53.451754                4\n",
       "1  {'alpha': 0.004832930238571752}        53.451754                5"
      ]
     },
     "execution_count": 18,
     "metadata": {},
     "output_type": "execute_result"
    }
   ],
   "source": [
    "params = {'alpha': np.logspace(-3, 10, 20)}\n",
    "grid_lasso = GridSearchCV(Lasso(), params, cv=10, scoring='neg_root_mean_squared_error')\n",
    "grid_lasso.fit(X_train, y_train)\n",
    "grid_lasso_best_params = grid_lasso.best_params_\n",
    "resultize_RMSE(grid_lasso).head()"
   ]
  },
  {
   "cell_type": "code",
   "execution_count": 19,
   "metadata": {},
   "outputs": [
    {
     "data": {
      "text/plain": [
       "53.45175430691234"
      ]
     },
     "execution_count": 19,
     "metadata": {},
     "output_type": "execute_result"
    }
   ],
   "source": [
    "lasso = Lasso(**grid_lasso_best_params)\n",
    "lasso.fit(X_train, y_train)\n",
    "y_pred = lasso.predict(X_test)\n",
    "lasso_error = mean_squared_error(y_test, y_pred, squared=False)\n",
    "lasso_error"
   ]
  },
  {
   "cell_type": "code",
   "execution_count": null,
   "metadata": {},
   "outputs": [],
   "source": []
  },
  {
   "cell_type": "code",
   "execution_count": null,
   "metadata": {},
   "outputs": [],
   "source": []
  },
  {
   "cell_type": "code",
   "execution_count": 20,
   "metadata": {},
   "outputs": [
    {
     "data": {
      "text/plain": [
       "4774.3508638096955"
      ]
     },
     "execution_count": 20,
     "metadata": {},
     "output_type": "execute_result"
    }
   ],
   "source": [
    "tt_ridge = TransformedTargetRegressor(regressor=Ridge(), \n",
    "                                    func=np.log1p, \n",
    "                                    inverse_func=np.expm1)\n",
    "tt_ridge.fit(X_train, y_train)\n",
    "y_pred = tt_ridge.predict(X_test)\n",
    "tt_ridge_error = mean_squared_error(y_test, y_pred, squared=False)\n",
    "tt_ridge_error"
   ]
  },
  {
   "cell_type": "code",
   "execution_count": 21,
   "metadata": {},
   "outputs": [
    {
     "data": {
      "text/html": [
       "<div>\n",
       "<style scoped>\n",
       "    .dataframe tbody tr th:only-of-type {\n",
       "        vertical-align: middle;\n",
       "    }\n",
       "\n",
       "    .dataframe tbody tr th {\n",
       "        vertical-align: top;\n",
       "    }\n",
       "\n",
       "    .dataframe thead th {\n",
       "        text-align: right;\n",
       "    }\n",
       "</style>\n",
       "<table border=\"1\" class=\"dataframe\">\n",
       "  <thead>\n",
       "    <tr style=\"text-align: right;\">\n",
       "      <th></th>\n",
       "      <th>params</th>\n",
       "      <th>mean_test_score</th>\n",
       "      <th>rank_test_score</th>\n",
       "    </tr>\n",
       "  </thead>\n",
       "  <tbody>\n",
       "    <tr>\n",
       "      <th>9</th>\n",
       "      <td>{'regressor__alpha': 1438.449888287663}</td>\n",
       "      <td>192.855663</td>\n",
       "      <td>1</td>\n",
       "    </tr>\n",
       "    <tr>\n",
       "      <th>10</th>\n",
       "      <td>{'regressor__alpha': 6951.927961775606}</td>\n",
       "      <td>192.855663</td>\n",
       "      <td>2</td>\n",
       "    </tr>\n",
       "    <tr>\n",
       "      <th>8</th>\n",
       "      <td>{'regressor__alpha': 297.63514416313194}</td>\n",
       "      <td>192.855663</td>\n",
       "      <td>3</td>\n",
       "    </tr>\n",
       "    <tr>\n",
       "      <th>11</th>\n",
       "      <td>{'regressor__alpha': 33598.18286283781}</td>\n",
       "      <td>192.855663</td>\n",
       "      <td>4</td>\n",
       "    </tr>\n",
       "    <tr>\n",
       "      <th>12</th>\n",
       "      <td>{'regressor__alpha': 162377.67391887243}</td>\n",
       "      <td>192.855663</td>\n",
       "      <td>5</td>\n",
       "    </tr>\n",
       "  </tbody>\n",
       "</table>\n",
       "</div>"
      ],
      "text/plain": [
       "                                      params  mean_test_score  rank_test_score\n",
       "9    {'regressor__alpha': 1438.449888287663}       192.855663                1\n",
       "10   {'regressor__alpha': 6951.927961775606}       192.855663                2\n",
       "8   {'regressor__alpha': 297.63514416313194}       192.855663                3\n",
       "11   {'regressor__alpha': 33598.18286283781}       192.855663                4\n",
       "12  {'regressor__alpha': 162377.67391887243}       192.855663                5"
      ]
     },
     "execution_count": 21,
     "metadata": {},
     "output_type": "execute_result"
    }
   ],
   "source": [
    "params = {'regressor__alpha': np.logspace(-3, 10, 20)}\n",
    "grid_tt_ridge = GridSearchCV(tt_ridge, params, cv=10)\n",
    "grid_tt_ridge.fit(X_train, y_train)\n",
    "grid_tt_ridge_best_params = grid_tt_ridge.best_params_\n",
    "resultize_RMSE(grid_tt_ridge).head()"
   ]
  },
  {
   "cell_type": "code",
   "execution_count": 22,
   "metadata": {},
   "outputs": [],
   "source": [
    "grid_tt_ridge_best_params = {'alpha': 1438.449888287663}"
   ]
  },
  {
   "cell_type": "code",
   "execution_count": 23,
   "metadata": {},
   "outputs": [
    {
     "data": {
      "text/plain": [
       "192.85566265066424"
      ]
     },
     "execution_count": 23,
     "metadata": {},
     "output_type": "execute_result"
    }
   ],
   "source": [
    "tt_ridge = TransformedTargetRegressor(\n",
    "      regressor=Ridge(**grid_tt_ridge_best_params),\n",
    "      func=np.log1p,\n",
    "        inverse_func=np.expm1)\n",
    "tt_ridge.fit(X_train, y_train)\n",
    "y_pred = tt_ridge.predict(X_test)\n",
    "tt_ridge_error = mean_squared_error(y_test, y_pred, squared=False)\n",
    "tt_ridge_error"
   ]
  },
  {
   "cell_type": "code",
   "execution_count": null,
   "metadata": {},
   "outputs": [],
   "source": []
  },
  {
   "cell_type": "code",
   "execution_count": 24,
   "metadata": {},
   "outputs": [
    {
     "data": {
      "text/plain": [
       "75.16043487691316"
      ]
     },
     "execution_count": 24,
     "metadata": {},
     "output_type": "execute_result"
    }
   ],
   "source": [
    "tt_lasso = TransformedTargetRegressor(regressor=Lasso(),\n",
    "                                    func=np.log1p,\n",
    "                                    inverse_func=np.expm1)\n",
    "tt_lasso.fit(X_train, y_train)\n",
    "y_pred = tt_lasso.predict(X_test)\n",
    "tt_lasso_error = mean_squared_error(y_test, y_pred, squared=False)\n",
    "tt_lasso_error"
   ]
  },
  {
   "cell_type": "code",
   "execution_count": 25,
   "metadata": {},
   "outputs": [
    {
     "data": {
      "text/html": [
       "<div>\n",
       "<style scoped>\n",
       "    .dataframe tbody tr th:only-of-type {\n",
       "        vertical-align: middle;\n",
       "    }\n",
       "\n",
       "    .dataframe tbody tr th {\n",
       "        vertical-align: top;\n",
       "    }\n",
       "\n",
       "    .dataframe thead th {\n",
       "        text-align: right;\n",
       "    }\n",
       "</style>\n",
       "<table border=\"1\" class=\"dataframe\">\n",
       "  <thead>\n",
       "    <tr style=\"text-align: right;\">\n",
       "      <th></th>\n",
       "      <th>params</th>\n",
       "      <th>mean_test_score</th>\n",
       "      <th>rank_test_score</th>\n",
       "    </tr>\n",
       "  </thead>\n",
       "  <tbody>\n",
       "    <tr>\n",
       "      <th>9</th>\n",
       "      <td>{'regressor__alpha': 1438.449888287663}</td>\n",
       "      <td>75.160435</td>\n",
       "      <td>1</td>\n",
       "    </tr>\n",
       "    <tr>\n",
       "      <th>17</th>\n",
       "      <td>{'regressor__alpha': 428133239.8719396}</td>\n",
       "      <td>75.160435</td>\n",
       "      <td>1</td>\n",
       "    </tr>\n",
       "    <tr>\n",
       "      <th>16</th>\n",
       "      <td>{'regressor__alpha': 88586679.04100832}</td>\n",
       "      <td>75.160435</td>\n",
       "      <td>1</td>\n",
       "    </tr>\n",
       "    <tr>\n",
       "      <th>15</th>\n",
       "      <td>{'regressor__alpha': 18329807.108324375}</td>\n",
       "      <td>75.160435</td>\n",
       "      <td>1</td>\n",
       "    </tr>\n",
       "    <tr>\n",
       "      <th>14</th>\n",
       "      <td>{'regressor__alpha': 3792690.1907322537}</td>\n",
       "      <td>75.160435</td>\n",
       "      <td>1</td>\n",
       "    </tr>\n",
       "  </tbody>\n",
       "</table>\n",
       "</div>"
      ],
      "text/plain": [
       "                                      params  mean_test_score  rank_test_score\n",
       "9    {'regressor__alpha': 1438.449888287663}        75.160435                1\n",
       "17   {'regressor__alpha': 428133239.8719396}        75.160435                1\n",
       "16   {'regressor__alpha': 88586679.04100832}        75.160435                1\n",
       "15  {'regressor__alpha': 18329807.108324375}        75.160435                1\n",
       "14  {'regressor__alpha': 3792690.1907322537}        75.160435                1"
      ]
     },
     "execution_count": 25,
     "metadata": {},
     "output_type": "execute_result"
    }
   ],
   "source": [
    "params = {'regressor__alpha': np.logspace(-3, 10, 20)}\n",
    "grid_tt_lasso = GridSearchCV(tt_lasso, params, cv=10)\n",
    "grid_tt_lasso.fit(X_train, y_train)\n",
    "grid_tt_lasso_best_params = grid_tt_lasso.best_params_\n",
    "resultize_RMSE(grid_tt_lasso).head()"
   ]
  },
  {
   "cell_type": "code",
   "execution_count": null,
   "metadata": {},
   "outputs": [],
   "source": []
  },
  {
   "cell_type": "code",
   "execution_count": null,
   "metadata": {},
   "outputs": [],
   "source": []
  },
  {
   "cell_type": "code",
   "execution_count": null,
   "metadata": {},
   "outputs": [],
   "source": []
  },
  {
   "cell_type": "code",
   "execution_count": 26,
   "metadata": {},
   "outputs": [
    {
     "data": {
      "text/plain": [
       "67.72442721659307"
      ]
     },
     "execution_count": 26,
     "metadata": {},
     "output_type": "execute_result"
    }
   ],
   "source": [
    "svr = SVR()\n",
    "svr.fit(X_train, y_train)\n",
    "y_pred = svr.predict(X_test)\n",
    "svr_error = mean_squared_error(y_test, y_pred, squared=False)\n",
    "svr_error"
   ]
  },
  {
   "cell_type": "code",
   "execution_count": 27,
   "metadata": {},
   "outputs": [
    {
     "data": {
      "text/plain": [
       "\"params = {'kernel': ['sigmoid','rbf','poly','sigmoid'],\\n         'C': [0.1,1,100,1000],\\n         'degree': [1,2,3,4,5,6]}\\ngrid_svr = GridSearchCV(SVR(), params, cv=10)\\ngrid_svr.fit(X_train, y_train)\\ngrid_svr_best_params = grid_svr.best_params_\\nresultize_RMSE(grid_svr)\""
      ]
     },
     "execution_count": 27,
     "metadata": {},
     "output_type": "execute_result"
    }
   ],
   "source": [
    "'''params = {'kernel': ['sigmoid','rbf','poly','sigmoid'],\n",
    "         'C': [0.1,1,100,1000],\n",
    "         'degree': [1,2,3,4,5,6]}\n",
    "grid_svr = GridSearchCV(SVR(), params, cv=10)\n",
    "grid_svr.fit(X_train, y_train)\n",
    "grid_svr_best_params = grid_svr.best_params_\n",
    "resultize_RMSE(grid_svr)'''"
   ]
  },
  {
   "cell_type": "code",
   "execution_count": 28,
   "metadata": {},
   "outputs": [],
   "source": [
    "grid_svr_best_params = {'C': 1000, 'degree': 1, 'kernel': 'poly'}"
   ]
  },
  {
   "cell_type": "code",
   "execution_count": 29,
   "metadata": {},
   "outputs": [
    {
     "data": {
      "text/plain": [
       "52.75023761124778"
      ]
     },
     "execution_count": 29,
     "metadata": {},
     "output_type": "execute_result"
    }
   ],
   "source": [
    "tt_svr = SVR(**grid_svr_best_params)\n",
    "tt_svr.fit(X_train, y_train)\n",
    "y_pred = tt_svr.predict(X_test)\n",
    "tt_svr_error = mean_squared_error(y_test, y_pred, squared=False)\n",
    "tt_svr_error"
   ]
  },
  {
   "cell_type": "code",
   "execution_count": null,
   "metadata": {},
   "outputs": [],
   "source": []
  },
  {
   "cell_type": "code",
   "execution_count": 30,
   "metadata": {},
   "outputs": [
    {
     "data": {
      "text/plain": [
       "50.573491867545094"
      ]
     },
     "execution_count": 30,
     "metadata": {},
     "output_type": "execute_result"
    }
   ],
   "source": [
    "tt_svr = TransformedTargetRegressor(regressor=SVR(),\n",
    "                                    func=np.log1p,\n",
    "                                    inverse_func=np.expm1)\n",
    "tt_svr.fit(X_train, y_train)\n",
    "y_pred = tt_svr.predict(X_test)\n",
    "tt_svr_error = mean_squared_error(y_test, y_pred, squared=False) \n",
    "tt_svr_error"
   ]
  },
  {
   "cell_type": "code",
   "execution_count": 31,
   "metadata": {},
   "outputs": [
    {
     "data": {
      "text/plain": [
       "\"params = {'regressor__kernel': ['sigmoid','rbf','poly','sigmoid'],\\n            'regressor__C': [0.1,1,100,1000],\\n            'regressor__degree': [1,2,3,4,5,6]}\\ngrid_tt_svr = GridSearchCV(tt_svr, params, cv=10)\\ngrid_tt_svr.fit(X_train, y_train)\\ngrid_tt_svr_best_params = grid_tt_svr.best_params_\\nresultize_RMSE(grid_tt_svr)\""
      ]
     },
     "execution_count": 31,
     "metadata": {},
     "output_type": "execute_result"
    }
   ],
   "source": [
    "'''params = {'regressor__kernel': ['sigmoid','rbf','poly','sigmoid'],\n",
    "            'regressor__C': [0.1,1,100,1000],\n",
    "            'regressor__degree': [1,2,3,4,5,6]}\n",
    "grid_tt_svr = GridSearchCV(tt_svr, params, cv=10)\n",
    "grid_tt_svr.fit(X_train, y_train)\n",
    "grid_tt_svr_best_params = grid_tt_svr.best_params_\n",
    "resultize_RMSE(grid_tt_svr)'''"
   ]
  },
  {
   "cell_type": "code",
   "execution_count": 32,
   "metadata": {},
   "outputs": [],
   "source": [
    "grid_tt_svr_best_params = {'C': 1, 'degree': 1, 'kernel': 'rbf'}"
   ]
  },
  {
   "cell_type": "code",
   "execution_count": 33,
   "metadata": {},
   "outputs": [
    {
     "data": {
      "text/plain": [
       "50.573491867545094"
      ]
     },
     "execution_count": 33,
     "metadata": {},
     "output_type": "execute_result"
    }
   ],
   "source": [
    "tt_svr = TransformedTargetRegressor(regressor=SVR(**grid_tt_svr_best_params),\n",
    "                                    func=np.log1p,\n",
    "                                    inverse_func=np.expm1)\n",
    "tt_svr.fit(X_train, y_train)\n",
    "y_pred = tt_svr.predict(X_test)\n",
    "tt_svr_error = mean_squared_error(y_test, y_pred, squared=False)\n",
    "tt_svr_error"
   ]
  },
  {
   "cell_type": "code",
   "execution_count": null,
   "metadata": {},
   "outputs": [],
   "source": []
  },
  {
   "cell_type": "code",
   "execution_count": null,
   "metadata": {},
   "outputs": [],
   "source": []
  },
  {
   "cell_type": "code",
   "execution_count": null,
   "metadata": {},
   "outputs": [],
   "source": []
  },
  {
   "cell_type": "code",
   "execution_count": 34,
   "metadata": {},
   "outputs": [
    {
     "data": {
      "text/plain": [
       "37.65827196557304"
      ]
     },
     "execution_count": 34,
     "metadata": {},
     "output_type": "execute_result"
    }
   ],
   "source": [
    "rf = RandomForestRegressor()\n",
    "rf.fit(X_train, y_train)\n",
    "y_pred = rf.predict(X_test)\n",
    "rf_error = mean_squared_error(y_test, y_pred, squared=False)\n",
    "rf_error"
   ]
  },
  {
   "cell_type": "code",
   "execution_count": 35,
   "metadata": {},
   "outputs": [
    {
     "data": {
      "text/plain": [
       "\"params = {'n_estimators': [10, 100, 1000],\\n            'max_depth': [1, 10, 100, 1000],\\n            'min_samples_split': [2, 5, 10],\\n            'min_samples_leaf': [1, 2, 4]}\\ngrid_rf = GridSearchCV(RandomForestRegressor(), params, cv=10)\\ngrid_rf.fit(X_train, y_train)\\ngrid_rf_best_params = grid_rf.best_params_\\nresultize_RMSE(grid_rf)\""
      ]
     },
     "execution_count": 35,
     "metadata": {},
     "output_type": "execute_result"
    }
   ],
   "source": [
    "\"\"\"params = {'n_estimators': [10, 100, 1000],\n",
    "            'max_depth': [1, 10, 100, 1000],\n",
    "            'min_samples_split': [2, 5, 10],\n",
    "            'min_samples_leaf': [1, 2, 4]}\n",
    "grid_rf = GridSearchCV(RandomForestRegressor(), params, cv=10)\n",
    "grid_rf.fit(X_train, y_train)\n",
    "grid_rf_best_params = grid_rf.best_params_\n",
    "resultize_RMSE(grid_rf)\"\"\""
   ]
  },
  {
   "cell_type": "code",
   "execution_count": 36,
   "metadata": {},
   "outputs": [],
   "source": [
    "grid_rf_best_params = {'max_depth': 1000,\n",
    "      'min_samples_leaf': 1,\n",
    "      'min_samples_split': 10,\n",
    "      'n_estimators': 100}"
   ]
  },
  {
   "cell_type": "code",
   "execution_count": 37,
   "metadata": {},
   "outputs": [
    {
     "data": {
      "text/plain": [
       "38.62092843551049"
      ]
     },
     "execution_count": 37,
     "metadata": {},
     "output_type": "execute_result"
    }
   ],
   "source": [
    "rf = RandomForestRegressor(**grid_rf_best_params)\n",
    "rf.fit(X_train, y_train)\n",
    "y_pred = rf.predict(X_test)\n",
    "rf_error = mean_squared_error(y_test, y_pred, squared=False)\n",
    "rf_error"
   ]
  },
  {
   "cell_type": "code",
   "execution_count": 38,
   "metadata": {},
   "outputs": [
    {
     "data": {
      "text/plain": [
       "38.94287548969048"
      ]
     },
     "execution_count": 38,
     "metadata": {},
     "output_type": "execute_result"
    }
   ],
   "source": [
    "tt_rf = TransformedTargetRegressor(regressor=RandomForestRegressor(),\n",
    "                                    func=np.log1p,\n",
    "                                    inverse_func=np.expm1)\n",
    "tt_rf.fit(X_train, y_train)\n",
    "y_pred = tt_rf.predict(X_test)\n",
    "tt_rf_error = mean_squared_error(y_test, y_pred, squared=False)\n",
    "tt_rf_error"
   ]
  },
  {
   "cell_type": "code",
   "execution_count": 39,
   "metadata": {},
   "outputs": [
    {
     "data": {
      "text/plain": [
       "\"params = {'regressor__n_estimators': [10, 100, 1000],\\n            'regressor__max_depth': [1, 10, 100, 1000],\\n            'regressor__min_samples_split': [2, 5, 10],    \\n            'regressor__min_samples_leaf': [1, 2, 4]}\\ngrid_tt_rf = GridSearchCV(tt_rf, params, cv=10)\\ngrid_tt_rf.fit(X_train, y_train)\\ngrid_tt_rf_best_params = grid_tt_rf.best_params_\\nresultize_RMSE(grid_tt_rf)\""
      ]
     },
     "execution_count": 39,
     "metadata": {},
     "output_type": "execute_result"
    }
   ],
   "source": [
    "'''params = {'regressor__n_estimators': [10, 100, 1000],\n",
    "            'regressor__max_depth': [1, 10, 100, 1000],\n",
    "            'regressor__min_samples_split': [2, 5, 10],    \n",
    "            'regressor__min_samples_leaf': [1, 2, 4]}\n",
    "grid_tt_rf = GridSearchCV(tt_rf, params, cv=10)\n",
    "grid_tt_rf.fit(X_train, y_train)\n",
    "grid_tt_rf_best_params = grid_tt_rf.best_params_\n",
    "resultize_RMSE(grid_tt_rf)'''"
   ]
  },
  {
   "cell_type": "code",
   "execution_count": 40,
   "metadata": {},
   "outputs": [],
   "source": [
    "grid_tt_rf_best_params = {'max_depth': 1000,\n",
    "      'min_samples_leaf': 1,\n",
    "      'min_samples_split': 10,\n",
    "      'n_estimators': 100}"
   ]
  },
  {
   "cell_type": "code",
   "execution_count": 41,
   "metadata": {},
   "outputs": [
    {
     "data": {
      "text/plain": [
       "40.71217025005807"
      ]
     },
     "execution_count": 41,
     "metadata": {},
     "output_type": "execute_result"
    }
   ],
   "source": [
    "tt_rf = TransformedTargetRegressor(regressor=RandomForestRegressor(**grid_tt_rf_best_params),\n",
    "                                    func=np.log1p,\n",
    "                                    inverse_func=np.expm1)\n",
    "tt_rf.fit(X_train, y_train)\n",
    "y_pred = tt_rf.predict(X_test)\n",
    "tt_rf_error = mean_squared_error(y_test, y_pred, squared=False)\n",
    "tt_rf_error"
   ]
  },
  {
   "cell_type": "code",
   "execution_count": null,
   "metadata": {},
   "outputs": [],
   "source": []
  }
 ],
 "metadata": {
  "kernelspec": {
   "display_name": "Python 3 (ipykernel)",
   "language": "python",
   "name": "python3"
  },
  "language_info": {
   "codemirror_mode": {
    "name": "ipython",
    "version": 3
   },
   "file_extension": ".py",
   "mimetype": "text/x-python",
   "name": "python",
   "nbconvert_exporter": "python",
   "pygments_lexer": "ipython3",
   "version": "3.10.7"
  },
  "vscode": {
   "interpreter": {
    "hash": "916dbcbb3f70747c44a77c7bcd40155683ae19c65e1c03b4aa3499c5328201f1"
   }
  }
 },
 "nbformat": 4,
 "nbformat_minor": 2
}
