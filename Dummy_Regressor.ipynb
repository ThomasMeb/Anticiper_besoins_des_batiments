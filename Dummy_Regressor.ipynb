{
 "cells": [
  {
   "cell_type": "code",
   "execution_count": 59,
   "id": "f4f25002",
   "metadata": {},
   "outputs": [],
   "source": [
    "import pandas as pd\n",
    "pd.options.display.max_columns=200\n",
    "import matplotlib.pyplot as plt\n",
    "import numpy as np\n",
    "from scipy import stats as st\n",
    "import seaborn as sns\n",
    "from sklearn.decomposition import PCA\n",
    "from sklearn.preprocessing import StandardScaler\n",
    "from sklearn.cluster import KMeans\n",
    "import plotly.express as px\n",
    "import researchpy as rp\n",
    "import warnings \n",
    "warnings.filterwarnings('ignore')\n",
    "from sklearn.dummy import DummyRegressor\n",
    "from sklearn.model_selection import train_test_split\n",
    "from sklearn import neighbors"
   ]
  },
  {
   "cell_type": "code",
   "execution_count": 65,
   "id": "4ea029de",
   "metadata": {},
   "outputs": [],
   "source": [
    "data = pd.read_csv('data.csv')"
   ]
  },
  {
   "cell_type": "code",
   "execution_count": null,
   "id": "da0b82c9",
   "metadata": {},
   "outputs": [],
   "source": []
  },
  {
   "cell_type": "code",
   "execution_count": 66,
   "id": "3c5f8a60",
   "metadata": {},
   "outputs": [
    {
     "data": {
      "text/plain": [
       "OSEBuildingID                                      0\n",
       "CouncilDistrictCode                                0\n",
       "Age                                                0\n",
       "NumberofBuildings                                  0\n",
       "NumberofFloors                                     0\n",
       "PropertyGFATotal                                   0\n",
       "PropertyGFAParking(%)                              0\n",
       "PropertyGFABuilding(s)(%)                          0\n",
       "LargestPropertyUseTypeGFA                          6\n",
       "ENERGYSTARScore                                    0\n",
       "EnergyStarNaN                                      0\n",
       "SiteEUI(kBtu/sf)                                   3\n",
       "SiteEUIWN(kBtu/sf)                                 3\n",
       "SourceEUI(kBtu/sf)                                 2\n",
       "SourceEUIWN(kBtu/sf)                               2\n",
       "SiteEnergyUse(kBtu)                                2\n",
       "SiteEnergyUseWN(kBtu)                              3\n",
       "SteamUse(%)                                        2\n",
       "Electricity(%)                                     2\n",
       "NaturalGas(%)                                      2\n",
       "TotalGHGEmissions                                  2\n",
       "GHGEmissionsIntensity                              2\n",
       "PrimaryPropertyType_Distribution Center            0\n",
       "PrimaryPropertyType_Hospital                       0\n",
       "PrimaryPropertyType_Hotel                          0\n",
       "PrimaryPropertyType_K-12 School                    0\n",
       "PrimaryPropertyType_Laboratory                     0\n",
       "PrimaryPropertyType_Large Office                   0\n",
       "PrimaryPropertyType_Low-Rise Multifamily           0\n",
       "PrimaryPropertyType_Medical Office                 0\n",
       "PrimaryPropertyType_Mixed Use Property             0\n",
       "PrimaryPropertyType_Office                         0\n",
       "PrimaryPropertyType_Other                          0\n",
       "PrimaryPropertyType_Refrigerated Warehouse         0\n",
       "PrimaryPropertyType_Residence Hall                 0\n",
       "PrimaryPropertyType_Restaurant                     0\n",
       "PrimaryPropertyType_Retail Store                   0\n",
       "PrimaryPropertyType_Self-Storage Facility          0\n",
       "PrimaryPropertyType_Senior Care Community          0\n",
       "PrimaryPropertyType_Small- and Mid-Sized Office    0\n",
       "PrimaryPropertyType_Supermarket / Grocery Store    0\n",
       "PrimaryPropertyType_University                     0\n",
       "PrimaryPropertyType_Warehouse                      0\n",
       "PrimaryPropertyType_Worship Facility               0\n",
       "dtype: int64"
      ]
     },
     "execution_count": 66,
     "metadata": {},
     "output_type": "execute_result"
    }
   ],
   "source": [
    "data.isnull().sum()"
   ]
  },
  {
   "cell_type": "code",
   "execution_count": null,
   "id": "34bc7674",
   "metadata": {},
   "outputs": [],
   "source": []
  }
 ],
 "metadata": {
  "kernelspec": {
   "display_name": "Python 3 (ipykernel)",
   "language": "python",
   "name": "python3"
  },
  "language_info": {
   "codemirror_mode": {
    "name": "ipython",
    "version": 3
   },
   "file_extension": ".py",
   "mimetype": "text/x-python",
   "name": "python",
   "nbconvert_exporter": "python",
   "pygments_lexer": "ipython3",
   "version": "3.10.7"
  }
 },
 "nbformat": 4,
 "nbformat_minor": 5
}
